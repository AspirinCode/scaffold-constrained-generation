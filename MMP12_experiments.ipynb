{
 "cells": [
  {
   "cell_type": "code",
   "execution_count": 1,
   "metadata": {},
   "outputs": [],
   "source": [
    "from rdkit import Chem\n",
    "import torch\n",
    "import sys\n",
    "import os\n",
    "sys.path.append(os.getcwd())\n",
    "from rdkit.Chem.Draw import IPythonConsole\n",
    "from rdkit.Chem import AllChem\n",
    "from hill_climbing import hill_climbing"
   ]
  },
  {
   "cell_type": "code",
   "execution_count": 2,
   "metadata": {},
   "outputs": [
    {
     "name": "stdout",
     "output_type": "stream",
     "text": [
      "Model initialized, starting training...\n"
     ]
    },
    {
     "name": "stderr",
     "output_type": "stream",
     "text": [
      "/site/rp/work/projects/DD/Jupyter/notebooks/Maxime/scaffold-constrained-generation/scaffold_constrained_model.py:466: UserWarning: Implicit dimension choice for softmax has been deprecated. Change the call to include dim=X as an argument.\n",
      "  prob = F.softmax(logits)\n",
      "/site/rp/work/projects/DD/Jupyter/notebooks/Maxime/scaffold-constrained-generation/scaffold_constrained_model.py:467: UserWarning: Implicit dimension choice for log_softmax has been deprecated. Change the call to include dim=X as an argument.\n",
      "  log_prob = F.log_softmax(logits)\n"
     ]
    },
    {
     "name": "stdout",
     "output_type": "stream",
     "text": [
      "\n",
      "Best score in memory: 0.85\n"
     ]
    },
    {
     "name": "stderr",
     "output_type": "stream",
     "text": [
      "/site/rp/work/projects/DD/Jupyter/notebooks/Maxime/scaffold-constrained-generation/scaffold_constrained_model.py:96: UserWarning: Implicit dimension choice for log_softmax has been deprecated. Change the call to include dim=X as an argument.\n",
      "  log_prob = F.log_softmax(logits)\n",
      "/site/rp/work/projects/DD/Jupyter/notebooks/Maxime/scaffold-constrained-generation/scaffold_constrained_model.py:97: UserWarning: Implicit dimension choice for softmax has been deprecated. Change the call to include dim=X as an argument.\n",
      "  prob = F.softmax(logits)\n"
     ]
    },
    {
     "name": "stdout",
     "output_type": "stream",
     "text": [
      "\n",
      "       Step 0   Fraction valid SMILES: 84.2  Time elapsed: 0.05h Time left: 0.49h\n",
      "  Agent    Prior   Target   Score             SMILES\n",
      "   0.54     C(NCc1c(OCC)cccc1)(NS(=O)(=O)c1ccc(C)cc1)C(=O)O\n",
      "   0.53     C(Nc1ccc(Cl)cc1Cl)(NS(=O)(=O)c1ccc(C(C)(C)C)cc1)C(=O)O\n",
      "   0.67     C(F)(NS(=O)(=O)c1ccc(-c2cccc(C#N)c2)cc1)C(=O)O\n",
      "   0.56     C(c1cccnc1)(NS(=O)(=O)c1ccc(Cl)cc1)C(=O)O\n",
      "   0.00     C(C(NC(CNC(=O)C(N)Cc1ccc(O)cc1)=O)C(CC(Cc1ccccc1)NC(\n",
      "   0.55     C(NC(Nc1ccc(F)cc1)=O)(NS(=O)(=O)c1ccc(OC)cc1)C(=O)O\n",
      "   0.56     C(c1nc(C(Nc2ccc(N3CCOCC3)cc2)=O)ccc1)(NS(=O)(=O)c1ccc(NC(C)=O)cc1)C(=O)O\n",
      "   0.56     C(c1c(O)ccc(C=Cc2cc(OC)cc(OC)c2)c1O)(NS(=O)(=O)c1ccc(C)cc1)C(=O)O\n",
      "   0.71     C(N(c1ccc(N(C)C)cc1)C(=O)C)(NS(=O)(=O)c1ccc(C(=O)O)cc1)C(=O)O\n",
      "   0.55     C(c1sccc1)(NS(=O)(=O)c1ccc(F)cc1)C(=O)O\n"
     ]
    },
    {
     "name": "stderr",
     "output_type": "stream",
     "text": [
      "/site/rp/work/projects/DD/Jupyter/notebooks/Maxime/scaffold-constrained-generation/scaffold_constrained_model.py:466: UserWarning: Implicit dimension choice for softmax has been deprecated. Change the call to include dim=X as an argument.\n",
      "  prob = F.softmax(logits)\n",
      "/site/rp/work/projects/DD/Jupyter/notebooks/Maxime/scaffold-constrained-generation/scaffold_constrained_model.py:467: UserWarning: Implicit dimension choice for log_softmax has been deprecated. Change the call to include dim=X as an argument.\n",
      "  log_prob = F.log_softmax(logits)\n"
     ]
    },
    {
     "name": "stdout",
     "output_type": "stream",
     "text": [
      "\n",
      "Best score in memory: 0.92\n"
     ]
    },
    {
     "name": "stderr",
     "output_type": "stream",
     "text": [
      "/site/rp/work/projects/DD/Jupyter/notebooks/Maxime/scaffold-constrained-generation/scaffold_constrained_model.py:96: UserWarning: Implicit dimension choice for log_softmax has been deprecated. Change the call to include dim=X as an argument.\n",
      "  log_prob = F.log_softmax(logits)\n",
      "/site/rp/work/projects/DD/Jupyter/notebooks/Maxime/scaffold-constrained-generation/scaffold_constrained_model.py:97: UserWarning: Implicit dimension choice for softmax has been deprecated. Change the call to include dim=X as an argument.\n",
      "  prob = F.softmax(logits)\n"
     ]
    },
    {
     "name": "stdout",
     "output_type": "stream",
     "text": [
      "\n",
      "       Step 1   Fraction valid SMILES: 80.1  Time elapsed: 0.10h Time left: 0.44h\n",
      "  Agent    Prior   Target   Score             SMILES\n",
      "   0.61     C(C)(NS(=O)(=O)c1ccc(OCCCN2CCC(C(C)(C)C)CCC2)cc1)C(=O)O\n",
      "   0.66     C(C1CC(OCc2ccccc2)C(=O)N(C)C1=O)(NS(=O)(=O)c1ccc(C(O)=O)cc1)C(=O)O\n",
      "   0.75     C(c1ccc(N(C)C)cc1)(NS(=O)(=O)c1ccc(-c2ccccc2)cc1)C(=O)O\n",
      "   0.62     C(N(C1CCN(CCc2sccc2)CC1)C)(NS(=O)(=O)c1ccc(C(C)(C)C)cc1)C(=O)O\n",
      "   0.00     C(c1c2c(cc(NS(=O)(=O)c3ccc(C#N)cc3F)cc2)c2ccccc2n1)(NS(=O)(=O)c1ccc(C\n",
      "   0.55     C(C)(NS(=O)(=O)c1ccc(NC(=O)c2n(C)cc(-c3cc(Cl)ccc3OC)c2)cc1)C(=O)O\n",
      "   0.00     C(C(C(N1C(COc2c(C#N)cccc2)CCC1)=O)(NS(=O)(=O)c1ccc(F\n",
      "   0.75     C(C(C(=O)O)CC=C(C)C)(NS(=O)(=O)c1ccc(-c2ccccc2)cc1)C(=O)O\n",
      "   0.81     C(C)(NS(=O)(=O)c1ccc(-c2ccc(C#N)cc2)cc1)C(=O)O\n",
      "   0.61     C(C1ON=C(c2ccc3c(cccc3)c2)C1)(NS(=O)(=O)c1ccc(C(C)(C)C)cc1)C(=O)O\n"
     ]
    },
    {
     "name": "stderr",
     "output_type": "stream",
     "text": [
      "/site/rp/work/projects/DD/Jupyter/notebooks/Maxime/scaffold-constrained-generation/scaffold_constrained_model.py:466: UserWarning: Implicit dimension choice for softmax has been deprecated. Change the call to include dim=X as an argument.\n",
      "  prob = F.softmax(logits)\n",
      "/site/rp/work/projects/DD/Jupyter/notebooks/Maxime/scaffold-constrained-generation/scaffold_constrained_model.py:467: UserWarning: Implicit dimension choice for log_softmax has been deprecated. Change the call to include dim=X as an argument.\n",
      "  log_prob = F.log_softmax(logits)\n"
     ]
    },
    {
     "name": "stdout",
     "output_type": "stream",
     "text": [
      "\n",
      "Best score in memory: 0.97\n"
     ]
    },
    {
     "name": "stderr",
     "output_type": "stream",
     "text": [
      "/site/rp/work/projects/DD/Jupyter/notebooks/Maxime/scaffold-constrained-generation/scaffold_constrained_model.py:96: UserWarning: Implicit dimension choice for log_softmax has been deprecated. Change the call to include dim=X as an argument.\n",
      "  log_prob = F.log_softmax(logits)\n",
      "/site/rp/work/projects/DD/Jupyter/notebooks/Maxime/scaffold-constrained-generation/scaffold_constrained_model.py:97: UserWarning: Implicit dimension choice for softmax has been deprecated. Change the call to include dim=X as an argument.\n",
      "  prob = F.softmax(logits)\n"
     ]
    },
    {
     "name": "stdout",
     "output_type": "stream",
     "text": [
      "\n",
      "       Step 2   Fraction valid SMILES: 85.1  Time elapsed: 0.15h Time left: 0.39h\n",
      "  Agent    Prior   Target   Score             SMILES\n",
      "   0.83     C(C)(NS(=O)(=O)c1ccc(-c2ccc(N3CCC4(CC3)COC4)cc2)cc1)C(=O)O\n",
      "   0.87     C(CC1CCNCC1)(NS(=O)(=O)c1ccc(-c2ccc(OC(C)C)cc2)cc1)C(=O)O\n",
      "   0.00     C(C(Cc1ccccc1)NS(=O)(=O)c1ccc(-c2ccc(C#N)cc2)cc1)(NS(=O)(=O)c1ccc(-c2\n",
      "   0.80     C(C)(NS(=O)(=O)c1ccc(-c2ccc(NC(=NNC)NS(=O)(=O)c3ccccc3)cc2)cc1)C(=O)O\n",
      "   0.86     C(NC(C1CCC1)C(=O)O)(NS(=O)(=O)c1ccc(-c2ccc(C(=O)N(C)C)cc2)cc1)C(=O)O\n",
      "   0.00     C(N1CCC(C(OCC)=O)(NS(=O)(=O)c2ccc(-c3ccc(C#N)o3)cc2)\n",
      "   0.83     C(C)(NS(=O)(=O)c1ccc(-c2ccc(OCC)cc2)cc1)C(=O)O\n",
      "   0.85     C(C)(NS(=O)(=O)c1ccc(-c2ccc(OC(C)C)cc2)cc1)C(=O)O\n",
      "   0.83     C(CC(=O)C1=NCCO1)(NS(=O)(=O)c1ccc(-c2ccc(C)cc2)cc1)C(=O)O\n",
      "   0.64     C(N1CC(NC(=N)NCC)C1)(NS(=O)(=O)c1ccc(C(=O)O)cc1)C(=O)O\n"
     ]
    },
    {
     "name": "stderr",
     "output_type": "stream",
     "text": [
      "/site/rp/work/projects/DD/Jupyter/notebooks/Maxime/scaffold-constrained-generation/scaffold_constrained_model.py:466: UserWarning: Implicit dimension choice for softmax has been deprecated. Change the call to include dim=X as an argument.\n",
      "  prob = F.softmax(logits)\n",
      "/site/rp/work/projects/DD/Jupyter/notebooks/Maxime/scaffold-constrained-generation/scaffold_constrained_model.py:467: UserWarning: Implicit dimension choice for log_softmax has been deprecated. Change the call to include dim=X as an argument.\n",
      "  log_prob = F.log_softmax(logits)\n"
     ]
    },
    {
     "name": "stdout",
     "output_type": "stream",
     "text": [
      "Found original molecule: C(CC1CC1)(NS(=O)(=O)c1ccc(-c2ccc(SC)cc2)cc1)C(=O)O\n",
      "\n",
      "Best score in memory: 0.97\n"
     ]
    },
    {
     "name": "stderr",
     "output_type": "stream",
     "text": [
      "/site/rp/work/projects/DD/Jupyter/notebooks/Maxime/scaffold-constrained-generation/scaffold_constrained_model.py:96: UserWarning: Implicit dimension choice for log_softmax has been deprecated. Change the call to include dim=X as an argument.\n",
      "  log_prob = F.log_softmax(logits)\n",
      "/site/rp/work/projects/DD/Jupyter/notebooks/Maxime/scaffold-constrained-generation/scaffold_constrained_model.py:97: UserWarning: Implicit dimension choice for softmax has been deprecated. Change the call to include dim=X as an argument.\n",
      "  prob = F.softmax(logits)\n"
     ]
    },
    {
     "name": "stdout",
     "output_type": "stream",
     "text": [
      "\n",
      "       Step 3   Fraction valid SMILES: 85.4  Time elapsed: 0.19h Time left: 0.34h\n",
      "  Agent    Prior   Target   Score             SMILES\n",
      "   0.80     C(C)(NS(=O)(=O)c1ccc(-c2ccc(OCCOCCOCCCN)cc2)cc1)C(=O)O\n",
      "   0.87     C(C(C1CC2CC2CC1)NC)(NS(=O)(=O)c1ccc(-c2ccc(OC(F)(F)F)cc2)cc1)C(=O)O\n",
      "   0.55     C(C1CCC2CN1C(CCC1CCNCC1)=N2)(NS(=O)(=O)c1ccc(F)cc1)C(=O)O\n",
      "   0.82     C(NS(=O)(=O)c1ccc(-c2ccc(NC(=N)N)cc2)cc1)(NS(=O)(=O)c1ccc(CC)cc1)C(=O)O\n",
      "   0.89     C(Cc1ncccc1)(NS(=O)(=O)c1ccc(-c2ccc(Cl)cc2)cc1)C(=O)O\n",
      "   0.86     C(C(=CC)C)(NS(=O)(=O)c1ccc(-c2ccc(C(=O)O)cc2)cc1)C(=O)O\n",
      "   0.86     C(N1CCC(OCCOCCOCCOC)CC1)(NS(=O)(=O)c1ccc(-c2ccc(S(=O)(=O)C)cc2)cc1)C(=O)O\n",
      "   0.00     C(C1CC2CC2)(NS(=O)(=O)c1ccc(-c2ccc(SC)cc2)cc1)C(=O)O\n",
      "   0.90     C(CCOc1ccccc1)(NS(=O)(=O)c1ccc(-c2ccc(S(=O)(=O)CCC)cc2)cc1)C(=O)O\n",
      "   0.00     C(C(C1CCC2C1)(NS(=O)(=O)c1ccc(-c3ccccc3F)cc1)C(=O)O)(NS(=O)(=O)c1ccc(\n"
     ]
    },
    {
     "name": "stderr",
     "output_type": "stream",
     "text": [
      "/site/rp/work/projects/DD/Jupyter/notebooks/Maxime/scaffold-constrained-generation/scaffold_constrained_model.py:466: UserWarning: Implicit dimension choice for softmax has been deprecated. Change the call to include dim=X as an argument.\n",
      "  prob = F.softmax(logits)\n",
      "/site/rp/work/projects/DD/Jupyter/notebooks/Maxime/scaffold-constrained-generation/scaffold_constrained_model.py:467: UserWarning: Implicit dimension choice for log_softmax has been deprecated. Change the call to include dim=X as an argument.\n",
      "  log_prob = F.log_softmax(logits)\n"
     ]
    },
    {
     "name": "stdout",
     "output_type": "stream",
     "text": [
      "Found original molecule: C(CC1CC1)(NS(=O)(=O)c1ccc(-c2ccc(SC)cc2)cc1)C(=O)O\n",
      "Found original molecule: C(CC(C)C)(NS(=O)(=O)c1ccc(-c2ccc(CC)cc2)cc1)C(=O)O\n",
      "Found original molecule: C(CC1CC1)(NS(=O)(=O)c1ccc(-c2ccc(C(=O)OC)cc2)cc1)C(=O)O\n",
      "\n",
      "Best score in memory: 0.98\n"
     ]
    },
    {
     "name": "stderr",
     "output_type": "stream",
     "text": [
      "/site/rp/work/projects/DD/Jupyter/notebooks/Maxime/scaffold-constrained-generation/scaffold_constrained_model.py:96: UserWarning: Implicit dimension choice for log_softmax has been deprecated. Change the call to include dim=X as an argument.\n",
      "  log_prob = F.log_softmax(logits)\n",
      "/site/rp/work/projects/DD/Jupyter/notebooks/Maxime/scaffold-constrained-generation/scaffold_constrained_model.py:97: UserWarning: Implicit dimension choice for softmax has been deprecated. Change the call to include dim=X as an argument.\n",
      "  prob = F.softmax(logits)\n"
     ]
    },
    {
     "name": "stdout",
     "output_type": "stream",
     "text": [
      "\n",
      "       Step 4   Fraction valid SMILES: 90.6  Time elapsed: 0.24h Time left: 0.29h\n",
      "  Agent    Prior   Target   Score             SMILES\n",
      "   0.94     C(CC(C)C)(NS(=O)(=O)c1ccc(-c2ccc(OC(F)(F)C)cc2)cc1)C(=O)O\n",
      "   0.00     C(CS(CC)(=NS(=O)(=O)c1ccc(-c2ccc(CCOC)cc2)cc1)C(O)=O\n",
      "   0.59     C(CC(C)C)(NS(=O)(=O)c1ccc(-c2ccc(C(OCc3cc4c(cc3)cccc4)cc2)C(=O)O)cc1)C(=O)O\n",
      "   0.93     C(CC1CC2CCN1CC2)(NS(=O)(=O)c1ccc(-c2ccc(SC)cc2)cc1)C(=O)O\n",
      "   0.92     C(CCO)(NS(=O)(=O)c1ccc(-c2ccc(S(=O)(=O)C3CCN(C)CC3)cc2)cc1)C(=O)O\n",
      "   0.93     C(C(=CC(=O)O)C)(NS(=O)(=O)c1ccc(-c2ccc(SC)cc2)cc1)C(=O)O\n",
      "   0.94     C(C1CCC2(CC1)NC(=O)C2)(NS(=O)(=O)c1ccc(-c2ccc(SC)cc2)cc1)C(=O)O\n",
      "   0.88     C(C)(NS(=O)(=O)c1ccc(-c2ccc(OC(F)(F)C)cc2)cc1)C(=O)O\n",
      "   0.00     C(C1CC2CC2)(NS(=O)(=O)c1ccc(-c2ccc(SC)cc2)cc1)C(=O)O\n",
      "   0.96     C(Cc1ccc(OC)cc1)(NS(=O)(=O)c1ccc(-c2ccc(SC)cc2)cc1)C(=O)O\n"
     ]
    },
    {
     "name": "stderr",
     "output_type": "stream",
     "text": [
      "/site/rp/work/projects/DD/Jupyter/notebooks/Maxime/scaffold-constrained-generation/scaffold_constrained_model.py:466: UserWarning: Implicit dimension choice for softmax has been deprecated. Change the call to include dim=X as an argument.\n",
      "  prob = F.softmax(logits)\n",
      "/site/rp/work/projects/DD/Jupyter/notebooks/Maxime/scaffold-constrained-generation/scaffold_constrained_model.py:467: UserWarning: Implicit dimension choice for log_softmax has been deprecated. Change the call to include dim=X as an argument.\n",
      "  log_prob = F.log_softmax(logits)\n"
     ]
    },
    {
     "name": "stdout",
     "output_type": "stream",
     "text": [
      "Found original molecule: C(CC(C)C)(NS(=O)(=O)c1ccc(-c2ccc(CC)cc2)cc1)C(=O)O\n",
      "Found original molecule: C(CC1CC1)(NS(=O)(=O)c1ccc(-c2ccc(SC)cc2)cc1)C(=O)O\n",
      "\n",
      "Best score in memory: 0.98\n"
     ]
    },
    {
     "name": "stderr",
     "output_type": "stream",
     "text": [
      "/site/rp/work/projects/DD/Jupyter/notebooks/Maxime/scaffold-constrained-generation/scaffold_constrained_model.py:96: UserWarning: Implicit dimension choice for log_softmax has been deprecated. Change the call to include dim=X as an argument.\n",
      "  log_prob = F.log_softmax(logits)\n",
      "/site/rp/work/projects/DD/Jupyter/notebooks/Maxime/scaffold-constrained-generation/scaffold_constrained_model.py:97: UserWarning: Implicit dimension choice for softmax has been deprecated. Change the call to include dim=X as an argument.\n",
      "  prob = F.softmax(logits)\n"
     ]
    },
    {
     "name": "stdout",
     "output_type": "stream",
     "text": [
      "\n",
      "       Step 5   Fraction valid SMILES: 91.4  Time elapsed: 0.29h Time left: 0.24h\n",
      "  Agent    Prior   Target   Score             SMILES\n",
      "   0.00     C(C=CC(CC)(NC1CC2CC2CC1)(NS(=O)(=O)c1ccc(-c2ccc(SC)c\n",
      "   0.94     C(C1CCC2(CC1)NC(=O)C2)(NS(=O)(=O)c1ccc(-c2ccc(SC)cc2)cc1)C(=O)O\n",
      "   0.92     C(CC)(NS(=O)(=O)c1ccc(-c2ccc(CC)cc2)cc1)C(=O)O\n",
      "   0.91     C(N1CCC(C(=O)O)C1)(NS(=O)(=O)c1ccc(-c2ccc(SC)cc2)cc1)C(=O)O\n",
      "   0.94     C(CCc1ccc(Cl)cc1)(NS(=O)(=O)c1ccc(-c2ccc(SC)cc2)cc1)C(=O)O\n",
      "   0.95     C(CC(C)C)(NS(=O)(=O)c1ccc(-c2ccc(CCCOCc3cc4ccccc4o3)cc2)cc1)C(=O)O\n",
      "   0.96     C(CC1OC1)(NS(=O)(=O)c1ccc(-c2ccc(SC)cc2)cc1)C(=O)O\n",
      "   0.94     C(C1CCCO1)(NS(=O)(=O)c1ccc(-c2ccc(SC)cc2)cc1)C(=O)O\n",
      "   0.97     C(CC(NS(=O)(=O)c1ccc(-c2ccc(SC)cc2)cc1)C(=O)O)(NS(=O)(=O)c1ccc(Br)cc1)C(=O)O\n",
      "   0.95     C(CCO)(NS(=O)(=O)c1ccc(-c2ccc(CCc3cc4ccccc4o3)cc2)cc1)C(=O)O\n"
     ]
    },
    {
     "name": "stderr",
     "output_type": "stream",
     "text": [
      "/site/rp/work/projects/DD/Jupyter/notebooks/Maxime/scaffold-constrained-generation/scaffold_constrained_model.py:466: UserWarning: Implicit dimension choice for softmax has been deprecated. Change the call to include dim=X as an argument.\n",
      "  prob = F.softmax(logits)\n",
      "/site/rp/work/projects/DD/Jupyter/notebooks/Maxime/scaffold-constrained-generation/scaffold_constrained_model.py:467: UserWarning: Implicit dimension choice for log_softmax has been deprecated. Change the call to include dim=X as an argument.\n",
      "  log_prob = F.log_softmax(logits)\n"
     ]
    },
    {
     "name": "stdout",
     "output_type": "stream",
     "text": [
      "Found original molecule: C(CC(C)C)(NS(=O)(=O)c1ccc(-c2ccc(CC)cc2)cc1)C(=O)O\n",
      "Found original molecule: C(CC1CC1)(NS(=O)(=O)c1ccc(-c2ccc(SC)cc2)cc1)C(=O)O\n",
      "Found original molecule: C(CC(C)C)(NS(=O)(=O)c1ccc(-c2ccc(CCC)cc2)cc1)C(=O)O\n",
      "\n",
      "Best score in memory: 0.98\n"
     ]
    },
    {
     "name": "stderr",
     "output_type": "stream",
     "text": [
      "/site/rp/work/projects/DD/Jupyter/notebooks/Maxime/scaffold-constrained-generation/scaffold_constrained_model.py:96: UserWarning: Implicit dimension choice for log_softmax has been deprecated. Change the call to include dim=X as an argument.\n",
      "  log_prob = F.log_softmax(logits)\n",
      "/site/rp/work/projects/DD/Jupyter/notebooks/Maxime/scaffold-constrained-generation/scaffold_constrained_model.py:97: UserWarning: Implicit dimension choice for softmax has been deprecated. Change the call to include dim=X as an argument.\n",
      "  prob = F.softmax(logits)\n"
     ]
    },
    {
     "name": "stdout",
     "output_type": "stream",
     "text": [
      "\n",
      "       Step 6   Fraction valid SMILES: 94.3  Time elapsed: 0.34h Time left: 0.20h\n",
      "  Agent    Prior   Target   Score             SMILES\n",
      "   0.95     C(CC1CCCO1)(NS(=O)(=O)c1ccc(-c2ccc(OC(F)(F)F)cc2)cc1)C(=O)O\n",
      "   0.95     C(CCC1CCC(NC(=O)C)C1)(NS(=O)(=O)c1ccc(-c2ccc(SC)cc2)cc1)C(=O)O\n",
      "   0.95     C(CC(C)C)(NS(=O)(=O)c1ccc(-c2ccc(CCOC)cc2)cc1)C(=O)O\n",
      "   0.94     C(CC1=NCCCN1)(NS(=O)(=O)c1ccc(-c2ccc(SC)cc2)cc1)C(=O)O\n",
      "   0.97     C(CC(NS(=O)(=O)c1ccc(-c2ccc(SC)cc2)cc1)C(=O)O)(NS(=O)(=O)c1ccc(Br)cc1)C(=O)O\n",
      "   0.94     C(C=CCC(C)C)(NS(=O)(=O)c1ccc(-c2ccc(SC)cc2)cc1)C(=O)O\n",
      "   0.96     C(CCO)(NS(=O)(=O)c1ccc(-c2ccc(OC(F)(F)F)cc2)cc1)C(=O)O\n",
      "   0.95     C(CCOC)(NS(=O)(=O)c1ccc(-c2ccc(SC)cc2)cc1)C(=O)O\n",
      "   0.96     C(CCO)(NS(=O)(=O)c1ccc(-c2ccc(CC)cc2)cc1)C(=O)O\n",
      "   0.95     C(CC(C)(C)C)(NS(=O)(=O)c1ccc(-c2ccc(CCO)cc2)cc1)C(=O)O\n"
     ]
    },
    {
     "name": "stderr",
     "output_type": "stream",
     "text": [
      "/site/rp/work/projects/DD/Jupyter/notebooks/Maxime/scaffold-constrained-generation/scaffold_constrained_model.py:466: UserWarning: Implicit dimension choice for softmax has been deprecated. Change the call to include dim=X as an argument.\n",
      "  prob = F.softmax(logits)\n",
      "/site/rp/work/projects/DD/Jupyter/notebooks/Maxime/scaffold-constrained-generation/scaffold_constrained_model.py:467: UserWarning: Implicit dimension choice for log_softmax has been deprecated. Change the call to include dim=X as an argument.\n",
      "  log_prob = F.log_softmax(logits)\n"
     ]
    },
    {
     "name": "stdout",
     "output_type": "stream",
     "text": [
      "Found original molecule: C(CC(C)C)(NS(=O)(=O)c1ccc(-c2ccc(CC)cc2)cc1)C(=O)O\n",
      "Found original molecule: C(CC(C)C)(NS(=O)(=O)c1ccc(-c2ccc(CCC)cc2)cc1)C(=O)O\n",
      "\n",
      "Best score in memory: 1.00\n"
     ]
    },
    {
     "name": "stderr",
     "output_type": "stream",
     "text": [
      "/site/rp/work/projects/DD/Jupyter/notebooks/Maxime/scaffold-constrained-generation/scaffold_constrained_model.py:96: UserWarning: Implicit dimension choice for log_softmax has been deprecated. Change the call to include dim=X as an argument.\n",
      "  log_prob = F.log_softmax(logits)\n",
      "/site/rp/work/projects/DD/Jupyter/notebooks/Maxime/scaffold-constrained-generation/scaffold_constrained_model.py:97: UserWarning: Implicit dimension choice for softmax has been deprecated. Change the call to include dim=X as an argument.\n",
      "  prob = F.softmax(logits)\n"
     ]
    },
    {
     "name": "stdout",
     "output_type": "stream",
     "text": [
      "\n",
      "       Step 7   Fraction valid SMILES: 90.0  Time elapsed: 0.40h Time left: 0.15h\n",
      "  Agent    Prior   Target   Score             SMILES\n",
      "   0.84     C(CC(C)C)(NS(=O)(=O)c1ccc(-c2cc(CCOCCOC)ccc2)cc1)C(=O)O\n",
      "   0.97     C(CCC(OC)=O)(NS(=O)(=O)c1ccc(-c2ccc(SC)cc2)cc1)C(=O)O\n",
      "   0.00     C(CCC1OC2C(CCOC)(C)COC2)(NS(=O)(=O)c1ccc(F)cc1)C(=O)O\n",
      "   0.96     C(CCC(F)(F)C(=O)O)(NS(=O)(=O)c1ccc(-c2ccc(SC)cc2)cc1)C(=O)O\n",
      "   0.96     C(CCO)(NS(=O)(=O)c1ccc(-c2ccc(CC)cc2)cc1)C(=O)O\n",
      "   0.93     C(CCC1OC2C(CCNCCC)(N1)CC2)(NS(=O)(=O)c1ccc(-c2ccc(SC)cc2)cc1)C(=O)O\n",
      "   0.95     C(CCC1CC2CCC1CC2)(NS(=O)(=O)c1ccc(-c2ccc(SC)cc2)cc1)C(=O)O\n",
      "   0.96     C(CCO)(NS(=O)(=O)c1ccc(-c2ccc(OC(F)(F)F)cc2)cc1)C(=O)O\n",
      "   0.96     C(CCCc1ccc(F)cc1)(NS(=O)(=O)c1ccc(-c2ccc(SC)cc2)cc1)C(=O)O\n",
      "   0.96     C(CC(C)C)(NS(=O)(=O)c1ccc(-c2ccc(CCCOC(C)(C)C)cc2)cc1)C(=O)O\n"
     ]
    },
    {
     "name": "stderr",
     "output_type": "stream",
     "text": [
      "/site/rp/work/projects/DD/Jupyter/notebooks/Maxime/scaffold-constrained-generation/scaffold_constrained_model.py:466: UserWarning: Implicit dimension choice for softmax has been deprecated. Change the call to include dim=X as an argument.\n",
      "  prob = F.softmax(logits)\n",
      "/site/rp/work/projects/DD/Jupyter/notebooks/Maxime/scaffold-constrained-generation/scaffold_constrained_model.py:467: UserWarning: Implicit dimension choice for log_softmax has been deprecated. Change the call to include dim=X as an argument.\n",
      "  log_prob = F.log_softmax(logits)\n"
     ]
    },
    {
     "name": "stdout",
     "output_type": "stream",
     "text": [
      "Found original molecule: C(CC(C)C)(NS(=O)(=O)c1ccc(-c2ccc(CCC)cc2)cc1)C(=O)O\n",
      "\n",
      "Best score in memory: 1.00\n"
     ]
    },
    {
     "name": "stderr",
     "output_type": "stream",
     "text": [
      "/site/rp/work/projects/DD/Jupyter/notebooks/Maxime/scaffold-constrained-generation/scaffold_constrained_model.py:96: UserWarning: Implicit dimension choice for log_softmax has been deprecated. Change the call to include dim=X as an argument.\n",
      "  log_prob = F.log_softmax(logits)\n",
      "/site/rp/work/projects/DD/Jupyter/notebooks/Maxime/scaffold-constrained-generation/scaffold_constrained_model.py:97: UserWarning: Implicit dimension choice for softmax has been deprecated. Change the call to include dim=X as an argument.\n",
      "  prob = F.softmax(logits)\n"
     ]
    },
    {
     "name": "stdout",
     "output_type": "stream",
     "text": [
      "\n",
      "       Step 8   Fraction valid SMILES: 93.0  Time elapsed: 0.44h Time left: 0.10h\n",
      "  Agent    Prior   Target   Score             SMILES\n",
      "   0.97     C(CC(NS(=O)(=O)c1ccc(-c2ccc(SC)cc2)cc1)C(=O)O)(NS(=O)(=O)c1ccc(C)cc1)C(=O)O\n",
      "   0.95     C(CC1OC2C(CCO)(N1)CC2)(NS(=O)(=O)c1ccc(-c2ccc(OC(F)(F)F)cc2)cc1)C(=O)O\n",
      "   0.96     C(CCC(C)C)(NS(=O)(=O)c1ccc(-c2ccc(OC(F)(F)F)cc2)cc1)C(=O)O\n",
      "   0.97     C(CC1OC2C(CCOC)(CC1)CC2)(NS(=O)(=O)c1ccc(-c2ccc(SC)cc2)cc1)C(=O)O\n",
      "   0.97     C(CCCO)(NS(=O)(=O)c1ccc(-c2ccc(CCCOCc3ccc(OC(F)F)cc3)cc2)cc1)C(=O)O\n",
      "   0.97     C(CCC1OC2C(CCCC(C)(OC)C)OC12)(NS(=O)(=O)c1ccc(-c2ccc(OC(F)(F)F)cc2)cc1)C(=O)O\n",
      "   0.96     C(CC(C)(C)C)(NS(=O)(=O)c1ccc(-c2ccc(CCCOCc3ccc(OC(F)(F)F)cc3)cc2)cc1)C(=O)O\n",
      "   0.95     C(CC1OC2C(CCCC(C)(OC)C)OC12)(NS(=O)(=O)c1ccc(-c2ccc(OC(F)(F)F)cc2)cc1)C(=O)O\n",
      "   0.96     C(CCO)(NS(=O)(=O)c1ccc(-c2ccc(CCNS(=O)(=O)c3ccc(CC)cc3)cc2)cc1)C(=O)O\n",
      "   0.95     C(CCc1ccc(F)cc1)(NS(=O)(=O)c1ccc(-c2ccc(OC(F)(F)F)cc2)cc1)C(=O)O\n"
     ]
    },
    {
     "name": "stderr",
     "output_type": "stream",
     "text": [
      "/site/rp/work/projects/DD/Jupyter/notebooks/Maxime/scaffold-constrained-generation/scaffold_constrained_model.py:466: UserWarning: Implicit dimension choice for softmax has been deprecated. Change the call to include dim=X as an argument.\n",
      "  prob = F.softmax(logits)\n",
      "/site/rp/work/projects/DD/Jupyter/notebooks/Maxime/scaffold-constrained-generation/scaffold_constrained_model.py:467: UserWarning: Implicit dimension choice for log_softmax has been deprecated. Change the call to include dim=X as an argument.\n",
      "  log_prob = F.log_softmax(logits)\n"
     ]
    },
    {
     "name": "stdout",
     "output_type": "stream",
     "text": [
      "Found original molecule: C(CC(C)C)(NS(=O)(=O)c1ccc(-c2ccc(CCC)cc2)cc1)C(=O)O\n",
      "\n",
      "Best score in memory: 1.00\n"
     ]
    },
    {
     "name": "stderr",
     "output_type": "stream",
     "text": [
      "/site/rp/work/projects/DD/Jupyter/notebooks/Maxime/scaffold-constrained-generation/scaffold_constrained_model.py:96: UserWarning: Implicit dimension choice for log_softmax has been deprecated. Change the call to include dim=X as an argument.\n",
      "  log_prob = F.log_softmax(logits)\n",
      "/site/rp/work/projects/DD/Jupyter/notebooks/Maxime/scaffold-constrained-generation/scaffold_constrained_model.py:97: UserWarning: Implicit dimension choice for softmax has been deprecated. Change the call to include dim=X as an argument.\n",
      "  prob = F.softmax(logits)\n"
     ]
    },
    {
     "name": "stdout",
     "output_type": "stream",
     "text": [
      "\n",
      "       Step 9   Fraction valid SMILES: 96.7  Time elapsed: 0.49h Time left: 0.05h\n",
      "  Agent    Prior   Target   Score             SMILES\n",
      "   0.97     C(CC1OC2C(CCOC)(CC1)CO2)(NS(=O)(=O)c1ccc(-c2ccc(SC)cc2)cc1)C(=O)O\n",
      "   0.94     C(CCC1OC2C(CCC(CCc3ccc(Cl)cc3)(C)C1)C2)(NS(=O)(=O)c1ccc(-c2ccc(SC)cc2)cc1)C(=O)O\n",
      "   0.97     C(CC(C)(C)C)(NS(=O)(=O)c1ccc(-c2ccc(CCC)cc2)cc1)C(=O)O\n",
      "   0.96     C(CCCc1ccc(F)cc1)(NS(=O)(=O)c1ccc(-c2ccc(SC)cc2)cc1)C(=O)O\n",
      "   0.97     C(CC1OC2C(CCOC)(CC1)COC2)(NS(=O)(=O)c1ccc(-c2ccc(SC)cc2)cc1)C(=O)O\n",
      "   1.00     C(CCC1OC2C(CCCC(C)(C)C)(CC1)C2)(NS(=O)(=O)c1ccc(-c2ccc(SC)cc2)cc1)C(=O)O\n",
      "   0.00     C(CC(C)(C)C)(NS(=O)(=O)c1ccc(-c2ccc(CCCOCc3ccc(CCCOCc4ccc(F)cc4)cc3)c\n",
      "   0.96     C(CC(C)(C)C)(NS(=O)(=O)c1ccc(-c2ccc(CCN(C)C)cc2)cc1)C(=O)O\n",
      "   0.96     C(CC(C)C)(NS(=O)(=O)c1ccc(-c2ccc(CCCOCCc3occ(C)c3)cc2)cc1)C(=O)O\n",
      "   0.97     C(CC(C)C)(NS(=O)(=O)c1ccc(-c2ccc(CCCOCc3ccc(OC(F)F)cc3)cc2)cc1)C(=O)O\n",
      "\n",
      "********************************************************************************\n",
      "\n",
      "         Best recorded SMILES: \n",
      "\n",
      "Score     Prior log P     SMILES\n",
      "\n",
      "1.00   -12.64        C(CCC1OC2C(CCc3ccc(F)cc3)(CC2)C1)(NS(=O)(=O)c1ccc(-c2ccc(SC)cc2)cc1)C(=O)O\n",
      "1.00   -14.45        C(CCC1OC2C(CCCC(C)(C)C)(CCC(C)C1)C2)(NS(=O)(=O)c1ccc(-c2ccc(SC)cc2)cc1)C(=O)O\n",
      "1.00    -8.58        C(CCC1OC2C(CCCC(C)(O)C)(CCC(C)C1)C2)(NS(=O)(=O)c1ccc(-c2ccc(SC)cc2)cc1)C(=O)O\n",
      "1.00   -10.23        C(CCC1OC2C(CCCC(C)(O)C)(CC1)C2)(NS(=O)(=O)c1ccc(-c2ccc(SC)cc2)cc1)C(=O)O\n",
      "1.00    -9.65        C(CCC1OC2C(CCCC(C)(C)C)(CC1)C2)(NS(=O)(=O)c1ccc(-c2ccc(SC)cc2)cc1)C(=O)O\n",
      "1.00    -8.32        C(CCC1OC2C(CCc3ccc(F)cc3)(CC1)CC2)(NS(=O)(=O)c1ccc(-c2ccc(SC)cc2)cc1)C(=O)O\n",
      "1.00    -7.86        C(CCC1OC2C(CCc3ccccc3)(CC2)C1)(NS(=O)(=O)c1ccc(-c2ccc(SC)cc2)cc1)C(=O)O\n",
      "1.00   -10.78        C(CCC1OC2C(CCCC(C)(C)C)(CC1)CO2)(NS(=O)(=O)c1ccc(-c2ccc(SC)cc2)cc1)C(=O)O\n",
      "1.00    -8.14        C(CCC1OC2C(CCCC(C)(C)C)(C1)CC2)(NS(=O)(=O)c1ccc(-c2ccc(SC)cc2)cc1)C(=O)O\n",
      "1.00    -8.36        C(CCC1OC2C(CCCc3ccccc3)(CC2)C1)(NS(=O)(=O)c1ccc(-c2ccc(SC)cc2)cc1)C(=O)O\n",
      "1.00    -6.35        C(CCC1OC2C(CCC(C)(O)C)(CCC(C)C1)C2)(NS(=O)(=O)c1ccc(-c2ccc(SC)cc2)cc1)C(=O)O\n",
      "1.00    -5.83        C(CCC1OC2C(CCC(C)(O)C)(CC1)C2)(NS(=O)(=O)c1ccc(-c2ccc(SC)cc2)cc1)C(=O)O\n",
      "1.00    -8.01        C(CCC1OC2C(CCCc3ccc(F)cc3)(CC2)C1)(NS(=O)(=O)c1ccc(-c2ccc(SC)cc2)cc1)C(=O)O\n",
      "1.00    -6.68        C(CCC1OC2C(CCCC(C)(C)C)(CC2)C1)(NS(=O)(=O)c1ccc(-c2ccc(SC)cc2)cc1)C(=O)O\n",
      "1.00    -8.09        C(CCC1OC2C(CCC(C)(O)C)(CC2)C1)(NS(=O)(=O)c1ccc(-c2ccc(SC)cc2)cc1)C(=O)O\n",
      "1.00   -14.25        C(CCC1OC2C(CC=CCCO)(CC1)C2)(NS(=O)(=O)c1ccc(-c2ccc(SC)cc2)cc1)C(=O)O\n",
      "1.00    -7.54        C(CCC1OC2C(CCc3ccc(F)cc3)(CC1)CO2)(NS(=O)(=O)c1ccc(-c2ccc(SC)cc2)cc1)C(=O)O\n",
      "1.00    -7.61        C(CCC1OC2C(CCO)(CCC(C)C1)CC2)(NS(=O)(=O)c1ccc(-c2ccc(SC)cc2)cc1)C(=O)O\n",
      "1.00    -9.16        C(CCC1OC2C(CC=CC(C)(C)C)(CC1)C2)(NS(=O)(=O)c1ccc(-c2ccc(SC)cc2)cc1)C(=O)O\n",
      "1.00    -8.15        C(CCC1OC2C(CCCC(C)(O)C)(CCC1C)C2)(NS(=O)(=O)c1ccc(-c2ccc(SC)cc2)cc1)C(=O)O\n",
      "1.00    -9.55        C(CCC1OC2C(CCCC(C)C)(C1)CO2)(NS(=O)(=O)c1ccc(-c2ccc(SC)cc2)cc1)C(=O)O\n",
      "1.00    -9.28        C(CCC1OC2C(CCc3ccc(F)cc3)(CC2)CC1)(NS(=O)(=O)c1ccc(-c2ccc(SC)cc2)cc1)C(=O)O\n",
      "1.00    -4.62        C(CCC1OC2C(CCc3ccc(Cl)cc3)(CC2)C1)(NS(=O)(=O)c1ccc(-c2ccc(SC)cc2)cc1)C(=O)O\n",
      "1.00    -7.08        C(CCC1OC2C(CCOC)(C1)CC2)(NS(=O)(=O)c1ccc(-c2ccc(SC)cc2)cc1)C(=O)O\n",
      "1.00    -6.24        C(CCC1OC2C(CCC(C)C)(CCC(C)C1)C2)(NS(=O)(=O)c1ccc(-c2ccc(SC)cc2)cc1)C(=O)O\n",
      "1.00   -14.58        C(CCC1OC2C(CC(CC)CC)(C1)CO2)(NS(=O)(=O)c1ccc(-c2ccc(SC)cc2)cc1)C(=O)O\n",
      "0.99    -4.92        C(CCC1OC2C(CCc3ccccc3)(CC1)CC2)(NS(=O)(=O)c1ccc(-c2ccc(SC)cc2)cc1)C(=O)O\n",
      "0.99    -8.87        C(CCC1OC2C(CCc3ccccc3)(CC2)CC1)(NS(=O)(=O)c1ccc(-c2ccc(SC)cc2)cc1)C(=O)O\n",
      "0.99    -8.01        C(CCC1OC2C(CCOC)(CC1)CO2)(NS(=O)(=O)c1ccc(-c2ccc(SC)cc2)cc1)C(=O)O\n",
      "0.99    -5.54        C(CCC1OC2C(CCOC)(CC1)CC2)(NS(=O)(=O)c1ccc(-c2ccc(SC)cc2)cc1)C(=O)O\n",
      "0.99    -5.70        C(CCC1OC2C(CCc3ccc(Cl)cc3)(CC1)CC2)(NS(=O)(=O)c1ccc(-c2ccc(SC)cc2)cc1)C(=O)O\n",
      "0.99    -8.49        C(CC1OC2C(CCCc3ccc(F)cc3)(CC2)C1)(NS(=O)(=O)c1ccc(-c2ccc(SC)cc2)cc1)C(=O)O\n",
      "0.99    -5.31        C(CC1OC2C(CCc3ccc(F)cc3)(CC2)C1)(NS(=O)(=O)c1ccc(-c2ccc(SC)cc2)cc1)C(=O)O\n",
      "0.99    -9.63        C(CC1OC2C(CCc3ccc(F)cc3)(CC1)CO2)(NS(=O)(=O)c1ccc(-c2ccc(SC)cc2)cc1)C(=O)O\n",
      "0.99   -13.75        C(CC1OC2C(CCNCc3ccc(F)cc3)(CC2)C1)(NS(=O)(=O)c1ccc(-c2ccc(SC)cc2)cc1)C(=O)O\n",
      "0.99    -7.39        C(CCC1OC2C(CCC(C)(C)C)(CC1)CO2)(NS(=O)(=O)c1ccc(-c2ccc(SC)cc2)cc1)C(=O)O\n",
      "0.99    -6.89        C(CC1OC2C(CCc3ccc(F)cc3)(CC1)CC2)(NS(=O)(=O)c1ccc(-c2ccc(SC)cc2)cc1)C(=O)O\n",
      "0.99    -7.38        C(CC1OC2C(CCCC(C)(O)C)(CCC(C)C1)C2)(NS(=O)(=O)c1ccc(-c2ccc(SC)cc2)cc1)C(=O)O\n",
      "0.99    -8.61        C(CC1OC2C(CCCC(C)(C)C)(CC2)C1)(NS(=O)(=O)c1ccc(-c2ccc(SC)cc2)cc1)C(=O)O\n",
      "0.99   -12.31        C(CCC1OC2C(CCc3ccc(CC)cc3)(CC2)CC1)(NS(=O)(=O)c1ccc(-c2ccc(SC)cc2)cc1)C(=O)O\n",
      "0.98   -10.33        C(CC1OC2C(CCC(C)C)(CCC(C)C1)C2)(NS(=O)(=O)c1ccc(-c2ccc(SC)cc2)cc1)C(=O)O\n",
      "0.98    -7.69        C(CC1OC2C(CCC(C)C)(CCC1)C2)(NS(=O)(=O)c1ccc(-c2ccc(SC)cc2)cc1)C(=O)O\n",
      "0.98   -10.23        C(CC1OC2C(CCc3ccc(Cl)cc3)(CC2)C1)(NS(=O)(=O)c1ccc(-c2ccc(SC)cc2)cc1)C(=O)O\n",
      "0.98    -8.57        C(CCC)(NS(=O)(=O)c1ccc(-c2ccc(CCCOCc3ccc(SC)cc3)cc2)cc1)C(=O)O\n",
      "0.98    -6.16        C(CCCOC)(NS(=O)(=O)c1ccc(-c2ccc(CCC)cc2)cc1)C(=O)O\n",
      "0.98    -6.85        C(CCCc1ccc(F)cc1)(NS(=O)(=O)c1ccc(-c2ccc(CCC)cc2)cc1)C(=O)O\n",
      "0.98   -11.13        C(CCC1OC2C(CCC(C)C)(CC2)C1)(NS(=O)(=O)c1ccc(-c2ccc(SC)cc2)cc1)C(=O)O\n",
      "0.98   -12.24        C(CC1OC2C(CCOC)(CC1)CN2)(NS(=O)(=O)c1ccc(-c2ccc(SC)cc2)cc1)C(=O)O\n",
      "0.98    -8.66        C(CCC(C)C)(NS(=O)(=O)c1ccc(-c2ccc(CCCOCc3ccc(SC)cc3)cc2)cc1)C(=O)O\n",
      "0.98    -5.47        C(CCCO)(NS(=O)(=O)c1ccc(-c2ccc(CCC)cc2)cc1)C(=O)O\n",
      "\n",
      "********************************************************************************\n",
      "\n"
     ]
    }
   ],
   "source": [
    "hill_climbing(pattern='C(*)(NS(=O)(=O)c1ccc(*)cc1)C(=O)O', restore_agent_from='data/DistributionLearningBenchmark/Prior_sureChEMBL_randomized.ckpt', scoring_function='mmp12', scoring_function_kwargs=dict(), batch_size=500, use_custom_voc=\"data/DistributionLearningBenchmark/Voc\")"
   ]
  },
  {
   "cell_type": "code",
   "execution_count": 4,
   "metadata": {},
   "outputs": [
    {
     "name": "stdout",
     "output_type": "stream",
     "text": [
      "Model initialized, starting training...\n"
     ]
    },
    {
     "name": "stderr",
     "output_type": "stream",
     "text": [
      "/site/rp/work/projects/DD/Jupyter/notebooks/Maxime/scaffold-constrained-generation/model.py:99: UserWarning: Implicit dimension choice for softmax has been deprecated. Change the call to include dim=X as an argument.\n",
      "  prob = F.softmax(logits)\n",
      "/site/rp/work/projects/DD/Jupyter/notebooks/Maxime/scaffold-constrained-generation/model.py:100: UserWarning: Implicit dimension choice for log_softmax has been deprecated. Change the call to include dim=X as an argument.\n",
      "  log_prob = F.log_softmax(logits)\n"
     ]
    },
    {
     "name": "stdout",
     "output_type": "stream",
     "text": [
      "\n",
      "Best score in memory: 0.00\n"
     ]
    },
    {
     "name": "stderr",
     "output_type": "stream",
     "text": [
      "/site/rp/work/projects/DD/Jupyter/notebooks/Maxime/scaffold-constrained-generation/model.py:65: UserWarning: Implicit dimension choice for log_softmax has been deprecated. Change the call to include dim=X as an argument.\n",
      "  log_prob = F.log_softmax(logits)\n",
      "/site/rp/work/projects/DD/Jupyter/notebooks/Maxime/scaffold-constrained-generation/model.py:66: UserWarning: Implicit dimension choice for softmax has been deprecated. Change the call to include dim=X as an argument.\n",
      "  prob = F.softmax(logits)\n"
     ]
    },
    {
     "name": "stdout",
     "output_type": "stream",
     "text": [
      "\n",
      "       Step 0   Fraction valid SMILES: 94.6  Time elapsed: 0.07h Time left: 0.74h\n",
      "  Agent    Prior   Target   Score             SMILES\n",
      "   0.00     c1cc(C(N(C)C(CCC(C(=O)NC(Cc2ccccc2)CO)COC(N2CCN(CC(OC)=O)CC2)=O)C)=O)ccc1\n",
      "   0.00     C1(=O)CC(CN)(CCc2ccncc2)C2CCC3N(CCOCCF)CCC312\n",
      "   0.00     C1(C)(C)C2=C(C)C=C3CC2(OO1)C(CCC(=C)COC(CC)=O)C(=C)C33\n",
      "   0.00     c1cc(CCC(=O)Nc2cc(C(N)=O)ccc2)nn1CC(c1ccc(Br)cc1F)SCC\n",
      "   0.00     CCCN(CCC#N)N=Cc1ccc(-c2ccccc2)o1\n",
      "   0.00     C1C(=O)NCCN(C(=NC)S)C1\n",
      "   0.00     c1ccc(COC2=C(S(=O)(=O)c3ccc(C)cc3)COC(N)=N2)cc1\n",
      "   0.00     c1(C)ccccc1Nc1c([N+](=O)[O-])nc(N)nc1N\n",
      "   0.00     c1cc(C(OC)=O)c(NC(C(Oc2ccc(Cl)cc2)c2ccc(C)cc2)=O)cc1\n",
      "   0.00     C12=C(C(=O)OC1)C(c1ccc(-c3cc(C(F)(F)F)nn3C)cc1)N(Cc1ccc3c(OCCCOc4c5c(ncnc5OC)ccc4)ccc1)C1C(C(=O)N(C)C3=O)C1C2\n"
     ]
    },
    {
     "name": "stderr",
     "output_type": "stream",
     "text": [
      "/site/rp/work/projects/DD/Jupyter/notebooks/Maxime/scaffold-constrained-generation/model.py:99: UserWarning: Implicit dimension choice for softmax has been deprecated. Change the call to include dim=X as an argument.\n",
      "  prob = F.softmax(logits)\n",
      "/site/rp/work/projects/DD/Jupyter/notebooks/Maxime/scaffold-constrained-generation/model.py:100: UserWarning: Implicit dimension choice for log_softmax has been deprecated. Change the call to include dim=X as an argument.\n",
      "  log_prob = F.log_softmax(logits)\n"
     ]
    },
    {
     "name": "stdout",
     "output_type": "stream",
     "text": [
      "\n",
      "Best score in memory: 0.00\n"
     ]
    },
    {
     "name": "stderr",
     "output_type": "stream",
     "text": [
      "/site/rp/work/projects/DD/Jupyter/notebooks/Maxime/scaffold-constrained-generation/model.py:65: UserWarning: Implicit dimension choice for log_softmax has been deprecated. Change the call to include dim=X as an argument.\n",
      "  log_prob = F.log_softmax(logits)\n",
      "/site/rp/work/projects/DD/Jupyter/notebooks/Maxime/scaffold-constrained-generation/model.py:66: UserWarning: Implicit dimension choice for softmax has been deprecated. Change the call to include dim=X as an argument.\n",
      "  prob = F.softmax(logits)\n"
     ]
    },
    {
     "name": "stdout",
     "output_type": "stream",
     "text": [
      "\n",
      "       Step 1   Fraction valid SMILES: 86.2  Time elapsed: 0.16h Time left: 0.70h\n",
      "  Agent    Prior   Target   Score             SMILES\n",
      "   0.00     c1cc(Oc2c3sc(N4CCOCC4)cc(=O)c3sc2-c2ccccc2)cc(C(=O)N(C)C)c1\n",
      "   0.00     CC(c1cccc(C(N(CCN(C)C)C)=O)c1)(C)C\n",
      "   0.00     O(C(=O)c1cc(OCC)c(NC(=O)c2cc3nc(C)nc(O)c3s2)cc1)CC\n",
      "   0.00     CC1CN(CCc2ccc(OC)cc2OC)CC1\n",
      "   0.00     c1(-c2csc(N3CCN(c4ccccc4OC)CC3)n2)nnc(O)c2ccccc21\n",
      "   0.00     c1(S(=O)(=O)NN(S(=O)(=O)C)C)cc(Cl)ccc1OC\n",
      "   0.00     s1c(-c2ccc(OCC)cc2)nnc1C(OCC)=O\n",
      "   0.00     c1ncccc1CN1C(C2NC(c3ccc(C)cc3)C2)CC(C)C1\n",
      "   0.00     o1c(-c2ccc(CSc3ccccc3)cc2)nc(O)c1C#N\n",
      "   0.00     n1c2c(cccc2)c(NCC(N(CC)CC)=O)cc1-c1ccc(OCC)cc1\n"
     ]
    },
    {
     "name": "stderr",
     "output_type": "stream",
     "text": [
      "/site/rp/work/projects/DD/Jupyter/notebooks/Maxime/scaffold-constrained-generation/model.py:99: UserWarning: Implicit dimension choice for softmax has been deprecated. Change the call to include dim=X as an argument.\n",
      "  prob = F.softmax(logits)\n",
      "/site/rp/work/projects/DD/Jupyter/notebooks/Maxime/scaffold-constrained-generation/model.py:100: UserWarning: Implicit dimension choice for log_softmax has been deprecated. Change the call to include dim=X as an argument.\n",
      "  log_prob = F.log_softmax(logits)\n"
     ]
    },
    {
     "name": "stdout",
     "output_type": "stream",
     "text": [
      "\n",
      "Best score in memory: 0.00\n"
     ]
    },
    {
     "name": "stderr",
     "output_type": "stream",
     "text": [
      "/site/rp/work/projects/DD/Jupyter/notebooks/Maxime/scaffold-constrained-generation/model.py:65: UserWarning: Implicit dimension choice for log_softmax has been deprecated. Change the call to include dim=X as an argument.\n",
      "  log_prob = F.log_softmax(logits)\n",
      "/site/rp/work/projects/DD/Jupyter/notebooks/Maxime/scaffold-constrained-generation/model.py:66: UserWarning: Implicit dimension choice for softmax has been deprecated. Change the call to include dim=X as an argument.\n",
      "  prob = F.softmax(logits)\n"
     ]
    },
    {
     "name": "stdout",
     "output_type": "stream",
     "text": [
      "\n",
      "       Step 2   Fraction valid SMILES: 81.2  Time elapsed: 0.22h Time left: 0.58h\n",
      "  Agent    Prior   Target   Score             SMILES\n",
      "   0.00     o1cccc1C(OCCN1C(c2ccccc2)=NC(=O)C1C)=O\n",
      "   0.00     N1(c2c3c(cccc3)nnc2)CC(Cn2ccnn2)OC1\n",
      "   0.00     n1c(C)ncc(C(=O)NCc2ccc(C(F)(F)F)nc2)c1\n",
      "   0.00     c1(OCC)c(-c2[nH]ncc2)ccc(C(OCC)=O)c1\n",
      "   0.00     c1(-c2c3sc(N4CCOCC4)cc(=O)c3sc2-c2ccc(Cl)cc2)ccc(C(O)=O)cc1\n",
      "   0.00     c1(OCCn2c(C)nc3c2cccc3)ccc(C(=O)NCC)cc1\n",
      "   0.00     c1ncnn1CC(=O)c1cc(OCC)c(OCC)cc1\n",
      "   0.00     c1(COCC2C(CC(NO)=O)CC(C)(C)C2)ccc(C(=O)C)cc1\n",
      "   0.00     c1ncccc1C(=O)Nc1cc(SCC(=O)OC)ccc1\n",
      "   0.00     c1(OCC2C(COC(c3ccccc3)=O)CCC2)ccc2c(cc3)c(c2)C(OC(C)C)CC1C\n"
     ]
    },
    {
     "name": "stderr",
     "output_type": "stream",
     "text": [
      "/site/rp/work/projects/DD/Jupyter/notebooks/Maxime/scaffold-constrained-generation/model.py:99: UserWarning: Implicit dimension choice for softmax has been deprecated. Change the call to include dim=X as an argument.\n",
      "  prob = F.softmax(logits)\n",
      "/site/rp/work/projects/DD/Jupyter/notebooks/Maxime/scaffold-constrained-generation/model.py:100: UserWarning: Implicit dimension choice for log_softmax has been deprecated. Change the call to include dim=X as an argument.\n",
      "  log_prob = F.log_softmax(logits)\n"
     ]
    },
    {
     "name": "stdout",
     "output_type": "stream",
     "text": [
      "\n",
      "Best score in memory: 0.00\n"
     ]
    },
    {
     "name": "stderr",
     "output_type": "stream",
     "text": [
      "/site/rp/work/projects/DD/Jupyter/notebooks/Maxime/scaffold-constrained-generation/model.py:65: UserWarning: Implicit dimension choice for log_softmax has been deprecated. Change the call to include dim=X as an argument.\n",
      "  log_prob = F.log_softmax(logits)\n",
      "/site/rp/work/projects/DD/Jupyter/notebooks/Maxime/scaffold-constrained-generation/model.py:66: UserWarning: Implicit dimension choice for softmax has been deprecated. Change the call to include dim=X as an argument.\n",
      "  prob = F.softmax(logits)\n"
     ]
    },
    {
     "name": "stdout",
     "output_type": "stream",
     "text": [
      "\n",
      "       Step 3   Fraction valid SMILES: 70.1  Time elapsed: 0.27h Time left: 0.47h\n",
      "  Agent    Prior   Target   Score             SMILES\n",
      "   0.00     o1cccc1C(NC(CNC(c1ccc(OCC)cc1)=O)=O\n",
      "   0.00     C(F)(F)(c1ccc(C(=O)C(Cc2ccc(OCC)cc2)Nc2ccc3c(cnc4c3cccc4)c2)cc1)(F)F\n",
      "   0.00     o1c(-c2cc(C(=O)Nc3ccc(Br)cc3)ccc2)ccc1C(=O)OCc1ccc(C(O)=O)cc1\n",
      "   0.00     S(c1oc(NC(=O)CCn2c(C)ccc(C)c2C)ccc1=O)c1ccccc1\n",
      "   0.00     C[n+]1cccc2cc3c(cc4c3cc3)CCc3cc3c(cc21)OCO4\n",
      "   0.00     C1CN(C(=O)c2cc(C(c3ccccc3)=O)ccc2)CC(C)(C)C1C\n",
      "   0.00     N(CCNC(=O)CCc1ccc(cc1)C)CC(=O)Nc1ccc(Br)cc1\n",
      "   0.00     c1(F)cn(CCN(CC)CC)c(C(OCC)=O)c(-c2ccccc2)n1\n",
      "   0.00     C(c1ccc(CCC=C(C)C)cc1)(OCC(=O)N(C)C)=O\n",
      "   0.00     c1cc(S(NCC(=O)NNc2ccccc2OC)CC(F)(F)c2ccc3cccnc3c2)ccc1C=NNC(=O)Cc1cc(C(O)=O)ccc1\n"
     ]
    },
    {
     "name": "stderr",
     "output_type": "stream",
     "text": [
      "/site/rp/work/projects/DD/Jupyter/notebooks/Maxime/scaffold-constrained-generation/model.py:99: UserWarning: Implicit dimension choice for softmax has been deprecated. Change the call to include dim=X as an argument.\n",
      "  prob = F.softmax(logits)\n",
      "/site/rp/work/projects/DD/Jupyter/notebooks/Maxime/scaffold-constrained-generation/model.py:100: UserWarning: Implicit dimension choice for log_softmax has been deprecated. Change the call to include dim=X as an argument.\n",
      "  log_prob = F.log_softmax(logits)\n"
     ]
    },
    {
     "name": "stdout",
     "output_type": "stream",
     "text": [
      "\n",
      "Best score in memory: 0.00\n"
     ]
    },
    {
     "name": "stderr",
     "output_type": "stream",
     "text": [
      "/site/rp/work/projects/DD/Jupyter/notebooks/Maxime/scaffold-constrained-generation/model.py:65: UserWarning: Implicit dimension choice for log_softmax has been deprecated. Change the call to include dim=X as an argument.\n",
      "  log_prob = F.log_softmax(logits)\n",
      "/site/rp/work/projects/DD/Jupyter/notebooks/Maxime/scaffold-constrained-generation/model.py:66: UserWarning: Implicit dimension choice for softmax has been deprecated. Change the call to include dim=X as an argument.\n",
      "  prob = F.softmax(logits)\n"
     ]
    },
    {
     "name": "stdout",
     "output_type": "stream",
     "text": [
      "\n",
      "       Step 4   Fraction valid SMILES: 63.1  Time elapsed: 0.32h Time left: 0.39h\n",
      "  Agent    Prior   Target   Score             SMILES\n",
      "   0.00     C(c1ccc(C=NNC(=O)c2ccc3n(C)c4ccccc4c3cc2)cc1)(F)(F)F\n",
      "   0.00     c1(F)cc(C(=O)Nc2cc(Cl)ccc2)ccc1\n",
      "   0.00     C(C1OC(n2c3c(c4cc(=O)ccc4[nH]3)CC2)=O)cc1C(=O)O)C\n",
      "   0.00     C(COCc1ccc(OC)cc1)(OCC1C(OC(C)=O)CCC1)=O\n",
      "   0.00     O(C1CN(C(=O)NCCC(C)(C)C)CCc2c1cccc2OC)CC\n",
      "   0.00     O(C(NCc1ccc(OC)cc1)=O)c1ccc(OC)cc1\n",
      "   0.00     C(c1ccc(C=NNC(c2ccc(N3CCOCC3)cc2)=O)cc1)(=O)c1ccccc1\n",
      "   0.00     C(C1(C)CC(Cc2ccc3ccccc3c2)C1)=O\n",
      "   0.00     c1(S(OCCCNC(=O)CCc2ccc3c(c2)OCOCC3)CCOCC)ccc(C(=O)O)cc1\n",
      "   0.00     c1ccc(COC2C(O)C(OC(c3cc(OC)c(Oc4ccccc4)cc3)=O)CC2)cc1\n"
     ]
    },
    {
     "name": "stderr",
     "output_type": "stream",
     "text": [
      "/site/rp/work/projects/DD/Jupyter/notebooks/Maxime/scaffold-constrained-generation/model.py:99: UserWarning: Implicit dimension choice for softmax has been deprecated. Change the call to include dim=X as an argument.\n",
      "  prob = F.softmax(logits)\n",
      "/site/rp/work/projects/DD/Jupyter/notebooks/Maxime/scaffold-constrained-generation/model.py:100: UserWarning: Implicit dimension choice for log_softmax has been deprecated. Change the call to include dim=X as an argument.\n",
      "  log_prob = F.log_softmax(logits)\n"
     ]
    },
    {
     "name": "stdout",
     "output_type": "stream",
     "text": [
      "\n",
      "Best score in memory: 0.00\n"
     ]
    },
    {
     "name": "stderr",
     "output_type": "stream",
     "text": [
      "/site/rp/work/projects/DD/Jupyter/notebooks/Maxime/scaffold-constrained-generation/model.py:65: UserWarning: Implicit dimension choice for log_softmax has been deprecated. Change the call to include dim=X as an argument.\n",
      "  log_prob = F.log_softmax(logits)\n",
      "/site/rp/work/projects/DD/Jupyter/notebooks/Maxime/scaffold-constrained-generation/model.py:66: UserWarning: Implicit dimension choice for softmax has been deprecated. Change the call to include dim=X as an argument.\n",
      "  prob = F.softmax(logits)\n"
     ]
    },
    {
     "name": "stdout",
     "output_type": "stream",
     "text": [
      "\n",
      "       Step 5   Fraction valid SMILES: 58.2  Time elapsed: 0.40h Time left: 0.33h\n",
      "  Agent    Prior   Target   Score             SMILES\n",
      "   0.00     N1(C(=O)c2ccc3nc(Cc4ccccc4)ncc3cc2)CC(C)(C)CC1C(=O)OCC\n",
      "   0.00     c1(C)ccc(C(=O)CCc2c(C)cc(C)ccc2O)ccc1\n",
      "   0.00     O(S(=O)(N1CCC(CN=C(Nc2ccc3[n+](c2)CCCc2ccccc2OC)CCC3)=O)cc1)(OC)=O\n",
      "   0.00     c1(F)cc(S(=O)(n2cccc2C(=O)Nc2ccc3n(C)c(ccc4)ccc3OC)c2ccc1\n",
      "   0.00     o1cccc1C(N1CCC(CN=C(Nc2ccc3[n+](c2)CCCC3)=O)CC1)=O\n",
      "   0.00     c1(Cn2c(C)nc3c2ccc(OC)c3)cc(C(=O)NC)ccc1\n",
      "   0.00     c1(S(NOCC(=O)Nn2cccc2)=O)ccc(C(=O)N)cc1\n",
      "   0.00     O(S(=O)(N1CCC(CN=C(Nc2ccc3[n+](c2)CCCc2ccccc2OC)CCC3)=O)cc1)(=O)(=O)O\n",
      "   0.00     C(C12C3(C)C(CC1)C(C1=OCC=C1C)C2)=O)c1ccccc1OCOC\n",
      "   0.00     C(C1=C(C(=O)OCC)CC1)=O\n"
     ]
    },
    {
     "name": "stderr",
     "output_type": "stream",
     "text": [
      "/site/rp/work/projects/DD/Jupyter/notebooks/Maxime/scaffold-constrained-generation/model.py:99: UserWarning: Implicit dimension choice for softmax has been deprecated. Change the call to include dim=X as an argument.\n",
      "  prob = F.softmax(logits)\n",
      "/site/rp/work/projects/DD/Jupyter/notebooks/Maxime/scaffold-constrained-generation/model.py:100: UserWarning: Implicit dimension choice for log_softmax has been deprecated. Change the call to include dim=X as an argument.\n",
      "  log_prob = F.log_softmax(logits)\n"
     ]
    },
    {
     "name": "stdout",
     "output_type": "stream",
     "text": [
      "\n",
      "Best score in memory: 0.00\n"
     ]
    },
    {
     "name": "stderr",
     "output_type": "stream",
     "text": [
      "/site/rp/work/projects/DD/Jupyter/notebooks/Maxime/scaffold-constrained-generation/model.py:65: UserWarning: Implicit dimension choice for log_softmax has been deprecated. Change the call to include dim=X as an argument.\n",
      "  log_prob = F.log_softmax(logits)\n",
      "/site/rp/work/projects/DD/Jupyter/notebooks/Maxime/scaffold-constrained-generation/model.py:66: UserWarning: Implicit dimension choice for softmax has been deprecated. Change the call to include dim=X as an argument.\n",
      "  prob = F.softmax(logits)\n"
     ]
    },
    {
     "name": "stdout",
     "output_type": "stream",
     "text": [
      "\n",
      "       Step 6   Fraction valid SMILES: 55.4  Time elapsed: 0.47h Time left: 0.27h\n",
      "  Agent    Prior   Target   Score             SMILES\n",
      "   0.00     c1cccc(COC2C(S(=O)(=O)Cc3ccccc3)CC12\n",
      "   0.00     N1(c2c3ssc3ccc2)CC(C)(C)C(C1)=O\n",
      "   0.00     C(c1ccc(OCCNC(=O)CCc2ccc3ccccc3n2)cc1)(OC)=O\n",
      "   0.00     c1(S(Nc2nc3n(C)ccc3OC)cc2)cc(C)ccc1OC\n",
      "   0.00     C(C1(c2ccc3nc(C)nc(N3C)c2)CC1)(F)(F)F\n",
      "   0.00     C(C12OC(=O)C1C1(C)CC(C1)=O)c1c(cc3c1cccc3OC)C2)=O\n",
      "   0.00     C(C1(C)CC(OCCC)=C(C)C1)F\n",
      "   0.00     c1(C)ccc(C(=O)CC(=O)c2cc3c(cc2)CCC(C)(C)N3C)cc1\n",
      "   0.00     n1c2c3sc(C)cc3nc2c2c1c1ccc(OC)c2)cc(C(=O)NC)c1\n",
      "   0.00     c1(C)cccc(COC2C(O)C(SC3C(O)C(O)C(OS(=O)(=O)O3)C(CN(C)C)C2)c1\n"
     ]
    },
    {
     "name": "stderr",
     "output_type": "stream",
     "text": [
      "/site/rp/work/projects/DD/Jupyter/notebooks/Maxime/scaffold-constrained-generation/model.py:99: UserWarning: Implicit dimension choice for softmax has been deprecated. Change the call to include dim=X as an argument.\n",
      "  prob = F.softmax(logits)\n",
      "/site/rp/work/projects/DD/Jupyter/notebooks/Maxime/scaffold-constrained-generation/model.py:100: UserWarning: Implicit dimension choice for log_softmax has been deprecated. Change the call to include dim=X as an argument.\n",
      "  log_prob = F.log_softmax(logits)\n"
     ]
    },
    {
     "name": "stdout",
     "output_type": "stream",
     "text": [
      "\n",
      "Best score in memory: 0.00\n"
     ]
    },
    {
     "name": "stderr",
     "output_type": "stream",
     "text": [
      "/site/rp/work/projects/DD/Jupyter/notebooks/Maxime/scaffold-constrained-generation/model.py:65: UserWarning: Implicit dimension choice for log_softmax has been deprecated. Change the call to include dim=X as an argument.\n",
      "  log_prob = F.log_softmax(logits)\n",
      "/site/rp/work/projects/DD/Jupyter/notebooks/Maxime/scaffold-constrained-generation/model.py:66: UserWarning: Implicit dimension choice for softmax has been deprecated. Change the call to include dim=X as an argument.\n",
      "  prob = F.softmax(logits)\n"
     ]
    },
    {
     "name": "stdout",
     "output_type": "stream",
     "text": [
      "\n",
      "       Step 7   Fraction valid SMILES: 51.9  Time elapsed: 0.53h Time left: 0.20h\n",
      "  Agent    Prior   Target   Score             SMILES\n",
      "   0.00     o1ccc(C(=O)NCCOC)c1C(=O)OCC\n",
      "   0.00     C(C12N(CC(C)(C)C1)CC2C)(C)CC\n",
      "   0.00     C(C1(C)CC(Cc2ccc(OC)cc2)CC(C)(C)N1)(OCC)=O\n",
      "   0.00     n1c2c3ssc1ccc2)CS(=O)(=O)CC3=O\n",
      "   0.00     n1c2n3cccc3cc3c(c2)CC(CF)(CNC(C)=O)CC3C)c1\n",
      "   0.00     O(C1CN(C(=O)Nc2ccc3c(c2)OCCO3)CC1)c1ccc2n(CC)ccc2c1\n",
      "   0.00     [n+]1(C)c(Cc2ccc(OC)cc2)cc(C)cc1\n",
      "   0.00     C(C1(C)CC(c2ccc3noc4cc3c2cc1)=O)CC1(C)CC(CC(C)(C)N1)=O\n",
      "   0.00     C(C1C(CN(C)C)CC1)c1ccc(C)cc1\n",
      "   0.00     C(C1CC1)=O)c1c(Sc2ccc(Cl)cc2)nccc1\n"
     ]
    },
    {
     "name": "stderr",
     "output_type": "stream",
     "text": [
      "/site/rp/work/projects/DD/Jupyter/notebooks/Maxime/scaffold-constrained-generation/model.py:99: UserWarning: Implicit dimension choice for softmax has been deprecated. Change the call to include dim=X as an argument.\n",
      "  prob = F.softmax(logits)\n",
      "/site/rp/work/projects/DD/Jupyter/notebooks/Maxime/scaffold-constrained-generation/model.py:100: UserWarning: Implicit dimension choice for log_softmax has been deprecated. Change the call to include dim=X as an argument.\n",
      "  log_prob = F.log_softmax(logits)\n"
     ]
    },
    {
     "name": "stdout",
     "output_type": "stream",
     "text": [
      "\n",
      "Best score in memory: 0.00\n"
     ]
    },
    {
     "name": "stderr",
     "output_type": "stream",
     "text": [
      "/site/rp/work/projects/DD/Jupyter/notebooks/Maxime/scaffold-constrained-generation/model.py:65: UserWarning: Implicit dimension choice for log_softmax has been deprecated. Change the call to include dim=X as an argument.\n",
      "  log_prob = F.log_softmax(logits)\n",
      "/site/rp/work/projects/DD/Jupyter/notebooks/Maxime/scaffold-constrained-generation/model.py:66: UserWarning: Implicit dimension choice for softmax has been deprecated. Change the call to include dim=X as an argument.\n",
      "  prob = F.softmax(logits)\n"
     ]
    },
    {
     "name": "stdout",
     "output_type": "stream",
     "text": [
      "\n",
      "       Step 8   Fraction valid SMILES: 42.3  Time elapsed: 0.60h Time left: 0.13h\n",
      "  Agent    Prior   Target   Score             SMILES\n",
      "   0.00     O(c1ccc(C(=O)Nc2cc3nc(C)nc(N3CCOCC)c2)cc1)CC\n",
      "   0.00     C(C12C3C(C4CC1)CC(C4)C3=O)c1c(cc2)C1(C)C)COC(C)=O\n",
      "   0.00     c1(Cn2c(C)nc3c2cccc3OC)ccc(OCCNC(=O)CC)cc1\n",
      "   0.00     N1(c2nc3c(nc3)ccc3c2cccc3OC)CC(C)(C)C(C)(C)C1\n",
      "   0.00     C1CN(CCn2c(C)cc(c3ccccc3)c2=O)CC(C)(C)C1\n",
      "   0.00     C(C1CNC(=O)CC1)=O)c1c(Cl)cccc1\n",
      "   0.00     c1(CS(=O)(=O)c2cc3nc(C)nc(N3CCOCC3)c2)ccc(C)cc1\n",
      "   0.00     C(C12OC(=O)C1C1(C)CC(C1)=O)cc1c(=O)cc(C)oc12)(=O)OCC\n",
      "   0.00     n1c2n3cccc3c3c(cc4cc3c(c2)CC(CF)C(OCC)C1)c1cccc4c1cnc2\n",
      "   0.00     C(Sc1ccc(C)cc1)C(=O)N1CCC(C)CC1\n"
     ]
    },
    {
     "name": "stderr",
     "output_type": "stream",
     "text": [
      "/site/rp/work/projects/DD/Jupyter/notebooks/Maxime/scaffold-constrained-generation/model.py:99: UserWarning: Implicit dimension choice for softmax has been deprecated. Change the call to include dim=X as an argument.\n",
      "  prob = F.softmax(logits)\n",
      "/site/rp/work/projects/DD/Jupyter/notebooks/Maxime/scaffold-constrained-generation/model.py:100: UserWarning: Implicit dimension choice for log_softmax has been deprecated. Change the call to include dim=X as an argument.\n",
      "  log_prob = F.log_softmax(logits)\n"
     ]
    },
    {
     "name": "stdout",
     "output_type": "stream",
     "text": [
      "\n",
      "Best score in memory: 0.00\n"
     ]
    },
    {
     "name": "stderr",
     "output_type": "stream",
     "text": [
      "/site/rp/work/projects/DD/Jupyter/notebooks/Maxime/scaffold-constrained-generation/model.py:65: UserWarning: Implicit dimension choice for log_softmax has been deprecated. Change the call to include dim=X as an argument.\n",
      "  log_prob = F.log_softmax(logits)\n",
      "/site/rp/work/projects/DD/Jupyter/notebooks/Maxime/scaffold-constrained-generation/model.py:66: UserWarning: Implicit dimension choice for softmax has been deprecated. Change the call to include dim=X as an argument.\n",
      "  prob = F.softmax(logits)\n"
     ]
    },
    {
     "name": "stdout",
     "output_type": "stream",
     "text": [
      "\n",
      "       Step 9   Fraction valid SMILES: 31.1  Time elapsed: 0.66h Time left: 0.07h\n",
      "  Agent    Prior   Target   Score             SMILES\n",
      "   0.00     c1(F)cc(S(=O)(c2c3nccc(C)n3[nH]c2-c2ccccc2)=O)ccc1\n",
      "   0.00     c1(Nc2c3sc(CF)cc3OC)nccc2c(S(CC)(=O)=O)ccc2c1ccc2\n",
      "   0.00     C(C1CNC(=O)CC1)=O)c1ccccc1\n",
      "   0.00     S(c1ccc(C(=O)Nc2ccc3c(c2)CCCN3C)cc1)(CC)CC\n",
      "   0.00     n1c2c3ccc(C)cc3[nH]c2c2c1c1cccc2OC(F)(F)F\n",
      "   0.00     C(C12C3C(C(=O)OCC1C)CC(c1ccc(OC)cc1C(=O)OC)C2)=O)c1ccccc1OC\n",
      "   0.00     n1c2c3ccc(C)cc3[nH]c2c2c1c1cccn2OCC1\n",
      "   0.00     C(c1ccc(OCCNC(=O)CC)ccc1)(OCC)=O\n",
      "   0.00     c1(CS(NCC(=O)NNc2ccccc2OC)CCC)ccc(C(=O)N)cc1\n",
      "   0.00     C(C12C3C(C4(C)C1CC(c1ccc(OC)cc14)O)CC(c1ccc(OC)cc1)(O3)OCC1)CC1c3ccccc3OCC12)O\n",
      "\n",
      "********************************************************************************\n",
      "\n",
      "         Best recorded SMILES: \n",
      "\n",
      "Score     Prior log P     SMILES\n",
      "\n",
      "0.00   -56.88        c1cc(C(N(C)C(CCC(C(=O)NC(Cc2ccccc2)CO)COC(N2CCN(CC(OC)=O)CC2)=O)C)=O)ccc1\n",
      "0.00   -49.61        C1(=O)CC(CN)(CCc2ccncc2)C2CCC3N(CCOCCF)CCC312\n",
      "0.00   -60.00        C1(C)(C)C2=C(C)C=C3CC2(OO1)C(CCC(=C)COC(CC)=O)C(=C)C33\n",
      "0.00   -48.40        c1cc(CCC(=O)Nc2cc(C(N)=O)ccc2)nn1CC(c1ccc(Br)cc1F)SCC\n",
      "0.00   -28.67        CCCN(CCC#N)N=Cc1ccc(-c2ccccc2)o1\n",
      "0.00   -24.50        C1C(=O)NCCN(C(=NC)S)C1\n",
      "0.00   -33.94        c1ccc(COC2=C(S(=O)(=O)c3ccc(C)cc3)COC(N)=N2)cc1\n",
      "0.00   -23.19        c1(C)ccccc1Nc1c([N+](=O)[O-])nc(N)nc1N\n",
      "0.00   -29.44        c1cc(C(OC)=O)c(NC(C(Oc2ccc(Cl)cc2)c2ccc(C)cc2)=O)cc1\n",
      "0.00   -92.19        C12=C(C(=O)OC1)C(c1ccc(-c3cc(C(F)(F)F)nn3C)cc1)N(Cc1ccc3c(OCCCOc4c5c(ncnc5OC)ccc4)ccc1)C1C(C(=O)N(C)C3=O)C1C2\n",
      "0.00   -34.71        O=S(N1C(c2ccccc2)SCC1)(c1[nH]c(C)c(C(=O)CC(C)C)c1C)=O\n",
      "0.00   -38.56        c1cc2c3c(n(C)c2c(S(CC)(=O)=O)n1)occ(-c1ccccc1)c3=O\n",
      "0.00   -40.06        c1(C(=O)NCc2ccc(CSc3[nH]nc(C)n3)cc2)ccc(Cc2ccc(OC(F)(F)F)cc2)cc1\n",
      "0.00   -35.26        c1(C(=O)N2C(C)(C(NCC3CC3)=O)C(c3ccc(Cl)cc3)CC2)nccnc1\n",
      "0.00   -32.52        c1ccc2c(c(NC(Nc3cc(C)c(OC)cc3)=O)c(O)c(=O)o2)c1\n",
      "0.00   -23.22        C1(Sc2nc3c(cccc3)c(O)n2)=NCCS1\n",
      "0.00   -45.94        s1c(N2Cc3c(cc(C(=O)NN4C(=O)c5ccccc5C4=O)cc3C)CC2)nnc1-c1ccc(CC)cc1\n",
      "0.00   -48.24        C1(CC(=O)OCc2ncc(-c3ccc(C(N(C)C)=O)cc3)cc2)C(C)(C)C(C#N)(C#N)N=C1\n",
      "0.00   -60.01        C1OC(=O)C(=C)C2C(OC(=O)C)OC(OC)C(C)=CC2C(C)C(OC(=O)C)C=CC(C)CC(OC(C(C)CC)=O)C(OC(C)=O)C1OC(C)=O\n",
      "0.00   -31.84        C(CC)(n1ccnc1)c1cc2ccc(-c3ccccc3)cc2cc1\n",
      "0.00   -21.76        c1(CCC(=O)Nc2cc(C(C)(C)C)on2)ccccc1\n",
      "0.00   -26.49        O=c1c2ccccc2oc2cc(OCCCC(=O)N3CCOCC3)cc(O)c21\n",
      "0.00   -43.21        C1C(=O)N(CCCc2nc3c(c4c(n3CCCNC)[nH]cc4)cc2)C1\n",
      "0.00   -30.39        c1(CNCCOc2ccc(C)cc2)ccc(-c2nc3c(cccc3)c(=O)[nH]2)cc1\n",
      "0.00   -29.99        c1c(-n2c(C)c(S(NC(C(C)C)c3ccccc3)(=O)=O)c(C)n2)cccc1\n",
      "0.00   -44.15        c1(C)n(CC2Oc3c(cc(Br)cc3)C(Br)C2n2ccnc2)nnc1C(OC)=O\n",
      "0.00   -29.46        c1(=O)c2c(nc(NC3CC3)n1)c(C)cc(Cl)n2\n",
      "0.00   -33.43        C(N1CCOCC1)(=Nc1c([N+]([O-])=O)c(C)ccc1)c1ccc([N+](=O)[O-])cc1\n",
      "0.00   -24.76        C1(C)CC(C)CC(C)C1C(=O)Nc1cc(C)cc(C)c1\n",
      "0.00   -31.01        C1c2ccccc2C2CN(C(c3cccc(F)c3)=O)CCC2N1Cc1ncccc1\n",
      "0.00   -27.57        c1c(C(C)(C)C)ccc(CC(Oc2ccc(C(C)(C)C)cc2)C(OC)=O)c1\n",
      "0.00   -35.36        c12c(cccc1)nc(C(=CF)CN(C)C)n2CC(c1ccccc1)=O\n",
      "0.00   -35.91        c1(Cl)c(CNC(=O)C2CCCN(Cc3cc(C)n[nH]3)C2)c(C)cc(F)c1\n",
      "0.00   -48.10        N(Cc1cc(=O)n(C)c2n(-c3c(Cl)cccc3)ncc12)c1cc(F)c(-c2c(-c3nn[nH]n3)cc(F)cc2)cc1\n",
      "0.00   -36.46        O=c1c2c(cc(-c3ccc(OC)c(OC)c3)c(C)c2)c(C(OC)=O)c(OC)c1OC\n",
      "0.00   -26.39        C1(CC)C(OC(c2ccccc2)c2ccccc2)C1(C)C\n",
      "0.00   -24.12        c1c2c(cc(Cl)c1Cl)Sc1c(ccc(C(F)(F)F)c1)N2\n",
      "0.00   -47.84        c1(O)cc(CC(C(NC2CCNCC2)C(=O)NC(Cc2ccccc2)C(N(C(C(=O)O)C)C(C)C)=O)C)ccc1\n",
      "0.00   -31.16        C1(C)CCN(S(c2cc(C(O)=O)cc3cc(O)ccc23)(=O)=O)CC1\n",
      "0.00   -32.87        c1c2c(ccc1OCc1ccc3c(=O)cc(C)oc3cc1)ccc(=O)o2\n",
      "0.00   -32.53        s1c(Nc2cc(C)c(Oc3nn(-c4ccccc4)c(=S)s3)cc2)ncc1\n",
      "0.00   -23.78        c1(-c2cc(C(C)C)no2)cc(C)cc(C)c1\n",
      "0.00   -30.61        c1c(NS(=O)(c2ccccc2)=O)c(C(=O)NC2C3CC4(O)CC(CC2C4)C3)cnc1\n",
      "0.00   -35.19        C(=Cc1n[nH]c(C(=O)[O-])c1)(Cc1ccc(O)cc1)C(=O)OC\n",
      "0.00   -25.90        c1(OC)c(CC)c(Cl)nc(SC(C)C)n1\n",
      "0.00   -26.40        c1(Cl)c(OC)ccc(-c2cc3c(c(NC(C)C)ncn3)cc2)c1\n",
      "0.00   -35.01        C(C)N1CCc2c(sc3c2sc(S(=O)(=O)c2ccccc2)c3)C1=O\n",
      "0.00   -54.16        c1cc(C(c2cn(CC(O)(Cn3cncn3)c3ccc(F)c(F)c3)c3ccc(CC)cc23)c2cccc(OC3CNC3)c2)ccc1F\n",
      "0.00   -29.01        C(Oc1c(C(=O)O)cc(-c2cc(-c3cc(OC)c(OC)cc3)on2)cc1)C\n",
      "0.00   -20.77        O(c1c(C=NNC(COc2c(C)cccc2)=O)cccc1)C\n",
      "\n",
      "********************************************************************************\n",
      "\n",
      "Model initialized, starting training...\n"
     ]
    },
    {
     "name": "stderr",
     "output_type": "stream",
     "text": [
      "/site/rp/work/projects/DD/Jupyter/notebooks/Maxime/scaffold-constrained-generation/model.py:99: UserWarning: Implicit dimension choice for softmax has been deprecated. Change the call to include dim=X as an argument.\n",
      "  prob = F.softmax(logits)\n",
      "/site/rp/work/projects/DD/Jupyter/notebooks/Maxime/scaffold-constrained-generation/model.py:100: UserWarning: Implicit dimension choice for log_softmax has been deprecated. Change the call to include dim=X as an argument.\n",
      "  log_prob = F.log_softmax(logits)\n"
     ]
    },
    {
     "name": "stdout",
     "output_type": "stream",
     "text": [
      "\n",
      "Best score in memory: 0.00\n"
     ]
    },
    {
     "name": "stderr",
     "output_type": "stream",
     "text": [
      "/site/rp/work/projects/DD/Jupyter/notebooks/Maxime/scaffold-constrained-generation/model.py:65: UserWarning: Implicit dimension choice for log_softmax has been deprecated. Change the call to include dim=X as an argument.\n",
      "  log_prob = F.log_softmax(logits)\n",
      "/site/rp/work/projects/DD/Jupyter/notebooks/Maxime/scaffold-constrained-generation/model.py:66: UserWarning: Implicit dimension choice for softmax has been deprecated. Change the call to include dim=X as an argument.\n",
      "  prob = F.softmax(logits)\n"
     ]
    },
    {
     "name": "stdout",
     "output_type": "stream",
     "text": [
      "\n",
      "       Step 0   Fraction valid SMILES: 93.4  Time elapsed: 0.06h Time left: 0.65h\n",
      "  Agent    Prior   Target   Score             SMILES\n",
      "   0.00     O=S(c1cc(NC(C=C)=O)c(Oc2ccccc2)c(C(C)=O)c1)(C)=O\n",
      "   0.00     n1c2cc(Cl)cc(Cl)c2[nH]c1-c1c(C)noc1C\n",
      "   0.00     C(COC(C=CC(O)C)=C)=C(C)C=CCC(C=C)C(O)C(=O)OC(C(C)C)CC\n",
      "   0.00     c1(Oc2ncc3c(c2)OCO3)c(N)c(Cl)cn1\n",
      "   0.00     o1c2cc(-c3ccc(OC)cc3)c(=O)nc-2n(-c2ccccc2)nc1\n",
      "   0.00     c1(C)ccc(C(=O)Nc2ccc(C3=NN(C(=O)C)C(c4ccccc4)=C3)cc2)cc1\n",
      "   0.00     Cc1cccc(OC)c1NC(CSc1sc(NC(=O)C)nn1)=O\n",
      "   0.00     c1c(-c2c(OC)cc(Cn3c4c(c(C)n3)CCNCC4)c(-c3cccc(C)c3)n2)cccc1\n",
      "   0.00     c1c2c(cccc2Oc2ncnc(Nc3nccc(C(=O)OCC)c3)c2)ccc1Cl\n",
      "   0.00     C(c1cccc(NC(=O)N2CCc3c[nH]nc32)c1)(F)(F)F\n"
     ]
    },
    {
     "name": "stderr",
     "output_type": "stream",
     "text": [
      "/site/rp/work/projects/DD/Jupyter/notebooks/Maxime/scaffold-constrained-generation/model.py:99: UserWarning: Implicit dimension choice for softmax has been deprecated. Change the call to include dim=X as an argument.\n",
      "  prob = F.softmax(logits)\n",
      "/site/rp/work/projects/DD/Jupyter/notebooks/Maxime/scaffold-constrained-generation/model.py:100: UserWarning: Implicit dimension choice for log_softmax has been deprecated. Change the call to include dim=X as an argument.\n",
      "  log_prob = F.log_softmax(logits)\n"
     ]
    },
    {
     "name": "stdout",
     "output_type": "stream",
     "text": [
      "\n",
      "Best score in memory: 0.55\n"
     ]
    },
    {
     "name": "stderr",
     "output_type": "stream",
     "text": [
      "/site/rp/work/projects/DD/Jupyter/notebooks/Maxime/scaffold-constrained-generation/model.py:65: UserWarning: Implicit dimension choice for log_softmax has been deprecated. Change the call to include dim=X as an argument.\n",
      "  log_prob = F.log_softmax(logits)\n",
      "/site/rp/work/projects/DD/Jupyter/notebooks/Maxime/scaffold-constrained-generation/model.py:66: UserWarning: Implicit dimension choice for softmax has been deprecated. Change the call to include dim=X as an argument.\n",
      "  prob = F.softmax(logits)\n"
     ]
    },
    {
     "name": "stdout",
     "output_type": "stream",
     "text": [
      "\n",
      "       Step 1   Fraction valid SMILES: 85.3  Time elapsed: 0.14h Time left: 0.61h\n",
      "  Agent    Prior   Target   Score             SMILES\n",
      "   0.00     c12c(cc(C(C)=O)c(O)c1)Cn1c-2cc2c(c1=O)C=CC(C)(OC)O2\n",
      "   0.00     c1c(Br)cccc1N=C(S)NN=Cc1ccccc1OC\n",
      "   0.00     c1cc(C2=NN(C(C)=O)C(c3ccc(Br)cc3)O2)ccc1O\n",
      "   0.00     C(C)(n1c2ccc(Br)cc2c(S(=O)(=O)c2ccc([N+]([O-])=O)cc2)c1)n1cccc1\n",
      "   0.00     O(CCN(CCC)C1Cc2cc(OC)c(OC)cc2CC1N(C)C(=O)C)CCC\n",
      "   0.00     N(OCc1ccc(C#N)cc1)(CCC)C(=O)CCC(Nc1ccsc1C(=O)c1cn(C)nc1)=O\n",
      "   0.00     C1(=O)c2ccc(C#CC)cc2S(=O)(=O)N(C)CC1\n",
      "   0.00     n1c(C)c2cc(C)ccc2n1S(=O)(=O)c1ccc(C)cc1\n",
      "   0.00     C(c1ccc(C(F)(F)F)cc1)N1CCN(c2cc(C)nc3cnccc23)CC1\n",
      "   0.00     C#CCN(C)CCCN1c2cc(C)ccc2C2(CC2)C(=O)N(CC(=O)NCCCn2cccc2)C(=O)N1\n"
     ]
    },
    {
     "name": "stderr",
     "output_type": "stream",
     "text": [
      "/site/rp/work/projects/DD/Jupyter/notebooks/Maxime/scaffold-constrained-generation/model.py:99: UserWarning: Implicit dimension choice for softmax has been deprecated. Change the call to include dim=X as an argument.\n",
      "  prob = F.softmax(logits)\n",
      "/site/rp/work/projects/DD/Jupyter/notebooks/Maxime/scaffold-constrained-generation/model.py:100: UserWarning: Implicit dimension choice for log_softmax has been deprecated. Change the call to include dim=X as an argument.\n",
      "  log_prob = F.log_softmax(logits)\n"
     ]
    },
    {
     "name": "stdout",
     "output_type": "stream",
     "text": [
      "\n",
      "Best score in memory: 0.55\n"
     ]
    },
    {
     "name": "stderr",
     "output_type": "stream",
     "text": [
      "/site/rp/work/projects/DD/Jupyter/notebooks/Maxime/scaffold-constrained-generation/model.py:65: UserWarning: Implicit dimension choice for log_softmax has been deprecated. Change the call to include dim=X as an argument.\n",
      "  log_prob = F.log_softmax(logits)\n",
      "/site/rp/work/projects/DD/Jupyter/notebooks/Maxime/scaffold-constrained-generation/model.py:66: UserWarning: Implicit dimension choice for softmax has been deprecated. Change the call to include dim=X as an argument.\n",
      "  prob = F.softmax(logits)\n"
     ]
    },
    {
     "name": "stdout",
     "output_type": "stream",
     "text": [
      "\n",
      "       Step 2   Fraction valid SMILES: 73.6  Time elapsed: 0.20h Time left: 0.54h\n",
      "  Agent    Prior   Target   Score             SMILES\n",
      "   0.00     c12c(c(C)nc1)ccc(C(F)(F)F)c2\n",
      "   0.00     s1c2c(=O)c(C(C)C)cc(C)cc2nc1C(C)N=Cc1ccc(OC)c(OC)c1\n",
      "   0.00     c1[n+]([O-])ccc(C=NNC(C[n+]2ccc(C)cc2)=O)c1\n",
      "   0.00     CC(c1ccc(C(C)C)cc1)c1[n+](C)c2n(c1C)C(c1ccc(Cl)cc1)CC2(C)C\n",
      "   0.00     c1c(C=NNC(=O)C(Cl)=C(Cl)Cl)ccc(CC)c1\n",
      "   0.00     N=c1nc2n(c1)Cc1ccccc1-2\n",
      "   0.00     C(c1ccc(CN=C(N)N)cc1)c1c[n+](CC(=O)c2ccc(Cl)cc2)[nH]c1\n",
      "   0.00     N#Cc1c(CC#N)nsc1CCN=Cc1ccc(OC)c(OC)c1\n",
      "   0.00     c1(C=NNC(c2ccc(O)c(O)c2)=O)ccc(OC(F)F)cc1\n",
      "   0.00     c1(Cl)c(NCc2c(CN(C)C)cccc2)cccc1C(F)(F)F\n"
     ]
    },
    {
     "name": "stderr",
     "output_type": "stream",
     "text": [
      "/site/rp/work/projects/DD/Jupyter/notebooks/Maxime/scaffold-constrained-generation/model.py:99: UserWarning: Implicit dimension choice for softmax has been deprecated. Change the call to include dim=X as an argument.\n",
      "  prob = F.softmax(logits)\n",
      "/site/rp/work/projects/DD/Jupyter/notebooks/Maxime/scaffold-constrained-generation/model.py:100: UserWarning: Implicit dimension choice for log_softmax has been deprecated. Change the call to include dim=X as an argument.\n",
      "  log_prob = F.log_softmax(logits)\n"
     ]
    },
    {
     "name": "stdout",
     "output_type": "stream",
     "text": [
      "\n",
      "Best score in memory: 0.55\n"
     ]
    },
    {
     "name": "stderr",
     "output_type": "stream",
     "text": [
      "/site/rp/work/projects/DD/Jupyter/notebooks/Maxime/scaffold-constrained-generation/model.py:65: UserWarning: Implicit dimension choice for log_softmax has been deprecated. Change the call to include dim=X as an argument.\n",
      "  log_prob = F.log_softmax(logits)\n",
      "/site/rp/work/projects/DD/Jupyter/notebooks/Maxime/scaffold-constrained-generation/model.py:66: UserWarning: Implicit dimension choice for softmax has been deprecated. Change the call to include dim=X as an argument.\n",
      "  prob = F.softmax(logits)\n"
     ]
    },
    {
     "name": "stdout",
     "output_type": "stream",
     "text": [
      "\n",
      "       Step 3   Fraction valid SMILES: 63.4  Time elapsed: 0.26h Time left: 0.46h\n",
      "  Agent    Prior   Target   Score             SMILES\n",
      "   0.00     c1c2c(cc(C#N)c1)cc1ccc(SC)cc1c2\n",
      "   0.00     c1cc(CNC(C(C)n2nc(C)nc2C)C#N)ccc1OCCC\n",
      "   0.00     c1[n+]([O-])c(OC)ccc1C(C)=O\n",
      "   0.00     c1c2scc(C(=O)Nc3ccc(Cl)c(C(F)(F)F)c3)c2ccc1\n",
      "   0.00     c1(Oc2nc(-c3cnn(-c4ccccc4)c3)cn2)ccc(C(F)(F)F)cc1C(F)F\n",
      "   0.00     s1c2c(cc1C(C)n1cn(-c3ccc(C(F)(F)F)cc3)cc1C1=NC(CCC1)C(=NOCCN(C)C)C2\n",
      "   0.00     CN(c1ccc(C(=O)c2nc(OC)ccc2)cc1)CC\n",
      "   0.00     c1c2c(c(C)cc1)nc1ccc(OC)cc1c2\n",
      "   0.00     c12c(cc(S(=O)(C)=O)cc1)CC2(O)c1ccc(Cl)cc1\n",
      "   0.00     c1[n+](C)ccc(C=CC=O)c1\n"
     ]
    },
    {
     "name": "stderr",
     "output_type": "stream",
     "text": [
      "/site/rp/work/projects/DD/Jupyter/notebooks/Maxime/scaffold-constrained-generation/model.py:99: UserWarning: Implicit dimension choice for softmax has been deprecated. Change the call to include dim=X as an argument.\n",
      "  prob = F.softmax(logits)\n",
      "/site/rp/work/projects/DD/Jupyter/notebooks/Maxime/scaffold-constrained-generation/model.py:100: UserWarning: Implicit dimension choice for log_softmax has been deprecated. Change the call to include dim=X as an argument.\n",
      "  log_prob = F.log_softmax(logits)\n"
     ]
    },
    {
     "name": "stdout",
     "output_type": "stream",
     "text": [
      "\n",
      "Best score in memory: 0.55\n"
     ]
    },
    {
     "name": "stderr",
     "output_type": "stream",
     "text": [
      "/site/rp/work/projects/DD/Jupyter/notebooks/Maxime/scaffold-constrained-generation/model.py:65: UserWarning: Implicit dimension choice for log_softmax has been deprecated. Change the call to include dim=X as an argument.\n",
      "  log_prob = F.log_softmax(logits)\n",
      "/site/rp/work/projects/DD/Jupyter/notebooks/Maxime/scaffold-constrained-generation/model.py:66: UserWarning: Implicit dimension choice for softmax has been deprecated. Change the call to include dim=X as an argument.\n",
      "  prob = F.softmax(logits)\n"
     ]
    },
    {
     "name": "stdout",
     "output_type": "stream",
     "text": [
      "\n",
      "       Step 4   Fraction valid SMILES: 66.7  Time elapsed: 0.33h Time left: 0.40h\n",
      "  Agent    Prior   Target   Score             SMILES\n",
      "   0.00     c1cc(C=NNC(C[n+]2ccc(C)cc2)=O)scc1C\n",
      "   0.00     C(c1ccc2c(c1)CC2(O)c1ccc(Cl)cc1)(=O)N(C)C\n",
      "   0.55     O=S(c1ccc(N)cc1)(=O)NC(C(C)C)C(O)=O\n",
      "   0.00     c1c2sc(NC(=O)c3ccc(S(=O)(=O)C)cc3)cn2nc1C\n",
      "   0.00     C(O)(C)(C)Cc1ccc(CNc2ccc(C(F)(F)F)cc2)cc1\n",
      "   0.00     OC(C)(C)Cc1ccc(CNCc2cc3c(cc2)OCO3)cc1\n",
      "   0.00     c1(-c2ccn(C)c2)cccc2c1C(C)(C)CC2(C)C\n",
      "   0.00     c1(Nc2cc(C)nc(C)n2)cccc1C(=O)Nc1ccc(C(C)(C)C)cc1\n",
      "   0.00     c1c2oc(=O)c(Cc3cn(CCO)nc3)cc2ccc1\n",
      "   0.00     c1c2c(cc(C=NNC(c3coc(C)n3)=O)c1)cc1ccc([N+]([O-])=O)cc1c2\n"
     ]
    },
    {
     "name": "stderr",
     "output_type": "stream",
     "text": [
      "/site/rp/work/projects/DD/Jupyter/notebooks/Maxime/scaffold-constrained-generation/model.py:99: UserWarning: Implicit dimension choice for softmax has been deprecated. Change the call to include dim=X as an argument.\n",
      "  prob = F.softmax(logits)\n",
      "/site/rp/work/projects/DD/Jupyter/notebooks/Maxime/scaffold-constrained-generation/model.py:100: UserWarning: Implicit dimension choice for log_softmax has been deprecated. Change the call to include dim=X as an argument.\n",
      "  log_prob = F.log_softmax(logits)\n"
     ]
    },
    {
     "name": "stdout",
     "output_type": "stream",
     "text": [
      "\n",
      "Best score in memory: 0.55\n"
     ]
    },
    {
     "name": "stderr",
     "output_type": "stream",
     "text": [
      "/site/rp/work/projects/DD/Jupyter/notebooks/Maxime/scaffold-constrained-generation/model.py:65: UserWarning: Implicit dimension choice for log_softmax has been deprecated. Change the call to include dim=X as an argument.\n",
      "  log_prob = F.log_softmax(logits)\n",
      "/site/rp/work/projects/DD/Jupyter/notebooks/Maxime/scaffold-constrained-generation/model.py:66: UserWarning: Implicit dimension choice for softmax has been deprecated. Change the call to include dim=X as an argument.\n",
      "  prob = F.softmax(logits)\n"
     ]
    },
    {
     "name": "stdout",
     "output_type": "stream",
     "text": [
      "\n",
      "       Step 5   Fraction valid SMILES: 70.4  Time elapsed: 0.38h Time left: 0.32h\n",
      "  Agent    Prior   Target   Score             SMILES\n",
      "   0.00     c1cc2c(cc1CCC(C)(C)C)cccc2\n",
      "   0.00     c1cc2nc(SCCN(C)C)sc2cc1\n",
      "   0.54     O=S(c1ccc(N)cc1)(=O)NC(C(=O)OC)CC(C)C\n",
      "   0.54     O=S(c1ccc(N)cc1)(=O)NC(C)C(O)=O\n",
      "   0.00     c12c(ccc(C(=O)Nc3ccc(C#N)c(C)c3)c1)cc2\n",
      "   0.00     C(c1ccc(-c2nc3ccc(C(F)(F)F)cc3c2)cc1)C#N\n",
      "   0.00     c1c2no[n+]([O-])c2ccc1C(NC(C)=O)c1ccc(cc1)C(=O)NCCC(F)(C)F\n",
      "   0.00     N#Cc1c(SCCN(C)C)cccc1C(C)=O\n",
      "   0.00     CC(c1ccc(CC2C(OCCNC(C)C)Cc3c2cccc3)cc1)C#N\n",
      "   0.00     N#Cc1ccc(C(C)NC(=O)c2noc(C)c2)cc1\n"
     ]
    },
    {
     "name": "stderr",
     "output_type": "stream",
     "text": [
      "/site/rp/work/projects/DD/Jupyter/notebooks/Maxime/scaffold-constrained-generation/model.py:99: UserWarning: Implicit dimension choice for softmax has been deprecated. Change the call to include dim=X as an argument.\n",
      "  prob = F.softmax(logits)\n",
      "/site/rp/work/projects/DD/Jupyter/notebooks/Maxime/scaffold-constrained-generation/model.py:100: UserWarning: Implicit dimension choice for log_softmax has been deprecated. Change the call to include dim=X as an argument.\n",
      "  log_prob = F.log_softmax(logits)\n"
     ]
    },
    {
     "name": "stdout",
     "output_type": "stream",
     "text": [
      "\n",
      "Best score in memory: 0.56\n"
     ]
    },
    {
     "name": "stderr",
     "output_type": "stream",
     "text": [
      "/site/rp/work/projects/DD/Jupyter/notebooks/Maxime/scaffold-constrained-generation/model.py:65: UserWarning: Implicit dimension choice for log_softmax has been deprecated. Change the call to include dim=X as an argument.\n",
      "  log_prob = F.log_softmax(logits)\n",
      "/site/rp/work/projects/DD/Jupyter/notebooks/Maxime/scaffold-constrained-generation/model.py:66: UserWarning: Implicit dimension choice for softmax has been deprecated. Change the call to include dim=X as an argument.\n",
      "  prob = F.softmax(logits)\n"
     ]
    },
    {
     "name": "stdout",
     "output_type": "stream",
     "text": [
      "\n",
      "       Step 6   Fraction valid SMILES: 59.8  Time elapsed: 0.45h Time left: 0.26h\n",
      "  Agent    Prior   Target   Score             SMILES\n",
      "   0.00     c12c(c(CNCCC(F)(F)F)ccc1)ccc([N+]([O-])=O)c2\n",
      "   0.00     N#Cc1ccc(C(C)NC(=O)C(C)Oc2ccc(cc2)C#N\n",
      "   0.00     c1(=O)c(CCn2nnc(C(C)O)c2)cccc1\n",
      "   0.00     N#Cc1ccc(C(C)OC(C)C)cc1C(=O)Nc1ccc(OC(F)F)cc1\n",
      "   0.00     N#Cc1ccc(C(C)=O)cc1C(=O)Nc1ccc(OC(F)F)cc1\n",
      "   0.00     Cc1cc2c(cc1CCC(C)(C)C)cccc2\n",
      "   0.00     c1(C=NNC(C[n+]2ccc(C)cc2)=O)scccc1C\n",
      "   0.00     c1c(C#N)c(OC2CN(Cc3ccccc3)C2)ccc1Cl\n",
      "   0.00     Cn1c(SCCN(C)C)scc1C\n",
      "   0.00     N#Cc1c(C#N)c(OC2CCN(C(OC)=O)CC2)ccc1C#N\n"
     ]
    },
    {
     "name": "stderr",
     "output_type": "stream",
     "text": [
      "/site/rp/work/projects/DD/Jupyter/notebooks/Maxime/scaffold-constrained-generation/model.py:99: UserWarning: Implicit dimension choice for softmax has been deprecated. Change the call to include dim=X as an argument.\n",
      "  prob = F.softmax(logits)\n",
      "/site/rp/work/projects/DD/Jupyter/notebooks/Maxime/scaffold-constrained-generation/model.py:100: UserWarning: Implicit dimension choice for log_softmax has been deprecated. Change the call to include dim=X as an argument.\n",
      "  log_prob = F.log_softmax(logits)\n"
     ]
    },
    {
     "name": "stdout",
     "output_type": "stream",
     "text": [
      "\n",
      "Best score in memory: 0.56\n"
     ]
    },
    {
     "name": "stderr",
     "output_type": "stream",
     "text": [
      "/site/rp/work/projects/DD/Jupyter/notebooks/Maxime/scaffold-constrained-generation/model.py:65: UserWarning: Implicit dimension choice for log_softmax has been deprecated. Change the call to include dim=X as an argument.\n",
      "  log_prob = F.log_softmax(logits)\n",
      "/site/rp/work/projects/DD/Jupyter/notebooks/Maxime/scaffold-constrained-generation/model.py:66: UserWarning: Implicit dimension choice for softmax has been deprecated. Change the call to include dim=X as an argument.\n",
      "  prob = F.softmax(logits)\n"
     ]
    },
    {
     "name": "stdout",
     "output_type": "stream",
     "text": [
      "\n",
      "       Step 7   Fraction valid SMILES: 61.7  Time elapsed: 0.51h Time left: 0.19h\n",
      "  Agent    Prior   Target   Score             SMILES\n",
      "   0.54     O=S(c1ccc(N)cc1)(=O)NC(C(=O)C)C(O)=O\n",
      "   0.00     N#Cc1c(C#N)c(OC2CCN(C(O)=O)c3c2)cccc1C(=O)NCCC(F)(C)F\n",
      "   0.55     O=S(c1ccc(N)cc1)(=O)NC(C(=O)O)CC(C)C\n",
      "   0.00     O=c1cc(CCC)c(C)n(C)c1CC(C)(C)C\n",
      "   0.00     C1(c2c(OC(C)C)cccc2)CCC2(C1)N=C1NC(=O)C(C)=CC2(C)Cc1ccccc1\n",
      "   0.00     O=S(c1ccc(N)cc1)(=O)NC(C(NC(C)C)C(O)=O)=O\n",
      "   0.00     N#Cc1cc2c(c(OC)c1)ccc(C(F)(F)F)c2\n",
      "   0.00     FC(C1(c2c(OC(C)C)cccc2)CCC2(C1)N=C1NC(=O)C(C)=CC2(C)Cc1ccccc1)(=O)NCCC(F)(C)F\n",
      "   0.54     O=S(c1ccc(N)cc1)(=O)NC(C(=O)OC)CC(O)=O\n",
      "   0.54     O=S(c1ccc(N)cc1)(=O)NC(C(=O)OC)CC(C)NCC(O)=O\n"
     ]
    },
    {
     "name": "stderr",
     "output_type": "stream",
     "text": [
      "/site/rp/work/projects/DD/Jupyter/notebooks/Maxime/scaffold-constrained-generation/model.py:99: UserWarning: Implicit dimension choice for softmax has been deprecated. Change the call to include dim=X as an argument.\n",
      "  prob = F.softmax(logits)\n",
      "/site/rp/work/projects/DD/Jupyter/notebooks/Maxime/scaffold-constrained-generation/model.py:100: UserWarning: Implicit dimension choice for log_softmax has been deprecated. Change the call to include dim=X as an argument.\n",
      "  log_prob = F.log_softmax(logits)\n"
     ]
    },
    {
     "name": "stdout",
     "output_type": "stream",
     "text": [
      "\n",
      "Best score in memory: 0.58\n"
     ]
    },
    {
     "name": "stderr",
     "output_type": "stream",
     "text": [
      "/site/rp/work/projects/DD/Jupyter/notebooks/Maxime/scaffold-constrained-generation/model.py:65: UserWarning: Implicit dimension choice for log_softmax has been deprecated. Change the call to include dim=X as an argument.\n",
      "  log_prob = F.log_softmax(logits)\n",
      "/site/rp/work/projects/DD/Jupyter/notebooks/Maxime/scaffold-constrained-generation/model.py:66: UserWarning: Implicit dimension choice for softmax has been deprecated. Change the call to include dim=X as an argument.\n",
      "  prob = F.softmax(logits)\n"
     ]
    },
    {
     "name": "stdout",
     "output_type": "stream",
     "text": [
      "\n",
      "       Step 8   Fraction valid SMILES: 71.4  Time elapsed: 0.56h Time left: 0.12h\n",
      "  Agent    Prior   Target   Score             SMILES\n",
      "   0.55     O=S(c1ccc(N)cc1)(=O)NC(C(=O)O)C(C)C\n",
      "   0.00     O=S(C)(=O)c1ccc(CNC(c2ccc(-c3noc(C)n3)cc2)=O)cc1\n",
      "   0.00     [O-][N+](=O)c1nc2n(C)ccc2c1C(=O)NCCC(F)(C)C\n",
      "   0.54     O=S(c1ccc(N)cc1)(=O)NC(C(=O)O)=CC(C)C\n",
      "   0.55     O=S(c1ccc(N)cc1)(=O)NC(C(=O)O)C(O)=O\n",
      "   0.00     O=S(=O)(c1ccc(N)cc1)(C)[O-]\n",
      "   0.00     [O-][N+](=O)c1nc2n(c1)CC(C)OC2\n",
      "   0.00     O=S(c1ccc(N)cc1)(C)=O\n",
      "   0.55     O=S(c1ccc(N)cc1)(=O)NC(C(C)C)C(OC)=O\n",
      "   0.55     O=S(c1ccc(N)cc1)(=O)NC(C([N+])=O)C(O)=O\n"
     ]
    },
    {
     "name": "stderr",
     "output_type": "stream",
     "text": [
      "/site/rp/work/projects/DD/Jupyter/notebooks/Maxime/scaffold-constrained-generation/model.py:99: UserWarning: Implicit dimension choice for softmax has been deprecated. Change the call to include dim=X as an argument.\n",
      "  prob = F.softmax(logits)\n",
      "/site/rp/work/projects/DD/Jupyter/notebooks/Maxime/scaffold-constrained-generation/model.py:100: UserWarning: Implicit dimension choice for log_softmax has been deprecated. Change the call to include dim=X as an argument.\n",
      "  log_prob = F.log_softmax(logits)\n"
     ]
    },
    {
     "name": "stdout",
     "output_type": "stream",
     "text": [
      "\n",
      "Best score in memory: 0.67\n"
     ]
    },
    {
     "name": "stderr",
     "output_type": "stream",
     "text": [
      "/site/rp/work/projects/DD/Jupyter/notebooks/Maxime/scaffold-constrained-generation/model.py:65: UserWarning: Implicit dimension choice for log_softmax has been deprecated. Change the call to include dim=X as an argument.\n",
      "  log_prob = F.log_softmax(logits)\n",
      "/site/rp/work/projects/DD/Jupyter/notebooks/Maxime/scaffold-constrained-generation/model.py:66: UserWarning: Implicit dimension choice for softmax has been deprecated. Change the call to include dim=X as an argument.\n",
      "  prob = F.softmax(logits)\n"
     ]
    },
    {
     "name": "stdout",
     "output_type": "stream",
     "text": [
      "\n",
      "       Step 9   Fraction valid SMILES: 92.2  Time elapsed: 0.61h Time left: 0.06h\n",
      "  Agent    Prior   Target   Score             SMILES\n",
      "   0.54     O=S(c1ccc(N)cc1)(=O)NC(C(=O)O)CC(C)NCC(O)=O\n",
      "   0.55     O=S(c1ccc(N)cc1)(=O)NC(C(=O)O)CC(C)N\n",
      "   0.54     O=S(c1ccc(N)cc1)(=O)NC(C(=O)C)C(O)=O\n",
      "   0.00     O=S(C)(=O)c1ccc(CNC(c2ccc(-c3noc(C)n3)cc2)=O)cc1\n",
      "   0.55     O=S(c1ccc(N)cc1)(=O)NC(C(C)C)C(OC)=O\n",
      "   0.00     O=S(c1ccc(N)cc1)(=O)Nc1ccc(OC(F)F)cc1\n",
      "   0.55     O=S(c1ccc(N)cc1)(=O)NC(C(C)C)C(=O)OC\n",
      "   0.54     O=S(c1ccc(N)cc1)(=O)NC(C(=O)OC)CC(C)C\n",
      "   0.00     O=S(c1ccc(N)cc1)(=O)NC(C(=O)CCCC(=O)O)=O\n",
      "   0.54     O=S(c1ccc(N)cc1)(=O)NC(C)C(O)=O\n",
      "\n",
      "********************************************************************************\n",
      "\n",
      "         Best recorded SMILES: \n",
      "\n",
      "Score     Prior log P     SMILES\n",
      "\n",
      "0.67   -11.43        O=S(c1ccc(N)cc1)(=O)NC(C(=O)O)CC(C)N=C\n",
      "0.58    -7.06        O=S(c1ccc(N)cc1)(=O)NC(C(=O)CCC)C(O)=O\n",
      "0.58    -6.26        O=S(c1ccc(N)cc1)(=O)NC(C(=O)O)CC(C)CC\n",
      "0.57    -7.81        O=S(c1ccc(N)cc1)(=O)NC(C(=O)CCCC(=O)OCC)C(=O)OC\n",
      "0.57    -9.43        O=S(c1ccc(N)cc1)(=O)NC(C(=O)CCCC(=O)OCC)C([O-])=O\n",
      "0.57    -7.47        O=S(c1ccc(N)cc1)(=O)NC(C(=O)O)CC(F)(C)C\n",
      "0.56   -10.75        O=S(c1ccc(N)cc1)(=O)NC(C([O-])=O)C(O)=O\n",
      "0.56   -22.69        O=S(c1ccc(N)cc1)(=O)NC(C(=O)N1CC(C)CCC1C)C(O)=O\n",
      "0.56   -10.28        O=S(c1ccc(N)cc1)(=O)NC(C(=O)O)CC(F)\n",
      "0.56    -7.70        O=S(c1ccc(N)cc1)(=O)NC(C(O)=O)=CC(O)=O\n",
      "0.56   -14.49        O=S(c1ccc(N)cc1)(=O)NC(C(C)C)C(OC=C)=O\n",
      "0.56    -9.06        O=S(c1ccc(N)cc1)(=O)NC(C(=O)O)CCC(F)(C)C\n",
      "0.56   -11.25        O=S(c1ccc(N)cc1)(=O)NC(C(=O)O)=O\n",
      "0.56   -13.57        O=S(c1ccc(N)cc1)(=O)NC(C(=O)CCCC(F)(C)C)C(O)=O\n",
      "0.55    -7.03        O=S(c1ccc(N)cc1)(=O)NC(C(=O)CCCC([O-])=O)C(O)=O\n",
      "0.55    -7.33        O=S(c1ccc(N)cc1)(=O)NC(C(=O)CCCC(=O)OC)C(O)=O\n",
      "0.55   -15.80        O=S(c1ccc(N)cc1)(=O)NC(C(=O)O)CC(C)C\n",
      "0.55   -11.02        O=S(c1ccc(N)cc1)(=O)NC(C(=O)OC)CC(F)CCC(O)=O\n",
      "0.55   -10.34        O=S(c1ccc(N)cc1)(=O)NC(C(C)C)C(O)=O\n",
      "0.55    -8.27        O=S(c1ccc(N)cc1)(=O)NC(C(=O)O)C(C)C\n",
      "0.55    -7.71        O=S(c1ccc(N)cc1)(=O)NC(C(=O)CCCC(O)=O)C(O)=O\n",
      "0.55    -6.26        O=S(c1ccc(N)cc1)(=O)NC(C(=O)CCCC(=O)O)C(O)=O\n",
      "0.55    -7.38        O=S(c1ccc(N)cc1)(=O)NC(C(=O)OC)CC\n",
      "0.55   -12.51        O=S(c1ccc(N)cc1)(=O)NC(C(Cl)=O)(C)C(O)=O\n",
      "0.55    -9.80        O=S(c1ccc(N)cc1)(=O)NC(C(C)C)C(=O)OC\n",
      "0.55    -9.73        O=S(c1ccc(N)cc1)(=O)NC(C(C)C)C(OC)=O\n",
      "0.55    -9.14        O=S(c1ccc(N)cc1)(=O)NC(C(=O)O)CC(C)N\n",
      "0.55   -10.79        O=S(c1ccc(N)cc1)(=O)NC(C(=O)N)C(O)=O\n",
      "0.55    -7.37        O=S(c1ccc(N)cc1)(=O)NC(C(N)=O)C(O)=O\n",
      "0.55   -12.94        O=S(c1ccc(N)cc1)(=O)NC(C([N+])=O)C(O)=O\n",
      "0.55    -5.87        O=S(c1ccc(N)cc1)(=O)NC(C(F)(C)C)C(O)=O\n",
      "0.55    -8.89        O=S(c1ccc(N)cc1)(=O)NC(C(=O)CCCC(=O)OCC)C(O)=O\n",
      "0.55    -8.14        O=S(c1ccc(N)cc1)(=O)NC(CCC(O)=O)C(O)=O\n",
      "0.55    -7.02        O=S(c1ccc(N)cc1)(=O)NC(C(=O)OCC)C(O)=O\n",
      "0.55   -12.03        O=S(c1ccc(N)cc1)(=O)NC(C(=O)O)CC([O-])CC(O)=O\n",
      "0.55   -10.23        O=S(c1ccc(N)cc1)(=O)NC(C(O)=O)C(O)=O\n",
      "0.55    -6.82        O=S(c1ccc(N)cc1)(=O)NC(C(=O)O)C(O)=O\n",
      "0.55    -9.80        O=S(c1ccc(N)cc1)(=O)NC(C(=O)OC)CC(C)CC\n",
      "0.55    -8.64        O=S(c1ccc(N)cc1)(=O)NC(C(Br)=O)C(O)=O\n",
      "0.55   -10.58        O=S(c1ccc(N)cc1)(=O)NC(C(O)=CC(O)=O)C(O)=O\n",
      "0.55    -7.55        O=S(c1ccc(N)cc1)(=O)NC(C(F)(C)C)C(=O)OC\n",
      "0.55    -9.99        O=S(c1ccc(N)cc1)(=O)NC(C(Cl)=O)C(O)=O\n",
      "0.55    -8.27        O=S(c1ccc(N)cc1)(=O)NC(C(S)=O)C(O)=O\n",
      "0.55    -9.61        O=S(c1ccc(N)cc1)(=O)NC(C(F)(C)C)C([O-])=O\n",
      "0.55    -8.78        O=S(c1ccc(N)cc1)(=O)NC(C(=O)O)CC(Br)CC(O)=O\n",
      "0.55    -8.93        O=S(c1ccc(N)cc1)(=O)NC(C(=O)Cl)C(O)=O\n",
      "0.54    -6.32        O=S(c1ccc(N)cc1)(=O)NC(C(=O)O)CC(O)=O\n",
      "0.54    -5.64        O=S(c1ccc(N)cc1)(=O)NC(C(=O)O)CC(C)NCC\n",
      "0.54    -6.59        O=S(c1ccc(N)cc1)(=O)NC(C(=O)O)CC(C)NCC(O)=O\n",
      "0.54    -6.25        O=S(c1ccc(N)cc1)(=O)NC(C([O-])=O)(C)C\n",
      "\n",
      "********************************************************************************\n",
      "\n",
      "Model initialized, starting training...\n"
     ]
    },
    {
     "name": "stderr",
     "output_type": "stream",
     "text": [
      "/site/rp/work/projects/DD/Jupyter/notebooks/Maxime/scaffold-constrained-generation/model.py:99: UserWarning: Implicit dimension choice for softmax has been deprecated. Change the call to include dim=X as an argument.\n",
      "  prob = F.softmax(logits)\n",
      "/site/rp/work/projects/DD/Jupyter/notebooks/Maxime/scaffold-constrained-generation/model.py:100: UserWarning: Implicit dimension choice for log_softmax has been deprecated. Change the call to include dim=X as an argument.\n",
      "  log_prob = F.log_softmax(logits)\n"
     ]
    },
    {
     "name": "stdout",
     "output_type": "stream",
     "text": [
      "\n",
      "Best score in memory: 0.59\n"
     ]
    },
    {
     "name": "stderr",
     "output_type": "stream",
     "text": [
      "/site/rp/work/projects/DD/Jupyter/notebooks/Maxime/scaffold-constrained-generation/model.py:65: UserWarning: Implicit dimension choice for log_softmax has been deprecated. Change the call to include dim=X as an argument.\n",
      "  log_prob = F.log_softmax(logits)\n",
      "/site/rp/work/projects/DD/Jupyter/notebooks/Maxime/scaffold-constrained-generation/model.py:66: UserWarning: Implicit dimension choice for softmax has been deprecated. Change the call to include dim=X as an argument.\n",
      "  prob = F.softmax(logits)\n"
     ]
    },
    {
     "name": "stdout",
     "output_type": "stream",
     "text": [
      "\n",
      "       Step 0   Fraction valid SMILES: 94.2  Time elapsed: 0.08h Time left: 0.77h\n",
      "  Agent    Prior   Target   Score             SMILES\n",
      "   0.00     C(COC)N1C(=O)c2[nH]c3ccccc3c2CCC1\n",
      "   0.00     N(C(c1cc2c(c(C)cc(Nc3nsc(Cl)c3)n2)c(C)c1)=O)CCCN1CCOCC1\n",
      "   0.00     O=S(CCNC(=O)C=Cc1ccccc1)(=O)N(c1ccccc1)C1CCS(=O)(=O)C1\n",
      "   0.00     C1CC2(CCN1c1ncc(-c3ccnn3C)cc1)CN(C(CO)=O)C2c1ccccc1\n",
      "   0.00     O=c1c(Oc2ccc(C=O)c(O)c2)coc2c1cc(OCc1ccccc1)cc2O\n",
      "   0.00     C1CN(c2occ(-c3ccc(Cl)cc3)n2)CCN1C\n",
      "   0.00     CC(C)(C)NS(=O)(=O)c1cccc(F)c1\n",
      "   0.00     c1(F)ccc(CNC(c2cc(C(F)(F)F)nn2-c2ccc(F)cc2F)=O)cc1\n",
      "   0.00     O(CC1CCN(Cc2ccccc2)CC1)c1ccc(NCc2[nH]cnc2)cc1\n",
      "   0.00     O1COc2cc(CNc3nc(-c4n5c(cccc5)nc4C)nc(N4CCC(n5c6c(cccc6)N(C)C5=O)CC4)cc3)nc2N1C\n"
     ]
    },
    {
     "name": "stderr",
     "output_type": "stream",
     "text": [
      "/site/rp/work/projects/DD/Jupyter/notebooks/Maxime/scaffold-constrained-generation/model.py:99: UserWarning: Implicit dimension choice for softmax has been deprecated. Change the call to include dim=X as an argument.\n",
      "  prob = F.softmax(logits)\n",
      "/site/rp/work/projects/DD/Jupyter/notebooks/Maxime/scaffold-constrained-generation/model.py:100: UserWarning: Implicit dimension choice for log_softmax has been deprecated. Change the call to include dim=X as an argument.\n",
      "  log_prob = F.log_softmax(logits)\n"
     ]
    },
    {
     "name": "stdout",
     "output_type": "stream",
     "text": [
      "\n",
      "Best score in memory: 0.67\n"
     ]
    },
    {
     "name": "stderr",
     "output_type": "stream",
     "text": [
      "/site/rp/work/projects/DD/Jupyter/notebooks/Maxime/scaffold-constrained-generation/model.py:65: UserWarning: Implicit dimension choice for log_softmax has been deprecated. Change the call to include dim=X as an argument.\n",
      "  log_prob = F.log_softmax(logits)\n",
      "/site/rp/work/projects/DD/Jupyter/notebooks/Maxime/scaffold-constrained-generation/model.py:66: UserWarning: Implicit dimension choice for softmax has been deprecated. Change the call to include dim=X as an argument.\n",
      "  prob = F.softmax(logits)\n"
     ]
    },
    {
     "name": "stdout",
     "output_type": "stream",
     "text": [
      "\n",
      "       Step 1   Fraction valid SMILES: 83.8  Time elapsed: 0.14h Time left: 0.62h\n",
      "  Agent    Prior   Target   Score             SMILES\n",
      "   0.00     C1C(C#Cc2ccc(C(C)(C)O)cc2)c2ccc(C(C)(C)O)cc2CC1\n",
      "   0.00     c1c(F)c(-c2c[nH]c(C3CCCN(C(NC)=NC(C)C)C3)n2)ccc1\n",
      "   0.00     c1ncc(S(c2cc([N+]([O-])=O)ccc2)(=O)=O)c(C(F)(F)F)c1\n",
      "   0.00     c12c3oc(CCSc4n(C)cnn4)c(=O)nc3n(C)c1cccc2\n",
      "   0.00     N1(C)C(C(=O)NCc2ccc(Cl)cc2)CSC1\n",
      "   0.00     c1c(C(Cn2cncn2)(Cn2ccnc2)O)ccc(Cl)c1\n",
      "   0.00     c1(-c2ccccc2)c(O)nc(C(c2ccc(Cl)cc2)n2cccc2)cc1\n",
      "   0.00     c1c(OCc2c(-c3cc(C)ncc3)nc(-c3ccc(C)cc3)nc2OC)cccc1C(=O)O\n",
      "   0.00     O(c1c2c(ccc1)sc(-c1ccnn1C)c2)C(=O)CC\n",
      "   0.00     c1c(S(=O)(NC(C(=O)O)C)c2ccc(C)cc2)ccc(C)c1\n"
     ]
    },
    {
     "name": "stderr",
     "output_type": "stream",
     "text": [
      "/site/rp/work/projects/DD/Jupyter/notebooks/Maxime/scaffold-constrained-generation/model.py:99: UserWarning: Implicit dimension choice for softmax has been deprecated. Change the call to include dim=X as an argument.\n",
      "  prob = F.softmax(logits)\n",
      "/site/rp/work/projects/DD/Jupyter/notebooks/Maxime/scaffold-constrained-generation/model.py:100: UserWarning: Implicit dimension choice for log_softmax has been deprecated. Change the call to include dim=X as an argument.\n",
      "  log_prob = F.log_softmax(logits)\n"
     ]
    },
    {
     "name": "stdout",
     "output_type": "stream",
     "text": [
      "\n",
      "Best score in memory: 0.67\n"
     ]
    },
    {
     "name": "stderr",
     "output_type": "stream",
     "text": [
      "/site/rp/work/projects/DD/Jupyter/notebooks/Maxime/scaffold-constrained-generation/model.py:65: UserWarning: Implicit dimension choice for log_softmax has been deprecated. Change the call to include dim=X as an argument.\n",
      "  log_prob = F.log_softmax(logits)\n",
      "/site/rp/work/projects/DD/Jupyter/notebooks/Maxime/scaffold-constrained-generation/model.py:66: UserWarning: Implicit dimension choice for softmax has been deprecated. Change the call to include dim=X as an argument.\n",
      "  prob = F.softmax(logits)\n"
     ]
    },
    {
     "name": "stdout",
     "output_type": "stream",
     "text": [
      "\n",
      "       Step 2   Fraction valid SMILES: 77.5  Time elapsed: 0.20h Time left: 0.54h\n",
      "  Agent    Prior   Target   Score             SMILES\n",
      "   0.00     c1c(-c2ccc(O)cc2)ccc(C)c1\n",
      "   0.00     c12c3cc(-c4ccc(C(F)(F)F)nc4)cc(c(=O)c1CCCNCc1ccc(Cl)cc1)c(N)cc2nc3\n",
      "   0.00     N(N=C1c2ccccc2C(=O)OCC1)C(Cc1ccccc1)=O\n",
      "   0.00     c12c3c([nH]c1cccc2)C(CC(c1ccc(F)cc1)NC(c1ccccc1)=O)c1c(c(C)cc(O)c1)C3=O\n",
      "   0.00     Nc1nc(NCC)nc2c1c(=O)n1c(ncc1-2)C(C)(C)CC\n",
      "   0.00     c1(C=NC(CSS)N)ccccc1\n",
      "   0.00     c1(OC)c(OC)cc(CNCCCNc2nc(C)cc(C)n2)c1\n",
      "   0.00     C(C(O)=O)NNS(=O)(=O)c1ccccc1\n",
      "   0.00     C(c1ccc(F)cc1)Nc1nc(NC)nc(-c2ccc(C#N)nc2)n1\n",
      "   0.00     c12c3c([nH]c1cccc2)C(C(=O)OC)c1c3cccc1\n"
     ]
    },
    {
     "name": "stderr",
     "output_type": "stream",
     "text": [
      "/site/rp/work/projects/DD/Jupyter/notebooks/Maxime/scaffold-constrained-generation/model.py:99: UserWarning: Implicit dimension choice for softmax has been deprecated. Change the call to include dim=X as an argument.\n",
      "  prob = F.softmax(logits)\n",
      "/site/rp/work/projects/DD/Jupyter/notebooks/Maxime/scaffold-constrained-generation/model.py:100: UserWarning: Implicit dimension choice for log_softmax has been deprecated. Change the call to include dim=X as an argument.\n",
      "  log_prob = F.log_softmax(logits)\n"
     ]
    },
    {
     "name": "stdout",
     "output_type": "stream",
     "text": [
      "\n",
      "Best score in memory: 0.71\n"
     ]
    },
    {
     "name": "stderr",
     "output_type": "stream",
     "text": [
      "/site/rp/work/projects/DD/Jupyter/notebooks/Maxime/scaffold-constrained-generation/model.py:65: UserWarning: Implicit dimension choice for log_softmax has been deprecated. Change the call to include dim=X as an argument.\n",
      "  log_prob = F.log_softmax(logits)\n",
      "/site/rp/work/projects/DD/Jupyter/notebooks/Maxime/scaffold-constrained-generation/model.py:66: UserWarning: Implicit dimension choice for softmax has been deprecated. Change the call to include dim=X as an argument.\n",
      "  prob = F.softmax(logits)\n"
     ]
    },
    {
     "name": "stdout",
     "output_type": "stream",
     "text": [
      "\n",
      "       Step 3   Fraction valid SMILES: 73.2  Time elapsed: 0.27h Time left: 0.48h\n",
      "  Agent    Prior   Target   Score             SMILES\n",
      "   0.00     c1(C(NC(C(O)=O)C)=O)cccc1\n",
      "   0.55     Fc1ccc(S(=O)(NC(C(=O)OC)CC(=O)O)=O)cc1\n",
      "   0.00     C(c1ccc(Cl)cc1)NS(=O)(=O)Cc1nc(-c2ccccc2)ccc1C\n",
      "   0.00     O=S(Cc1ccccc1)(c1ccc(Cl)cc1)N(c1nc(-c2ccc(C(C)(O)C)cc2)ccn1)C(F)(F)F\n",
      "   0.00     N(CC(Cc1ccccc1)N(C(=O)C)C)c1c2ccccc2ncc1\n",
      "   0.00     c1cc(Sc2ccc(OCC[N+](CC)(CC)CC)cc2)ccc1Cl\n",
      "   0.00     C(c1ccc(OC)c(OC)c1OC)(c1ccc([N+]([O-])=O)cc1)NS(c1ccc(Cl)cc1)(=O)=O\n",
      "   0.00     N(C(C(=O)OC)CC1=NNC(C(F)(F)F)NC1=O)C(C)=O\n",
      "   0.00     c1(Sc2ccc(Cl)cc2)csc(C)c1\n",
      "   0.00     c1(SCC2=NCCN2)ccccc1\n"
     ]
    },
    {
     "name": "stderr",
     "output_type": "stream",
     "text": [
      "/site/rp/work/projects/DD/Jupyter/notebooks/Maxime/scaffold-constrained-generation/model.py:99: UserWarning: Implicit dimension choice for softmax has been deprecated. Change the call to include dim=X as an argument.\n",
      "  prob = F.softmax(logits)\n",
      "/site/rp/work/projects/DD/Jupyter/notebooks/Maxime/scaffold-constrained-generation/model.py:100: UserWarning: Implicit dimension choice for log_softmax has been deprecated. Change the call to include dim=X as an argument.\n",
      "  log_prob = F.log_softmax(logits)\n"
     ]
    },
    {
     "name": "stdout",
     "output_type": "stream",
     "text": [
      "\n",
      "Best score in memory: 0.71\n"
     ]
    },
    {
     "name": "stderr",
     "output_type": "stream",
     "text": [
      "/site/rp/work/projects/DD/Jupyter/notebooks/Maxime/scaffold-constrained-generation/model.py:65: UserWarning: Implicit dimension choice for log_softmax has been deprecated. Change the call to include dim=X as an argument.\n",
      "  log_prob = F.log_softmax(logits)\n",
      "/site/rp/work/projects/DD/Jupyter/notebooks/Maxime/scaffold-constrained-generation/model.py:66: UserWarning: Implicit dimension choice for softmax has been deprecated. Change the call to include dim=X as an argument.\n",
      "  prob = F.softmax(logits)\n"
     ]
    },
    {
     "name": "stdout",
     "output_type": "stream",
     "text": [
      "\n",
      "       Step 4   Fraction valid SMILES: 81.2  Time elapsed: 0.34h Time left: 0.41h\n",
      "  Agent    Prior   Target   Score             SMILES\n",
      "   0.00     Fc1ccc(S(=O)(N2C(C([O-])=O)CC(OC)C2)(=O)=O)cc1\n",
      "   0.57     Fc1ccc(S(=O)(=O)NC(C(=O)OC)CC(Br)=O)cc1\n",
      "   0.67     c1(S(N2C(C(=O)OCC)CC(OC)CC2)(=O)=O)ccccc1\n",
      "   0.66     c1cc(S(=O)(N2C(C(=O)OCC)CC(OC)CC2)=O)ccc1C\n",
      "   0.54     Fc1ccc(S(=O)(NC(C(O)=O)C)=O)cc1\n",
      "   0.66     c1(S(=O)(N2C(C(=O)OC)CC(OC)CC2)=O)ccc(C)cc1\n",
      "   0.53     c1cc(S(=O)(NC(C(O)=O)C)=O)ccc1C\n",
      "   0.00     N(c1ccncc1)c1cccnc1\n",
      "   0.56     Fc1ccc(S(=O)(NC(C(=O)O)CC=O)=O)cc1\n",
      "   0.00     Fc1ccc(SCc2c(C(F)(F)F)nc(-c3ccccc3)cc2)cc1\n"
     ]
    },
    {
     "name": "stderr",
     "output_type": "stream",
     "text": [
      "/site/rp/work/projects/DD/Jupyter/notebooks/Maxime/scaffold-constrained-generation/model.py:99: UserWarning: Implicit dimension choice for softmax has been deprecated. Change the call to include dim=X as an argument.\n",
      "  prob = F.softmax(logits)\n",
      "/site/rp/work/projects/DD/Jupyter/notebooks/Maxime/scaffold-constrained-generation/model.py:100: UserWarning: Implicit dimension choice for log_softmax has been deprecated. Change the call to include dim=X as an argument.\n",
      "  log_prob = F.log_softmax(logits)\n"
     ]
    },
    {
     "name": "stdout",
     "output_type": "stream",
     "text": [
      "\n",
      "Best score in memory: 0.73\n"
     ]
    },
    {
     "name": "stderr",
     "output_type": "stream",
     "text": [
      "/site/rp/work/projects/DD/Jupyter/notebooks/Maxime/scaffold-constrained-generation/model.py:65: UserWarning: Implicit dimension choice for log_softmax has been deprecated. Change the call to include dim=X as an argument.\n",
      "  log_prob = F.log_softmax(logits)\n",
      "/site/rp/work/projects/DD/Jupyter/notebooks/Maxime/scaffold-constrained-generation/model.py:66: UserWarning: Implicit dimension choice for softmax has been deprecated. Change the call to include dim=X as an argument.\n",
      "  prob = F.softmax(logits)\n"
     ]
    },
    {
     "name": "stdout",
     "output_type": "stream",
     "text": [
      "\n",
      "       Step 5   Fraction valid SMILES: 91.4  Time elapsed: 0.42h Time left: 0.35h\n",
      "  Agent    Prior   Target   Score             SMILES\n",
      "   0.55     Fc1ccc(S(=O)(=O)NC(C(=O)OC)CC([O-])=O)cc1\n",
      "   0.59     c1(S(N2C(C(=O)OCC)CC(OCC)CC2)(=O)=O)ccccc1Cl\n",
      "   0.57     Fc1ccc(S(=O)(=O)NC(C(O)=O)CC(N)=O)cc1\n",
      "   0.55     Fc1ccc(S(=O)(NC(C(=O)OC)CC(=O)O)=O)cc1\n",
      "   0.56     Fc1ccc(S(=O)(=O)NC(C(O)=O)CC([O-])=O)cc1\n",
      "   0.56     Fc1ccc(S(=O)(NC(C(=O)O)CC=O)=O)cc1\n",
      "   0.59     c1(S(N2C(C(=O)OC)CC2)(=O)=O)ccccc1Cl\n",
      "   0.00     C1c2ccc(C(C(=O)O)N)c3c2cccc3CC1\n",
      "   0.56     Fc1ccc(S(=O)(=O)NC(C([O-])=O)CC(=O)O)cc1\n",
      "   0.57     Fc1ccc(S(=O)(=O)NC(C([O-])=O)CC(N)=O)cc1\n"
     ]
    },
    {
     "name": "stderr",
     "output_type": "stream",
     "text": [
      "/site/rp/work/projects/DD/Jupyter/notebooks/Maxime/scaffold-constrained-generation/model.py:99: UserWarning: Implicit dimension choice for softmax has been deprecated. Change the call to include dim=X as an argument.\n",
      "  prob = F.softmax(logits)\n",
      "/site/rp/work/projects/DD/Jupyter/notebooks/Maxime/scaffold-constrained-generation/model.py:100: UserWarning: Implicit dimension choice for log_softmax has been deprecated. Change the call to include dim=X as an argument.\n",
      "  log_prob = F.log_softmax(logits)\n"
     ]
    },
    {
     "name": "stdout",
     "output_type": "stream",
     "text": [
      "\n",
      "Best score in memory: 0.73\n"
     ]
    },
    {
     "name": "stderr",
     "output_type": "stream",
     "text": [
      "/site/rp/work/projects/DD/Jupyter/notebooks/Maxime/scaffold-constrained-generation/model.py:65: UserWarning: Implicit dimension choice for log_softmax has been deprecated. Change the call to include dim=X as an argument.\n",
      "  log_prob = F.log_softmax(logits)\n",
      "/site/rp/work/projects/DD/Jupyter/notebooks/Maxime/scaffold-constrained-generation/model.py:66: UserWarning: Implicit dimension choice for softmax has been deprecated. Change the call to include dim=X as an argument.\n",
      "  prob = F.softmax(logits)\n"
     ]
    },
    {
     "name": "stdout",
     "output_type": "stream",
     "text": [
      "\n",
      "       Step 6   Fraction valid SMILES: 87.1  Time elapsed: 0.49h Time left: 0.28h\n",
      "  Agent    Prior   Target   Score             SMILES\n",
      "   0.71     c1(S(N2C(C(=O)OCC)CC(OC)CC2)(=O)=O)ccccc1F\n",
      "   0.66     c1c(S(N2C(C(=O)OCC)CC(OC)CC2)(=O)=O)cccc1F\n",
      "   0.66     c1c(S(N2C(C(=O)OCC)CC(OC)CC2)(=O)=O)ccc(C)c1\n",
      "   0.67     c1(S(N2C(C(=O)OCC)CC(OC)CC2)(=O)=O)ccccc1\n",
      "   0.00     c1[nH]c(C(OCC(N(CC)c2ccc([N+]([O-])=O)cc2)=O)=O)cc1\n",
      "   0.59     Fc1ccc(S(=O)(NC(C(O)=O)CC23[N+]([O-])=C(C(C([O-])=O)C(=O)OC)CC(OC)CC2C3=N)=O)c2c1cccc2\n",
      "   0.58     c1(S(N2C(C(=O)OC)CC(NC(C)(C(=O)OC)CC(C(C)(C)C)O)CC2)(=O)=O)ccc(C)cc1\n",
      "   0.66     c1c(S(=O)(N2C(C(=O)OC)CC(OC)CC2)=O)ccc(C)c1\n",
      "   0.66     c1cc(S(=O)(N2C(C(=O)OC)CC(OC)CC2)=O)ccc1C\n",
      "   0.58     c1c(S(N2C(C(=O)OCC)CC(OCC)CC2)(=O)=O)cccc1F\n"
     ]
    },
    {
     "name": "stderr",
     "output_type": "stream",
     "text": [
      "/site/rp/work/projects/DD/Jupyter/notebooks/Maxime/scaffold-constrained-generation/model.py:99: UserWarning: Implicit dimension choice for softmax has been deprecated. Change the call to include dim=X as an argument.\n",
      "  prob = F.softmax(logits)\n",
      "/site/rp/work/projects/DD/Jupyter/notebooks/Maxime/scaffold-constrained-generation/model.py:100: UserWarning: Implicit dimension choice for log_softmax has been deprecated. Change the call to include dim=X as an argument.\n",
      "  log_prob = F.log_softmax(logits)\n"
     ]
    },
    {
     "name": "stdout",
     "output_type": "stream",
     "text": [
      "\n",
      "Best score in memory: 0.73\n"
     ]
    },
    {
     "name": "stderr",
     "output_type": "stream",
     "text": [
      "/site/rp/work/projects/DD/Jupyter/notebooks/Maxime/scaffold-constrained-generation/model.py:65: UserWarning: Implicit dimension choice for log_softmax has been deprecated. Change the call to include dim=X as an argument.\n",
      "  log_prob = F.log_softmax(logits)\n",
      "/site/rp/work/projects/DD/Jupyter/notebooks/Maxime/scaffold-constrained-generation/model.py:66: UserWarning: Implicit dimension choice for softmax has been deprecated. Change the call to include dim=X as an argument.\n",
      "  prob = F.softmax(logits)\n"
     ]
    },
    {
     "name": "stdout",
     "output_type": "stream",
     "text": [
      "\n",
      "       Step 7   Fraction valid SMILES: 97.9  Time elapsed: 0.55h Time left: 0.21h\n",
      "  Agent    Prior   Target   Score             SMILES\n",
      "   0.69     c1cc(S(N2C(C(=O)OCC)CC(OC)CC2)(=O)=O)ccc1F\n",
      "   0.66     c1cc(S(N2C(C(=O)OC)CC(OC)CC2)(=O)=O)ccc1C\n",
      "   0.66     c1c(S(N2C(C(=O)OC)CC(OC)CC2)(=O)=O)ccc(C)c1\n",
      "   0.66     c1cc(S(=O)(N2C(C(=O)OC)CC(OC)CC2)=O)ccc1C\n",
      "   0.68     c1cc(S(N2C(C(=O)OC)CC(OC)CC2)(=O)=O)ccc1F\n",
      "   0.66     c1c(S(N2C(C(O)=O)CC(OC)CC2)(=O)=O)cccc1F\n",
      "   0.66     c1(S(=O)(N2C(C(=O)OCC)CC(OC)CC2)=O)ccc(C)cc1\n",
      "   0.66     c1c(S(N2C(C(=O)OC)CC(OC)CC2)(=O)=O)cccc1F\n",
      "   0.66     c1cc(S(N2C(C(=O)OCC)CC(OC)CC2)(=O)=O)ccc1C\n",
      "   0.65     c1ccc(S(=O)(N2C(C(=O)OC)CC(OC)CC2)=O)c2c1cccc2\n"
     ]
    },
    {
     "name": "stderr",
     "output_type": "stream",
     "text": [
      "/site/rp/work/projects/DD/Jupyter/notebooks/Maxime/scaffold-constrained-generation/model.py:99: UserWarning: Implicit dimension choice for softmax has been deprecated. Change the call to include dim=X as an argument.\n",
      "  prob = F.softmax(logits)\n",
      "/site/rp/work/projects/DD/Jupyter/notebooks/Maxime/scaffold-constrained-generation/model.py:100: UserWarning: Implicit dimension choice for log_softmax has been deprecated. Change the call to include dim=X as an argument.\n",
      "  log_prob = F.log_softmax(logits)\n"
     ]
    },
    {
     "name": "stdout",
     "output_type": "stream",
     "text": [
      "\n",
      "Best score in memory: 0.73\n"
     ]
    },
    {
     "name": "stderr",
     "output_type": "stream",
     "text": [
      "/site/rp/work/projects/DD/Jupyter/notebooks/Maxime/scaffold-constrained-generation/model.py:65: UserWarning: Implicit dimension choice for log_softmax has been deprecated. Change the call to include dim=X as an argument.\n",
      "  log_prob = F.log_softmax(logits)\n",
      "/site/rp/work/projects/DD/Jupyter/notebooks/Maxime/scaffold-constrained-generation/model.py:66: UserWarning: Implicit dimension choice for softmax has been deprecated. Change the call to include dim=X as an argument.\n",
      "  prob = F.softmax(logits)\n"
     ]
    },
    {
     "name": "stdout",
     "output_type": "stream",
     "text": [
      "\n",
      "       Step 8   Fraction valid SMILES: 94.2  Time elapsed: 0.60h Time left: 0.13h\n",
      "  Agent    Prior   Target   Score             SMILES\n",
      "   0.66     c1c(S(N2C(C([O-])=O)CC(OC)CC2)(=O)=O)cccc1F\n",
      "   0.69     c1(S(N2C(C(=O)OC)CC(OC)CC2)(=O)=O)ccccc1F\n",
      "   0.66     c1(S(N2C(C(O)=O)CC(OC)CC2)(=O)=O)ccc(C)cc1\n",
      "   0.68     Cc1c(S(=O)(N2C(C(=O)OC)CC(OC)CC2)=O)ccc(C)c1\n",
      "   0.66     COc1cc(S(=O)(N2C(C(=O)OC)CC(OC)CC2)=O)ccc1C\n",
      "   0.67     c1c(S(N2C(C(=O)OCC)CC(OC)CC2)(=O)=O)ccc([N+]([O-])=O)c1\n",
      "   0.65     c1c(S(=O)(N2C(C(O)=O)CC(OC)CC2)=O)cccc1Cl\n",
      "   0.66     c1c(S(N2C(C(=O)OCC)CC(OC)CC2)(=O)=O)ccc(C)c1\n",
      "   0.66     c1c(S(=O)(N2C(C([O-])=O)CC(OC)CC2)=O)ccc(C)c1\n",
      "   0.66     c1c(S(N2C(C(=O)OC)CC(OC)CC2)(=O)=O)ccc(C)c1\n"
     ]
    },
    {
     "name": "stderr",
     "output_type": "stream",
     "text": [
      "/site/rp/work/projects/DD/Jupyter/notebooks/Maxime/scaffold-constrained-generation/model.py:99: UserWarning: Implicit dimension choice for softmax has been deprecated. Change the call to include dim=X as an argument.\n",
      "  prob = F.softmax(logits)\n",
      "/site/rp/work/projects/DD/Jupyter/notebooks/Maxime/scaffold-constrained-generation/model.py:100: UserWarning: Implicit dimension choice for log_softmax has been deprecated. Change the call to include dim=X as an argument.\n",
      "  log_prob = F.log_softmax(logits)\n"
     ]
    },
    {
     "name": "stdout",
     "output_type": "stream",
     "text": [
      "\n",
      "Best score in memory: 0.73\n"
     ]
    },
    {
     "name": "stderr",
     "output_type": "stream",
     "text": [
      "/site/rp/work/projects/DD/Jupyter/notebooks/Maxime/scaffold-constrained-generation/model.py:65: UserWarning: Implicit dimension choice for log_softmax has been deprecated. Change the call to include dim=X as an argument.\n",
      "  log_prob = F.log_softmax(logits)\n",
      "/site/rp/work/projects/DD/Jupyter/notebooks/Maxime/scaffold-constrained-generation/model.py:66: UserWarning: Implicit dimension choice for softmax has been deprecated. Change the call to include dim=X as an argument.\n",
      "  prob = F.softmax(logits)\n"
     ]
    },
    {
     "name": "stdout",
     "output_type": "stream",
     "text": [
      "\n",
      "       Step 9   Fraction valid SMILES: 94.2  Time elapsed: 0.65h Time left: 0.07h\n",
      "  Agent    Prior   Target   Score             SMILES\n",
      "   0.66     c1(S(N2C(C(=O)OC)CC(OC)CC2)(=O)=O)ccccc1\n",
      "   0.66     c1c(S(N2C(C(O)=O)CC(OC)CC2)(=O)=O)ccc(C)c1\n",
      "   0.66     c1(S(=O)(N2C(C(O)=O)CC(OC)CC2)=O)ccc(C)cc1\n",
      "   0.67     c1(S(N2C(C(=O)OCC)CC(OC)CC2)(=O)=O)ccccc1\n",
      "   0.67     c1ccc(S(=O)(N2C(C(=O)OCC)CC(OC)CC2)=O)cc1\n",
      "   0.66     c1c(S(=O)(N2C(C(=O)OC)CC(OC)CC2)=O)ccc(C)c1\n",
      "   0.66     c1(S(N2C(C(=O)OCC)CC(OC)CC2)(=O)=O)ccccc1Cl\n",
      "   0.66     c1cc(S(N2C(C(O)=O)CC(OC)CC2)(=O)=O)ccc1C\n",
      "   0.67     c1(S(N2C(C(=O)OCC)CC(OC)CC2)(=O)=O)ccc([N+]([O-])=O)cc1\n",
      "   0.67     c1(S(N2C(C(=O)OC)CC(OC)CC2)(=O)=O)ccc([N+]([O-])=O)cc1\n",
      "\n",
      "********************************************************************************\n",
      "\n",
      "         Best recorded SMILES: \n",
      "\n",
      "Score     Prior log P     SMILES\n",
      "\n",
      "0.73   -14.29        Fc1ccc(S(=O)(NC(C(O)=O)CC23[N+]([O-])=C(C(C([O-])=O)C(=O)OC)CC(OC)CC2C3=NO)=O)c2c1cccc2\n",
      "0.71   -10.14        c1(S(N2C(C(=O)OCC)CC(OC)CC2)(=O)=O)ccccc1F\n",
      "0.69    -5.97        c1(S(N2C(C(=O)OC)CC(OC)CC2)(=O)=O)ccccc1F\n",
      "0.69    -8.55        c1(S(N2C(C(O)=O)CC(OC)CC2)(=O)=O)ccccc1F\n",
      "0.69    -5.07        c1cc(S(N2C(C(=O)OCC)CC(OC)CC2)(=O)=O)ccc1F\n",
      "0.69    -9.24        c1c(S(N2C(C(=O)OCC)CC(OC)CC2)(=O)=O)ccc(Br)c1\n",
      "0.69   -10.33        c1c(S(N2C(C(=O)OCC)CC(OC)CC2)(=O)=O)ccc2ccccc21\n",
      "0.68    -7.59        Cc1c(S(=O)(N2C(C(=O)OC)CC(OC)CC2)=O)ccc([N+]([O-])=O)c1\n",
      "0.68    -4.80        Cc1c(S(=O)(N2C(C(O)=O)CC(OC)CC2)=O)ccc([N+]([O-])=O)c1\n",
      "0.68    -7.15        Cc1c(S(=O)(N2C(C([O-])=O)CC(OC)CC2)=O)ccc([N+]([O-])=O)c1\n",
      "0.68   -10.75        Cc1c(S(=O)(N2C(C(=O)OC)CC(OC)CC2)=O)ccc(C)c1\n",
      "0.68    -6.13        Cc1c(S(=O)(N2C(C(O)=O)CC(OC)CC2)=O)ccc(C)c1\n",
      "0.68    -6.57        Cc1c(S(=O)(N2C(C([O-])=O)CC(OC)CC2)=O)ccc(C)c1\n",
      "0.68    -6.14        Cc1c(S(=O)(N2C(C(=O)OCC)CC(OC)CC2)=O)ccc(C)c1\n",
      "0.68   -12.40        c1cc(S(N2C(C([O-])=O)CC(OC)CC2)(=O)=O)ccc1F\n",
      "0.68    -5.72        c1cc(S(N2C(C(=O)OC)CC(OC)CC2)(=O)=O)ccc1F\n",
      "0.68    -6.32        c1cc(S(N2C(C(O)=O)CC(OC)CC2)(=O)=O)ccc1F\n",
      "0.68    -9.27        Fc1ccc(S(=O)(N2C(C([O-])=O)CC(OC)CC2)=O)cc1\n",
      "0.67   -16.46        c1cc(S(N2C(C(=O)OCC)CC(OC)CC2)(=O)=O)ccc1Cl\n",
      "0.67    -8.63        c1c(S(N2C(C(=O)OCC)CC(OC)CC2)(=O)=O)ccc([N+]([O-])=O)c1\n",
      "0.67    -5.90        c1c(S(=O)(N2C(C(=O)OCC)CC(OC)CC2)=O)ccc([N+]([O-])=O)c1\n",
      "0.67    -5.62        c1(S(=O)(N2C(C(=O)OCC)CC(OC)CC2)=O)ccc([N+]([O-])=O)cc1\n",
      "0.67    -9.44        c1c(S(=O)(N2C(C(=O)OCC)CC(OC)CC2)=O)ccc([N+](=O)[O-])c1\n",
      "0.67    -7.18        c1(S(N2C(C(=O)OCC)CC(OC)CC2)(=O)=O)ccc([N+]([O-])=O)cc1\n",
      "0.67   -10.52        Cc1c(S(=O)(N2C(C(=O)OC)CC(OC)CC2)=O)cccc1\n",
      "0.67   -12.38        c1c(S(=O)(N2C(C(=O)OC)CC(OC)CC2)=O)ccc([N+]([O-])=O)c1\n",
      "0.67    -6.76        c1c(S(=O)(N2C(C([O-])=O)CC(OC)CC2)=O)ccc([N+]([O-])=O)c1\n",
      "0.67    -6.34        c1(S(=O)(N2C(C(=O)OC)CC(OC)CC2)=O)ccc([N+]([O-])=O)cc1\n",
      "0.67    -5.94        c1cc(S(N2C(C(=O)OC)CC(OC)CC2)(=O)=O)ccc1Cl\n",
      "0.67    -6.62        c1c(S(N2C(C([O-])=O)CC(OC)CC2)(=O)=O)ccc([N+]([O-])=O)c1\n",
      "0.67    -6.84        c1cc(S(N2C(C([O-])=O)CC(OC)CC2)(=O)=O)ccc1Cl\n",
      "0.67    -4.67        c1c(S(N2C(C(=O)OC)CC(OC)CC2)(=O)=O)ccc([N+]([O-])=O)c1\n",
      "0.67    -6.61        c1c(S(N2C(C(O)=O)CC(OC)CC2)(=O)=O)ccc([N+]([O-])=O)c1\n",
      "0.67    -8.07        c1(S(N2C(C(=O)OC)CC(OC)CC2)(=O)=O)ccc([N+]([O-])=O)cc1\n",
      "0.67    -4.51        c1c(S(=O)(N2C(C(O)=O)CC(OC)CC2)=O)ccc([N+]([O-])=O)c1\n",
      "0.67    -6.33        c1(S(=O)(N2C(C(O)=O)CC(OC)CC2)=O)ccc([N+]([O-])=O)cc1\n",
      "0.67    -4.97        c1cc(S(N2C(C(O)=O)CC(OC)CC2)(=O)=O)ccc1Cl\n",
      "0.67    -5.52        c1(S(N2C(C(O)=O)CC(OC)CC2)(=O)=O)ccc([N+]([O-])=O)cc1\n",
      "0.67    -8.07        c1cc(S(N2C(C([O-])=O)CC(OC)CC2)(=O)=O)ccc1[N+]([O-])=O\n",
      "0.67    -6.12        c1(S(=O)(N2C(C([O-])=O)CC(OC)CC2)=O)ccc([N+]([O-])=O)cc1\n",
      "0.67    -8.04        c1(S(N2C(C([O-])=O)CC(OC)CC2)(=O)=O)ccc([N+]([O-])=O)cc1\n",
      "0.67    -5.49        c1(S(N2C(C(=O)OCC)CC(OC)CC2)(=O)=O)ccccc1\n",
      "0.67    -5.74        c1ccc(S(=O)(N2C(C(=O)OCC)CC(OC)CC2)=O)cc1\n",
      "0.67    -4.96        c1c(S(N2C(C(=O)OCC)CC(OC)CC2)(=O)=O)cccc1\n",
      "0.67    -8.06        c1ccc(S(N2C(C(=O)OCC)CC(OC)CC2)(=O)=O)cc1\n",
      "0.67   -13.51        C(c1ccc(S(=O)(N2C(C(=O)OC)CC(OC)CC2)=O)cc1C(C)(C)O)=O\n",
      "0.66    -7.27        c1(S(N2C(C(=O)OC)CC(OC)CC2)(=O)=O)ccccc1\n",
      "0.66    -8.30        c1ccc(S(=O)(N2C(C(=O)OC)CC(OC)CC2)=O)cc1\n",
      "0.66    -6.02        c1ccc(S(=O)(N2C(C(O)=O)CC(OC)CC2)=O)cc1\n",
      "0.66    -7.55        c1c(S(N2C(C(=O)OC)CC(OC)CC2)(=O)=O)cccc1\n",
      "\n",
      "********************************************************************************\n",
      "\n",
      "Model initialized, starting training...\n"
     ]
    },
    {
     "name": "stderr",
     "output_type": "stream",
     "text": [
      "/site/rp/work/projects/DD/Jupyter/notebooks/Maxime/scaffold-constrained-generation/model.py:99: UserWarning: Implicit dimension choice for softmax has been deprecated. Change the call to include dim=X as an argument.\n",
      "  prob = F.softmax(logits)\n",
      "/site/rp/work/projects/DD/Jupyter/notebooks/Maxime/scaffold-constrained-generation/model.py:100: UserWarning: Implicit dimension choice for log_softmax has been deprecated. Change the call to include dim=X as an argument.\n",
      "  log_prob = F.log_softmax(logits)\n"
     ]
    },
    {
     "name": "stdout",
     "output_type": "stream",
     "text": [
      "\n",
      "Best score in memory: 0.00\n"
     ]
    },
    {
     "name": "stderr",
     "output_type": "stream",
     "text": [
      "/site/rp/work/projects/DD/Jupyter/notebooks/Maxime/scaffold-constrained-generation/model.py:65: UserWarning: Implicit dimension choice for log_softmax has been deprecated. Change the call to include dim=X as an argument.\n",
      "  log_prob = F.log_softmax(logits)\n",
      "/site/rp/work/projects/DD/Jupyter/notebooks/Maxime/scaffold-constrained-generation/model.py:66: UserWarning: Implicit dimension choice for softmax has been deprecated. Change the call to include dim=X as an argument.\n",
      "  prob = F.softmax(logits)\n"
     ]
    },
    {
     "name": "stdout",
     "output_type": "stream",
     "text": [
      "\n",
      "       Step 0   Fraction valid SMILES: 93.4  Time elapsed: 0.08h Time left: 0.81h\n",
      "  Agent    Prior   Target   Score             SMILES\n",
      "   0.00     c12cccc3cccc(c13)C(=O)N(CCCn1cncc1)C2\n",
      "   0.00     O=C(NCCc1cc(OC)ccc1)C(C(C(N(Cc1ccccc1)Cc1ccccc1)O)CC1CCNC1=O)=O)O\n",
      "   0.00     c1c(C(CC(=O)NC)NC(C(CCC(=O)O)NC(=O)C(NC(C(C(C)(C)C)NC(C(CO)NS(=O)(C(C)C)=O)=O)=O)Cc2ccccc2)=O)cc2c([nH]nc2)c1\n",
      "   0.00     O=C(c1c(Nc2cccc(CN3CCNCC3)c2)c2c([nH]1)c(C(=O)N)ccc2)c1ccccc1\n",
      "   0.00     c1oc(CNCCSCc2nc3cn[nH]c3nc2)c(F)c1\n",
      "   0.00     C(C)(=NNC(=O)OCC)c1ccc(Oc2ccccc2)cc1\n",
      "   0.00     c1(C(F)(F)F)c(N2CCN(CC(Nc3nnc(CC)s3)=O)CC2)cccc1\n",
      "   0.00     C1C2(CN(S(=O)(=O)C(C)C)C1)Cn1nncc1CN(C)C2\n",
      "   0.00     c1ccc(CCCC(c2c(Oc3cc(C(=N)N)ccc3)n(C(COCCF)C)C)cc2)cc1\n",
      "   0.00     c1n(C)c2c(c1C(=O)C1CC1)CCN(Cc1ccncc1)CC2\n"
     ]
    },
    {
     "name": "stderr",
     "output_type": "stream",
     "text": [
      "/site/rp/work/projects/DD/Jupyter/notebooks/Maxime/scaffold-constrained-generation/model.py:99: UserWarning: Implicit dimension choice for softmax has been deprecated. Change the call to include dim=X as an argument.\n",
      "  prob = F.softmax(logits)\n",
      "/site/rp/work/projects/DD/Jupyter/notebooks/Maxime/scaffold-constrained-generation/model.py:100: UserWarning: Implicit dimension choice for log_softmax has been deprecated. Change the call to include dim=X as an argument.\n",
      "  log_prob = F.log_softmax(logits)\n"
     ]
    },
    {
     "name": "stdout",
     "output_type": "stream",
     "text": [
      "\n",
      "Best score in memory: 0.00\n"
     ]
    },
    {
     "name": "stderr",
     "output_type": "stream",
     "text": [
      "/site/rp/work/projects/DD/Jupyter/notebooks/Maxime/scaffold-constrained-generation/model.py:65: UserWarning: Implicit dimension choice for log_softmax has been deprecated. Change the call to include dim=X as an argument.\n",
      "  log_prob = F.log_softmax(logits)\n",
      "/site/rp/work/projects/DD/Jupyter/notebooks/Maxime/scaffold-constrained-generation/model.py:66: UserWarning: Implicit dimension choice for softmax has been deprecated. Change the call to include dim=X as an argument.\n",
      "  prob = F.softmax(logits)\n"
     ]
    },
    {
     "name": "stdout",
     "output_type": "stream",
     "text": [
      "\n",
      "       Step 1   Fraction valid SMILES: 81.4  Time elapsed: 0.15h Time left: 0.69h\n",
      "  Agent    Prior   Target   Score             SMILES\n",
      "   0.00     N(C(=O)c1ccc(C)cc1)C(c1ccc(OC)c(OC)c1)=O\n",
      "   0.00     n1cncc2nc(CCn3c4c(cccc4)cn3)c(CC)nc21\n",
      "   0.00     N(C)(CCc1c(-c2ccccc2)nc2n1CC(O)C2)CC\n",
      "   0.00     c12c(c(Cl)c(Cl)s1)C(=O)N(C1CC(O)C(O)C(O)C1O)C2\n",
      "   0.00     c1cc(C)c(-c2[n+]([O-])cccc2)cc1\n",
      "   0.00     Oc1c(O)ccc(CCc2c3c(c(F)cc2)c(O)nc(S)n2)c2CC(O)C3N(C)CCO\n",
      "   0.00     c1c(-c2c(=O)[nH]c(=O)n(C3CC(O)C(CO)O3)c2)cccc1\n",
      "   0.00     C(C)N(CC)c1nc2c(c(COc3ccc4c(cccn4)c3)cc2C(=O)O)cc1\n",
      "   0.00     c1c(C)c(NC(=O)c2c(CN3CCOCC3)ccc(NS(c3ccc(C)cc3)(=O)=O)c2)ccc1\n",
      "   0.00     S(c1ccc(Cl)cc1)CC(N(C)C(C(C(CCc1c2cc(F)cc(-c3ccccc3)c2)C(O)=O)=O)c(CCCOC)c1C)=O)O\n"
     ]
    },
    {
     "name": "stderr",
     "output_type": "stream",
     "text": [
      "/site/rp/work/projects/DD/Jupyter/notebooks/Maxime/scaffold-constrained-generation/model.py:99: UserWarning: Implicit dimension choice for softmax has been deprecated. Change the call to include dim=X as an argument.\n",
      "  prob = F.softmax(logits)\n",
      "/site/rp/work/projects/DD/Jupyter/notebooks/Maxime/scaffold-constrained-generation/model.py:100: UserWarning: Implicit dimension choice for log_softmax has been deprecated. Change the call to include dim=X as an argument.\n",
      "  log_prob = F.log_softmax(logits)\n"
     ]
    },
    {
     "name": "stdout",
     "output_type": "stream",
     "text": [
      "\n",
      "Best score in memory: 0.61\n"
     ]
    },
    {
     "name": "stderr",
     "output_type": "stream",
     "text": [
      "/site/rp/work/projects/DD/Jupyter/notebooks/Maxime/scaffold-constrained-generation/model.py:65: UserWarning: Implicit dimension choice for log_softmax has been deprecated. Change the call to include dim=X as an argument.\n",
      "  log_prob = F.log_softmax(logits)\n",
      "/site/rp/work/projects/DD/Jupyter/notebooks/Maxime/scaffold-constrained-generation/model.py:66: UserWarning: Implicit dimension choice for softmax has been deprecated. Change the call to include dim=X as an argument.\n",
      "  prob = F.softmax(logits)\n"
     ]
    },
    {
     "name": "stdout",
     "output_type": "stream",
     "text": [
      "\n",
      "       Step 2   Fraction valid SMILES: 74.2  Time elapsed: 0.22h Time left: 0.58h\n",
      "  Agent    Prior   Target   Score             SMILES\n",
      "   0.00     N1(C(=O)c2ccccc2Cl)CC(NC(c2c(C)cc(C)cc2O)=O)CCC1\n",
      "   0.00     CCN(c1ncc(C#N)cc1)Cc1ccc(Cl)cc1\n",
      "   0.54     c1c(S(=O)(N(C)C(C(=O)OC)CC(C)C)=O)cccc1\n",
      "   0.00     c1ccc(C2C(C(=O)c3c(OC)cccc3)=NOC2)cc1\n",
      "   0.00     c1c(Cl)c(Cl)cc2c(C(=O)NN(c3ccccc3C(=O)O)CC(O)=O)cccc21\n",
      "   0.00     c1ccc(CC(NC(=O)c2ccc(-c3nc4c(ccnc4)o3)cc2)C(O)=O)ccc1\n",
      "   0.00     c1c(C#N)ccc(-n2c(-c3ccc4c(c3)cccc4)c(O)cc2)c1\n",
      "   0.00     C(CC(O)CC(CC(O)=O)O)C(CC(CC)C)NC(CNC(C(CC(C)C1CC(O)CC(N)C1)=O)=O)=O\n",
      "   0.00     c1ccc(C(NOC(c2ccc3c(c2)c2c([nH]2)cccc3)=O)=O)cc1\n",
      "   0.00     c1cccc(-c2c(=O)[nH]c(=O)n(CCc3ccccc3)c2-c2ccccc2)c1\n"
     ]
    },
    {
     "name": "stderr",
     "output_type": "stream",
     "text": [
      "/site/rp/work/projects/DD/Jupyter/notebooks/Maxime/scaffold-constrained-generation/model.py:99: UserWarning: Implicit dimension choice for softmax has been deprecated. Change the call to include dim=X as an argument.\n",
      "  prob = F.softmax(logits)\n",
      "/site/rp/work/projects/DD/Jupyter/notebooks/Maxime/scaffold-constrained-generation/model.py:100: UserWarning: Implicit dimension choice for log_softmax has been deprecated. Change the call to include dim=X as an argument.\n",
      "  log_prob = F.log_softmax(logits)\n"
     ]
    },
    {
     "name": "stdout",
     "output_type": "stream",
     "text": [
      "\n",
      "Best score in memory: 0.61\n"
     ]
    },
    {
     "name": "stderr",
     "output_type": "stream",
     "text": [
      "/site/rp/work/projects/DD/Jupyter/notebooks/Maxime/scaffold-constrained-generation/model.py:65: UserWarning: Implicit dimension choice for log_softmax has been deprecated. Change the call to include dim=X as an argument.\n",
      "  log_prob = F.log_softmax(logits)\n",
      "/site/rp/work/projects/DD/Jupyter/notebooks/Maxime/scaffold-constrained-generation/model.py:66: UserWarning: Implicit dimension choice for softmax has been deprecated. Change the call to include dim=X as an argument.\n",
      "  prob = F.softmax(logits)\n"
     ]
    },
    {
     "name": "stdout",
     "output_type": "stream",
     "text": [
      "\n",
      "       Step 3   Fraction valid SMILES: 68.0  Time elapsed: 0.28h Time left: 0.49h\n",
      "  Agent    Prior   Target   Score             SMILES\n",
      "   0.00     c1(Cl)cc(CNc2cc3c(cc2)c(C)n2nccc23)ccc1\n",
      "   0.00     c1c(C2(c3ccc(F)cc3)CCN(C)CC2)cccc1\n",
      "   0.00     c1(C(OCC(=O)c2c([N+]([O-])=O)cccc2)=O)ccc([N+]([O-])=O)cc1\n",
      "   0.00     c1c(C)cc(CNc2cc3c(cc2)c(C)n2nccc23)ccc1\n",
      "   0.00     c1cccc(CNc2cc3c(cc2)c(C)c2c(c3)ccc(C#N)c2)c1\n",
      "   0.00     c1cc(C)c(-c2nc(SCc3cc4c(cco4)cc3)c(C)n2-c2ccccc2)cc1\n",
      "   0.00     c1c(OC)cc(C(=O)NC(c2ccc(-c3nc4c(ccnc4)cc3C=O)cc2)=O)cc1\n",
      "   0.00     c1(C(C)(O)c2c(Cl)cc(Cl)cc2)c[nH]c2ccc(Cl)cc12\n",
      "   0.00     c1c(C(=O)c2c(NC(Nc3ccc(C(=O)Nc4ccccc4S(=O)(=O)O)cc3C)cccc2)=O)ccc(OC)c1[N+]([O-])=O\n",
      "   0.00     c1cc(C)ccc1OCc1[nH]c(=O)ccc1\n"
     ]
    },
    {
     "name": "stderr",
     "output_type": "stream",
     "text": [
      "/site/rp/work/projects/DD/Jupyter/notebooks/Maxime/scaffold-constrained-generation/model.py:99: UserWarning: Implicit dimension choice for softmax has been deprecated. Change the call to include dim=X as an argument.\n",
      "  prob = F.softmax(logits)\n",
      "/site/rp/work/projects/DD/Jupyter/notebooks/Maxime/scaffold-constrained-generation/model.py:100: UserWarning: Implicit dimension choice for log_softmax has been deprecated. Change the call to include dim=X as an argument.\n",
      "  log_prob = F.log_softmax(logits)\n"
     ]
    },
    {
     "name": "stdout",
     "output_type": "stream",
     "text": [
      "\n",
      "Best score in memory: 0.61\n"
     ]
    },
    {
     "name": "stderr",
     "output_type": "stream",
     "text": [
      "/site/rp/work/projects/DD/Jupyter/notebooks/Maxime/scaffold-constrained-generation/model.py:65: UserWarning: Implicit dimension choice for log_softmax has been deprecated. Change the call to include dim=X as an argument.\n",
      "  log_prob = F.log_softmax(logits)\n",
      "/site/rp/work/projects/DD/Jupyter/notebooks/Maxime/scaffold-constrained-generation/model.py:66: UserWarning: Implicit dimension choice for softmax has been deprecated. Change the call to include dim=X as an argument.\n",
      "  prob = F.softmax(logits)\n"
     ]
    },
    {
     "name": "stdout",
     "output_type": "stream",
     "text": [
      "\n",
      "       Step 4   Fraction valid SMILES: 60.1  Time elapsed: 0.33h Time left: 0.40h\n",
      "  Agent    Prior   Target   Score             SMILES\n",
      "   0.00     c1(N2C(=O)SC(C)(C)C2)ccc(OC)cc1\n",
      "   0.00     c1ccccc1OCC(O)CNC(c1ccc(-c2[nH]c3ccc(C(=O)O)cc3c2)cc1)=O\n",
      "   0.00     C(NC(c1c([N+]([O-])=O)cccc1)=O)c1c[nH]c2ccccc12\n",
      "   0.54     c1(S(=O)(N(C)C(C(OC)=O)C(OC)=O)=O)cc([N+]([O-])=O)ccc1\n",
      "   0.00     c1ccc(Cl)c2[nH]c(C(=O)Nc3ccc(CNc4ccnc4C)cc3C=O)cc2\n",
      "   0.00     c1(CNC(c2cc(C(=O)Nc3ccc(C(O)=O)cc3)ccc2)=O)cc([N+]([O-])=O)ccc1\n",
      "   0.00     c1(Cl)c(-c2nc3c(cccn3)c(N)n2)ccc1\n",
      "   0.00     c1(C(=O)c2c(NC(Nc3ccc(C(=O)Nc4ccc(C)cc4)cc3C)=O)ccc(Cl)c2)ccccc1\n",
      "   0.00     c1(Cl)cc(CNc2c(C#N)cccc2)cc(OC)c1\n",
      "   0.00     c1ccc(C#Cc2c(-c3cc(F)c(OC)cc3)cnc(N)n2)cn1\n"
     ]
    },
    {
     "name": "stderr",
     "output_type": "stream",
     "text": [
      "/site/rp/work/projects/DD/Jupyter/notebooks/Maxime/scaffold-constrained-generation/model.py:99: UserWarning: Implicit dimension choice for softmax has been deprecated. Change the call to include dim=X as an argument.\n",
      "  prob = F.softmax(logits)\n",
      "/site/rp/work/projects/DD/Jupyter/notebooks/Maxime/scaffold-constrained-generation/model.py:100: UserWarning: Implicit dimension choice for log_softmax has been deprecated. Change the call to include dim=X as an argument.\n",
      "  log_prob = F.log_softmax(logits)\n"
     ]
    },
    {
     "name": "stdout",
     "output_type": "stream",
     "text": [
      "\n",
      "Best score in memory: 0.61\n"
     ]
    },
    {
     "name": "stderr",
     "output_type": "stream",
     "text": [
      "/site/rp/work/projects/DD/Jupyter/notebooks/Maxime/scaffold-constrained-generation/model.py:65: UserWarning: Implicit dimension choice for log_softmax has been deprecated. Change the call to include dim=X as an argument.\n",
      "  log_prob = F.log_softmax(logits)\n",
      "/site/rp/work/projects/DD/Jupyter/notebooks/Maxime/scaffold-constrained-generation/model.py:66: UserWarning: Implicit dimension choice for softmax has been deprecated. Change the call to include dim=X as an argument.\n",
      "  prob = F.softmax(logits)\n"
     ]
    },
    {
     "name": "stdout",
     "output_type": "stream",
     "text": [
      "\n",
      "       Step 5   Fraction valid SMILES: 65.7  Time elapsed: 0.38h Time left: 0.32h\n",
      "  Agent    Prior   Target   Score             SMILES\n",
      "   0.54     c1(S(=O)(N(C)C(C(OC)=O)C)=O)cc([N+]([O-])=O)ccc1\n",
      "   0.00     c1(C(Cc2cc3c([nH]2)cccc3)=O)ccccc1OCC(O)=O\n",
      "   0.00     c1nc(OC)cc1C(OC(C1CC1)C\n",
      "   0.00     c1c(S(=O)(N(c2ncc(C(O)(C)C)cc2)c2ccc(C(=O)Nc3ccc(C(=O)O)cc3)cc2)=O)cccc1\n",
      "   0.00     c1(Cl)c(OC)cc(CNc2ncc3c(-c4nc(C)cnc4C)cnc3)cn21\n",
      "   0.00     c1(Cl)c(Br)cc(Br)c1NC(O)CNC(OCc1cnccc1\n",
      "   0.00     c1c2c(cc(Br)c1S(=O)(N1C(C(O)=O)CSC1(C)C)=O)cccc1OC2=O\n",
      "   0.54     OC(=O)c1c(S(=O)(N(C)C(C(=O)OC)CC(C)C)=O)cccc1\n",
      "   0.00     c1(-c2nc(SCC(=O)Nc3ncc(C)cc3)sc2)ccccc1\n",
      "   0.00     c1c(S(C)(=O)=O)ccc1[N+]([O-])=O\n"
     ]
    },
    {
     "name": "stderr",
     "output_type": "stream",
     "text": [
      "/site/rp/work/projects/DD/Jupyter/notebooks/Maxime/scaffold-constrained-generation/model.py:99: UserWarning: Implicit dimension choice for softmax has been deprecated. Change the call to include dim=X as an argument.\n",
      "  prob = F.softmax(logits)\n",
      "/site/rp/work/projects/DD/Jupyter/notebooks/Maxime/scaffold-constrained-generation/model.py:100: UserWarning: Implicit dimension choice for log_softmax has been deprecated. Change the call to include dim=X as an argument.\n",
      "  log_prob = F.log_softmax(logits)\n"
     ]
    },
    {
     "name": "stdout",
     "output_type": "stream",
     "text": [
      "\n",
      "Best score in memory: 0.62\n"
     ]
    },
    {
     "name": "stderr",
     "output_type": "stream",
     "text": [
      "/site/rp/work/projects/DD/Jupyter/notebooks/Maxime/scaffold-constrained-generation/model.py:65: UserWarning: Implicit dimension choice for log_softmax has been deprecated. Change the call to include dim=X as an argument.\n",
      "  log_prob = F.log_softmax(logits)\n",
      "/site/rp/work/projects/DD/Jupyter/notebooks/Maxime/scaffold-constrained-generation/model.py:66: UserWarning: Implicit dimension choice for softmax has been deprecated. Change the call to include dim=X as an argument.\n",
      "  prob = F.softmax(logits)\n"
     ]
    },
    {
     "name": "stdout",
     "output_type": "stream",
     "text": [
      "\n",
      "       Step 6   Fraction valid SMILES: 90.6  Time elapsed: 0.42h Time left: 0.24h\n",
      "  Agent    Prior   Target   Score             SMILES\n",
      "   0.57     c1c(S(=O)(NC(C(=O)O)Br)=O)cc(Br)c2c1c(C)c2\n",
      "   0.54     c1(S(=O)(N(C)C(C(OC)=O)C)=O)cc([N+]([O-])=O)ccc1\n",
      "   0.54     c1(S(=O)(N(C)C(C(OC)=O)C(C)C)=O)ccccc1\n",
      "   0.60     c1c(S(=O)(N(C)C(C(=O)OC)CCc2ccccc2)=O)ccc(OC)c1\n",
      "   0.55     c1c(S(=O)(N(C)C(C(=O)OC)CC(OCC)C)=O)cc([N+]([O-])=O)cc1\n",
      "   0.56     c1(S(=O)(N(C)C(C(OC)=O)(C)C)=O)cc([N+]([O-])=O)ccc1\n",
      "   0.59     c1c(S(=O)(N(C)C(C(=O)OC)CC(C)CCc2ccc3c(c2)OCO3)=O)c([N+]([O-])=O)ccc1\n",
      "   0.55     c1c(S(=O)(NC(C(=O)O)C)=O)cc(Br)cc1\n",
      "   0.54     c1(S(=O)(N(C)C(C(OC)=O)c2ccc(C)cc2)=O)ccccc1\n",
      "   0.61     c1c(S(=O)(N(C)C(C(=O)OC)CC(C)CCc2ccc3c(c2)OCO3)=O)c(Br)ccc1\n"
     ]
    },
    {
     "name": "stderr",
     "output_type": "stream",
     "text": [
      "/site/rp/work/projects/DD/Jupyter/notebooks/Maxime/scaffold-constrained-generation/model.py:99: UserWarning: Implicit dimension choice for softmax has been deprecated. Change the call to include dim=X as an argument.\n",
      "  prob = F.softmax(logits)\n",
      "/site/rp/work/projects/DD/Jupyter/notebooks/Maxime/scaffold-constrained-generation/model.py:100: UserWarning: Implicit dimension choice for log_softmax has been deprecated. Change the call to include dim=X as an argument.\n",
      "  log_prob = F.log_softmax(logits)\n"
     ]
    },
    {
     "name": "stdout",
     "output_type": "stream",
     "text": [
      "\n",
      "Best score in memory: 0.67\n"
     ]
    },
    {
     "name": "stderr",
     "output_type": "stream",
     "text": [
      "/site/rp/work/projects/DD/Jupyter/notebooks/Maxime/scaffold-constrained-generation/model.py:65: UserWarning: Implicit dimension choice for log_softmax has been deprecated. Change the call to include dim=X as an argument.\n",
      "  log_prob = F.log_softmax(logits)\n",
      "/site/rp/work/projects/DD/Jupyter/notebooks/Maxime/scaffold-constrained-generation/model.py:66: UserWarning: Implicit dimension choice for softmax has been deprecated. Change the call to include dim=X as an argument.\n",
      "  prob = F.softmax(logits)\n"
     ]
    },
    {
     "name": "stdout",
     "output_type": "stream",
     "text": [
      "\n",
      "       Step 7   Fraction valid SMILES: 92.3  Time elapsed: 0.47h Time left: 0.18h\n",
      "  Agent    Prior   Target   Score             SMILES\n",
      "   0.60     c1c(S(=O)(N(C)C(C(=O)OC)CC(C)CCc2ccc3c(c2)OCO3)=O)cccc1[N+]([O-])=O\n",
      "   0.60     c1(S(=O)(N(C)C(C(=O)OC)CCc2ccccc2)=O)ccc(OC)cc1\n",
      "   0.59     c1c(S(=O)(N(C)C(C(=O)OC)CC(C)CCc2ccc3c(c2)OCO3)=O)c([N+]([O-])=O)ccc1\n",
      "   0.57     c1c(S(=O)(N2C(C(=O)O)CSC2(C)C)=O)cccc1\n",
      "   0.56     c1c(S(=O)(N(C)C(C(=O)OC)CCc2ccccc2)=O)cccc1\n",
      "   0.58     c1c(S(=O)(N(C)C(C(=O)OC)CSCCc2ccccc2)=O)cc([N+]([O-])=O)cc1\n",
      "   0.54     c1c(S(=O)(N(C)C(C(OC)=O)C(C)C)=O)cccc1\n",
      "   0.56     c1(S(=O)(N(C)C(C(=O)OC)CCc2ccccc2)=O)ccc([N+]([O-])=O)cc1\n",
      "   0.59     c1(S(=O)(N(C)C(C(=O)OC)CSCc2ccc3c(c2)OCO3)=O)c(Cl)cccc1\n",
      "   0.00     c1(S(=O)(N(C)C(C(=O)OC)CC(OCc2ccc3ccc(C)c4c3)ccc2)=O)ccc(OC)cc2)cccc1\n"
     ]
    },
    {
     "name": "stderr",
     "output_type": "stream",
     "text": [
      "/site/rp/work/projects/DD/Jupyter/notebooks/Maxime/scaffold-constrained-generation/model.py:99: UserWarning: Implicit dimension choice for softmax has been deprecated. Change the call to include dim=X as an argument.\n",
      "  prob = F.softmax(logits)\n",
      "/site/rp/work/projects/DD/Jupyter/notebooks/Maxime/scaffold-constrained-generation/model.py:100: UserWarning: Implicit dimension choice for log_softmax has been deprecated. Change the call to include dim=X as an argument.\n",
      "  log_prob = F.log_softmax(logits)\n"
     ]
    },
    {
     "name": "stdout",
     "output_type": "stream",
     "text": [
      "\n",
      "Best score in memory: 0.69\n"
     ]
    },
    {
     "name": "stderr",
     "output_type": "stream",
     "text": [
      "/site/rp/work/projects/DD/Jupyter/notebooks/Maxime/scaffold-constrained-generation/model.py:65: UserWarning: Implicit dimension choice for log_softmax has been deprecated. Change the call to include dim=X as an argument.\n",
      "  log_prob = F.log_softmax(logits)\n",
      "/site/rp/work/projects/DD/Jupyter/notebooks/Maxime/scaffold-constrained-generation/model.py:66: UserWarning: Implicit dimension choice for softmax has been deprecated. Change the call to include dim=X as an argument.\n",
      "  prob = F.softmax(logits)\n"
     ]
    },
    {
     "name": "stdout",
     "output_type": "stream",
     "text": [
      "\n",
      "       Step 8   Fraction valid SMILES: 90.1  Time elapsed: 0.52h Time left: 0.12h\n",
      "  Agent    Prior   Target   Score             SMILES\n",
      "   0.60     c1(S(=O)(N(C)C(C(=O)OC)CC(C)CCc2ccc3c(c2)OCO3)=O)ccc([N+]([O-])=O)cc1\n",
      "   0.62     c1c(S(=O)(NC(C(=O)O)C)=O)cc([N+]([O-])=O)c2c1c([N+]([O-])=O)ccc2\n",
      "   0.62     c1c(S(=O)(N(C)C(C(=O)OC)CC=O)=O)cc(Br)c2c1c([N+]([O-])=O)ccc2\n",
      "   0.56     c1c(S(=O)(N(C)C(C(=O)OC)CC(OCc2ccc3c(c2)OCO3)=O)=O)cccc1\n",
      "   0.62     c1c(S(=O)(N(C)C(C(=O)OC)CC2CCC3C4C(CCC3C2)CC4)=O)cc(Br)c2c1c(C)c2\n",
      "   0.59     c1(S(=O)(=O)N2C(C(=O)O)C3C(CC3)C2)ccccc1\n",
      "   0.60     c1(S(=O)(N(C)C(C(=O)OC)CC(C)CCc2ccc3c(c2)OCO3)=O)cc([N+]([O-])=O)ccc1\n",
      "   0.63     c1(S(=O)(N(C)C(C(=O)OC)CC(C)CCc2ccc([N+]([O-])=O)cc2)=O)ccc(OC)cc1\n",
      "   0.63     c1(S(=O)(N(C)C(C(=O)OC)CCc2ccc3c(c2)OCO3)=O)ccc(OC)cc1\n",
      "   0.00     c1c(S(=O)(=O)N(C)C(C(=O)OC)CCc2ccc3c(c2)OCO3)=O)cccc1\n"
     ]
    },
    {
     "name": "stderr",
     "output_type": "stream",
     "text": [
      "/site/rp/work/projects/DD/Jupyter/notebooks/Maxime/scaffold-constrained-generation/model.py:99: UserWarning: Implicit dimension choice for softmax has been deprecated. Change the call to include dim=X as an argument.\n",
      "  prob = F.softmax(logits)\n",
      "/site/rp/work/projects/DD/Jupyter/notebooks/Maxime/scaffold-constrained-generation/model.py:100: UserWarning: Implicit dimension choice for log_softmax has been deprecated. Change the call to include dim=X as an argument.\n",
      "  log_prob = F.log_softmax(logits)\n"
     ]
    },
    {
     "name": "stdout",
     "output_type": "stream",
     "text": [
      "\n",
      "Best score in memory: 0.72\n"
     ]
    },
    {
     "name": "stderr",
     "output_type": "stream",
     "text": [
      "/site/rp/work/projects/DD/Jupyter/notebooks/Maxime/scaffold-constrained-generation/model.py:65: UserWarning: Implicit dimension choice for log_softmax has been deprecated. Change the call to include dim=X as an argument.\n",
      "  log_prob = F.log_softmax(logits)\n",
      "/site/rp/work/projects/DD/Jupyter/notebooks/Maxime/scaffold-constrained-generation/model.py:66: UserWarning: Implicit dimension choice for softmax has been deprecated. Change the call to include dim=X as an argument.\n",
      "  prob = F.softmax(logits)\n"
     ]
    },
    {
     "name": "stdout",
     "output_type": "stream",
     "text": [
      "\n",
      "       Step 9   Fraction valid SMILES: 87.0  Time elapsed: 0.57h Time left: 0.06h\n",
      "  Agent    Prior   Target   Score             SMILES\n",
      "   0.59     c1c(S(=O)(N(C)C(C(=O)OC)CS(=O)(C)=O)=O)ccc(OC)c1\n",
      "   0.67     c1c(S(=O)(N(C)C(C(=O)OC)CSCc2ccc3c(C)cccc3c2)=O)ccc(OC)c1\n",
      "   0.64     c1c(S(=O)(N(C)C(C(=O)OC)CSCc2c[nH]c3ccccc32)=O)cccc1\n",
      "   0.63     c1c(S(=O)(N(C)C(C(=O)OC)CCc2ccc([N+]([O-])=O)cc2)=O)ccc(OC)c1\n",
      "   0.62     c1c(S(=O)(N(C)C(C(OC)=O)(C)C)=O)cc(Br)c2c1c([N+]([O-])=O)ccc2\n",
      "   0.00     c1(S(=O)(N(C)C(C(=O)OC)CCCOCCOCC2CCC3C4C(CCC3C2)CC4)=O)cc(Br)c2c(C)cccc12\n",
      "   0.60     c1c(S(=O)(N(C)C(C(=O)OC)CSC=CC=CCC(OCC)CSc2ccc(C)cc2)=O)ccc(OC)c1\n",
      "   0.62     c1(S(=O)(N(C)C(C(=O)OC)CCCOCCOCC2N(C)CCC2)=O)ccc(OC)cc1\n",
      "   0.63     C(NC(c1c(S(=O)(N(C)C(C(=O)OC)CC(C)CCc2ccc([N+]([O-])=O)cc2)=O)cccc1)=O)c1c([N+]([O-])=O)cccc1\n",
      "   0.54     c1(S(=O)(N(C)C(C(O)=O)Br)=O)ccccc1\n",
      "\n",
      "********************************************************************************\n",
      "\n",
      "         Best recorded SMILES: \n",
      "\n",
      "Score     Prior log P     SMILES\n",
      "\n",
      "0.72   -14.70        c1(S(=O)(N(C)C(C(=O)OC)CC(OCc2c(C)nc(N)nc2)=O)=O)ccc(OC)cc1\n",
      "0.71    -6.29        c1(S(=O)(N(C)C(C(=O)OC)CC(OCc2ccc3c(C)cccc3c2)=O)=O)ccc(Br)cc1\n",
      "0.70   -17.31        c1c(S(=O)(N(C)C(C(=O)OC)CSC=CC(OCc2ccc3c(C)cccc3c2)=O)=O)ccc2c1c([N+]([O-])=O)ccc2\n",
      "0.70    -7.11        c1c(S(=O)(N(C)C(C(=O)OC)CSC=CC(OCc2ccc3c(C)cccc3c2)=O)=O)cccc1\n",
      "0.69    -5.60        c1c(S(=O)(N(C)C(C(=O)OC)CC(OCc2ccc3c(C)cccc3c2)=O)=O)cccc1\n",
      "0.69    -7.37        c1(S(=O)(N(C)C(C(=O)OC)CC(OCc2ccc3c(C)cccc3c2)=O)=O)ccccc1\n",
      "0.69    -7.69        c1c(S(=O)(N(C)C(C(=O)OC)CS(Cc2ccc3c(C)cccc3c2)=O)=O)cccc1\n",
      "0.69    -7.73        c1c(S(=O)(N(C)C(C(=O)OC)CSCc2ccc3c(C)cccc3c2)=O)cc(Br)c2c1c(Br)ccc2\n",
      "0.68    -5.65        c1c(S(=O)(N(C)C(C(=O)OC)CSCc2ccc3c(C)cccc3c2)=O)cccc1\n",
      "0.68    -8.03        c1(S(=O)(N(C)C(C(=O)OC)CC(OCc2ccc3c(C)cccc3c2)=O)=O)ccc(OC)cc1\n",
      "0.68    -5.97        c1c(S(=O)(N(C)C(C(=O)OC)CSCc2ccc3c(C)cccc3c2)=O)ccc([N+]([O-])=O)c1\n",
      "0.68    -7.46        c1c(S(=O)(N(C)C(C(=O)OC)CSCc2ccc3c(C)cccc3c2)=O)cc([N+]([O-])=O)cc1\n",
      "0.68    -6.21        c1c(S(=O)(N(C)C(C(=O)OC)CS(CC)CCCOCC2OCCC2)=O)ccc(OC)c1\n",
      "0.67   -12.67        c1c(S(=O)(N(C)C(C(=O)OC)CSCc2ccc3c(C)cccc3c2)=O)ccc(OC)c1\n",
      "0.67    -5.58        c1(S(=O)(N(C)C(C(=O)OC)CCc2ccc3c(c2)OCO3)=O)c(F)cccc1\n",
      "0.67    -7.47        c1(S(=O)(N(C)C(C(=O)OC)CC(OCC)CCc2ccc3c(c2)OCO3)=O)c(F)cccc1\n",
      "0.67   -11.36        c1(S(=O)(N(C)C(C(=O)OC)CC(C)CCc2ccc3c(c2)OCO3)=O)c(F)cccc1\n",
      "0.67   -12.16        c1(S(=O)(N(C)C(C(=O)OC)CC(C)CC(C)CCc2ccc3c(c2)OCO3)=O)c(F)cccc1\n",
      "0.67    -9.91        c1c(S(=O)(N(C)C(C(=O)OC)CSC=CCOCC2OCCC2)=O)ccc(OC)c1\n",
      "0.66   -15.40        c1c(S(=O)(N(C)C(C(=O)OC)CS(CC)CCCOCC2OCCC2)=O)cc([N+]([O-])=O)cc1\n",
      "0.66   -12.46        c1c(S(=O)(N(C)C(C(=O)OC)CCCOCCOCC2OCCC2)=O)cc(C)c2c1c([N+]([O-])=O)ccc2\n",
      "0.66    -5.44        c1c(S(=O)(N(C)C(C(=O)OC)CSCc2cccc3c2cccc3)=O)ccc(OC)c1\n",
      "0.66    -6.67        c1c(S(=O)(N(C)C(C(=O)OC)CSCc2cccc3c2cccc3)=O)cccc1\n",
      "0.66    -8.99        c1c(S(=O)(N(C)C(C(=O)OC)CSCc2c3ccccc3ccc2)=O)ccc(OC)c1\n",
      "0.65    -7.33        c1c(S(=O)(N(C)C(C(=O)OC)CSCc2cccc3c2cccc3)=O)cc([N+]([O-])=O)cc1\n",
      "0.65   -14.87        c1c(S(=O)(N(C)C(C(=O)OC)CSCc2cccc3c2cccc3)=O)ccc([N+]([O-])=O)c1\n",
      "0.65    -5.11        c1c(S(=O)(N(C)C(C(OC)=O)Br)=O)cc(Br)c2c1c([N+]([O-])=O)ccc2\n",
      "0.65    -7.89        c1c(S(=O)(N(C)C(C(OC)=O)Br)=O)cc([N+](=O)[O-])c2c1c([N+]([O-])=O)ccc2\n",
      "0.65    -5.03        c1c(S(=O)(N(C)C(C(OC)=O)Br)=O)cc([N+]([O-])=O)c2c1c([N+]([O-])=O)ccc2\n",
      "0.65    -9.62        c1c(S(=O)(N(C)C(C(=O)OC)CC2CCC3C4C(CCC3C2)CC4)=O)c(F)ccc1\n",
      "0.65    -8.35        c1c(S(=O)(N(C)C(C(=O)OC)CS(=O)(C)=O)=O)cc(Br)c2c1c(F)ccc2\n",
      "0.65    -8.51        c1(S(=O)(N(C)C(C(=O)OC)CC(C)CCc2cccc3c2cccc3)=O)ccc(OC)cc1\n",
      "0.65    -8.13        c1(S(=O)(N(C)C(C(=O)OC)CC(OCC)CCc2ccccc2)=O)cc(Br)c2c(cccc2)c1\n",
      "0.64    -5.42        c1c(S(=O)(N(C)C(C(OC)=O)Br)=O)cc([N+]([O-])=O)c2c1C(C)(C)CCC2\n",
      "0.64   -15.20        c1c(S(=O)(N(C)C(C(=O)OC)CSCc2c[nH]c3ccccc32)=O)cccc1\n",
      "0.64   -11.64        c1c(S(=O)(N(C)C(C(=O)OC)CS(=O)(C)=O)=O)cc([N+]([O-])=O)c2c1C(C)(C)CCC2\n",
      "0.64   -10.56        c1c(S(=O)(N(C)C(C(=O)OC)CC(OCc2ccc3c(Cl)cc(C)nc3c2)=O)=O)cccc1\n",
      "0.64    -4.89        c1c(S(=O)(N(C)C(C(=O)OC)CS(=O)(C)=O)=O)cc(Br)c2c1c([N+]([O-])=O)ccc2\n",
      "0.64    -6.58        c1c(S(=O)(NC(C(=O)O)C)=O)cc([N+]([O-])=O)c2c1C(C)(C)CCC2\n",
      "0.64   -12.94        c1c(S(=O)(N(C)C(C(=O)OC)CSC=CCBr)=O)cc([N+]([O-])=O)c2c1C(C)(C)CCC2\n",
      "0.64    -9.85        c1(S(=O)(N(C)C(C(=O)OC)CC(C)CCc2cc(F)ccc2)=O)ccc(OC)cc1\n",
      "0.64    -7.39        c1c(S(=O)(N(C)C(C(=O)OC)CSC=CC)=O)cc(Br)c2c1c(Br)ccc2\n",
      "0.64    -9.14        c1c(S(=O)(N(C)C(C(OC)=O)Br)=O)cc(Br)c2c1c(Br)ccc2\n",
      "0.64    -6.77        c1c(S(=O)(N(C)C(C(OC)=O)Br)=O)cc([N+](=O)[O-])c2c1c(Br)ccc2\n",
      "0.64    -6.98        c1c(S(=O)(N(C)C(C(=O)OC)CS(C)(C)CC2CCC3C4CCC4CC2O3)=O)cc(Br)c2c1c(C)c2\n",
      "0.64    -8.82        c1c(S(=O)(N(C)C(C(=O)OC)CC(C)CCc2ccc(Br)cc2)=O)ccc(OC)c1\n",
      "0.63    -6.36        c1(S(=O)(N(C)C(C(=O)OC)CCc2ccc3c(c2)OCO3)=O)ccc(OC)cc1\n",
      "0.63    -5.48        c1c(S(=O)(N(C)C(C(=O)OC)CCc2ccc3c(c2)OCO3)=O)ccc(OC)c1\n",
      "0.63   -21.37        c1c(S(=O)(N(C)C(C(=O)OC)CS(C)(C)CC2CCC3C4CCC4CC2O3)=O)ccc(OC)c1\n",
      "0.63   -11.76        C(NC(c1c(S(=O)(N(C)C(C(=O)OC)CC(C)CCc2ccc([N+]([O-])=O)cc2)=O)cccc1)=O)c1c([N+]([O-])=O)cccc1\n",
      "\n",
      "********************************************************************************\n",
      "\n"
     ]
    }
   ],
   "source": [
    "for run in range(10):\n",
    "    hill_climbing(restore_agent_from='data/DistributionLearningBenchmark/Prior_sureChEMBL_randomized.ckpt', scoring_function='mmp12', scoring_function_kwargs=dict(), batch_size=500, use_custom_voc=\"data/DistributionLearningBenchmark/Voc\", save_dir=\"data/results/RNN_\"+str(run))"
   ]
  },
  {
   "cell_type": "code",
   "execution_count": 13,
   "metadata": {},
   "outputs": [
    {
     "name": "stdout",
     "output_type": "stream",
     "text": [
      "Model initialized, starting training...\n"
     ]
    },
    {
     "name": "stderr",
     "output_type": "stream",
     "text": [
      "/site/rp/work/projects/DD/Jupyter/notebooks/Maxime/scaffold-constrained-generation/scaffold_constrained_model.py:466: UserWarning: Implicit dimension choice for softmax has been deprecated. Change the call to include dim=X as an argument.\n",
      "  prob = F.softmax(logits)\n",
      "/site/rp/work/projects/DD/Jupyter/notebooks/Maxime/scaffold-constrained-generation/scaffold_constrained_model.py:467: UserWarning: Implicit dimension choice for log_softmax has been deprecated. Change the call to include dim=X as an argument.\n",
      "  log_prob = F.log_softmax(logits)\n"
     ]
    },
    {
     "name": "stdout",
     "output_type": "stream",
     "text": [
      "\n",
      "Best score in memory: 0.90\n"
     ]
    },
    {
     "name": "stderr",
     "output_type": "stream",
     "text": [
      "/site/rp/work/projects/DD/Jupyter/notebooks/Maxime/scaffold-constrained-generation/scaffold_constrained_model.py:96: UserWarning: Implicit dimension choice for log_softmax has been deprecated. Change the call to include dim=X as an argument.\n",
      "  log_prob = F.log_softmax(logits)\n",
      "/site/rp/work/projects/DD/Jupyter/notebooks/Maxime/scaffold-constrained-generation/scaffold_constrained_model.py:97: UserWarning: Implicit dimension choice for softmax has been deprecated. Change the call to include dim=X as an argument.\n",
      "  prob = F.softmax(logits)\n"
     ]
    },
    {
     "name": "stdout",
     "output_type": "stream",
     "text": [
      "\n",
      "       Step 0   Fraction valid SMILES: 85.8  Time elapsed: 0.05h Time left: 0.50h\n",
      "  Agent    Prior   Target   Score             SMILES\n",
      "   0.55     C(C)(NS(=O)(=O)c1ccc(-c2csc(N=C(N)N)n2)cc1)C(=O)O\n",
      "   0.54     C(c1ccccc1)(NS(=O)(=O)c1ccc(C)cc1)C(=O)O\n",
      "   0.54     C(NC(Cc1ccc2c(c1)OCO2)=O)(NS(=O)(=O)c1ccc(OC)cc1)C(=O)O\n",
      "   0.60     C(C(O)COc1ccc(CC(C)NCC(O)c2ccc(O)c(CO)c2)cc1)(NS(=O)(=O)c1ccc(Cl)cc1)C(=O)O\n",
      "   0.54     C(NCCCO)(NS(=O)(=O)c1ccc(OC)cc1)C(=O)O\n",
      "   0.55     C(C)(NS(=O)(=O)c1ccc(NC(S)=NCc2c(OC)cccc2)cc1)C(=O)O\n",
      "   0.54     C(=NNC(=O)CNC(c1ccc(NS(=O)(=O)c2ccccc2)cc1)=O)(NS(=O)(=O)c1ccc(C)cc1)C(=O)O\n",
      "   0.55     C(=C(C)C)(NS(=O)(=O)c1ccc(C)cc1)C(=O)O\n",
      "   0.62     C(Nc1ccc2c(c1)OCCO2)(NS(=O)(=O)c1ccc(N2CC[N+](C)([O-])CC2)cc1)C(=O)O\n",
      "   0.53     C(NN=Cc1ccc(Cl)cc1)(NS(=O)(=O)c1ccc(C)cc1)C(=O)O\n"
     ]
    },
    {
     "name": "stderr",
     "output_type": "stream",
     "text": [
      "/site/rp/work/projects/DD/Jupyter/notebooks/Maxime/scaffold-constrained-generation/scaffold_constrained_model.py:466: UserWarning: Implicit dimension choice for softmax has been deprecated. Change the call to include dim=X as an argument.\n",
      "  prob = F.softmax(logits)\n",
      "/site/rp/work/projects/DD/Jupyter/notebooks/Maxime/scaffold-constrained-generation/scaffold_constrained_model.py:467: UserWarning: Implicit dimension choice for log_softmax has been deprecated. Change the call to include dim=X as an argument.\n",
      "  log_prob = F.log_softmax(logits)\n"
     ]
    },
    {
     "name": "stdout",
     "output_type": "stream",
     "text": [
      "Found original molecule: C(c1ccc(F)cc1)(NS(=O)(=O)c1ccc(-c2ccccc2)cc1)C(=O)O\n",
      "\n",
      "Best score in memory: 0.94\n"
     ]
    },
    {
     "name": "stderr",
     "output_type": "stream",
     "text": [
      "/site/rp/work/projects/DD/Jupyter/notebooks/Maxime/scaffold-constrained-generation/scaffold_constrained_model.py:96: UserWarning: Implicit dimension choice for log_softmax has been deprecated. Change the call to include dim=X as an argument.\n",
      "  log_prob = F.log_softmax(logits)\n",
      "/site/rp/work/projects/DD/Jupyter/notebooks/Maxime/scaffold-constrained-generation/scaffold_constrained_model.py:97: UserWarning: Implicit dimension choice for softmax has been deprecated. Change the call to include dim=X as an argument.\n",
      "  prob = F.softmax(logits)\n"
     ]
    },
    {
     "name": "stdout",
     "output_type": "stream",
     "text": [
      "\n",
      "       Step 1   Fraction valid SMILES: 73.7  Time elapsed: 0.10h Time left: 0.44h\n",
      "  Agent    Prior   Target   Score             SMILES\n",
      "   0.62     C(c1nc(NC2C(O)C(O)C(O)C(CO)S2)ccc1)(NS(=O)(=O)c1ccc(O)cc1)C(=O)O\n",
      "   0.74     C(C(=O)NS(=O)(=O)c1ccc(NC(C)=O)cc1)(NS(=O)(=O)c1ccc(-c2ccccc2)cc1)C(=O)O\n",
      "   0.68     C(C(NC(C(=O)O)C(C)C)=O)(NS(=O)(=O)c1ccc(C(O)=O)cc1)C(=O)O\n",
      "   0.59     C(c1c(C2CCN(C(=O)C3CCC(=O)N3)CC2)cccc1)(NS(=O)(=O)c1ccc(F)cc1)C(=O)O\n",
      "   0.78     C(Cc1ccccc1)(NS(=O)(=O)c1ccc(-c2ccccc2)cc1)C(=O)O\n",
      "   0.00     C(C(C(=O)NC(C(c1sc2c([nH]c(=O)sc2=O)c1)C#N)=O)(NS(=O)(=\n",
      "   0.55     C(NC(c1ccc(-c2cc3c(cc2)C(=O)N(C)CC3)cc1)=O)(NS(=O)(=O)c1ccc(CC(C)C)cc1)C(=O)O\n",
      "   0.61     C(Oc1ccc(-c2nc(O)c3cc(Cl)ccc3n2)cc1)(NS(=O)(=O)c1ccc(CC(C)C)cc1)C(=O)O\n",
      "   0.71     C(N1CCSC1)(NS(=O)(=O)c1ccc(-c2ccccc2)cc1)C(=O)O\n",
      "   0.56     C(C(=O)N)(NS(=O)(=O)c1ccc(-c2ccc(O)cn2)cc1)C(=O)O\n"
     ]
    },
    {
     "name": "stderr",
     "output_type": "stream",
     "text": [
      "/site/rp/work/projects/DD/Jupyter/notebooks/Maxime/scaffold-constrained-generation/scaffold_constrained_model.py:466: UserWarning: Implicit dimension choice for softmax has been deprecated. Change the call to include dim=X as an argument.\n",
      "  prob = F.softmax(logits)\n",
      "/site/rp/work/projects/DD/Jupyter/notebooks/Maxime/scaffold-constrained-generation/scaffold_constrained_model.py:467: UserWarning: Implicit dimension choice for log_softmax has been deprecated. Change the call to include dim=X as an argument.\n",
      "  log_prob = F.log_softmax(logits)\n"
     ]
    },
    {
     "name": "stdout",
     "output_type": "stream",
     "text": [
      "\n",
      "Best score in memory: 0.95\n"
     ]
    },
    {
     "name": "stderr",
     "output_type": "stream",
     "text": [
      "/site/rp/work/projects/DD/Jupyter/notebooks/Maxime/scaffold-constrained-generation/scaffold_constrained_model.py:96: UserWarning: Implicit dimension choice for log_softmax has been deprecated. Change the call to include dim=X as an argument.\n",
      "  log_prob = F.log_softmax(logits)\n",
      "/site/rp/work/projects/DD/Jupyter/notebooks/Maxime/scaffold-constrained-generation/scaffold_constrained_model.py:97: UserWarning: Implicit dimension choice for softmax has been deprecated. Change the call to include dim=X as an argument.\n",
      "  prob = F.softmax(logits)\n"
     ]
    },
    {
     "name": "stdout",
     "output_type": "stream",
     "text": [
      "\n",
      "       Step 2   Fraction valid SMILES: 81.4  Time elapsed: 0.15h Time left: 0.39h\n",
      "  Agent    Prior   Target   Score             SMILES\n",
      "   0.00     C(C)(NS(=O)(=O)c1ccc(-c2ccc(NC(=O)c3cc4c(nc3O)cc(OCc3ccncc3)cc3)cc2)cc1)C(=O)O\n",
      "   0.83     C(C)(NS(=O)(=O)c1ccc(-c2ccc(CN3Cc4ccc(OC)cc4CCC3)cc2)cc1)C(=O)O\n",
      "   0.83     C(N(C)C)(NS(=O)(=O)c1ccc(-c2ccc(C)cc2)cc1)C(=O)O\n",
      "   0.85     C(C)(NS(=O)(=O)c1ccc(-c2ccc(F)cc2)cc1)C(=O)O\n",
      "   0.53     C(Sc1sc(C)nn1)(NS(=O)(=O)c1ccc(C)cc1)C(=O)O\n",
      "   0.00     C(NS(=O)(=O)c1ccc(-c2ccc(OCc3ccc(C)cc3)cc2)cc1)(NS(=O)(=O)c1ccc(-c2cc\n",
      "   0.86     C(NS(=O)(=O)c1ccc(-c2ccc(CN3CCOCC3)cc2)cc1)(NS(=O)(=O)c1ccc(C(=O)O)cc1)C(=O)O\n",
      "   0.00     C(C(F)(F)F)(NS(=O)(=O)c1ccc(-c2ccc(CCCc3ccc(NC(=O)c4ccc(Cl)cc4)cc3)cc2\n",
      "   0.83     C(C)(NS(=O)(=O)c1ccc(-c2ccc(CSCc3ccccc3)cc2)cc1)C(=O)O\n",
      "   0.85     C(C)(NS(=O)(=O)c1ccc(-c2ccc(OC(F)F)cc2)cc1)C(=O)O\n"
     ]
    },
    {
     "name": "stderr",
     "output_type": "stream",
     "text": [
      "/site/rp/work/projects/DD/Jupyter/notebooks/Maxime/scaffold-constrained-generation/scaffold_constrained_model.py:466: UserWarning: Implicit dimension choice for softmax has been deprecated. Change the call to include dim=X as an argument.\n",
      "  prob = F.softmax(logits)\n",
      "/site/rp/work/projects/DD/Jupyter/notebooks/Maxime/scaffold-constrained-generation/scaffold_constrained_model.py:467: UserWarning: Implicit dimension choice for log_softmax has been deprecated. Change the call to include dim=X as an argument.\n",
      "  log_prob = F.log_softmax(logits)\n"
     ]
    },
    {
     "name": "stdout",
     "output_type": "stream",
     "text": [
      "Found original molecule: C(CC(C)C)(NS(=O)(=O)c1ccc(-c2ccc(CCC)cc2)cc1)C(=O)O\n",
      "\n",
      "Best score in memory: 0.97\n"
     ]
    },
    {
     "name": "stderr",
     "output_type": "stream",
     "text": [
      "/site/rp/work/projects/DD/Jupyter/notebooks/Maxime/scaffold-constrained-generation/scaffold_constrained_model.py:96: UserWarning: Implicit dimension choice for log_softmax has been deprecated. Change the call to include dim=X as an argument.\n",
      "  log_prob = F.log_softmax(logits)\n",
      "/site/rp/work/projects/DD/Jupyter/notebooks/Maxime/scaffold-constrained-generation/scaffold_constrained_model.py:97: UserWarning: Implicit dimension choice for softmax has been deprecated. Change the call to include dim=X as an argument.\n",
      "  prob = F.softmax(logits)\n"
     ]
    },
    {
     "name": "stdout",
     "output_type": "stream",
     "text": [
      "\n",
      "       Step 3   Fraction valid SMILES: 88.7  Time elapsed: 0.20h Time left: 0.34h\n",
      "  Agent    Prior   Target   Score             SMILES\n",
      "   0.92     C(C)(NS(=O)(=O)c1ccc(-c2ccc(CCC(C)(C)C)cc2)cc1)C(=O)O\n",
      "   0.87     C(C)(NS(=O)(=O)c1ccc(-c2ccc(NC(=O)CCc3ccc(F)cc3)cc2)cc1)C(=O)O\n",
      "   0.85     C(C)(NS(=O)(=O)c1ccc(-c2ccc(OC3CCOCC3)cc2)cc1)C(=O)O\n",
      "   0.92     C(C)(NS(=O)(=O)c1ccc(-c2ccc(CCC(=O)N3CCOCC3)cc2)cc1)C(=O)O\n",
      "   0.93     C(NS(=O)(=O)c1ccc(-c2ccc(SC)cc2)cc1)(NS(=O)(=O)c1ccc(Cl)cc1)C(=O)O\n",
      "   0.85     C(c1ccncc1)(NS(=O)(=O)c1ccc(-c2ccc(CNCCc3ccc(O)cc3)cc2)cc1)C(=O)O\n",
      "   0.90     C(O)(NS(=O)(=O)c1ccc(-c2ccc(CNCCc3ccc(O)cc3)cc2)cc1)C(=O)O\n",
      "   0.85     C(C)(NS(=O)(=O)c1ccc(-c2ccc(-c3ccc(CNCCc4ccc(OCCCO)cc4)cc3)cc2)cc1)C(=O)O\n",
      "   0.92     C(C(=O)O)(NS(=O)(=O)c1ccc(-c2ccc(CCCc3ccc(F)cc3)cc2)cc1)C(=O)O\n",
      "   0.91     C(CC(NS(=O)(=O)c1ccc(-c2ccc(F)cc2)cc1)C(=O)O)(NS(=O)(=O)c1ccc(C)cc1)C(=O)O\n"
     ]
    },
    {
     "name": "stderr",
     "output_type": "stream",
     "text": [
      "/site/rp/work/projects/DD/Jupyter/notebooks/Maxime/scaffold-constrained-generation/scaffold_constrained_model.py:466: UserWarning: Implicit dimension choice for softmax has been deprecated. Change the call to include dim=X as an argument.\n",
      "  prob = F.softmax(logits)\n",
      "/site/rp/work/projects/DD/Jupyter/notebooks/Maxime/scaffold-constrained-generation/scaffold_constrained_model.py:467: UserWarning: Implicit dimension choice for log_softmax has been deprecated. Change the call to include dim=X as an argument.\n",
      "  log_prob = F.log_softmax(logits)\n"
     ]
    },
    {
     "name": "stdout",
     "output_type": "stream",
     "text": [
      "\n",
      "Best score in memory: 0.97\n"
     ]
    },
    {
     "name": "stderr",
     "output_type": "stream",
     "text": [
      "/site/rp/work/projects/DD/Jupyter/notebooks/Maxime/scaffold-constrained-generation/scaffold_constrained_model.py:96: UserWarning: Implicit dimension choice for log_softmax has been deprecated. Change the call to include dim=X as an argument.\n",
      "  log_prob = F.log_softmax(logits)\n",
      "/site/rp/work/projects/DD/Jupyter/notebooks/Maxime/scaffold-constrained-generation/scaffold_constrained_model.py:97: UserWarning: Implicit dimension choice for softmax has been deprecated. Change the call to include dim=X as an argument.\n",
      "  prob = F.softmax(logits)\n"
     ]
    },
    {
     "name": "stdout",
     "output_type": "stream",
     "text": [
      "\n",
      "       Step 4   Fraction valid SMILES: 85.9  Time elapsed: 0.25h Time left: 0.30h\n",
      "  Agent    Prior   Target   Score             SMILES\n",
      "   0.95     C(C)(NS(=O)(=O)c1ccc(-c2ccc(CCC)cc2)cc1)C(=O)O\n",
      "   0.95     C(F)(NS(=O)(=O)c1ccc(-c2ccc(CCC(N3Cc4ccccc4COC3)=O)cc2)cc1)C(=O)O\n",
      "   0.93     C(C)(NS(=O)(=O)c1ccc(-c2ccc(CCC(=O)NS(=O)(=O)C)cc2)cc1)C(=O)O\n",
      "   0.94     C(F)(NS(=O)(=O)c1ccc(-c2ccc(CCC(N3Cc4ccccc4CC3)=O)cc2)cc1)C(=O)O\n",
      "   0.96     C(CO)(NS(=O)(=O)c1ccc(-c2ccc(CCC)cc2)cc1)C(=O)O\n",
      "   0.82     C(n1cncn1)(NS(=O)(=O)c1ccc(-c2ccc(OC(F)F)cc2)cc1)C(=O)O\n",
      "   0.93     C(C)(NS(=O)(=O)c1ccc(-c2ccc(CCC(N3Cc4ccccc4CC3)=O)cc2)cc1)C(=O)O\n",
      "   0.00     C(C)(NS(=O)(=O)c1ccc(-c2ccc(CCCC(=O)N3CCc3ccccc3COC(C)C)cc2)cc1)C(=O)O\n",
      "   0.94     C(F)(NS(=O)(=O)c1ccc(-c2ccc(CCc3ccc(CCC(=O)O)cc3)cc2)cc1)C(=O)O\n",
      "   0.95     C(C)(NS(=O)(=O)c1ccc(-c2ccc(-c3ccc(CCC)cc3)cc2)cc1)C(=O)O\n"
     ]
    },
    {
     "name": "stderr",
     "output_type": "stream",
     "text": [
      "/site/rp/work/projects/DD/Jupyter/notebooks/Maxime/scaffold-constrained-generation/scaffold_constrained_model.py:466: UserWarning: Implicit dimension choice for softmax has been deprecated. Change the call to include dim=X as an argument.\n",
      "  prob = F.softmax(logits)\n",
      "/site/rp/work/projects/DD/Jupyter/notebooks/Maxime/scaffold-constrained-generation/scaffold_constrained_model.py:467: UserWarning: Implicit dimension choice for log_softmax has been deprecated. Change the call to include dim=X as an argument.\n",
      "  log_prob = F.log_softmax(logits)\n"
     ]
    },
    {
     "name": "stdout",
     "output_type": "stream",
     "text": [
      "\n",
      "Best score in memory: 0.98\n"
     ]
    },
    {
     "name": "stderr",
     "output_type": "stream",
     "text": [
      "/site/rp/work/projects/DD/Jupyter/notebooks/Maxime/scaffold-constrained-generation/scaffold_constrained_model.py:96: UserWarning: Implicit dimension choice for log_softmax has been deprecated. Change the call to include dim=X as an argument.\n",
      "  log_prob = F.log_softmax(logits)\n",
      "/site/rp/work/projects/DD/Jupyter/notebooks/Maxime/scaffold-constrained-generation/scaffold_constrained_model.py:97: UserWarning: Implicit dimension choice for softmax has been deprecated. Change the call to include dim=X as an argument.\n",
      "  prob = F.softmax(logits)\n"
     ]
    },
    {
     "name": "stdout",
     "output_type": "stream",
     "text": [
      "\n",
      "       Step 5   Fraction valid SMILES: 92.7  Time elapsed: 0.30h Time left: 0.25h\n",
      "  Agent    Prior   Target   Score             SMILES\n",
      "   0.95     C(C)(NS(=O)(=O)c1ccc(-c2ccc(CCC)cc2)cc1)C(=O)O\n",
      "   0.94     C(CC(F)(F)F)(NS(=O)(=O)c1ccc(-c2ccc(SC)cc2)cc1)C(=O)O\n",
      "   0.96     C(C)(NS(=O)(=O)c1ccc(-c2ccc(CCCOc3ccc(-c4ccc(CCC)cc4)cc3)cc2)cc1)C(=O)O\n",
      "   0.91     C(O)(NS(=O)(=O)c1ccc(-c2ccc(CCCn3cccc3)cc2)cc1)C(=O)O\n",
      "   0.93     C(F)(NS(=O)(=O)c1ccc(-c2ccc(CCC(=O)N3CCSC3)cc2)cc1)C(=O)O\n",
      "   0.94     C(O)(NS(=O)(=O)c1ccc(-c2ccc(CCC(=O)NC(CO)(CO)CO)cc2)cc1)C(=O)O\n",
      "   0.96     C(CCO)(NS(=O)(=O)c1ccc(-c2ccc(CCCOc3cc4c(c(C)cc(O)n4)cc3)cc2)cc1)C(=O)O\n",
      "   0.95     C(O)(NS(=O)(=O)c1ccc(-c2ccc(CCC(N3Cc4ccccc4COC3)=O)cc2)cc1)C(=O)O\n",
      "   0.94     C(O)(NS(=O)(=O)c1ccc(-c2ccc(CCCC(=O)NC(C)CO)cc2)cc1)C(=O)O\n",
      "   0.95     C(O)(NS(=O)(=O)c1ccc(-c2ccc(CCC)cc2)cc1)C(=O)O\n"
     ]
    },
    {
     "name": "stderr",
     "output_type": "stream",
     "text": [
      "/site/rp/work/projects/DD/Jupyter/notebooks/Maxime/scaffold-constrained-generation/scaffold_constrained_model.py:466: UserWarning: Implicit dimension choice for softmax has been deprecated. Change the call to include dim=X as an argument.\n",
      "  prob = F.softmax(logits)\n",
      "/site/rp/work/projects/DD/Jupyter/notebooks/Maxime/scaffold-constrained-generation/scaffold_constrained_model.py:467: UserWarning: Implicit dimension choice for log_softmax has been deprecated. Change the call to include dim=X as an argument.\n",
      "  log_prob = F.log_softmax(logits)\n"
     ]
    },
    {
     "name": "stdout",
     "output_type": "stream",
     "text": [
      "Found original molecule: C(CCSCC)(NS(=O)(=O)c1ccc(-c2ccc(CCC)cc2)cc1)C(=O)O\n",
      "\n",
      "Best score in memory: 0.98\n"
     ]
    },
    {
     "name": "stderr",
     "output_type": "stream",
     "text": [
      "/site/rp/work/projects/DD/Jupyter/notebooks/Maxime/scaffold-constrained-generation/scaffold_constrained_model.py:96: UserWarning: Implicit dimension choice for log_softmax has been deprecated. Change the call to include dim=X as an argument.\n",
      "  log_prob = F.log_softmax(logits)\n",
      "/site/rp/work/projects/DD/Jupyter/notebooks/Maxime/scaffold-constrained-generation/scaffold_constrained_model.py:97: UserWarning: Implicit dimension choice for softmax has been deprecated. Change the call to include dim=X as an argument.\n",
      "  prob = F.softmax(logits)\n"
     ]
    },
    {
     "name": "stdout",
     "output_type": "stream",
     "text": [
      "\n",
      "       Step 6   Fraction valid SMILES: 92.1  Time elapsed: 0.35h Time left: 0.20h\n",
      "  Agent    Prior   Target   Score             SMILES\n",
      "   0.97     C(CCO)(NS(=O)(=O)c1ccc(-c2ccc(CCC)cc2)cc1)C(=O)O\n",
      "   0.96     C(CC)(NS(=O)(=O)c1ccc(-c2ccc(CCC)cc2)cc1)C(=O)O\n",
      "   0.95     C(CCC(F)(F)F)(NS(=O)(=O)c1ccc(-c2ccc(CCCOc3cc4cc(O)ccc4cc3)cc2)cc1)C(=O)O\n",
      "   0.97     C(CCC(F)=CCO)(NS(=O)(=O)c1ccc(-c2ccc(CCC)cc2)cc1)C(=O)O\n",
      "   0.96     C(CCC(F)=CCO)(NS(=O)(=O)c1ccc(-c2ccc(SC)cc2)cc1)C(=O)O\n",
      "   0.96     C(CCO)(NS(=O)(=O)c1ccc(-c2ccc(CCC(=O)NC3CC3)cc2)cc1)C(=O)O\n",
      "   0.98     C(CC(F)(F)F)(NS(=O)(=O)c1ccc(-c2ccc(CCC)cc2)cc1)C(=O)O\n",
      "   0.96     C(CCC)(NS(=O)(=O)c1ccc(-c2ccc(CCC(=O)O)cc2)cc1)C(=O)O\n",
      "   0.00     C(CCC(F)(F)F)(NS(=O)(=O)c1ccc(-c2ccc(CCC(=O)c3ccc(-c4ccc(CCC)cc4)cc3)\n",
      "   0.94     C(CC)(NS(=O)(=O)c1ccc(-c2ccc(CCCOc3cc4c([nH]c(=O)cc4cc3)CO)cc2)cc1)C(=O)O\n"
     ]
    },
    {
     "name": "stderr",
     "output_type": "stream",
     "text": [
      "/site/rp/work/projects/DD/Jupyter/notebooks/Maxime/scaffold-constrained-generation/scaffold_constrained_model.py:466: UserWarning: Implicit dimension choice for softmax has been deprecated. Change the call to include dim=X as an argument.\n",
      "  prob = F.softmax(logits)\n",
      "/site/rp/work/projects/DD/Jupyter/notebooks/Maxime/scaffold-constrained-generation/scaffold_constrained_model.py:467: UserWarning: Implicit dimension choice for log_softmax has been deprecated. Change the call to include dim=X as an argument.\n",
      "  log_prob = F.log_softmax(logits)\n"
     ]
    },
    {
     "name": "stdout",
     "output_type": "stream",
     "text": [
      "\n",
      "Best score in memory: 0.99\n"
     ]
    },
    {
     "name": "stderr",
     "output_type": "stream",
     "text": [
      "/site/rp/work/projects/DD/Jupyter/notebooks/Maxime/scaffold-constrained-generation/scaffold_constrained_model.py:96: UserWarning: Implicit dimension choice for log_softmax has been deprecated. Change the call to include dim=X as an argument.\n",
      "  log_prob = F.log_softmax(logits)\n",
      "/site/rp/work/projects/DD/Jupyter/notebooks/Maxime/scaffold-constrained-generation/scaffold_constrained_model.py:97: UserWarning: Implicit dimension choice for softmax has been deprecated. Change the call to include dim=X as an argument.\n",
      "  prob = F.softmax(logits)\n"
     ]
    },
    {
     "name": "stdout",
     "output_type": "stream",
     "text": [
      "\n",
      "       Step 7   Fraction valid SMILES: 91.6  Time elapsed: 0.40h Time left: 0.15h\n",
      "  Agent    Prior   Target   Score             SMILES\n",
      "   0.97     C(CCC)(NS(=O)(=O)c1ccc(-c2ccc(CCC(=O)CCc3ccc(CC)cc3)cc2)cc1)C(=O)O\n",
      "   0.99     C(CCCO)(NS(=O)(=O)c1ccc(-c2ccc(CCC(=O)c3ccc(-c4ccc(CCC)cc4)cc3)cc2)cc1)C(=O)O\n",
      "   0.97     C(CCCO)(NS(=O)(=O)c1ccc(-c2ccc(CCC(N3Cc4ccccc4OCO3)=O)cc2)cc1)C(=O)O\n",
      "   0.97     C(CCC(C)C)(NS(=O)(=O)c1ccc(-c2ccc(CCC)cc2)cc1)C(=O)O\n",
      "   0.97     C(CCS)(NS(=O)(=O)c1ccc(-c2ccc(CCCOc3cc4cc(O)ccc4cc3)cc2)cc1)C(=O)O\n",
      "   0.97     C(CCC)(NS(=O)(=O)c1ccc(-c2ccc(CCC(=O)CCc3ccc(CCC)cc3)cc2)cc1)C(=O)O\n",
      "   0.97     C(CCC(F)=CO)(NS(=O)(=O)c1ccc(-c2ccc(CCC)cc2)cc1)C(=O)O\n",
      "   0.96     C(CCCO)(NS(=O)(=O)c1ccc(-c2ccc(CCC(Nc3ccccc3)=O)cc2)cc1)C(=O)O\n",
      "   0.96     C(CCO)(NS(=O)(=O)c1ccc(-c2ccc(CCC(=O)NC3CC3)cc2)cc1)C(=O)O\n",
      "   0.96     C(CC(O)O)(NS(=O)(=O)c1ccc(-c2ccc(CCC)cc2)cc1)C(=O)O\n"
     ]
    },
    {
     "name": "stderr",
     "output_type": "stream",
     "text": [
      "/site/rp/work/projects/DD/Jupyter/notebooks/Maxime/scaffold-constrained-generation/scaffold_constrained_model.py:466: UserWarning: Implicit dimension choice for softmax has been deprecated. Change the call to include dim=X as an argument.\n",
      "  prob = F.softmax(logits)\n",
      "/site/rp/work/projects/DD/Jupyter/notebooks/Maxime/scaffold-constrained-generation/scaffold_constrained_model.py:467: UserWarning: Implicit dimension choice for log_softmax has been deprecated. Change the call to include dim=X as an argument.\n",
      "  log_prob = F.log_softmax(logits)\n"
     ]
    },
    {
     "name": "stdout",
     "output_type": "stream",
     "text": [
      "\n",
      "Best score in memory: 0.99\n"
     ]
    },
    {
     "name": "stderr",
     "output_type": "stream",
     "text": [
      "/site/rp/work/projects/DD/Jupyter/notebooks/Maxime/scaffold-constrained-generation/scaffold_constrained_model.py:96: UserWarning: Implicit dimension choice for log_softmax has been deprecated. Change the call to include dim=X as an argument.\n",
      "  log_prob = F.log_softmax(logits)\n",
      "/site/rp/work/projects/DD/Jupyter/notebooks/Maxime/scaffold-constrained-generation/scaffold_constrained_model.py:97: UserWarning: Implicit dimension choice for softmax has been deprecated. Change the call to include dim=X as an argument.\n",
      "  prob = F.softmax(logits)\n"
     ]
    },
    {
     "name": "stdout",
     "output_type": "stream",
     "text": [
      "\n",
      "       Step 8   Fraction valid SMILES: 91.8  Time elapsed: 0.45h Time left: 0.10h\n",
      "  Agent    Prior   Target   Score             SMILES\n",
      "   0.97     C(CCCO)(NS(=O)(=O)c1ccc(-c2ccc(CCCC(N3Cc4ccccc4COC3)=O)cc2)cc1)C(=O)O\n",
      "   0.97     C(CCCO)(NS(=O)(=O)c1ccc(-c2ccc(CCC(=O)NC3CC3)cc2)cc1)C(=O)O\n",
      "   0.98     C(CCS)(NS(=O)(=O)c1ccc(-c2ccc(CCC(=O)N3Cc4ccccc4OCO3)cc2)cc1)C(=O)O\n",
      "   0.97     C(CCC)(NS(=O)(=O)c1ccc(-c2ccc(CCCc3ccc(CCC)cc3)cc2)cc1)C(=O)O\n",
      "   0.97     C(CCCO)(NS(=O)(=O)c1ccc(-c2ccc(CCC(=O)N3Cc4ccccc4OCO3)cc2)cc1)C(=O)O\n",
      "   0.98     C(CCS)(NS(=O)(=O)c1ccc(-c2ccc(CCC(=O)CCc3ccc(CCC)cc3)cc2)cc1)C(=O)O\n",
      "   0.98     C(CCS)(NS(=O)(=O)c1ccc(-c2ccc(-c3ccc(CCC)cc3)cc2)cc1)C(=O)O\n",
      "   0.98     C(CCCO)(NS(=O)(=O)c1ccc(-c2ccc(CCC(=O)CCCc3ccc(CCC)cc3)cc2)cc1)C(=O)O\n",
      "   0.98     C(CCS)(NS(=O)(=O)c1ccc(-c2ccc(CCC)cc2)cc1)C(=O)O\n",
      "   0.97     C(CC(NS)(C)C(=O)O)(NS(=O)(=O)c1ccc(-c3ccc(CCC)cc3)cc1)C(=O)O\n"
     ]
    },
    {
     "name": "stderr",
     "output_type": "stream",
     "text": [
      "/site/rp/work/projects/DD/Jupyter/notebooks/Maxime/scaffold-constrained-generation/scaffold_constrained_model.py:466: UserWarning: Implicit dimension choice for softmax has been deprecated. Change the call to include dim=X as an argument.\n",
      "  prob = F.softmax(logits)\n",
      "/site/rp/work/projects/DD/Jupyter/notebooks/Maxime/scaffold-constrained-generation/scaffold_constrained_model.py:467: UserWarning: Implicit dimension choice for log_softmax has been deprecated. Change the call to include dim=X as an argument.\n",
      "  log_prob = F.log_softmax(logits)\n"
     ]
    },
    {
     "name": "stdout",
     "output_type": "stream",
     "text": [
      "\n",
      "Best score in memory: 1.00\n"
     ]
    },
    {
     "name": "stderr",
     "output_type": "stream",
     "text": [
      "/site/rp/work/projects/DD/Jupyter/notebooks/Maxime/scaffold-constrained-generation/scaffold_constrained_model.py:96: UserWarning: Implicit dimension choice for log_softmax has been deprecated. Change the call to include dim=X as an argument.\n",
      "  log_prob = F.log_softmax(logits)\n",
      "/site/rp/work/projects/DD/Jupyter/notebooks/Maxime/scaffold-constrained-generation/scaffold_constrained_model.py:97: UserWarning: Implicit dimension choice for softmax has been deprecated. Change the call to include dim=X as an argument.\n",
      "  prob = F.softmax(logits)\n"
     ]
    },
    {
     "name": "stdout",
     "output_type": "stream",
     "text": [
      "\n",
      "       Step 9   Fraction valid SMILES: 82.7  Time elapsed: 0.50h Time left: 0.05h\n",
      "  Agent    Prior   Target   Score             SMILES\n",
      "   0.97     C(CCO)(NS(=O)(=O)c1ccc(-c2ccc(-c3ccc(CCC)cc3)cc2)cc1)C(=O)O\n",
      "   0.98     C(CCCO)(NS(=O)(=O)c1ccc(-c2ccc(CCCOc3ccc(CCC)cc3)cc2)cc1)C(=O)O\n",
      "   0.97     C(CCC(S)(C)CSS)(NS(=O)(=O)c1ccc(-c2ccc(CCC)cc2)cc1)C(=O)O\n",
      "   0.98     C(CCCO)(NS(=O)(=O)c1ccc(-c2ccc(CCCOc3cc4cc(CCC)ccc4cc3)cc2)cc1)C(=O)O\n",
      "   0.00     C(CCC)(NS(=O)(=O)c1ccc(-c2ccc(CCCOc3ccc(CCCC(=O)NCc4ccc(SC)cc4)cc3)cc\n",
      "   0.98     C(CCS)(NS(=O)(=O)c1ccc(-c2ccc(CCCC(=O)N3Cc4ccccc4OCO3)cc2)cc1)C(=O)O\n",
      "   0.98     C(CCCO)(NS(=O)(=O)c1ccc(-c2ccc(CCCCc3ccc(SC)cc3)cc2)cc1)C(=O)O\n",
      "   0.99     C(CCS)(NS(=O)(=O)c1ccc(-c2ccc(CCCc3ccc(CCCOc4ccc(CCC)cc4)cc3)cc2)cc1)C(=O)O\n",
      "   0.99     C(CCS)(NS(=O)(=O)c1ccc(-c2ccc(CCCC(=O)CCc3ccc(CCC)cc3)cc2)cc1)C(=O)O\n",
      "   0.98     C(CCS)(NS(=O)(=O)c1ccc(-c2ccc(CCC(N3Cc4ccccc4COC3)=O)cc2)cc1)C(=O)O\n",
      "\n",
      "********************************************************************************\n",
      "\n",
      "         Best recorded SMILES: \n",
      "\n",
      "Score     Prior log P     SMILES\n",
      "\n",
      "1.00    -5.13        C(CCS)(NS(=O)(=O)c1ccc(-c2ccc(CCCC(=O)c3ccc(-c4ccc(CCC)cc4)cc3)cc2)cc1)C(=O)O\n",
      "0.99   -14.64        C(CCCCC)(NS(=O)(=O)c1ccc(-c2ccc(CCCc3ccc(CCCc4ccc(SC)cc4)cc3)cc2)cc1)C(=O)O\n",
      "0.99    -6.16        C(CCS)(NS(=O)(=O)c1ccc(-c2ccc(CCC(=O)c3ccc(-c4ccc(CCC)cc4)cc3)cc2)cc1)C(=O)O\n",
      "0.99    -7.99        C(CCS)(NS(=O)(=O)c1ccc(-c2ccc(CCC(c3ccc(-c4ccc(CCC)cc4)cc3)=O)cc2)cc1)C(=O)O\n",
      "0.99   -13.91        C(CCCC(=O)O)(NS(=O)(=O)c1ccc(-c2ccc(CCC(=O)CCc3ccc(CCC)cc3)cc2)cc1)C(=O)O\n",
      "0.99    -6.03        C(CCCS)(NS(=O)(=O)c1ccc(-c2ccc(CCC(=O)c3ccc(-c4ccc(CCC)cc4)cc3)cc2)cc1)C(=O)O\n",
      "0.99    -5.72        C(CCCO)(NS(=O)(=O)c1ccc(-c2ccc(CCC(=O)c3ccc(-c4ccc(CCC)cc4)cc3)cc2)cc1)C(=O)O\n",
      "0.99    -5.05        C(CCS)(NS(=O)(=O)c1ccc(-c2ccc(CCCOc3ccc(-c4ccc(CCC)cc4)cc3)cc2)cc1)C(=O)O\n",
      "0.99    -4.67        C(CCS)(NS(=O)(=O)c1ccc(-c2ccc(CCCc3ccc(CCC)cc3)cc2)cc1)C(=O)O\n",
      "0.99    -6.50        C(CCS)(NS(=O)(=O)c1ccc(-c2ccc(CCCc3ccc(CCCOc4ccc(CCC)cc4)cc3)cc2)cc1)C(=O)O\n",
      "0.99    -7.31        C(CCS)(NS(=O)(=O)c1ccc(-c2ccc(CCCOc3ccc(CCC)cc3)cc2)cc1)C(=O)O\n",
      "0.99    -5.98        C(CCS)(NS(=O)(=O)c1ccc(-c2ccc(CCCOc3cc4cc(CCC)ccc4cc3)cc2)cc1)C(=O)O\n",
      "0.99    -8.21        C(CCS)(NS(=O)(=O)c1ccc(-c2ccc(CCC(=O)CCCc3ccc(-c4ccc(CCC)cc4)cc3)cc2)cc1)C(=O)O\n",
      "0.99    -8.20        C(CCS)(NS(=O)(=O)c1ccc(-c2ccc(CCC(=O)CCCCc3ccc(CCC)cc3)cc2)cc1)C(=O)O\n",
      "0.99    -7.98        C(CCS)(NS(=O)(=O)c1ccc(-c2ccc(CCCOc3ccc(CCCOc4ccc(CCC)cc4)cc3)cc2)cc1)C(=O)O\n",
      "0.99    -6.22        C(CCS)(NS(=O)(=O)c1ccc(-c2ccc(CCCc3ccc(CCCc4ccc(CCC)cc4)cc3)cc2)cc1)C(=O)O\n",
      "0.99    -4.54        C(CCS)(NS(=O)(=O)c1ccc(-c2ccc(CCC(=O)CCCc3ccc(CCC)cc3)cc2)cc1)C(=O)O\n",
      "0.99    -7.76        C(CCCO)(NS(=O)(=O)c1ccc(-c2ccc(CCCC(=O)c3ccc(-c4ccc(CCC)cc4)cc3)cc2)cc1)C(=O)O\n",
      "0.99    -6.66        C(CCS)(NS(=O)(=O)c1ccc(-c2ccc(CCCC(=O)CCc3ccc(CCC)cc3)cc2)cc1)C(=O)O\n",
      "0.99    -8.62        C(CCS)(NS(=O)(=O)c1ccc(-c2ccc(CCCOc3ccc(CCCCc4ccc(CCC)cc4)cc3)cc2)cc1)C(=O)O\n",
      "0.99    -6.37        C(CCS)(NS(=O)(=O)c1ccc(-c2ccc(-c3ccc(CCCc4ccc(CCC)cc4)cc3)cc2)cc1)C(=O)O\n",
      "0.99    -5.35        C(CCS)(NS(=O)(=O)c1ccc(-c2ccc(CCCOc3ccc(CCCc4ccc(CCC)cc4)cc3)cc2)cc1)C(=O)O\n",
      "0.99    -6.11        C(CCS)(NS(=O)(=O)c1ccc(-c2ccc(-c3ccc(CCCOc4ccc(CCC)cc4)cc3)cc2)cc1)C(=O)O\n",
      "0.99    -4.65        C(CCS)(NS(=O)(=O)c1ccc(-c2ccc(CCCc3ccc(-c4ccc(CCC)cc4)cc3)cc2)cc1)C(=O)O\n",
      "0.99    -7.57        C(CCCS)(NS(=O)(=O)c1ccc(-c2ccc(CCCc3ccc(CCC)cc3)cc2)cc1)C(=O)O\n",
      "0.99    -8.36        C(CCCO)(NS(=O)(=O)c1ccc(-c2ccc(CCC(=O)CCCCc3ccc(SC)cc3)cc2)cc1)C(=O)O\n",
      "0.99    -6.74        C(CCCS)(NS(=O)(=O)c1ccc(-c2ccc(CCC(=O)CCCc3ccc(CCC)cc3)cc2)cc1)C(=O)O\n",
      "0.99    -5.39        C(CCCO)(NS(=O)(=O)c1ccc(-c2ccc(CCC(=O)CCc3ccc(SC)cc3)cc2)cc1)C(=O)O\n",
      "0.99    -6.67        C(CCCS)(NS(=O)(=O)c1ccc(-c2ccc(CCC(=O)CCc3ccc(CCC)cc3)cc2)cc1)C(=O)O\n",
      "0.99    -7.82        C(CCS)(NS(=O)(=O)c1ccc(-c2ccc(CCCC(N3Cc4ccccc4COC3)=O)cc2)cc1)C(=O)O\n",
      "0.99   -14.92        C(CCCC(S)(C)CSS)(NS(=O)(=O)c1ccc(-c2ccc(CCC)cc2)cc1)C(=O)O\n",
      "0.99   -10.77        C(CCCCCC(=O)O)(NS(=O)(=O)c1ccc(-c2ccc(CCC)cc2)cc1)C(=O)O\n",
      "0.99    -7.01        C(CCCS)(NS(=O)(=O)c1ccc(-c2ccc(CCC)cc2)cc1)C(=O)O\n",
      "0.99   -10.17        C(CCCc2ccc(CCCc3ccc(CCC)cc3)cc2)(NS(=O)(=O)c1ccc(-c3ccc(CCC)cc3)cc1)C(=O)O\n",
      "0.99    -7.13        C(CCCS)(NS(=O)(=O)c1ccc(-c2ccc(CCCc3ccc(-c4ccc(CCC)cc4)cc3)cc2)cc1)C(=O)O\n",
      "0.99    -7.45        C(CCCC(=O)O)(NS(=O)(=O)c1ccc(-c2ccc(CCCc3ccc(CCC)cc3)cc2)cc1)C(=O)O\n",
      "0.99    -7.90        C(CCS)(NS(=O)(=O)c1ccc(-c2ccc(CCCCC(N3Cc4ccccc4COC3)=O)cc2)cc1)C(=O)O\n",
      "0.99    -9.54        C(CCS)(NS(=O)(=O)c1ccc(-c2ccc(CCC(c3ccc(CCC)cc3)=O)cc2)cc1)C(=O)O\n",
      "0.99    -4.63        C(CCS)(NS(=O)(=O)c1ccc(-c2ccc(CCC(=O)c3ccc(CCC)cc3)cc2)cc1)C(=O)O\n",
      "0.99    -7.89        C(CCCC(C)(C)C)(NS(=O)(=O)c1ccc(-c2ccc(-c3ccc(CCC)cc3)cc2)cc1)C(=O)O\n",
      "0.99    -9.99        C(CCCCCC(S)(C)CSS)(NS(=O)(=O)c1ccc(-c2ccc(CCC)cc2)cc1)C(=O)O\n",
      "0.99    -6.56        C(CCCC(C)(S)C)(NS(=O)(=O)c1ccc(-c2ccc(-c3ccc(CCC)cc3)cc2)cc1)C(=O)O\n",
      "0.99    -6.31        C(CCCS)(NS(=O)(=O)c1ccc(-c2ccc(CCCOc3ccc(CCC)cc3)cc2)cc1)C(=O)O\n",
      "0.99    -7.57        C(CCCC(S)(C)CSS)(NS(=O)(=O)c1ccc(-c2ccc(CCCOc3ccc(CCC)cc3)cc2)cc1)C(=O)O\n",
      "0.98    -6.55        C(CCS)(NS(=O)(=O)c1ccc(-c2ccc(CCC(=O)CCc3ccc(CCC)cc3)cc2)cc1)C(=O)O\n",
      "0.98    -6.82        C(CCS)(NS(=O)(=O)c1ccc(-c2ccc(CCCC(=O)N3Cc4ccccc4OCO3)cc2)cc1)C(=O)O\n",
      "0.98    -7.67        C(CC(F)(F)F)(NS(=O)(=O)c1ccc(-c2ccc(CCCc3ccc(CCC)cc3)cc2)cc1)C(=O)O\n",
      "0.98    -8.02        C(CCS)(NS(=O)(=O)c1ccc(-c2ccc(CCCCC(=O)N3Cc4ccccc4OCO3)cc2)cc1)C(=O)O\n",
      "0.98    -9.89        C(CCS)(NS(=O)(=O)c1ccc(-c2ccc(-c3ccc(CCC(=O)NCCc4ccc(CCC)cc4)cc3)cc2)cc1)C(=O)O\n",
      "0.98    -5.85        C(CCCO)(NS(=O)(=O)c1ccc(-c2ccc(CCC(=O)CCCc3ccc(SC)cc3)cc2)cc1)C(=O)O\n",
      "\n",
      "********************************************************************************\n",
      "\n",
      "Model initialized, starting training...\n"
     ]
    },
    {
     "name": "stderr",
     "output_type": "stream",
     "text": [
      "/site/rp/work/projects/DD/Jupyter/notebooks/Maxime/scaffold-constrained-generation/scaffold_constrained_model.py:466: UserWarning: Implicit dimension choice for softmax has been deprecated. Change the call to include dim=X as an argument.\n",
      "  prob = F.softmax(logits)\n",
      "/site/rp/work/projects/DD/Jupyter/notebooks/Maxime/scaffold-constrained-generation/scaffold_constrained_model.py:467: UserWarning: Implicit dimension choice for log_softmax has been deprecated. Change the call to include dim=X as an argument.\n",
      "  log_prob = F.log_softmax(logits)\n"
     ]
    },
    {
     "name": "stdout",
     "output_type": "stream",
     "text": [
      "\n",
      "Best score in memory: 0.90\n"
     ]
    },
    {
     "name": "stderr",
     "output_type": "stream",
     "text": [
      "/site/rp/work/projects/DD/Jupyter/notebooks/Maxime/scaffold-constrained-generation/scaffold_constrained_model.py:96: UserWarning: Implicit dimension choice for log_softmax has been deprecated. Change the call to include dim=X as an argument.\n",
      "  log_prob = F.log_softmax(logits)\n",
      "/site/rp/work/projects/DD/Jupyter/notebooks/Maxime/scaffold-constrained-generation/scaffold_constrained_model.py:97: UserWarning: Implicit dimension choice for softmax has been deprecated. Change the call to include dim=X as an argument.\n",
      "  prob = F.softmax(logits)\n"
     ]
    },
    {
     "name": "stdout",
     "output_type": "stream",
     "text": [
      "\n",
      "       Step 0   Fraction valid SMILES: 86.6  Time elapsed: 0.05h Time left: 0.50h\n",
      "  Agent    Prior   Target   Score             SMILES\n",
      "   0.58     C(C)(NS(=O)(=O)c1ccc(OCC)cc1)C(=O)O\n",
      "   0.54     C(=O)(NS(=O)(=O)c1ccc(C(=O)OC)cc1)C(=O)O\n",
      "   0.57     C(c1ccccc1)(NS(=O)(=O)c1ccc(Cl)cc1)C(=O)O\n",
      "   0.55     C(N(CC)Cc1ccc(OCC(CNC(C)(C)C)O)cc1)(NS(=O)(=O)c1ccc(Cl)cc1)C(=O)O\n",
      "   0.56     C(Oc1cccc(Oc2cccc(CN3CCNCC3)c2)c1-c1nc(C)ncc1)(NS(=O)(=O)c1ccc(Cl)cc1)C(=O)O\n",
      "   0.55     C(NC(C)(C)C)(NS(=O)(=O)c1ccc(CCCN2CCOCC2)cc1)C(=O)O\n",
      "   0.67     C(F)(NS(=O)(=O)c1ccc(-n2c(-c3cnccc3)c(O)c(C(OCC)=O)c2)cc1)C(=O)O\n",
      "   0.59     C(C)(NS(=O)(=O)c1ccc(C(=O)Nc2cc3c(nc(C)cc3O)cc2)cc1)C(=O)O\n",
      "   0.54     C(N)(NS(=O)(=O)c1ccc(OC)cc1)C(=O)O\n",
      "   0.55     C(CC(=O)c1ccc(OCc2[n+](C)c3n(cccc3)c2)cc1)(NS(=O)(=O)c1ccc(C)cc1)C(=O)O\n"
     ]
    },
    {
     "name": "stderr",
     "output_type": "stream",
     "text": [
      "/site/rp/work/projects/DD/Jupyter/notebooks/Maxime/scaffold-constrained-generation/scaffold_constrained_model.py:466: UserWarning: Implicit dimension choice for softmax has been deprecated. Change the call to include dim=X as an argument.\n",
      "  prob = F.softmax(logits)\n",
      "/site/rp/work/projects/DD/Jupyter/notebooks/Maxime/scaffold-constrained-generation/scaffold_constrained_model.py:467: UserWarning: Implicit dimension choice for log_softmax has been deprecated. Change the call to include dim=X as an argument.\n",
      "  log_prob = F.log_softmax(logits)\n"
     ]
    },
    {
     "name": "stdout",
     "output_type": "stream",
     "text": [
      "\n",
      "Best score in memory: 0.94\n"
     ]
    },
    {
     "name": "stderr",
     "output_type": "stream",
     "text": [
      "/site/rp/work/projects/DD/Jupyter/notebooks/Maxime/scaffold-constrained-generation/scaffold_constrained_model.py:96: UserWarning: Implicit dimension choice for log_softmax has been deprecated. Change the call to include dim=X as an argument.\n",
      "  log_prob = F.log_softmax(logits)\n",
      "/site/rp/work/projects/DD/Jupyter/notebooks/Maxime/scaffold-constrained-generation/scaffold_constrained_model.py:97: UserWarning: Implicit dimension choice for softmax has been deprecated. Change the call to include dim=X as an argument.\n",
      "  prob = F.softmax(logits)\n"
     ]
    },
    {
     "name": "stdout",
     "output_type": "stream",
     "text": [
      "\n",
      "       Step 1   Fraction valid SMILES: 77.2  Time elapsed: 0.10h Time left: 0.45h\n",
      "  Agent    Prior   Target   Score             SMILES\n",
      "   0.59     C(Cc1oc(-c2ccc(Cl)cc2)nn1)(NS(=O)(=O)c1ccc(OCC)cc1)C(=O)O\n",
      "   0.60     C(NS(=O)(=O)c1ccc(OCC)cc1)(NS(=O)(=O)c1ccc(Cl)cc1)C(=O)O\n",
      "   0.58     C(F)(NS(=O)(=O)c1ccc(C(C)=O)cc1)C(=O)O\n",
      "   0.57     C(C(=O)OCC1(CC)CSc2n(c3ccccc3n2)C1=O)(NS(=O)(=O)c1ccc(C)cc1)C(=O)O\n",
      "   0.74     C(NC(=O)CSc1ccc(-c2c3c([nH]cc3)ccc2)cc1)(NS(=O)(=O)c1ccc(OC)cc1)C(=O)O\n",
      "   0.00     C(CC1(C)C(=O)OCc2c1c(-c1ccc(F)c(C(F)(F)F)c1)c(C)c2O)(NS(=O)(=O)c1ccc(\n",
      "   0.55     C(NS(=O)(=O)c1ccc(-c2ccc(Cl)cc2)cc1OC)(NS(=O)(=O)c1ccc(Cl)cc1)C(=O)O\n",
      "   0.56     C(S(=O)(=O)c1ccc(NC(C(Cc2ccccc2)N)=O)cc1)(NS(=O)(=O)c1ccc(N)cc1)C(=O)O\n",
      "   0.00     C(C(=CC(C=Cc1ccc(OC)c(OC)c1)=NS(=O)(=O)c1ccc(OC)cc1)\n",
      "   0.57     C(S(=O)(=O)C=CC=CBr)(NS(=O)(=O)c1ccc(NC(C)=O)cc1)C(=O)O\n"
     ]
    },
    {
     "name": "stderr",
     "output_type": "stream",
     "text": [
      "/site/rp/work/projects/DD/Jupyter/notebooks/Maxime/scaffold-constrained-generation/scaffold_constrained_model.py:466: UserWarning: Implicit dimension choice for softmax has been deprecated. Change the call to include dim=X as an argument.\n",
      "  prob = F.softmax(logits)\n",
      "/site/rp/work/projects/DD/Jupyter/notebooks/Maxime/scaffold-constrained-generation/scaffold_constrained_model.py:467: UserWarning: Implicit dimension choice for log_softmax has been deprecated. Change the call to include dim=X as an argument.\n",
      "  log_prob = F.log_softmax(logits)\n"
     ]
    },
    {
     "name": "stdout",
     "output_type": "stream",
     "text": [
      "Found original molecule: C(Cc1c2ccccc2[nH]c1)(NS(=O)(=O)c1ccc(-c2ccccc2)cc1)C(=O)O\n",
      "\n",
      "Best score in memory: 0.96\n"
     ]
    },
    {
     "name": "stderr",
     "output_type": "stream",
     "text": [
      "/site/rp/work/projects/DD/Jupyter/notebooks/Maxime/scaffold-constrained-generation/scaffold_constrained_model.py:96: UserWarning: Implicit dimension choice for log_softmax has been deprecated. Change the call to include dim=X as an argument.\n",
      "  log_prob = F.log_softmax(logits)\n",
      "/site/rp/work/projects/DD/Jupyter/notebooks/Maxime/scaffold-constrained-generation/scaffold_constrained_model.py:97: UserWarning: Implicit dimension choice for softmax has been deprecated. Change the call to include dim=X as an argument.\n",
      "  prob = F.softmax(logits)\n"
     ]
    },
    {
     "name": "stdout",
     "output_type": "stream",
     "text": [
      "\n",
      "       Step 2   Fraction valid SMILES: 87.5  Time elapsed: 0.15h Time left: 0.40h\n",
      "  Agent    Prior   Target   Score             SMILES\n",
      "   0.80     C(NS(=O)(=O)c1ccc(-c2ccc(OC)cc2)cc1)(NS(=O)(=O)c1ccc(C(=O)OC)cc1)C(=O)O\n",
      "   0.89     C(CCO)(NS(=O)(=O)c1ccc(-c2ccc(OC)cc2)cc1)C(=O)O\n",
      "   0.00     C(C1CC2CC(C(O)c3ccccc3)(NS(=O)(=O)c3ccc(Cl)cc3)C(=O)O\n",
      "   0.00     C(NS(=O)(=O)c1ccc(-c2ccc(NC(=O)C)cc2)cc1)(NS(=O)(=O)c1ccc(-c2ccc(O)cc\n",
      "   0.93     C(CCC(=O)O)(NS(=O)(=O)c1ccc(-c2ccc(C(=O)O)cc2)cc1)C(=O)O\n",
      "   0.79     C(C)(NS(=O)(=O)c1ccc(-c2ccc(OC)cc2)cc1)C(=O)O\n",
      "   0.56     C(OC(NC(C(=O)O)CC(=O)O)=O)(NS(=O)(=O)c1ccc(NC(C)C)cc1)C(=O)O\n",
      "   0.84     C(NS(=O)(=O)c1ccc(-c2ccc(OC(=O)O)cc2)cc1)(NS(=O)(=O)c1ccc(C(=O)O)cc1)C(=O)O\n",
      "   0.90     C(CCO)(NS(=O)(=O)c1ccc(-c2ccc(C(=O)O)cc2)cc1)C(=O)O\n",
      "   0.82     C(NS(=O)(=O)c1ccc(-c2ccc(C(F)(F)F)cc2)cc1)(NS(=O)(=O)c1ccc(NC(=O)C)cc1)C(=O)O\n"
     ]
    },
    {
     "name": "stderr",
     "output_type": "stream",
     "text": [
      "/site/rp/work/projects/DD/Jupyter/notebooks/Maxime/scaffold-constrained-generation/scaffold_constrained_model.py:466: UserWarning: Implicit dimension choice for softmax has been deprecated. Change the call to include dim=X as an argument.\n",
      "  prob = F.softmax(logits)\n",
      "/site/rp/work/projects/DD/Jupyter/notebooks/Maxime/scaffold-constrained-generation/scaffold_constrained_model.py:467: UserWarning: Implicit dimension choice for log_softmax has been deprecated. Change the call to include dim=X as an argument.\n",
      "  log_prob = F.log_softmax(logits)\n"
     ]
    },
    {
     "name": "stdout",
     "output_type": "stream",
     "text": [
      "Found original molecule: C(CCSCC)(NS(=O)(=O)c1ccc(-c2ccc(CC)cc2)cc1)C(=O)O\n",
      "\n",
      "Best score in memory: 0.97\n"
     ]
    },
    {
     "name": "stderr",
     "output_type": "stream",
     "text": [
      "/site/rp/work/projects/DD/Jupyter/notebooks/Maxime/scaffold-constrained-generation/scaffold_constrained_model.py:96: UserWarning: Implicit dimension choice for log_softmax has been deprecated. Change the call to include dim=X as an argument.\n",
      "  log_prob = F.log_softmax(logits)\n",
      "/site/rp/work/projects/DD/Jupyter/notebooks/Maxime/scaffold-constrained-generation/scaffold_constrained_model.py:97: UserWarning: Implicit dimension choice for softmax has been deprecated. Change the call to include dim=X as an argument.\n",
      "  prob = F.softmax(logits)\n"
     ]
    },
    {
     "name": "stdout",
     "output_type": "stream",
     "text": [
      "\n",
      "       Step 3   Fraction valid SMILES: 91.0  Time elapsed: 0.20h Time left: 0.35h\n",
      "  Agent    Prior   Target   Score             SMILES\n",
      "   0.88     C(CC(C)CC)(NS(=O)(=O)c1ccc(-c2ccc(C(=O)O)cc2)cc1)C(=O)O\n",
      "   0.90     C(CCO)(NS(=O)(=O)c1ccc(-c2ccc(C(=O)O)cc2)cc1)C(=O)O\n",
      "   0.87     C(CC)(NS(=O)(=O)c1ccc(-c2ccc(C(C)C)cc2)cc1)C(=O)O\n",
      "   0.92     C(CCSC)(NS(=O)(=O)c1ccc(-c2ccc(OC(=O)O)cc2)cc1)C(=O)O\n",
      "   0.90     C(CCSCCc1nc[nH]c1)(NS(=O)(=O)c1ccc(-c2ccc(O)cc2)cc1)C(=O)O\n",
      "   0.91     C(CCC(C)C)(NS(=O)(=O)c1ccc(-c2ccc(OCC)cc2)cc1)C(=O)O\n",
      "   0.91     C(CCO)(NS(=O)(=O)c1ccc(-c2ccc(OC3CCC(C)CC3)cc2)cc1)C(=O)O\n",
      "   0.93     C(CCSCCC(=O)O)(NS(=O)(=O)c1ccc(-c2ccc(OCC)cc2)cc1)C(=O)O\n",
      "   0.86     C(CC)(NS(=O)(=O)c1ccc(-c2ccc(NS(=O)(=O)c3ccc(Cl)cc3)cc2)cc1)C(=O)O\n",
      "   0.86     C(CCC1(CC)OC(=O)C(=C)CO1)(NS(=O)(=O)c1ccc(-c2ccc(OC)cc2)cc1)C(=O)O\n"
     ]
    },
    {
     "name": "stderr",
     "output_type": "stream",
     "text": [
      "/site/rp/work/projects/DD/Jupyter/notebooks/Maxime/scaffold-constrained-generation/scaffold_constrained_model.py:466: UserWarning: Implicit dimension choice for softmax has been deprecated. Change the call to include dim=X as an argument.\n",
      "  prob = F.softmax(logits)\n",
      "/site/rp/work/projects/DD/Jupyter/notebooks/Maxime/scaffold-constrained-generation/scaffold_constrained_model.py:467: UserWarning: Implicit dimension choice for log_softmax has been deprecated. Change the call to include dim=X as an argument.\n",
      "  log_prob = F.log_softmax(logits)\n"
     ]
    },
    {
     "name": "stdout",
     "output_type": "stream",
     "text": [
      "Found original molecule: C(CSC)(NS(=O)(=O)c1ccc(-c2ccc(OC(F)(F)F)cc2)cc1)C(=O)O\n",
      "Found original molecule: C(CCCC)(NS(=O)(=O)c1ccc(-c2ccc(CC)cc2)cc1)C(=O)O\n",
      "Found original molecule: C(CCSCC)(NS(=O)(=O)c1ccc(-c2ccc(CC)cc2)cc1)C(=O)O\n",
      "Found original molecule: C(CC(C)C)(NS(=O)(=O)c1ccc(-c2ccc(CC)cc2)cc1)C(=O)O\n",
      "Found original molecule: C(CCCC)(NS(=O)(=O)c1ccc(-c2ccc(C)cc2)cc1)C(=O)O\n",
      "Found original molecule: C(CC(C)C)(NS(=O)(=O)c1ccc(-c2ccc(C)cc2)cc1)C(=O)O\n",
      "\n",
      "Best score in memory: 0.99\n"
     ]
    },
    {
     "name": "stderr",
     "output_type": "stream",
     "text": [
      "/site/rp/work/projects/DD/Jupyter/notebooks/Maxime/scaffold-constrained-generation/scaffold_constrained_model.py:96: UserWarning: Implicit dimension choice for log_softmax has been deprecated. Change the call to include dim=X as an argument.\n",
      "  log_prob = F.log_softmax(logits)\n",
      "/site/rp/work/projects/DD/Jupyter/notebooks/Maxime/scaffold-constrained-generation/scaffold_constrained_model.py:97: UserWarning: Implicit dimension choice for softmax has been deprecated. Change the call to include dim=X as an argument.\n",
      "  prob = F.softmax(logits)\n"
     ]
    },
    {
     "name": "stdout",
     "output_type": "stream",
     "text": [
      "\n",
      "       Step 4   Fraction valid SMILES: 98.1  Time elapsed: 0.25h Time left: 0.30h\n",
      "  Agent    Prior   Target   Score             SMILES\n",
      "   0.92     C(CCCC)(NS(=O)(=O)c1ccc(-c2ccc(C(=O)O)cc2)cc1)C(=O)O\n",
      "   0.97     C(CCC(C)=C)(NS(=O)(=O)c1ccc(-c2ccc(CC)cc2)cc1)C(=O)O\n",
      "   0.93     C(CC(C)C)(NS(=O)(=O)c1ccc(-c2ccc(OC3CCOCC3)cc2)cc1)C(=O)O\n",
      "   0.96     C(CCC(=O)O)(NS(=O)(=O)c1ccc(-c2ccc(OC(=O)c3ccc(OC)cc3)cc2)cc1)C(=O)O\n",
      "   0.93     C(CCC(=O)O)(NS(=O)(=O)c1ccc(-c2ccc(OC(=O)C)cc2)cc1)C(=O)O\n",
      "   0.93     C(CCC(=O)O)(NS(=O)(=O)c1ccc(-c2ccc(OC(C)C)cc2)cc1)C(=O)O\n",
      "   0.93     C(CCC(=O)O)(NS(=O)(=O)c1ccc(-c2ccc(Cl)cc2)cc1)C(=O)O\n",
      "   0.90     C(CCSC(=O)O)(NS(=O)(=O)c1ccc(-c2ccc(OC(=O)O)cc2)cc1)C(=O)O\n",
      "   0.94     C(CCC(=O)O)(NS(=O)(=O)c1ccc(-c2ccc(O)cc2)cc1)C(=O)O\n",
      "   0.93     C(CCC(O)=O)(NS(=O)(=O)c1ccc(-c2ccc(OCC)cc2)cc1)C(=O)O\n"
     ]
    },
    {
     "name": "stderr",
     "output_type": "stream",
     "text": [
      "/site/rp/work/projects/DD/Jupyter/notebooks/Maxime/scaffold-constrained-generation/scaffold_constrained_model.py:466: UserWarning: Implicit dimension choice for softmax has been deprecated. Change the call to include dim=X as an argument.\n",
      "  prob = F.softmax(logits)\n",
      "/site/rp/work/projects/DD/Jupyter/notebooks/Maxime/scaffold-constrained-generation/scaffold_constrained_model.py:467: UserWarning: Implicit dimension choice for log_softmax has been deprecated. Change the call to include dim=X as an argument.\n",
      "  log_prob = F.log_softmax(logits)\n"
     ]
    },
    {
     "name": "stdout",
     "output_type": "stream",
     "text": [
      "Found original molecule: C(CCSCC)(NS(=O)(=O)c1ccc(-c2ccc(CC)cc2)cc1)C(=O)O\n",
      "Found original molecule: C(CC(C)C)(NS(=O)(=O)c1ccc(-c2ccc(CC)cc2)cc1)C(=O)O\n",
      "Found original molecule: C(CCC(OCC)=O)(NS(=O)(=O)c1ccc(-c2ccc(OC(F)(F)F)cc2)cc1)C(=O)O\n",
      "Found original molecule: C(CCCC)(NS(=O)(=O)c1ccc(-c2ccc(CC)cc2)cc1)C(=O)O\n",
      "\n",
      "Best score in memory: 0.99\n"
     ]
    },
    {
     "name": "stderr",
     "output_type": "stream",
     "text": [
      "/site/rp/work/projects/DD/Jupyter/notebooks/Maxime/scaffold-constrained-generation/scaffold_constrained_model.py:96: UserWarning: Implicit dimension choice for log_softmax has been deprecated. Change the call to include dim=X as an argument.\n",
      "  log_prob = F.log_softmax(logits)\n",
      "/site/rp/work/projects/DD/Jupyter/notebooks/Maxime/scaffold-constrained-generation/scaffold_constrained_model.py:97: UserWarning: Implicit dimension choice for softmax has been deprecated. Change the call to include dim=X as an argument.\n",
      "  prob = F.softmax(logits)\n"
     ]
    },
    {
     "name": "stdout",
     "output_type": "stream",
     "text": [
      "\n",
      "       Step 5   Fraction valid SMILES: 94.6  Time elapsed: 0.30h Time left: 0.25h\n",
      "  Agent    Prior   Target   Score             SMILES\n",
      "   0.93     C(CCC(=O)O)(NS(=O)(=O)c1ccc(-c2ccc(OC(=O)O)cc2)cc1)C(=O)O\n",
      "   0.95     C(CCC(OCC)=O)(NS(=O)(=O)c1ccc(-c2ccc(OC(=O)c3ccc(OC)cc3)cc2)cc1)C(=O)O\n",
      "   0.93     C(CCC(=O)O)(NS(=O)(=O)c1ccc(-c2ccc(C(F)(F)F)cc2)cc1)C(=O)O\n",
      "   0.97     C(CCSCC)(NS(=O)(=O)c1ccc(-c2ccc(CC)cc2)cc1)C(=O)O\n",
      "   0.95     C(CCSCC(O)=O)(NS(=O)(=O)c1ccc(-c2ccc(OC(F)(F)F)cc2)cc1)C(=O)O\n",
      "   0.94     C(CCC(C)=C)(NS(=O)(=O)c1ccc(-c2ccc(O)cc2)cc1)C(=O)O\n",
      "   0.94     C(CCC(O)=O)(NS(=O)(=O)c1ccc(-c2ccc(O)cc2)cc1)C(=O)O\n",
      "   0.95     C(CCSCCC)(NS(=O)(=O)c1ccc(-c2ccc(CC)cc2)cc1)C(=O)O\n",
      "   0.00     C(CCC(OCC)=O)(NS(=O)(=O)c1ccc(-c2ccc(CC)cc2)cc1)C(=O)O\n",
      "   0.95     C(CCC(OCC(=O)O)=O)(NS(=O)(=O)c1ccc(-c2ccc(OC(=O)O)cc2)cc1)C(=O)O\n"
     ]
    },
    {
     "name": "stderr",
     "output_type": "stream",
     "text": [
      "/site/rp/work/projects/DD/Jupyter/notebooks/Maxime/scaffold-constrained-generation/scaffold_constrained_model.py:466: UserWarning: Implicit dimension choice for softmax has been deprecated. Change the call to include dim=X as an argument.\n",
      "  prob = F.softmax(logits)\n",
      "/site/rp/work/projects/DD/Jupyter/notebooks/Maxime/scaffold-constrained-generation/scaffold_constrained_model.py:467: UserWarning: Implicit dimension choice for log_softmax has been deprecated. Change the call to include dim=X as an argument.\n",
      "  log_prob = F.log_softmax(logits)\n"
     ]
    },
    {
     "name": "stdout",
     "output_type": "stream",
     "text": [
      "Found original molecule: C(CCCC)(NS(=O)(=O)c1ccc(-c2ccc(CC)cc2)cc1)C(=O)O\n",
      "Found original molecule: C(CCC(OCC)=O)(NS(=O)(=O)c1ccc(-c2ccc(OC(F)(F)F)cc2)cc1)C(=O)O\n",
      "Found original molecule: C(CCSCC)(NS(=O)(=O)c1ccc(-c2ccc(CC)cc2)cc1)C(=O)O\n",
      "Found original molecule: C(CC(C)C)(NS(=O)(=O)c1ccc(-c2ccc(CC)cc2)cc1)C(=O)O\n",
      "\n",
      "Best score in memory: 0.99\n"
     ]
    },
    {
     "name": "stderr",
     "output_type": "stream",
     "text": [
      "/site/rp/work/projects/DD/Jupyter/notebooks/Maxime/scaffold-constrained-generation/scaffold_constrained_model.py:96: UserWarning: Implicit dimension choice for log_softmax has been deprecated. Change the call to include dim=X as an argument.\n",
      "  log_prob = F.log_softmax(logits)\n",
      "/site/rp/work/projects/DD/Jupyter/notebooks/Maxime/scaffold-constrained-generation/scaffold_constrained_model.py:97: UserWarning: Implicit dimension choice for softmax has been deprecated. Change the call to include dim=X as an argument.\n",
      "  prob = F.softmax(logits)\n"
     ]
    },
    {
     "name": "stdout",
     "output_type": "stream",
     "text": [
      "\n",
      "       Step 6   Fraction valid SMILES: 94.9  Time elapsed: 0.35h Time left: 0.20h\n",
      "  Agent    Prior   Target   Score             SMILES\n",
      "   0.95     C(CCSCC(C)CC)(NS(=O)(=O)c1ccc(-c2ccc(OC(C(=O)O)(C)C)cc2)cc1)C(=O)O\n",
      "   0.98     C(CCC)(NS(=O)(=O)c1ccc(-c2ccc(OC(C(=O)O)(C)C)cc2)cc1)C(=O)O\n",
      "   0.98     C(CCC(NCCC)=O)(NS(=O)(=O)c1ccc(-c2ccc(CC)cc2)cc1)C(=O)O\n",
      "   0.96     C(CCO)(NS(=O)(=O)c1ccc(-c2ccc(OC(C(O)=O)(C)C)cc2)cc1)C(=O)O\n",
      "   0.95     C(CCC(=O)O)(NS(=O)(=O)c1ccc(-c2ccc(OC(C(=O)O)(C)C)cc2)cc1)C(=O)O\n",
      "   0.98     C(CCC(NCCOC(=O)O)=O)(NS(=O)(=O)c1ccc(-c2ccc(CC)cc2)cc1)C(=O)O\n",
      "   0.95     C(CCSCCC)(NS(=O)(=O)c1ccc(-c2ccc(CC)cc2)cc1)C(=O)O\n",
      "   0.97     C(CCCO)(NS(=O)(=O)c1ccc(-c2ccc(OC(C(=O)O)(C)C)cc2)cc1)C(=O)O\n",
      "   0.96     C(CCSCCC(=O)O)(NS(=O)(=O)c1ccc(-c2ccc(CC)cc2)cc1)C(=O)O\n",
      "   0.97     C(CCSCCC)(NS(=O)(=O)c1ccc(-c2ccc(OC(F)(F)F)cc2)cc1)C(=O)O\n"
     ]
    },
    {
     "name": "stderr",
     "output_type": "stream",
     "text": [
      "/site/rp/work/projects/DD/Jupyter/notebooks/Maxime/scaffold-constrained-generation/scaffold_constrained_model.py:466: UserWarning: Implicit dimension choice for softmax has been deprecated. Change the call to include dim=X as an argument.\n",
      "  prob = F.softmax(logits)\n",
      "/site/rp/work/projects/DD/Jupyter/notebooks/Maxime/scaffold-constrained-generation/scaffold_constrained_model.py:467: UserWarning: Implicit dimension choice for log_softmax has been deprecated. Change the call to include dim=X as an argument.\n",
      "  log_prob = F.log_softmax(logits)\n"
     ]
    },
    {
     "name": "stdout",
     "output_type": "stream",
     "text": [
      "Found original molecule: C(CCC(OCC)=O)(NS(=O)(=O)c1ccc(-c2ccc(OC(F)(F)F)cc2)cc1)C(=O)O\n",
      "Found original molecule: C(CCCC)(NS(=O)(=O)c1ccc(-c2ccc(CC)cc2)cc1)C(=O)O\n",
      "\n",
      "Best score in memory: 0.99\n"
     ]
    },
    {
     "name": "stderr",
     "output_type": "stream",
     "text": [
      "/site/rp/work/projects/DD/Jupyter/notebooks/Maxime/scaffold-constrained-generation/scaffold_constrained_model.py:96: UserWarning: Implicit dimension choice for log_softmax has been deprecated. Change the call to include dim=X as an argument.\n",
      "  log_prob = F.log_softmax(logits)\n",
      "/site/rp/work/projects/DD/Jupyter/notebooks/Maxime/scaffold-constrained-generation/scaffold_constrained_model.py:97: UserWarning: Implicit dimension choice for softmax has been deprecated. Change the call to include dim=X as an argument.\n",
      "  prob = F.softmax(logits)\n"
     ]
    },
    {
     "name": "stdout",
     "output_type": "stream",
     "text": [
      "\n",
      "       Step 7   Fraction valid SMILES: 95.9  Time elapsed: 0.40h Time left: 0.15h\n",
      "  Agent    Prior   Target   Score             SMILES\n",
      "   0.97     C(CCSCCC)(NS(=O)(=O)c1ccc(-c2ccc(OC(F)(F)F)cc2)cc1)C(=O)O\n",
      "   0.99     C(CCC)(NS(=O)(=O)c1ccc(-c2ccc(OC(F)(F)F)cc2)cc1)C(=O)O\n",
      "   0.98     C(CCCS)(NS(=O)(=O)c1ccc(-c2ccc(OC(C(=O)O)(C)C)cc2)cc1)C(=O)O\n",
      "   0.96     C(CCCO)(NS(=O)(=O)c1ccc(-c2ccc(OC(F)(F)F)cc2)cc1)C(=O)O\n",
      "   0.97     C(CCC(OCC(C(C)C)=O)=O)(NS(=O)(=O)c1ccc(-c2ccc(CC)cc2)cc1)C(=O)O\n",
      "   0.95     C(CCC(CC)(C)C)(NS(=O)(=O)c1ccc(-c2ccc(CC)cc2)cc1)C(=O)O\n",
      "   0.00     C(CCSCC)(NS(=O)(=O)c1ccc(-c2ccc(OC(F)(F)F)cc2)cc1)C(=O)O\n",
      "   0.97     C(CCC(O)=O)(NS(=O)(=O)c1ccc(-c2ccc(CC)cc2)cc1)C(=O)O\n",
      "   0.97     C(CCCSCCC(=O)O)(NS(=O)(=O)c1ccc(-c2ccc(CC)cc2)cc1)C(=O)O\n",
      "   0.97     C(CCCS)(NS(=O)(=O)c1ccc(-c2ccc(CC)cc2)cc1)C(=O)O\n"
     ]
    },
    {
     "name": "stderr",
     "output_type": "stream",
     "text": [
      "/site/rp/work/projects/DD/Jupyter/notebooks/Maxime/scaffold-constrained-generation/scaffold_constrained_model.py:466: UserWarning: Implicit dimension choice for softmax has been deprecated. Change the call to include dim=X as an argument.\n",
      "  prob = F.softmax(logits)\n",
      "/site/rp/work/projects/DD/Jupyter/notebooks/Maxime/scaffold-constrained-generation/scaffold_constrained_model.py:467: UserWarning: Implicit dimension choice for log_softmax has been deprecated. Change the call to include dim=X as an argument.\n",
      "  log_prob = F.log_softmax(logits)\n"
     ]
    },
    {
     "name": "stdout",
     "output_type": "stream",
     "text": [
      "\n",
      "Best score in memory: 0.99\n"
     ]
    },
    {
     "name": "stderr",
     "output_type": "stream",
     "text": [
      "/site/rp/work/projects/DD/Jupyter/notebooks/Maxime/scaffold-constrained-generation/scaffold_constrained_model.py:96: UserWarning: Implicit dimension choice for log_softmax has been deprecated. Change the call to include dim=X as an argument.\n",
      "  log_prob = F.log_softmax(logits)\n",
      "/site/rp/work/projects/DD/Jupyter/notebooks/Maxime/scaffold-constrained-generation/scaffold_constrained_model.py:97: UserWarning: Implicit dimension choice for softmax has been deprecated. Change the call to include dim=X as an argument.\n",
      "  prob = F.softmax(logits)\n"
     ]
    },
    {
     "name": "stdout",
     "output_type": "stream",
     "text": [
      "\n",
      "       Step 8   Fraction valid SMILES: 92.5  Time elapsed: 0.45h Time left: 0.10h\n",
      "  Agent    Prior   Target   Score             SMILES\n",
      "   0.00     C(CCS(=O)(CC)(NS(=O)(=O)c1ccc(-c2ccc(OC(F)(F)F)cc2)c\n",
      "   0.96     C(CCC(OCCO)=O)(NS(=O)(=O)c1ccc(-c2ccc(OC(C(=O)O)(C)C)cc2)cc1)C(=O)O\n",
      "   0.96     C(CCC1C(=O)OCC1)(NS(=O)(=O)c1ccc(-c2ccc(OC(F)(F)F)cc2)cc1)C(=O)O\n",
      "   0.98     C(CCC(NCC)=O)(NS(=O)(=O)c1ccc(-c2ccc(CC)cc2)cc1)C(=O)O\n",
      "   0.97     C(CCCCCC(OCC)=O)(NS(=O)(=O)c1ccc(-c2ccc(CC)cc2)cc1)C(=O)O\n",
      "   0.98     C(CCCS)(NS(=O)(=O)c1ccc(-c2ccc(OC(F)(F)F)cc2)cc1)C(=O)O\n",
      "   0.98     C(CCCCCC(NC(C(=O)O)=O)=O)(NS(=O)(=O)c1ccc(-c2ccc(CC)cc2)cc1)C(=O)O\n",
      "   0.98     C(CCC(NCc1nccnc1)=O)(NS(=O)(=O)c1ccc(-c2ccc(CC)cc2)cc1)C(=O)O\n",
      "   0.98     C(CCS(=O)(C)=O)(NS(=O)(=O)c1ccc(-c2ccc(OC(F)(F)F)cc2)cc1)C(=O)O\n",
      "   0.00     C(CCC(OCC(NCCc1ccc(-c2ccc(CC)cc2)cc1)=O)(NS(=O)(=O)c\n"
     ]
    },
    {
     "name": "stderr",
     "output_type": "stream",
     "text": [
      "/site/rp/work/projects/DD/Jupyter/notebooks/Maxime/scaffold-constrained-generation/scaffold_constrained_model.py:466: UserWarning: Implicit dimension choice for softmax has been deprecated. Change the call to include dim=X as an argument.\n",
      "  prob = F.softmax(logits)\n",
      "/site/rp/work/projects/DD/Jupyter/notebooks/Maxime/scaffold-constrained-generation/scaffold_constrained_model.py:467: UserWarning: Implicit dimension choice for log_softmax has been deprecated. Change the call to include dim=X as an argument.\n",
      "  log_prob = F.log_softmax(logits)\n"
     ]
    },
    {
     "name": "stdout",
     "output_type": "stream",
     "text": [
      "\n",
      "Best score in memory: 1.00\n"
     ]
    },
    {
     "name": "stderr",
     "output_type": "stream",
     "text": [
      "/site/rp/work/projects/DD/Jupyter/notebooks/Maxime/scaffold-constrained-generation/scaffold_constrained_model.py:96: UserWarning: Implicit dimension choice for log_softmax has been deprecated. Change the call to include dim=X as an argument.\n",
      "  log_prob = F.log_softmax(logits)\n",
      "/site/rp/work/projects/DD/Jupyter/notebooks/Maxime/scaffold-constrained-generation/scaffold_constrained_model.py:97: UserWarning: Implicit dimension choice for softmax has been deprecated. Change the call to include dim=X as an argument.\n",
      "  prob = F.softmax(logits)\n"
     ]
    },
    {
     "name": "stdout",
     "output_type": "stream",
     "text": [
      "\n",
      "       Step 9   Fraction valid SMILES: 91.5  Time elapsed: 0.50h Time left: 0.05h\n",
      "  Agent    Prior   Target   Score             SMILES\n",
      "   0.99     C(CCCCCCCC)(NS(=O)(=O)c1ccc(-c2ccc(OC(F)(F)F)cc2)cc1)C(=O)O\n",
      "   0.98     C(CCC(NCCC(O)=O)=O)(NS(=O)(=O)c1ccc(-c2ccc(CC)cc2)cc1)C(=O)O\n",
      "   0.98     C(CCC(N(CC(C)C)CC(C)C)=O)(NS(=O)(=O)c1ccc(-c2ccc(CC)cc2)cc1)C(=O)O\n",
      "   0.99     C(CCCCCCC)(NS(=O)(=O)c1ccc(-c2ccc(OC(C(O)=O)(C)C)cc2)cc1)C(=O)O\n",
      "   0.99     C(CCCC)(NS(=O)(=O)c1ccc(-c2ccc(OC(C(=O)O)(C)C)cc2)cc1)C(=O)O\n",
      "   0.99     C(CCC(NC(C(=O)O)=O)=O)(NS(=O)(=O)c1ccc(-c2ccc(CC)cc2)cc1)C(=O)O\n",
      "   0.98     C(CCC(NCC#C)=O)(NS(=O)(=O)c1ccc(-c2ccc(CC)cc2)cc1)C(=O)O\n",
      "   0.95     C(CCC(NCc1cccnn1)=O)(NS(=O)(=O)c1ccc(-c2ccc(CC)cc2)cc1)C(=O)O\n",
      "   0.97     C(CCSCCC)(NS(=O)(=O)c1ccc(-c2ccc(OC(F)(F)F)cc2)cc1)C(=O)O\n",
      "   0.98     C(CCS(=O)(NCCC)=O)(NS(=O)(=O)c1ccc(-c2ccc(OC(F)(F)F)cc2)cc1)C(=O)O\n",
      "\n",
      "********************************************************************************\n",
      "\n",
      "         Best recorded SMILES: \n",
      "\n",
      "Score     Prior log P     SMILES\n",
      "\n",
      "1.00    -8.78        C(CCCS(=O)(NCCCC)=O)(NS(=O)(=O)c1ccc(-c2ccc(OC(F)(F)F)cc2)cc1)C(=O)O\n",
      "0.99    -7.67        C(CCC)(NS(=O)(=O)c1ccc(-c2ccc(OC(F)(F)F)cc2)cc1)C(=O)O\n",
      "0.99    -6.14        C(CCCC)(NS(=O)(=O)c1ccc(-c2ccc(OC(C(=O)O)(C)C)cc2)cc1)C(=O)O\n",
      "0.99    -9.46        C(CCCCCC)(NS(=O)(=O)c1ccc(-c2ccc(OC(F)(F)F)cc2)cc1)C(=O)O\n",
      "0.99    -8.75        C(CCCC)(NS(=O)(=O)c1ccc(-c2ccc(OC(C(O)=O)(C)C)cc2)cc1)C(=O)O\n",
      "0.99    -9.55        C(CCCCCCCCCC)(NS(=O)(=O)c1ccc(-c2ccc(OC(F)(F)F)cc2)cc1)C(=O)O\n",
      "0.99    -6.96        C(CCCCCCC)(NS(=O)(=O)c1ccc(-c2ccc(OC(F)(F)F)cc2)cc1)C(=O)O\n",
      "0.99    -5.06        C(CCCCC)(NS(=O)(=O)c1ccc(-c2ccc(OC(F)(F)F)cc2)cc1)C(=O)O\n",
      "0.99    -5.92        C(CCCCCCCCCCC)(NS(=O)(=O)c1ccc(-c2ccc(OC(F)(F)F)cc2)cc1)C(=O)O\n",
      "0.99    -5.18        C(CCCCCCCCC)(NS(=O)(=O)c1ccc(-c2ccc(OC(F)(F)F)cc2)cc1)C(=O)O\n",
      "0.99    -4.86        C(CCCCCCCC)(NS(=O)(=O)c1ccc(-c2ccc(OC(F)(F)F)cc2)cc1)C(=O)O\n",
      "0.99    -7.30        C(CCCCCCCCCCCCCC)(NS(=O)(=O)c1ccc(-c2ccc(OC(F)(F)F)cc2)cc1)C(=O)O\n",
      "0.99    -5.58        C(CCCCCCCCCCCC)(NS(=O)(=O)c1ccc(-c2ccc(OC(F)(F)F)cc2)cc1)C(=O)O\n",
      "0.99    -6.41        C(CCS(=O)(NCCCC)=O)(NS(=O)(=O)c1ccc(-c2ccc(OC(F)(F)F)cc2)cc1)C(=O)O\n",
      "0.99   -12.28        C(CCCCCC)(NS(=O)(=O)c1ccc(-c2ccc(OC(C(NO)=O)(C)C)cc2)cc1)C(=O)O\n",
      "0.99    -4.47        C(CCC(NC(C(=O)O)=O)=O)(NS(=O)(=O)c1ccc(-c2ccc(CC)cc2)cc1)C(=O)O\n",
      "0.99    -5.79        C(CCCCC)(NS(=O)(=O)c1ccc(-c2ccc(OC(C(=O)O)(C)C)cc2)cc1)C(=O)O\n",
      "0.99    -5.86        C(CCCCCC)(NS(=O)(=O)c1ccc(-c2ccc(OC(C(=O)O)(C)C)cc2)cc1)C(=O)O\n",
      "0.99    -4.13        C(CCCCCCC)(NS(=O)(=O)c1ccc(-c2ccc(OC(C(=O)O)(C)C)cc2)cc1)C(=O)O\n",
      "0.99    -5.58        C(CCCCCCCCC)(NS(=O)(=O)c1ccc(-c2ccc(OC(C(=O)O)(C)C)cc2)cc1)C(=O)O\n",
      "0.99    -5.70        C(CCCCCC)(NS(=O)(=O)c1ccc(-c2ccc(OC(C(O)=O)(C)C)cc2)cc1)C(=O)O\n",
      "0.99    -6.07        C(CCCCCCC)(NS(=O)(=O)c1ccc(-c2ccc(OC(C(O)=O)(C)C)cc2)cc1)C(=O)O\n",
      "0.99    -5.91        C(CCCCCCCCCC)(NS(=O)(=O)c1ccc(-c2ccc(OC(C(=O)O)(C)C)cc2)cc1)C(=O)O\n",
      "0.99    -5.08        C(CCCCCCCC)(NS(=O)(=O)c1ccc(-c2ccc(OC(C(=O)O)(C)C)cc2)cc1)C(=O)O\n",
      "0.99    -7.00        C(CCCCCCCC)(NS(=O)(=O)c1ccc(-c2ccc(OC(C(O)=O)(C)C)cc2)cc1)C(=O)O\n",
      "0.99   -12.22        C(CCCCCNCCC)(NS(=O)(=O)c1ccc(-c2ccc(OC(C(=O)O)(C)C)cc2)cc1)C(=O)O\n",
      "0.99    -7.20        C(CCCCCCCCCCCCC)(NS(=O)(=O)c1ccc(-c2ccc(OC(C(=O)O)(C)C)cc2)cc1)C(=O)O\n",
      "0.99   -13.30        C(CCCCCCC(CC)N(CCC)CC)(NS(=O)(=O)c1ccc(-c2ccc(OC(C(=O)O)(C)C)cc2)cc1)C(=O)O\n",
      "0.99    -7.86        C(CCCN(CCC)CC)(NS(=O)(=O)c1ccc(-c2ccc(OC(C(=O)O)(C)C)cc2)cc1)C(=O)O\n",
      "0.99   -12.90        C(CCCCCCCCCCCCCCCCCC)(NS(=O)(=O)c1ccc(-c2ccc(OC(C(=O)O)(C)C)cc2)cc1)C(=O)O\n",
      "0.99    -5.47        C(CCCCCCCCC)(NS(=O)(=O)c1ccc(-c2ccc(OC(C(O)=O)(C)C)cc2)cc1)C(=O)O\n",
      "0.99    -4.86        C(CCCCC)(NS(=O)(=O)c1ccc(-c2ccc(OC(C(O)=O)(C)C)cc2)cc1)C(=O)O\n",
      "0.99    -5.96        C(CCCCCCCCCC)(NS(=O)(=O)c1ccc(-c2ccc(OC(C(O)=O)(C)C)cc2)cc1)C(=O)O\n",
      "0.99    -5.58        C(CCCCCCCCCCC)(NS(=O)(=O)c1ccc(-c2ccc(OC(C(=O)O)(C)C)cc2)cc1)C(=O)O\n",
      "0.98   -12.66        C(CCS(=O)(C)=O)(NS(=O)(=O)c1ccc(-c2ccc(OC(F)(F)F)cc2)cc1)C(=O)O\n",
      "0.98   -13.07        C(CCS(=O)(=C)O)(NS(=O)(=O)c1ccc(-c2ccc(OC(F)(F)F)cc2)cc1)C(=O)O\n",
      "0.98    -8.74        C(CCC(NCCCC(OCC)=O)=O)(NS(=O)(=O)c1ccc(-c2ccc(CC)cc2)cc1)C(=O)O\n",
      "0.98    -9.05        C(CCS(=O)(NCCC)=O)(NS(=O)(=O)c1ccc(-c2ccc(OC(F)(F)F)cc2)cc1)C(=O)O\n",
      "0.98    -8.40        C(CCS(=O)(NC(CC)C)=O)(NS(=O)(=O)c1ccc(-c2ccc(OC(F)(F)F)cc2)cc1)C(=O)O\n",
      "0.98    -6.63        C(CCS(=O)(CC)=O)(NS(=O)(=O)c1ccc(-c2ccc(OC(F)(F)F)cc2)cc1)C(=O)O\n",
      "0.98   -10.76        C(CCS(=O)(=C)Cl)(NS(=O)(=O)c1ccc(-c2ccc(OC(F)(F)F)cc2)cc1)C(=O)O\n",
      "0.98    -6.22        C(CCS(=O)(NC)=O)(NS(=O)(=O)c1ccc(-c2ccc(OC(F)(F)F)cc2)cc1)C(=O)O\n",
      "0.98   -12.06        C(CCCCCCCCCC(OCCC)=O)(NS(=O)(=O)c1ccc(-c2ccc(OC(C(=O)O)(C)C)cc2)cc1)C(=O)O\n",
      "0.98   -10.01        C(CCCN(CCC)CC)(NS(=O)(=O)c1ccc(-c2ccc(OC(F)(F)F)cc2)cc1)C(=O)O\n",
      "0.98    -6.52        C(CCS(=O)(NCC)=O)(NS(=O)(=O)c1ccc(-c2ccc(OC(F)(F)F)cc2)cc1)C(=O)O\n",
      "0.98    -9.89        C(CCN(CCC)CC)(NS(=O)(=O)c1ccc(-c2ccc(OC(F)(F)F)cc2)cc1)C(=O)O\n",
      "0.98    -8.10        C(CCS(=O)(=C)C)(NS(=O)(=O)c1ccc(-c2ccc(OC(F)(F)F)cc2)cc1)C(=O)O\n",
      "0.98    -5.13        C(CCCS(=O)(=O)O)(NS(=O)(=O)c1ccc(-c2ccc(OC(F)(F)F)cc2)cc1)C(=O)O\n",
      "0.98    -8.09        C(CCCCCCCC(OCCC)=O)(NS(=O)(=O)c1ccc(-c2ccc(OC(C(=O)O)(C)C)cc2)cc1)C(=O)O\n",
      "0.98    -5.22        C(CCS(=O)(NCC(C)C)=O)(NS(=O)(=O)c1ccc(-c2ccc(OC(F)(F)F)cc2)cc1)C(=O)O\n",
      "\n",
      "********************************************************************************\n",
      "\n",
      "Model initialized, starting training...\n"
     ]
    },
    {
     "name": "stderr",
     "output_type": "stream",
     "text": [
      "/site/rp/work/projects/DD/Jupyter/notebooks/Maxime/scaffold-constrained-generation/scaffold_constrained_model.py:466: UserWarning: Implicit dimension choice for softmax has been deprecated. Change the call to include dim=X as an argument.\n",
      "  prob = F.softmax(logits)\n",
      "/site/rp/work/projects/DD/Jupyter/notebooks/Maxime/scaffold-constrained-generation/scaffold_constrained_model.py:467: UserWarning: Implicit dimension choice for log_softmax has been deprecated. Change the call to include dim=X as an argument.\n",
      "  log_prob = F.log_softmax(logits)\n"
     ]
    },
    {
     "name": "stdout",
     "output_type": "stream",
     "text": [
      "\n",
      "Best score in memory: 0.87\n"
     ]
    },
    {
     "name": "stderr",
     "output_type": "stream",
     "text": [
      "/site/rp/work/projects/DD/Jupyter/notebooks/Maxime/scaffold-constrained-generation/scaffold_constrained_model.py:96: UserWarning: Implicit dimension choice for log_softmax has been deprecated. Change the call to include dim=X as an argument.\n",
      "  log_prob = F.log_softmax(logits)\n",
      "/site/rp/work/projects/DD/Jupyter/notebooks/Maxime/scaffold-constrained-generation/scaffold_constrained_model.py:97: UserWarning: Implicit dimension choice for softmax has been deprecated. Change the call to include dim=X as an argument.\n",
      "  prob = F.softmax(logits)\n"
     ]
    },
    {
     "name": "stdout",
     "output_type": "stream",
     "text": [
      "\n",
      "       Step 0   Fraction valid SMILES: 86.3  Time elapsed: 0.05h Time left: 0.49h\n",
      "  Agent    Prior   Target   Score             SMILES\n",
      "   0.63     C(C)(NS(=O)(=O)c1ccc(C2ON=C(c3ccc(CN)cc3)C2)cc1)C(=O)O\n",
      "   0.58     C(c1c(C)c(C)cc(C)c1C)(NS(=O)(=O)c1ccc(Cl)cc1)C(=O)O\n",
      "   0.65     C(Oc1c(Cl)cc(OCC(=O)N(C)C)cc1)(NS(=O)(=O)c1ccc(NC(=O)CCN2CCOCC2)cc1)C(=O)O\n",
      "   0.57     C(=CC(=O)OCCOC(C)=O)(NS(=O)(=O)c1ccc(C)cc1)C(=O)O\n",
      "   0.57     C(=CC(=O)NC(CC)(C)CC)(NS(=O)(=O)c1ccc(C)cc1)C(=O)O\n",
      "   0.76     C(C1CC1)(NS(=O)(=O)c1ccc(-c2ccccc2)cc1)C(=O)O\n",
      "   0.65     C(c1ccc(Sc2cccc3c2cccc3)cc1)(NS(=O)(=O)c1ccc(C(=N)N)cc1)C(=O)O\n",
      "   0.59     C(Cn1c2ccccc2c(C(=O)N2CCN(c3nncnc3)CC2)c1)(NS(=O)(=O)c1ccc(OC)cc1)C(=O)O\n",
      "   0.54     C(=O)(NS(=O)(=O)c1ccc(C)cc1)C(=O)O\n",
      "   0.00     C(CC(N)CCN(C(C(=O)NC(CCCNC(=N)N)C(OC)=O)C)CN)(NS(=O)(=O)c1ccc(NC(NCC)\n"
     ]
    },
    {
     "name": "stderr",
     "output_type": "stream",
     "text": [
      "/site/rp/work/projects/DD/Jupyter/notebooks/Maxime/scaffold-constrained-generation/scaffold_constrained_model.py:466: UserWarning: Implicit dimension choice for softmax has been deprecated. Change the call to include dim=X as an argument.\n",
      "  prob = F.softmax(logits)\n",
      "/site/rp/work/projects/DD/Jupyter/notebooks/Maxime/scaffold-constrained-generation/scaffold_constrained_model.py:467: UserWarning: Implicit dimension choice for log_softmax has been deprecated. Change the call to include dim=X as an argument.\n",
      "  log_prob = F.log_softmax(logits)\n"
     ]
    },
    {
     "name": "stdout",
     "output_type": "stream",
     "text": [
      "\n",
      "Best score in memory: 0.95\n"
     ]
    },
    {
     "name": "stderr",
     "output_type": "stream",
     "text": [
      "/site/rp/work/projects/DD/Jupyter/notebooks/Maxime/scaffold-constrained-generation/scaffold_constrained_model.py:96: UserWarning: Implicit dimension choice for log_softmax has been deprecated. Change the call to include dim=X as an argument.\n",
      "  log_prob = F.log_softmax(logits)\n",
      "/site/rp/work/projects/DD/Jupyter/notebooks/Maxime/scaffold-constrained-generation/scaffold_constrained_model.py:97: UserWarning: Implicit dimension choice for softmax has been deprecated. Change the call to include dim=X as an argument.\n",
      "  prob = F.softmax(logits)\n"
     ]
    },
    {
     "name": "stdout",
     "output_type": "stream",
     "text": [
      "\n",
      "       Step 1   Fraction valid SMILES: 71.5  Time elapsed: 0.10h Time left: 0.44h\n",
      "  Agent    Prior   Target   Score             SMILES\n",
      "   0.60     C(Cc1sc2c(cccc2)n1)(NS(=O)(=O)c1ccc(OC)cc1)C(=O)O\n",
      "   0.00     C(C(C(Br)Br)(NS(=O)(c1ccc(-c2ccc(Cl)c(Cl)c2)cc1)C(=O)O)c\n",
      "   0.71     C(CNC(=O)c1cc(OC)ccc1)(NS(=O)(=O)c1ccc(-c2ccccc2)cc1)C(=O)O\n",
      "   0.57     C(NC1(C(=O)O)CCN(Cc2ccccc2)CC1)(NS(=O)(=O)c1ccc(F)cc1)C(=O)O\n",
      "   0.85     C(C(C)C)(NS(=O)(=O)c1ccc(-c2ccc(C(C)(C)C)cc2)cc1)C(=O)O\n",
      "   0.59     C(C1OCCC1)(NS(=O)(=O)c1ccc(Br)cc1)C(=O)O\n",
      "   0.55     C(Nc1ccc([N+](=O)[O-])cc1)(NS(=O)(=O)c1ccc(OC)cc1)C(=O)O\n",
      "   0.60     C(C(=O)CCc1cccs1)(NS(=O)(=O)c1ccc(Br)cc1)C(=O)O\n",
      "   0.59     C(NS(=O)(=O)c1ccc(C(=O)O)c2ccccc21)(NS(=O)(=O)c1ccc(OC)cc1)C(=O)O\n",
      "   0.61     C(N1CCOC(CCc2ccc(C)cc2)C1)(NS(=O)(=O)c1ccc(-c2cccc3nc(O)ccc23)cc1)C(=O)O\n"
     ]
    },
    {
     "name": "stderr",
     "output_type": "stream",
     "text": [
      "/site/rp/work/projects/DD/Jupyter/notebooks/Maxime/scaffold-constrained-generation/scaffold_constrained_model.py:466: UserWarning: Implicit dimension choice for softmax has been deprecated. Change the call to include dim=X as an argument.\n",
      "  prob = F.softmax(logits)\n",
      "/site/rp/work/projects/DD/Jupyter/notebooks/Maxime/scaffold-constrained-generation/scaffold_constrained_model.py:467: UserWarning: Implicit dimension choice for log_softmax has been deprecated. Change the call to include dim=X as an argument.\n",
      "  log_prob = F.log_softmax(logits)\n"
     ]
    },
    {
     "name": "stdout",
     "output_type": "stream",
     "text": [
      "\n",
      "Best score in memory: 0.95\n"
     ]
    },
    {
     "name": "stderr",
     "output_type": "stream",
     "text": [
      "/site/rp/work/projects/DD/Jupyter/notebooks/Maxime/scaffold-constrained-generation/scaffold_constrained_model.py:96: UserWarning: Implicit dimension choice for log_softmax has been deprecated. Change the call to include dim=X as an argument.\n",
      "  log_prob = F.log_softmax(logits)\n",
      "/site/rp/work/projects/DD/Jupyter/notebooks/Maxime/scaffold-constrained-generation/scaffold_constrained_model.py:97: UserWarning: Implicit dimension choice for softmax has been deprecated. Change the call to include dim=X as an argument.\n",
      "  prob = F.softmax(logits)\n"
     ]
    },
    {
     "name": "stdout",
     "output_type": "stream",
     "text": [
      "\n",
      "       Step 2   Fraction valid SMILES: 88.2  Time elapsed: 0.15h Time left: 0.39h\n",
      "  Agent    Prior   Target   Score             SMILES\n",
      "   0.00     C(CCC(=O)C1O)(NS(=O)(=O)c1ccc(-c3ccc(F)cc3)cc1)C(=O)O\n",
      "   0.86     C(C)(NS(=O)(=O)c1ccc(-c2ccc(Nc3cccc(C(NS(=O)(=O)C)C)c3)cc2)cc1)C(=O)O\n",
      "   0.84     C(F)(NS(=O)(=O)c1ccc(-c2ccc(NC(=O)C(F)(F)F)cc2)cc1)C(=O)O\n",
      "   0.84     C(NS(=O)(=O)c1ccc(-c2ccc(S(=O)(=O)C)cc2)cc1)(NS(=O)(=O)c1ccc(C)cc1)C(=O)O\n",
      "   0.84     C(C)(NS(=O)(=O)c1ccc(-c2ccc(CN(C)C)cc2)cc1)C(=O)O\n",
      "   0.84     C(CC(F)(F)F)(NS(=O)(=O)c1ccc(-c2ccc(C(=O)C)cc2)cc1)C(=O)O\n",
      "   0.00     C(NS(=O)(=O)c1ccc(-c2ccc(Oc3ccc(C(F)(F)F)cc3)cc2)cc1\n",
      "   0.94     C(CCC(=O)O)(NS(=O)(=O)c1ccc(-c2ccc(C(=O)C)cc2)cc1)C(=O)O\n",
      "   0.75     C(C1(NS(=O)(=O)c2ccc(-c3ccc(Cl)cc3)cc2)CC1)(NS(=O)(=O)c1ccc(CC)cc1)C(=O)O\n",
      "   0.84     C(F)(NS(=O)(=O)c1ccc(-c2ccc(S(=O)(=O)c3ccc(C(F)(F)F)cc3)cc2)cc1)C(=O)O\n"
     ]
    },
    {
     "name": "stderr",
     "output_type": "stream",
     "text": [
      "/site/rp/work/projects/DD/Jupyter/notebooks/Maxime/scaffold-constrained-generation/scaffold_constrained_model.py:466: UserWarning: Implicit dimension choice for softmax has been deprecated. Change the call to include dim=X as an argument.\n",
      "  prob = F.softmax(logits)\n",
      "/site/rp/work/projects/DD/Jupyter/notebooks/Maxime/scaffold-constrained-generation/scaffold_constrained_model.py:467: UserWarning: Implicit dimension choice for log_softmax has been deprecated. Change the call to include dim=X as an argument.\n",
      "  log_prob = F.log_softmax(logits)\n"
     ]
    },
    {
     "name": "stdout",
     "output_type": "stream",
     "text": [
      "Found original molecule: C(CC(C)C)(NS(=O)(=O)c1ccc(-c2ccc(CC)cc2)cc1)C(=O)O\n",
      "Found original molecule: C(CCC(=O)OCC)(NS(=O)(=O)c1ccc(-c2ccc(Br)cc2)cc1)C(=O)O\n",
      "Found original molecule: C(CC1CC1)(NS(=O)(=O)c1ccc(-c2ccc(Br)cc2)cc1)C(=O)O\n",
      "\n",
      "Best score in memory: 0.96\n"
     ]
    },
    {
     "name": "stderr",
     "output_type": "stream",
     "text": [
      "/site/rp/work/projects/DD/Jupyter/notebooks/Maxime/scaffold-constrained-generation/scaffold_constrained_model.py:96: UserWarning: Implicit dimension choice for log_softmax has been deprecated. Change the call to include dim=X as an argument.\n",
      "  log_prob = F.log_softmax(logits)\n",
      "/site/rp/work/projects/DD/Jupyter/notebooks/Maxime/scaffold-constrained-generation/scaffold_constrained_model.py:97: UserWarning: Implicit dimension choice for softmax has been deprecated. Change the call to include dim=X as an argument.\n",
      "  prob = F.softmax(logits)\n"
     ]
    },
    {
     "name": "stdout",
     "output_type": "stream",
     "text": [
      "\n",
      "       Step 3   Fraction valid SMILES: 93.2  Time elapsed: 0.19h Time left: 0.34h\n",
      "  Agent    Prior   Target   Score             SMILES\n",
      "   0.93     C(CCC(=O)O)(NS(=O)(=O)c1ccc(-c2ccc(C(=O)O)cc2)cc1)C(=O)O\n",
      "   0.92     C(CC)(NS(=O)(=O)c1ccc(-c2ccc(Br)cc2)cc1)C(=O)O\n",
      "   0.88     C(CO)(NS(=O)(=O)c1ccc(-c2ccc(S(=O)(=O)c3ccc(C)cc3)cc2)cc1)C(=O)O\n",
      "   0.86     C(CC(C)(C)C)(NS(=O)(=O)c1ccc(-c2ccc(C#N)cc2)cc1)C(=O)O\n",
      "   0.95     C(CCC(=O)OCC)(NS(=O)(=O)c1ccc(-c2ccc(C(=O)O)cc2)cc1)C(=O)O\n",
      "   0.95     C(CCC(=O)OCC)(NS(=O)(=O)c1ccc(-c2ccc(O)cc2)cc1)C(=O)O\n",
      "   0.91     C(CC(C)C)(NS(=O)(=O)c1ccc(-c2ccc(C#N)cc2)cc1)C(=O)O\n",
      "   0.92     C(CCC1CC1)(NS(=O)(=O)c1ccc(-c2ccc(O)cc2)cc1)C(=O)O\n",
      "   0.89     C(C(F)(F)F)(NS(=O)(=O)c1ccc(-c2ccc(F)cc2)cc1)C(=O)O\n",
      "   0.94     C(CCC(=O)O)(NS(=O)(=O)c1ccc(-c2ccc(O)cc2)cc1)C(=O)O\n"
     ]
    },
    {
     "name": "stderr",
     "output_type": "stream",
     "text": [
      "/site/rp/work/projects/DD/Jupyter/notebooks/Maxime/scaffold-constrained-generation/scaffold_constrained_model.py:466: UserWarning: Implicit dimension choice for softmax has been deprecated. Change the call to include dim=X as an argument.\n",
      "  prob = F.softmax(logits)\n",
      "/site/rp/work/projects/DD/Jupyter/notebooks/Maxime/scaffold-constrained-generation/scaffold_constrained_model.py:467: UserWarning: Implicit dimension choice for log_softmax has been deprecated. Change the call to include dim=X as an argument.\n",
      "  log_prob = F.log_softmax(logits)\n"
     ]
    },
    {
     "name": "stdout",
     "output_type": "stream",
     "text": [
      "Found original molecule: C(CCC(=O)OCC)(NS(=O)(=O)c1ccc(-c2ccc(Br)cc2)cc1)C(=O)O\n",
      "Found original molecule: C(CC(C)C)(NS(=O)(=O)c1ccc(-c2ccc(CCC)cc2)cc1)C(=O)O\n",
      "\n",
      "Best score in memory: 0.97\n"
     ]
    },
    {
     "name": "stderr",
     "output_type": "stream",
     "text": [
      "/site/rp/work/projects/DD/Jupyter/notebooks/Maxime/scaffold-constrained-generation/scaffold_constrained_model.py:96: UserWarning: Implicit dimension choice for log_softmax has been deprecated. Change the call to include dim=X as an argument.\n",
      "  log_prob = F.log_softmax(logits)\n",
      "/site/rp/work/projects/DD/Jupyter/notebooks/Maxime/scaffold-constrained-generation/scaffold_constrained_model.py:97: UserWarning: Implicit dimension choice for softmax has been deprecated. Change the call to include dim=X as an argument.\n",
      "  prob = F.softmax(logits)\n"
     ]
    },
    {
     "name": "stdout",
     "output_type": "stream",
     "text": [
      "\n",
      "       Step 4   Fraction valid SMILES: 92.2  Time elapsed: 0.24h Time left: 0.29h\n",
      "  Agent    Prior   Target   Score             SMILES\n",
      "   0.94     C(CCC(=O)O)(NS(=O)(=O)c1ccc(-c2ccc(Br)cc2)cc1)C(=O)O\n",
      "   0.95     C(NS(=O)(=O)c1ccc(-c2ccc(CCC)cc2)cc1)(NS(=O)(=O)c1ccc(C)cc1)C(=O)O\n",
      "   0.96     C(CCC(=O)OC)(NS(=O)(=O)c1ccc(-c2ccc(Oc3ccc(C(=O)C)cc3)cc2)cc1)C(=O)O\n",
      "   0.94     C(CCC(O)=O)(NS(=O)(=O)c1ccc(-c2ccc(F)cc2)cc1)C(=O)O\n",
      "   0.95     C(CCC(=O)OCC)(NS(=O)(=O)c1ccc(-c2ccc(F)cc2)cc1)C(=O)O\n",
      "   0.94     C(CCO)(NS(=O)(=O)c1ccc(-c2ccc(F)cc2)cc1)C(=O)O\n",
      "   0.94     C(CCCC(=O)OC)(NS(=O)(=O)c1ccc(-c2ccc(F)cc2)cc1)C(=O)O\n",
      "   0.95     C(CCC(=O)OCC)(NS(=O)(=O)c1ccc(-c2ccc(C(O)=O)cc2)cc1)C(=O)O\n",
      "   0.92     C(F)(NS(=O)(=O)c1ccc(-c2ccc(OCc3ccc(Br)cc3)cc2)cc1)C(=O)O\n",
      "   0.95     C(CCC(OCC)=O)(NS(=O)(=O)c1ccc(-c2ccc(C(=O)NCCC)cc2)cc1)C(=O)O\n"
     ]
    },
    {
     "name": "stderr",
     "output_type": "stream",
     "text": [
      "/site/rp/work/projects/DD/Jupyter/notebooks/Maxime/scaffold-constrained-generation/scaffold_constrained_model.py:466: UserWarning: Implicit dimension choice for softmax has been deprecated. Change the call to include dim=X as an argument.\n",
      "  prob = F.softmax(logits)\n",
      "/site/rp/work/projects/DD/Jupyter/notebooks/Maxime/scaffold-constrained-generation/scaffold_constrained_model.py:467: UserWarning: Implicit dimension choice for log_softmax has been deprecated. Change the call to include dim=X as an argument.\n",
      "  log_prob = F.log_softmax(logits)\n"
     ]
    },
    {
     "name": "stdout",
     "output_type": "stream",
     "text": [
      "Found original molecule: C(CCC(=O)OCC)(NS(=O)(=O)c1ccc(-c2ccc(Br)cc2)cc1)C(=O)O\n",
      "Found original molecule: C(CCC(OCC)=O)(NS(=O)(=O)c1ccc(-c2ccc(Br)cc2)cc1)C(=O)O\n",
      "Found original molecule: C(CCC(=O)OCC)(NS(=O)(=O)c1ccc(-c2ccc(C)cc2)cc1)C(=O)O\n",
      "Found original molecule: C(CCC(OCC)=O)(NS(=O)(=O)c1ccc(-c2ccc(C)cc2)cc1)C(=O)O\n",
      "Found original molecule: C(CC(C)C)(NS(=O)(=O)c1ccc(-c2ccc(CCC)cc2)cc1)C(=O)O\n",
      "Found original molecule: C(CCC(=O)OCC)(NS(=O)(=O)c1ccc(-c2ccc(CCC)cc2)cc1)C(=O)O\n",
      "Found original molecule: C(CCC(OCC)=O)(NS(=O)(=O)c1ccc(-c2ccc(CCC)cc2)cc1)C(=O)O\n",
      "\n",
      "Best score in memory: 0.97\n"
     ]
    },
    {
     "name": "stderr",
     "output_type": "stream",
     "text": [
      "/site/rp/work/projects/DD/Jupyter/notebooks/Maxime/scaffold-constrained-generation/scaffold_constrained_model.py:96: UserWarning: Implicit dimension choice for log_softmax has been deprecated. Change the call to include dim=X as an argument.\n",
      "  log_prob = F.log_softmax(logits)\n",
      "/site/rp/work/projects/DD/Jupyter/notebooks/Maxime/scaffold-constrained-generation/scaffold_constrained_model.py:97: UserWarning: Implicit dimension choice for softmax has been deprecated. Change the call to include dim=X as an argument.\n",
      "  prob = F.softmax(logits)\n"
     ]
    },
    {
     "name": "stdout",
     "output_type": "stream",
     "text": [
      "\n",
      "       Step 5   Fraction valid SMILES: 96.9  Time elapsed: 0.29h Time left: 0.24h\n",
      "  Agent    Prior   Target   Score             SMILES\n",
      "   0.95     C(CCC(=O)OCC)(NS(=O)(=O)c1ccc(-c2ccc(C(O)=O)cc2)cc1)C(=O)O\n",
      "   0.91     C(CCCOCC)(NS(=O)(=O)c1ccc(-c2ccc(O)cc2)cc1)C(=O)O\n",
      "   0.95     C(CCC(=O)OC)(NS(=O)(=O)c1ccc(-c2ccc(Br)cc2)cc1)C(=O)O\n",
      "   0.95     C(CCC(=O)OCC)(NS(=O)(=O)c1ccc(-c2ccc(C(=O)NCCC(=O)O)cc2)cc1)C(=O)O\n",
      "   0.95     C(CCC(=O)OCC)(NS(=O)(=O)c1ccc(-c2ccc(S(=O)(=O)O)cc2)cc1)C(=O)O\n",
      "   0.95     C(CCC(=O)OCC)(NS(=O)(=O)c1ccc(-c2ccc(O)cc2)cc1)C(=O)O\n",
      "   0.95     C(CCC(=O)OCC)(NS(=O)(=O)c1ccc(-c2ccc(C(=O)CC)cc2)cc1)C(=O)O\n",
      "   0.94     C(CCC(=O)CC)(NS(=O)(=O)c1ccc(-c2ccc(O)cc2)cc1)C(=O)O\n",
      "   0.95     C(CCC(=O)OC)(NS(=O)(=O)c1ccc(-c2ccc(C#N)cc2)cc1)C(=O)O\n",
      "   0.95     C(CCC(=O)OC)(NS(=O)(=O)c1ccc(-c2ccc(C(=O)NCCC)cc2)cc1)C(=O)O\n"
     ]
    },
    {
     "name": "stderr",
     "output_type": "stream",
     "text": [
      "/site/rp/work/projects/DD/Jupyter/notebooks/Maxime/scaffold-constrained-generation/scaffold_constrained_model.py:466: UserWarning: Implicit dimension choice for softmax has been deprecated. Change the call to include dim=X as an argument.\n",
      "  prob = F.softmax(logits)\n",
      "/site/rp/work/projects/DD/Jupyter/notebooks/Maxime/scaffold-constrained-generation/scaffold_constrained_model.py:467: UserWarning: Implicit dimension choice for log_softmax has been deprecated. Change the call to include dim=X as an argument.\n",
      "  log_prob = F.log_softmax(logits)\n"
     ]
    },
    {
     "name": "stdout",
     "output_type": "stream",
     "text": [
      "Found original molecule: C(CC(C)C)(NS(=O)(=O)c1ccc(-c2ccc(CCC)cc2)cc1)C(=O)O\n",
      "Found original molecule: C(CC(C)C)(NS(=O)(=O)c1ccc(-c2ccc(CC)cc2)cc1)C(=O)O\n",
      "Found original molecule: C(CCC(=O)OCC)(NS(=O)(=O)c1ccc(-c2ccc(CCC)cc2)cc1)C(=O)O\n",
      "Found original molecule: C(CCC(OCC)=O)(NS(=O)(=O)c1ccc(-c2ccc(CCC)cc2)cc1)C(=O)O\n",
      "Found original molecule: C(CCC(OCC)=O)(NS(=O)(=O)c1ccc(-c2ccc(C)cc2)cc1)C(=O)O\n",
      "\n",
      "Best score in memory: 0.98\n"
     ]
    },
    {
     "name": "stderr",
     "output_type": "stream",
     "text": [
      "/site/rp/work/projects/DD/Jupyter/notebooks/Maxime/scaffold-constrained-generation/scaffold_constrained_model.py:96: UserWarning: Implicit dimension choice for log_softmax has been deprecated. Change the call to include dim=X as an argument.\n",
      "  log_prob = F.log_softmax(logits)\n",
      "/site/rp/work/projects/DD/Jupyter/notebooks/Maxime/scaffold-constrained-generation/scaffold_constrained_model.py:97: UserWarning: Implicit dimension choice for softmax has been deprecated. Change the call to include dim=X as an argument.\n",
      "  prob = F.softmax(logits)\n"
     ]
    },
    {
     "name": "stdout",
     "output_type": "stream",
     "text": [
      "\n",
      "       Step 6   Fraction valid SMILES: 95.9  Time elapsed: 0.34h Time left: 0.19h\n",
      "  Agent    Prior   Target   Score             SMILES\n",
      "   0.95     C(CCC(=O)OCC)(NS(=O)(=O)c1ccc(-c2ccc(S(=O)(=O)C)cc2)cc1)C(=O)O\n",
      "   0.95     C(CCC)(NS(=O)(=O)c1ccc(-c2ccc(CCC(C)C)cc2)cc1)C(=O)O\n",
      "   0.97     C(CCC(=O)OC)(NS(=O)(=O)c1ccc(-c2ccc(CC)cc2)cc1)C(=O)O\n",
      "   0.95     C(CCC(=O)OCC)(NS(=O)(=O)c1ccc(-c2ccc(C(=O)c3ccc(F)cc3)cc2)cc1)C(=O)O\n",
      "   0.91     C(CCO)(NS(=O)(=O)c1ccc(-c2ccc(C)cc2)cc1)C(=O)O\n",
      "   0.97     C(CCC(=O)O)(NS(=O)(=O)c1ccc(-c2ccc(CCC)cc2)cc1)C(=O)O\n",
      "   0.93     C(CCO)(NS(=O)(=O)c1ccc(-c2ccc(O)cc2)cc1)C(=O)O\n",
      "   0.94     C(CCC(=O)OCCCBr)(NS(=O)(=O)c1ccc(-c2ccc(S(=O)(=O)O)cc2)cc1)C(=O)O\n",
      "   0.97     C(CC(C)C)(NS(=O)(=O)c1ccc(-c2ccc(CCC)cc2)cc1)C(=O)O\n",
      "   0.00     C(CCC(OCC)=O)(NS(=O)(=O)c1ccc(-c2ccc(C#O)cc2)cc1)C(=O)O\n"
     ]
    },
    {
     "name": "stderr",
     "output_type": "stream",
     "text": [
      "/site/rp/work/projects/DD/Jupyter/notebooks/Maxime/scaffold-constrained-generation/scaffold_constrained_model.py:466: UserWarning: Implicit dimension choice for softmax has been deprecated. Change the call to include dim=X as an argument.\n",
      "  prob = F.softmax(logits)\n",
      "/site/rp/work/projects/DD/Jupyter/notebooks/Maxime/scaffold-constrained-generation/scaffold_constrained_model.py:467: UserWarning: Implicit dimension choice for log_softmax has been deprecated. Change the call to include dim=X as an argument.\n",
      "  log_prob = F.log_softmax(logits)\n"
     ]
    },
    {
     "name": "stdout",
     "output_type": "stream",
     "text": [
      "Found original molecule: C(CCC(OCC)=O)(NS(=O)(=O)c1ccc(-c2ccc(CCC)cc2)cc1)C(=O)O\n",
      "Found original molecule: C(CCC(=O)OCC)(NS(=O)(=O)c1ccc(-c2ccc(CCC)cc2)cc1)C(=O)O\n",
      "Found original molecule: C(CC(C)C)(NS(=O)(=O)c1ccc(-c2ccc(CCC)cc2)cc1)C(=O)O\n",
      "\n",
      "Best score in memory: 0.99\n"
     ]
    },
    {
     "name": "stderr",
     "output_type": "stream",
     "text": [
      "/site/rp/work/projects/DD/Jupyter/notebooks/Maxime/scaffold-constrained-generation/scaffold_constrained_model.py:96: UserWarning: Implicit dimension choice for log_softmax has been deprecated. Change the call to include dim=X as an argument.\n",
      "  log_prob = F.log_softmax(logits)\n",
      "/site/rp/work/projects/DD/Jupyter/notebooks/Maxime/scaffold-constrained-generation/scaffold_constrained_model.py:97: UserWarning: Implicit dimension choice for softmax has been deprecated. Change the call to include dim=X as an argument.\n",
      "  prob = F.softmax(logits)\n"
     ]
    },
    {
     "name": "stdout",
     "output_type": "stream",
     "text": [
      "\n",
      "       Step 7   Fraction valid SMILES: 89.6  Time elapsed: 0.39h Time left: 0.15h\n",
      "  Agent    Prior   Target   Score             SMILES\n",
      "   0.96     C(CCC(=O)OC)(NS(=O)(=O)c1ccc(-c2ccc(CC(C)C)cc2)cc1)C(=O)O\n",
      "   0.00     C(CCC(=O)OCC)(NS(=O)(=O)c1ccc(-c2ccc(C(=O)c3ccc(Oc3ccc(Oc3ccc(C(=O)C)\n",
      "   0.96     C(CCCC(=O)OCC)(NS(=O)(=O)c1ccc(-c2ccc(CCC(=O)O)cc2)cc1)C(=O)O\n",
      "   0.96     C(CCC(=O)OCC)(NS(=O)(=O)c1ccc(-c2ccc(CCC(=O)O)cc2)cc1)C(=O)O\n",
      "   0.96     C(CCC(OCC)=O)(NS(=O)(=O)c1ccc(-c2ccc(CCC(=O)O)cc2)cc1)C(=O)O\n",
      "   0.98     C(CCC(NCCCC(=O)O)=O)(NS(=O)(=O)c1ccc(-c2ccc(CC)cc2)cc1)C(=O)O\n",
      "   0.97     C(CCC=C(C)C)(NS(=O)(=O)c1ccc(-c2ccc(CCC)cc2)cc1)C(=O)O\n",
      "   0.97     C(CCC(OCC)=O)(NS(=O)(=O)c1ccc(-c2ccc(CCC)cc2)cc1)C(=O)O\n",
      "   0.95     C(CCC(=O)OC)(NS(=O)(=O)c1ccc(-c2ccc(C#N)cc2)cc1)C(=O)O\n",
      "   0.97     C(CCC(=O)OCC)(NS(=O)(=O)c1ccc(-c2ccc(CCC)cc2)cc1)C(=O)O\n"
     ]
    },
    {
     "name": "stderr",
     "output_type": "stream",
     "text": [
      "/site/rp/work/projects/DD/Jupyter/notebooks/Maxime/scaffold-constrained-generation/scaffold_constrained_model.py:466: UserWarning: Implicit dimension choice for softmax has been deprecated. Change the call to include dim=X as an argument.\n",
      "  prob = F.softmax(logits)\n",
      "/site/rp/work/projects/DD/Jupyter/notebooks/Maxime/scaffold-constrained-generation/scaffold_constrained_model.py:467: UserWarning: Implicit dimension choice for log_softmax has been deprecated. Change the call to include dim=X as an argument.\n",
      "  log_prob = F.log_softmax(logits)\n"
     ]
    },
    {
     "name": "stdout",
     "output_type": "stream",
     "text": [
      "Found original molecule: C(CCC(OCC)=O)(NS(=O)(=O)c1ccc(-c2ccc(CCC)cc2)cc1)C(=O)O\n",
      "Found original molecule: C(CC(C)C)(NS(=O)(=O)c1ccc(-c2ccc(CCC)cc2)cc1)C(=O)O\n",
      "Found original molecule: C(CCC(=O)OCC)(NS(=O)(=O)c1ccc(-c2ccc(CCC)cc2)cc1)C(=O)O\n",
      "\n",
      "Best score in memory: 0.99\n"
     ]
    },
    {
     "name": "stderr",
     "output_type": "stream",
     "text": [
      "/site/rp/work/projects/DD/Jupyter/notebooks/Maxime/scaffold-constrained-generation/scaffold_constrained_model.py:96: UserWarning: Implicit dimension choice for log_softmax has been deprecated. Change the call to include dim=X as an argument.\n",
      "  log_prob = F.log_softmax(logits)\n",
      "/site/rp/work/projects/DD/Jupyter/notebooks/Maxime/scaffold-constrained-generation/scaffold_constrained_model.py:97: UserWarning: Implicit dimension choice for softmax has been deprecated. Change the call to include dim=X as an argument.\n",
      "  prob = F.softmax(logits)\n"
     ]
    },
    {
     "name": "stdout",
     "output_type": "stream",
     "text": [
      "\n",
      "       Step 8   Fraction valid SMILES: 84.9  Time elapsed: 0.44h Time left: 0.10h\n",
      "  Agent    Prior   Target   Score             SMILES\n",
      "   0.97     C(CCC=C(C)CCC)(NS(=O)(=O)c1ccc(-c2ccc(CCC)cc2)cc1)C(=O)O\n",
      "   0.97     C(CC(C)C)(NS(=O)(=O)c1ccc(-c2ccc(-c3ccc(CCC)cc3)cc2)cc1)C(=O)O\n",
      "   0.97     C(CCC(=O)OCC)(NS(=O)(=O)c1ccc(-c2ccc(CCC(NCCC(C)C)CCCNCCC)cc2)cc1)C(=O)O\n",
      "   0.97     C(CCC(=O)OCC1CC1)(NS(=O)(=O)c1ccc(-c2ccc(CC)cc2)cc1)C(=O)O\n",
      "   0.97     C(CCC(OCC)=O)(NS(=O)(=O)c1ccc(-c2ccc(CCCOC)cc2)cc1)C(=O)O\n",
      "   0.96     C(CCCO)(NS(=O)(=O)c1ccc(-c2ccc(CC)cc2)cc1)C(=O)O\n",
      "   0.97     C(CCC(=O)OCC)(NS(=O)(=O)c1ccc(-c2ccc(CCCOC)cc2)cc1)C(=O)O\n",
      "   0.97     C(CCC(=O)OC)(NS(=O)(=O)c1ccc(-c2ccc(-c3ccc(CCC)cc3)cc2)cc1)C(=O)O\n",
      "   0.98     C(CCC=C(C)CCCC(=O)O)(NS(=O)(=O)c1ccc(-c2ccc(CCC)cc2)cc1)C(=O)O\n",
      "   0.96     C(CCC(=O)OCC)(NS(=O)(=O)c1ccc(-c2ccc(CCC(C)C)cc2)cc1)C(=O)O\n"
     ]
    },
    {
     "name": "stderr",
     "output_type": "stream",
     "text": [
      "/site/rp/work/projects/DD/Jupyter/notebooks/Maxime/scaffold-constrained-generation/scaffold_constrained_model.py:466: UserWarning: Implicit dimension choice for softmax has been deprecated. Change the call to include dim=X as an argument.\n",
      "  prob = F.softmax(logits)\n",
      "/site/rp/work/projects/DD/Jupyter/notebooks/Maxime/scaffold-constrained-generation/scaffold_constrained_model.py:467: UserWarning: Implicit dimension choice for log_softmax has been deprecated. Change the call to include dim=X as an argument.\n",
      "  log_prob = F.log_softmax(logits)\n"
     ]
    },
    {
     "name": "stdout",
     "output_type": "stream",
     "text": [
      "Found original molecule: C(CCC(OCC)=O)(NS(=O)(=O)c1ccc(-c2ccc(CCC)cc2)cc1)C(=O)O\n",
      "Found original molecule: C(CC(C)C)(NS(=O)(=O)c1ccc(-c2ccc(CC)cc2)cc1)C(=O)O\n",
      "Found original molecule: C(CC(C)C)(NS(=O)(=O)c1ccc(-c2ccc(CCC)cc2)cc1)C(=O)O\n",
      "Found original molecule: C(CCC(=O)OCC)(NS(=O)(=O)c1ccc(-c2ccc(CCC)cc2)cc1)C(=O)O\n",
      "\n",
      "Best score in memory: 0.99\n"
     ]
    },
    {
     "name": "stderr",
     "output_type": "stream",
     "text": [
      "/site/rp/work/projects/DD/Jupyter/notebooks/Maxime/scaffold-constrained-generation/scaffold_constrained_model.py:96: UserWarning: Implicit dimension choice for log_softmax has been deprecated. Change the call to include dim=X as an argument.\n",
      "  log_prob = F.log_softmax(logits)\n",
      "/site/rp/work/projects/DD/Jupyter/notebooks/Maxime/scaffold-constrained-generation/scaffold_constrained_model.py:97: UserWarning: Implicit dimension choice for softmax has been deprecated. Change the call to include dim=X as an argument.\n",
      "  prob = F.softmax(logits)\n"
     ]
    },
    {
     "name": "stdout",
     "output_type": "stream",
     "text": [
      "\n",
      "       Step 9   Fraction valid SMILES: 86.7  Time elapsed: 0.48h Time left: 0.05h\n",
      "  Agent    Prior   Target   Score             SMILES\n",
      "   0.97     C(CCC=C(C)CCC(=O)O)(NS(=O)(=O)c1ccc(-c2ccc(CCC)cc2)cc1)C(=O)O\n",
      "   0.97     C(CCC(=O)OCC1=C(CCC(=O)OCC)CC1)(NS(=O)(=O)c1ccc(-c2ccc(CCC)cc2)cc1)C(=O)O\n",
      "   0.97     C(CCC(=O)CC)(NS(=O)(=O)c1ccc(-c2ccc(-c3ccc(CCC)cc3)cc2)cc1)C(=O)O\n",
      "   0.96     C(CCC(OCC)=O)(NS(=O)(=O)c1ccc(-c2ccc(CCC(NOC(C)CC)CCC)cc2)cc1)C(=O)O\n",
      "   0.97     C(CCC(OCC)=O)(NS(=O)(=O)c1ccc(-c2ccc(CCC(=O)OCC)cc2)cc1)C(=O)O\n",
      "   0.97     C(CCC)(NS(=O)(=O)c1ccc(-c2ccc(CCC)cc2)cc1)C(=O)O\n",
      "   0.96     C(CCC(OCC)=O)(NS(=O)(=O)c1ccc(-c2ccc(CCC(=O)O)cc2)cc1)C(=O)O\n",
      "   0.97     C(CCC=C(CCC(=O)O)C)(NS(=O)(=O)c1ccc(-c2ccc(CCC)cc2)cc1)C(=O)O\n",
      "   0.99     C(CCCC(=O)O)(NS(=O)(=O)c1ccc(-c2ccc(CCC)cc2)cc1)C(=O)O\n",
      "   0.97     C(CCC=C(C)CCC(=O)O)(NS(=O)(=O)c1ccc(-c2ccc(-c3ccc(CCC)cc3)cc2)cc1)C(=O)O\n",
      "\n",
      "********************************************************************************\n",
      "\n",
      "         Best recorded SMILES: \n",
      "\n",
      "Score     Prior log P     SMILES\n",
      "\n",
      "0.99    -5.73        C(CCCC(=O)NCCCC(=O)O)(NS(=O)(=O)c1ccc(-c2ccc(CCC)cc2)cc1)C(=O)O\n",
      "0.99   -14.37        C(CCCC=C(CCC([O-])=O)C)(NS(=O)(=O)c1ccc(-c2ccc(CCC)cc2)cc1)C(=O)O\n",
      "0.99   -12.58        C(CCCC=CCC=C(C)CCCC(=O)O)(NS(=O)(=O)c1ccc(-c2ccc(CCC)cc2)cc1)C(=O)O\n",
      "0.99    -6.92        C(CCCC(=O)NCCC)(NS(=O)(=O)c1ccc(-c2ccc(CCC)cc2)cc1)C(=O)O\n",
      "0.99   -10.56        C(CCC=C1CCC(OC)CC1)(NS(=O)(=O)c1ccc(-c2ccc(CCC)cc2)cc1)C(=O)O\n",
      "0.99    -6.45        C(CCCC(=O)O)(NS(=O)(=O)c1ccc(-c2ccc(CCC)cc2)cc1)C(=O)O\n",
      "0.99   -13.58        C(CCCc1ccc(-c2ccc(CCC)cc2)cc1)(NS(=O)(=O)c1ccc(-c2ccc(CCC(NO)=O)cc2)cc1)C(=O)O\n",
      "0.99   -10.35        C(CCCC(=O)CC)(NS(=O)(=O)c1ccc(-c2ccc(CCC)cc2)cc1)C(=O)O\n",
      "0.99   -10.40        C(CCCC(NS(=O)(=O)c1ccc(-c2ccc(CCC)cc2)cc1)C(=O)O)(NS(=O)(=O)c1ccc(CC)cc1)C(=O)O\n",
      "0.99    -7.45        C(CCCC(=O)C)(NS(=O)(=O)c1ccc(-c2ccc(-c3ccc(CCC)cc3)cc2)cc1)C(=O)O\n",
      "0.99    -4.49        C(CCCC(=O)O)(NS(=O)(=O)c1ccc(-c2ccc(-c3ccc(CCC)cc3)cc2)cc1)C(=O)O\n",
      "0.99    -7.36        C(CCCC=C(C)CCCC(=O)O)(NS(=O)(=O)c1ccc(-c2ccc(CCC)cc2)cc1)C(=O)O\n",
      "0.99    -8.40        C(CCCc1ccc(CCC)cc1)(NS(=O)(=O)c1ccc(-c2ccc(CCC)cc2)cc1)C(=O)O\n",
      "0.99    -7.13        C(CCCC=C)(NS(=O)(=O)c1ccc(-c2ccc(CCC)cc2)cc1)C(=O)O\n",
      "0.99    -6.57        C(CCCc1ccc(-c2ccc(CCC)cc2)cc1)(NS(=O)(=O)c1ccc(-c2ccc(CCC)cc2)cc1)C(=O)O\n",
      "0.99    -9.30        C(CCCC=CCC)(NS(=O)(=O)c1ccc(-c2ccc(CCC)cc2)cc1)C(=O)O\n",
      "0.98    -5.89        C(CCCC(=O)OCC)(NS(=O)(=O)c1ccc(-c2ccc(CCC)cc2)cc1)C(=O)O\n",
      "0.98    -9.58        C(CCCC=C(C)C)(NS(=O)(=O)c1ccc(-c2ccc(CCC)cc2)cc1)C(=O)O\n",
      "0.98   -13.54        C(CCC[N+](C)(CCC)C)(NS(=O)(=O)c1ccc(-c2ccc(CCC)cc2)cc1)C(=O)O\n",
      "0.98    -6.50        C(CCCC(OC)=O)(NS(=O)(=O)c1ccc(-c2ccc(CCC)cc2)cc1)C(=O)O\n",
      "0.98    -6.90        C(CCCC(=O)OC)(NS(=O)(=O)c1ccc(-c2ccc(CCC)cc2)cc1)C(=O)O\n",
      "0.98   -11.25        C(CCCC(OCCC)=O)(NS(=O)(=O)c1ccc(-c2ccc(CCC)cc2)cc1)C(=O)O\n",
      "0.98    -7.93        C(CCCC=C(CCC(=O)O)C)(NS(=O)(=O)c1ccc(-c2ccc(CCC)cc2)cc1)C(=O)O\n",
      "0.98    -6.93        C(CCCC(=O)OCC)(NS(=O)(=O)c1ccc(-c2ccc(-c3ccc(CCC)cc3)cc2)cc1)C(=O)O\n",
      "0.98   -15.67        C(CCCOC)(NS(=O)(=O)c1ccc(-c2ccc(CCCOc3ccc(CCC)cc3)cc2)cc1)C(=O)O\n",
      "0.98   -12.17        C(CCCC=C(C)CCC=C(C)CCC(=O)O)(NS(=O)(=O)c1ccc(-c2ccc(CCC)cc2)cc1)C(=O)O\n",
      "0.98    -5.77        C(CCCC(OCC)=O)(NS(=O)(=O)c1ccc(-c2ccc(CCC)cc2)cc1)C(=O)O\n",
      "0.98    -8.29        C(CCCCC=C(CCC(=O)O)C)(NS(=O)(=O)c1ccc(-c2ccc(CCC)cc2)cc1)C(=O)O\n",
      "0.98   -10.71        C(CCCC=C1CCC1)(NS(=O)(=O)c1ccc(-c2ccc(CCC)cc2)cc1)C(=O)O\n",
      "0.98    -5.24        C(CCCC(=O)OC)(NS(=O)(=O)c1ccc(-c2ccc(-c3ccc(CCC)cc3)cc2)cc1)C(=O)O\n",
      "0.98    -7.90        C(CCCC=C(C)C)(NS(=O)(=O)c1ccc(-c2ccc(-c3ccc(CCC)cc3)cc2)cc1)C(=O)O\n",
      "0.98    -8.81        C(CCCC=C(C)CCC=C(C)CCC(O)=O)(NS(=O)(=O)c1ccc(-c2ccc(CCC)cc2)cc1)C(=O)O\n",
      "0.98    -6.66        C(CCCC(=O)O)(NS(=O)(=O)c1ccc(-c2ccc(CCCOc3ccc(CCC)cc3)cc2)cc1)C(=O)O\n",
      "0.98    -7.73        C(CCCC=C(C)CCC(=O)O)(NS(=O)(=O)c1ccc(-c2ccc(-c3ccc(CCC)cc3)cc2)cc1)C(=O)O\n",
      "0.98    -7.18        C(CCCC=C(C(=O)O)CCC(=O)O)(NS(=O)(=O)c1ccc(-c2ccc(CCC)cc2)cc1)C(=O)O\n",
      "0.98    -8.01        C(CCCCC=C(C)CCC(=O)O)(NS(=O)(=O)c1ccc(-c2ccc(CCC)cc2)cc1)C(=O)O\n",
      "0.98    -5.90        C(CCCC(OCC)=O)(NS(=O)(=O)c1ccc(-c2ccc(-c3ccc(CCC)cc3)cc2)cc1)C(=O)O\n",
      "0.98    -5.48        C(CCCC=C(C)CCC(=O)O)(NS(=O)(=O)c1ccc(-c2ccc(CCC)cc2)cc1)C(=O)O\n",
      "0.98    -8.24        C(CCC[N+](C)(CCC)C)(NS(=O)(=O)c1ccc(-c2ccc(-c3ccc(CCC)cc3)cc2)cc1)C(=O)O\n",
      "0.98    -8.88        C(CCCC(=O)OC)(NS(=O)(=O)c1ccc(-c2ccc(CCC(NCCC(C)C)CCC)cc2)cc1)C(=O)O\n",
      "0.98    -4.61        C(CCCO)(NS(=O)(=O)c1ccc(-c2ccc(CCC)cc2)cc1)C(=O)O\n",
      "0.98    -6.47        C(CCCO)(NS(=O)(=O)c1ccc(-c2ccc(-c3ccc(CCC)cc3)cc2)cc1)C(=O)O\n",
      "0.98    -6.99        C(CCCC=O)(NS(=O)(=O)c1ccc(-c2ccc(CCC)cc2)cc1)C(=O)O\n",
      "0.98    -8.65        C(CCCC(NS(=O)(=O)c1ccc(-c2ccc(CCC)cc2)cc1)C(=O)O)(NS(=O)(=O)c1ccc(C)cc1)C(=O)O\n",
      "0.98   -10.42        C(CCCCC=O)(NS(=O)(=O)c1ccc(-c2ccc(CCC)cc2)cc1)C(=O)O\n",
      "0.98    -5.15        C(CCCC=O)(NS(=O)(=O)c1ccc(-c2ccc(-c3ccc(CCC)cc3)cc2)cc1)C(=O)O\n",
      "0.98    -7.03        C(CCCC=O)(NS(=O)(=O)c1ccc(-c2ccc(-c3ccc(-c4ccc(CCC)cc4)cc3)cc2)cc1)C(=O)O\n",
      "0.98    -6.15        C(CCCO)(NS(=O)(=O)c1ccc(-c2ccc(-c3ccc(-c4ccc(CCC)cc4)cc3)cc2)cc1)C(=O)O\n",
      "0.98    -5.08        C(CCC(=O)NCCCC(=O)O)(NS(=O)(=O)c1ccc(-c2ccc(CCC)cc2)cc1)C(=O)O\n",
      "0.98    -6.87        C(CCCC(=O)OCC1CC1)(NS(=O)(=O)c1ccc(-c2ccc(CCC)cc2)cc1)C(=O)O\n",
      "\n",
      "********************************************************************************\n",
      "\n",
      "Model initialized, starting training...\n"
     ]
    },
    {
     "name": "stderr",
     "output_type": "stream",
     "text": [
      "/site/rp/work/projects/DD/Jupyter/notebooks/Maxime/scaffold-constrained-generation/scaffold_constrained_model.py:466: UserWarning: Implicit dimension choice for softmax has been deprecated. Change the call to include dim=X as an argument.\n",
      "  prob = F.softmax(logits)\n",
      "/site/rp/work/projects/DD/Jupyter/notebooks/Maxime/scaffold-constrained-generation/scaffold_constrained_model.py:467: UserWarning: Implicit dimension choice for log_softmax has been deprecated. Change the call to include dim=X as an argument.\n",
      "  log_prob = F.log_softmax(logits)\n"
     ]
    },
    {
     "name": "stdout",
     "output_type": "stream",
     "text": [
      "\n",
      "Best score in memory: 0.85\n"
     ]
    },
    {
     "name": "stderr",
     "output_type": "stream",
     "text": [
      "/site/rp/work/projects/DD/Jupyter/notebooks/Maxime/scaffold-constrained-generation/scaffold_constrained_model.py:96: UserWarning: Implicit dimension choice for log_softmax has been deprecated. Change the call to include dim=X as an argument.\n",
      "  log_prob = F.log_softmax(logits)\n",
      "/site/rp/work/projects/DD/Jupyter/notebooks/Maxime/scaffold-constrained-generation/scaffold_constrained_model.py:97: UserWarning: Implicit dimension choice for softmax has been deprecated. Change the call to include dim=X as an argument.\n",
      "  prob = F.softmax(logits)\n"
     ]
    },
    {
     "name": "stdout",
     "output_type": "stream",
     "text": [
      "\n",
      "       Step 0   Fraction valid SMILES: 86.1  Time elapsed: 0.05h Time left: 0.48h\n",
      "  Agent    Prior   Target   Score             SMILES\n",
      "   0.66     C(C)(NS(=O)(=O)c1ccc(NC(Cc2cc3ccc4ccccc4c3nc2O)C(=O)O)cc1)C(=O)O\n",
      "   0.56     C(NCCNCCCNc1nc2c(cc(N)cc2)cc1)(NS(=O)(=O)c1ccc(OC)cc1)C(=O)O\n",
      "   0.57     C(=O)(NS(=O)(=O)c1ccc(NC(=S)Nc2ccccc2)cc1)C(=O)O\n",
      "   0.00     C(C(NC(C1C2(C)C(C3C(C4(C)C=CC(=O)C=C4CC3)CC2)CC1)=O)\n",
      "   0.61     C(C1CCN(C(C(C)O)C(=O)N(C)Cc2ccccc2)CC1)(NS(=O)(=O)c1ccc(F)cc1)C(=O)O\n",
      "   0.64     C(CN(C)C(CC1CCc2c(cc(OCC)cc2)C1C(=O)O)=O)(NS(=O)(=O)c1ccc(SC)cc1)C(=O)O\n",
      "   0.57     C(=O)(NS(=O)(=O)c1ccc(Br)cc1)C(=O)O\n",
      "   0.56     C(NCC(=O)OC(C)(C)C)(NS(=O)(=O)c1ccc(C)cc1)C(=O)O\n",
      "   0.55     C(C)(NS(=O)(=O)c1ccc(NC(C)=O)cc1)C(=O)O\n",
      "   0.61     C(C#Cc1ccc2n(Cc3cc(Cl)ccc3)c3ccc([N+]([O-])=O)cc3c2n1)(NS(=O)(=O)c1ccc(Cl)cc1)C(=O)O\n"
     ]
    },
    {
     "name": "stderr",
     "output_type": "stream",
     "text": [
      "/site/rp/work/projects/DD/Jupyter/notebooks/Maxime/scaffold-constrained-generation/scaffold_constrained_model.py:466: UserWarning: Implicit dimension choice for softmax has been deprecated. Change the call to include dim=X as an argument.\n",
      "  prob = F.softmax(logits)\n",
      "/site/rp/work/projects/DD/Jupyter/notebooks/Maxime/scaffold-constrained-generation/scaffold_constrained_model.py:467: UserWarning: Implicit dimension choice for log_softmax has been deprecated. Change the call to include dim=X as an argument.\n",
      "  log_prob = F.log_softmax(logits)\n"
     ]
    },
    {
     "name": "stdout",
     "output_type": "stream",
     "text": [
      "\n",
      "Best score in memory: 0.93\n"
     ]
    },
    {
     "name": "stderr",
     "output_type": "stream",
     "text": [
      "/site/rp/work/projects/DD/Jupyter/notebooks/Maxime/scaffold-constrained-generation/scaffold_constrained_model.py:96: UserWarning: Implicit dimension choice for log_softmax has been deprecated. Change the call to include dim=X as an argument.\n",
      "  log_prob = F.log_softmax(logits)\n",
      "/site/rp/work/projects/DD/Jupyter/notebooks/Maxime/scaffold-constrained-generation/scaffold_constrained_model.py:97: UserWarning: Implicit dimension choice for softmax has been deprecated. Change the call to include dim=X as an argument.\n",
      "  prob = F.softmax(logits)\n"
     ]
    },
    {
     "name": "stdout",
     "output_type": "stream",
     "text": [
      "\n",
      "       Step 1   Fraction valid SMILES: 77.8  Time elapsed: 0.10h Time left: 0.43h\n",
      "  Agent    Prior   Target   Score             SMILES\n",
      "   0.00     C(N1C(C)=NS(=O)(=O)c2cc(NS(=O)(=O)c3cc(F)c(F)cc3)ccc\n",
      "   0.67     C(NS(=O)(=O)c1ccc(NC(=O)CC(C)C)cc1)(NS(=O)(=O)c1ccc(Cl)cc1)C(=O)O\n",
      "   0.74     C(O)(NS(=O)(=O)c1ccc(-c2ccccc2)cc1)C(=O)O\n",
      "   0.70     C(NS(=O)(=O)c1ccc(-c2cc(O)ccc2)cc1)(NS(=O)(=O)c1ccc(-c2ccccc2)cc1)C(=O)O\n",
      "   0.00     C(C(NS(=O)(=O)c1ccc(-c2cc(Cl)ccc2)nc1)C(=O)O1\n",
      "   0.56     C(NS(=O)(=O)c1ccc(-c2ccc(-c3ccc(O)cc3)s2)cc1)(NS(=O)(=O)c1ccc(C)cc1)C(=O)O\n",
      "   0.57     C(CN1CCOCC1)(NS(=O)(=O)c1ccc(NC(C)=O)cc1)C(=O)O\n",
      "   0.00     C(C(=O)C1N(S(=O)(=O)c2ccc(F)cc2)C(=O)c2c3ccccc3ccc21\n",
      "   0.73     C(NS(=O)(=O)c1ccc(-c2cccc(CF)c2)cc1)(NS(=O)(=O)c1ccc(Cl)cc1)C(=O)O\n",
      "   0.85     C(C(=O)N1CCN(Cc2c3c(ccc2)OCO3)CCC1)(NS(=O)(=O)c1ccc(-c2ccc(F)cc2)cc1)C(=O)O\n"
     ]
    },
    {
     "name": "stderr",
     "output_type": "stream",
     "text": [
      "/site/rp/work/projects/DD/Jupyter/notebooks/Maxime/scaffold-constrained-generation/scaffold_constrained_model.py:466: UserWarning: Implicit dimension choice for softmax has been deprecated. Change the call to include dim=X as an argument.\n",
      "  prob = F.softmax(logits)\n",
      "/site/rp/work/projects/DD/Jupyter/notebooks/Maxime/scaffold-constrained-generation/scaffold_constrained_model.py:467: UserWarning: Implicit dimension choice for log_softmax has been deprecated. Change the call to include dim=X as an argument.\n",
      "  log_prob = F.log_softmax(logits)\n"
     ]
    },
    {
     "name": "stdout",
     "output_type": "stream",
     "text": [
      "\n",
      "Best score in memory: 0.97\n"
     ]
    },
    {
     "name": "stderr",
     "output_type": "stream",
     "text": [
      "/site/rp/work/projects/DD/Jupyter/notebooks/Maxime/scaffold-constrained-generation/scaffold_constrained_model.py:96: UserWarning: Implicit dimension choice for log_softmax has been deprecated. Change the call to include dim=X as an argument.\n",
      "  log_prob = F.log_softmax(logits)\n",
      "/site/rp/work/projects/DD/Jupyter/notebooks/Maxime/scaffold-constrained-generation/scaffold_constrained_model.py:97: UserWarning: Implicit dimension choice for softmax has been deprecated. Change the call to include dim=X as an argument.\n",
      "  prob = F.softmax(logits)\n"
     ]
    },
    {
     "name": "stdout",
     "output_type": "stream",
     "text": [
      "\n",
      "       Step 2   Fraction valid SMILES: 83.9  Time elapsed: 0.14h Time left: 0.38h\n",
      "  Agent    Prior   Target   Score             SMILES\n",
      "   0.87     C(OC(C)(C)C#N)(NS(=O)(=O)c1ccc(-c2ccc(C(=O)O)cc2)cc1)C(=O)O\n",
      "   0.84     C(NS(=O)(=O)c1ccc(-c2ccc(CC(C)NCC(O)C)cc2)cc1)(NS(=O)(=O)c1ccc(Cl)cc1)C(=O)O\n",
      "   0.85     C(NS(=O)(=O)c1ccc(-c2ccc(CC#N)cc2)cc1)(NS(=O)(=O)c1ccc(O)cc1)C(=O)O\n",
      "   0.00     C(C(NS(=O)(=O)c1ccc(Cl)c(C(F)(F)F)c1)C(=O)O)(NS(=O)(=O)c1ccc(-c2ccc(OC\n",
      "   0.85     C(C(=O)O)(NS(=O)(=O)c1ccc(-c2ccc(F)cc2)cc1)C(=O)O\n",
      "   0.00     C(NS(=O)(=O)c1ccc(-c2ccc(C(=O)O)cc2)cc1)(NS(=O)(=O)c1ccc(-c2ccc(F)cc2\n",
      "   0.72     C(N)(NS(=O)(=O)c1ccc(-c2ccccc2)cc1)C(=O)O\n",
      "   0.87     C(CNCC(CO)NS(=O)(=O)c1ccc(-c2ccc(C)cc2)cc1)(NS(=O)(=O)c1ccc(F)cc1)C(=O)O\n",
      "   0.85     C(C(O)=O)(NS(=O)(=O)c1ccc(-c2ccc(CC(C)NCC(O)C)cc2)cc1)C(=O)O\n",
      "   0.00     C(#N)(NS(=O)(=O)c1ccc(-c2ccc(C)cc2)cc1)C(=O)O\n"
     ]
    },
    {
     "name": "stderr",
     "output_type": "stream",
     "text": [
      "/site/rp/work/projects/DD/Jupyter/notebooks/Maxime/scaffold-constrained-generation/scaffold_constrained_model.py:466: UserWarning: Implicit dimension choice for softmax has been deprecated. Change the call to include dim=X as an argument.\n",
      "  prob = F.softmax(logits)\n",
      "/site/rp/work/projects/DD/Jupyter/notebooks/Maxime/scaffold-constrained-generation/scaffold_constrained_model.py:467: UserWarning: Implicit dimension choice for log_softmax has been deprecated. Change the call to include dim=X as an argument.\n",
      "  log_prob = F.log_softmax(logits)\n"
     ]
    },
    {
     "name": "stdout",
     "output_type": "stream",
     "text": [
      "Found original molecule: C(c1ccc(F)cc1)(NS(=O)(=O)c1ccc(-c2ccc(C)cc2)cc1)C(=O)O\n",
      "\n",
      "Best score in memory: 0.97\n"
     ]
    },
    {
     "name": "stderr",
     "output_type": "stream",
     "text": [
      "/site/rp/work/projects/DD/Jupyter/notebooks/Maxime/scaffold-constrained-generation/scaffold_constrained_model.py:96: UserWarning: Implicit dimension choice for log_softmax has been deprecated. Change the call to include dim=X as an argument.\n",
      "  log_prob = F.log_softmax(logits)\n",
      "/site/rp/work/projects/DD/Jupyter/notebooks/Maxime/scaffold-constrained-generation/scaffold_constrained_model.py:97: UserWarning: Implicit dimension choice for softmax has been deprecated. Change the call to include dim=X as an argument.\n",
      "  prob = F.softmax(logits)\n"
     ]
    },
    {
     "name": "stdout",
     "output_type": "stream",
     "text": [
      "\n",
      "       Step 3   Fraction valid SMILES: 92.7  Time elapsed: 0.19h Time left: 0.34h\n",
      "  Agent    Prior   Target   Score             SMILES\n",
      "   0.84     C(c1ncncc1)(NS(=O)(=O)c1ccc(-c2ccc(O)cc2)cc1)C(=O)O\n",
      "   0.00     C(CCC(NS(=O)(=O)c1ccc(-c2ccc(OC(C(=O)O)(C)C)cc2)cc1)\n",
      "   0.89     C(Cn1ccnn1)(NS(=O)(=O)c1ccc(-c2ccc(F)cc2)cc1)C(=O)O\n",
      "   0.87     C(Nc1ccc(F)cc1)(NS(=O)(=O)c1ccc(-c2ccc(CC(C)NCC(O)C)cc2)cc1)C(=O)O\n",
      "   0.86     C(NCCc1ccc(F)cc1)(NS(=O)(=O)c1ccc(-c2ccc(-c3ccc(O)cc3)cc2)cc1)C(=O)O\n",
      "   0.92     C(CCc1ccc(F)cc1)(NS(=O)(=O)c1ccc(-c2ccc(CC(NS(C)(=O)=O)C)cc2)cc1)C(=O)O\n",
      "   0.86     C(c1nc[nH]c1)(NS(=O)(=O)c1ccc(-c2ccc(-c3ccc(CC(NS(C)(=O)=O)C)cc3)cc2)cc1)C(=O)O\n",
      "   0.83     C(c1n[nH]cn1)(NS(=O)(=O)c1ccc(-c2ccc(C(=O)O)cc2)cc1)C(=O)O\n",
      "   0.83     C(CC(C)=N)(NS(=O)(=O)c1ccc(-c2ccc(F)cc2)cc1)C(=O)O\n",
      "   0.92     C(C)(NS(=O)(=O)c1ccc(-c2ccc(CC(NS(=O)(=O)c3ccc(F)cc3)C(=O)O)cc2)cc1)C(=O)O\n"
     ]
    },
    {
     "name": "stderr",
     "output_type": "stream",
     "text": [
      "/site/rp/work/projects/DD/Jupyter/notebooks/Maxime/scaffold-constrained-generation/scaffold_constrained_model.py:466: UserWarning: Implicit dimension choice for softmax has been deprecated. Change the call to include dim=X as an argument.\n",
      "  prob = F.softmax(logits)\n",
      "/site/rp/work/projects/DD/Jupyter/notebooks/Maxime/scaffold-constrained-generation/scaffold_constrained_model.py:467: UserWarning: Implicit dimension choice for log_softmax has been deprecated. Change the call to include dim=X as an argument.\n",
      "  log_prob = F.log_softmax(logits)\n"
     ]
    },
    {
     "name": "stdout",
     "output_type": "stream",
     "text": [
      "Found original molecule: C(c1ccc(F)cc1)(NS(=O)(=O)c1ccc(-c2ccc(SC)cc2)cc1)C(=O)O\n",
      "Found original molecule: C(CCC(=O)OC(C)(C)C)(NS(=O)(=O)c1ccc(-c2ccc(C)cc2)cc1)C(=O)O\n",
      "\n",
      "Best score in memory: 0.98\n"
     ]
    },
    {
     "name": "stderr",
     "output_type": "stream",
     "text": [
      "/site/rp/work/projects/DD/Jupyter/notebooks/Maxime/scaffold-constrained-generation/scaffold_constrained_model.py:96: UserWarning: Implicit dimension choice for log_softmax has been deprecated. Change the call to include dim=X as an argument.\n",
      "  log_prob = F.log_softmax(logits)\n",
      "/site/rp/work/projects/DD/Jupyter/notebooks/Maxime/scaffold-constrained-generation/scaffold_constrained_model.py:97: UserWarning: Implicit dimension choice for softmax has been deprecated. Change the call to include dim=X as an argument.\n",
      "  prob = F.softmax(logits)\n"
     ]
    },
    {
     "name": "stdout",
     "output_type": "stream",
     "text": [
      "\n",
      "       Step 4   Fraction valid SMILES: 93.5  Time elapsed: 0.24h Time left: 0.29h\n",
      "  Agent    Prior   Target   Score             SMILES\n",
      "   0.93     C(CC(C)C)(NS(=O)(=O)c1ccc(-c2ccc(CC(NS(C)(=O)=O)c3ccc(F)cc3)cc2)cc1)C(=O)O\n",
      "   0.91     C(CCN(C)C)(NS(=O)(=O)c1ccc(-c2ccc(S(=O)(=O)C)cc2)cc1)C(=O)O\n",
      "   0.91     C(CCNCCCO)(NS(=O)(=O)c1ccc(-c2ccc(C)cc2)cc1)C(=O)O\n",
      "   0.84     C(CCCN(C)C)(NS(=O)(=O)c1ccc(-c2ccc(CC(C)(C)C)cc2)cc1)C(=O)O\n",
      "   0.93     C(CCC(=O)O)(NS(=O)(=O)c1ccc(-c2ccc(CNC)cc2)cc1)C(=O)O\n",
      "   0.90     C(CCN(C)C)(NS(=O)(=O)c1ccc(-c2ccc(CC(NS(C)(=O)=O)C)cc2)cc1)C(=O)O\n",
      "   0.94     C(CCC(=O)O)(NS(=O)(=O)c1ccc(-c2ccc(F)cc2)cc1)C(=O)O\n",
      "   0.97     C(CCC(=O)O)(NS(=O)(=O)c1ccc(-c2ccc(SC)cc2)cc1)C(=O)O\n",
      "   0.93     C(CCC(=O)O)(NS(=O)(=O)c1ccc(-c2ccc(C(=O)O)cc2)cc1)C(=O)O\n",
      "   0.00     C(NS(=O)(=O)c1ccc(-c2ccc(CC(C)C)cc2)cc1)(NS(=O)(=O)c1ccc(-c2ccc(F)cc2\n"
     ]
    },
    {
     "name": "stderr",
     "output_type": "stream",
     "text": [
      "/site/rp/work/projects/DD/Jupyter/notebooks/Maxime/scaffold-constrained-generation/scaffold_constrained_model.py:466: UserWarning: Implicit dimension choice for softmax has been deprecated. Change the call to include dim=X as an argument.\n",
      "  prob = F.softmax(logits)\n",
      "/site/rp/work/projects/DD/Jupyter/notebooks/Maxime/scaffold-constrained-generation/scaffold_constrained_model.py:467: UserWarning: Implicit dimension choice for log_softmax has been deprecated. Change the call to include dim=X as an argument.\n",
      "  log_prob = F.log_softmax(logits)\n"
     ]
    },
    {
     "name": "stdout",
     "output_type": "stream",
     "text": [
      "Found original molecule: C(CCC(=O)OC(C)(C)C)(NS(=O)(=O)c1ccc(-c2ccc(C(=O)C)cc2)cc1)C(=O)O\n",
      "Found original molecule: C(CCC(=O)OC(C)(C)C)(NS(=O)(=O)c1ccc(-c2ccc(C)cc2)cc1)C(=O)O\n",
      "\n",
      "Best score in memory: 0.98\n"
     ]
    },
    {
     "name": "stderr",
     "output_type": "stream",
     "text": [
      "/site/rp/work/projects/DD/Jupyter/notebooks/Maxime/scaffold-constrained-generation/scaffold_constrained_model.py:96: UserWarning: Implicit dimension choice for log_softmax has been deprecated. Change the call to include dim=X as an argument.\n",
      "  log_prob = F.log_softmax(logits)\n",
      "/site/rp/work/projects/DD/Jupyter/notebooks/Maxime/scaffold-constrained-generation/scaffold_constrained_model.py:97: UserWarning: Implicit dimension choice for softmax has been deprecated. Change the call to include dim=X as an argument.\n",
      "  prob = F.softmax(logits)\n"
     ]
    },
    {
     "name": "stdout",
     "output_type": "stream",
     "text": [
      "\n",
      "       Step 5   Fraction valid SMILES: 95.5  Time elapsed: 0.29h Time left: 0.24h\n",
      "  Agent    Prior   Target   Score             SMILES\n",
      "   0.94     C(CCC(=O)O)(NS(=O)(=O)c1ccc(-c2ccc(F)cc2)cc1)C(=O)O\n",
      "   0.95     C(CCC(=O)OCc1ccc(F)cc1)(NS(=O)(=O)c1ccc(-c2ccc(C(=O)O)cc2)cc1)C(=O)O\n",
      "   0.93     C(CCC(=O)OCC)(NS(=O)(=O)c1ccc(-c2ccc(-c3ccc(NC(CC)C)cc3)cc2)cc1)C(=O)O\n",
      "   0.94     C(CC(C)CCC=C(C)C)(NS(=O)(=O)c1ccc(-c2ccc(CCCC)cc2)cc1)C(=O)O\n",
      "   0.95     C(CCO)(NS(=O)(=O)c1ccc(-c2ccc(CCCN(C)C)cc2)cc1)C(=O)O\n",
      "   0.93     C(C)(NS(=O)(=O)c1ccc(-c2ccc(SC)cc2)cc1)C(=O)O\n",
      "   0.95     C(CC(C)C)(NS(=O)(=O)c1ccc(-c2ccc(OC(C(=O)O)(C)C)cc2)cc1)C(=O)O\n",
      "   0.92     C(CCC(C)(O)C)(NS(=O)(=O)c1ccc(-c2ccc(O)cc2)cc1)C(=O)O\n",
      "   0.96     C(Cc1oc(-c2ccc(F)cc2)cn1)(NS(=O)(=O)c1ccc(-c2ccc(SC)cc2)cc1)C(=O)O\n",
      "   0.94     C(CCC(O)=O)(NS(=O)(=O)c1ccc(-c2ccc(CNCCCO)cc2)cc1)C(=O)O\n"
     ]
    },
    {
     "name": "stderr",
     "output_type": "stream",
     "text": [
      "/site/rp/work/projects/DD/Jupyter/notebooks/Maxime/scaffold-constrained-generation/scaffold_constrained_model.py:466: UserWarning: Implicit dimension choice for softmax has been deprecated. Change the call to include dim=X as an argument.\n",
      "  prob = F.softmax(logits)\n",
      "/site/rp/work/projects/DD/Jupyter/notebooks/Maxime/scaffold-constrained-generation/scaffold_constrained_model.py:467: UserWarning: Implicit dimension choice for log_softmax has been deprecated. Change the call to include dim=X as an argument.\n",
      "  log_prob = F.log_softmax(logits)\n"
     ]
    },
    {
     "name": "stdout",
     "output_type": "stream",
     "text": [
      "\n",
      "Best score in memory: 0.99\n"
     ]
    },
    {
     "name": "stderr",
     "output_type": "stream",
     "text": [
      "/site/rp/work/projects/DD/Jupyter/notebooks/Maxime/scaffold-constrained-generation/scaffold_constrained_model.py:96: UserWarning: Implicit dimension choice for log_softmax has been deprecated. Change the call to include dim=X as an argument.\n",
      "  log_prob = F.log_softmax(logits)\n",
      "/site/rp/work/projects/DD/Jupyter/notebooks/Maxime/scaffold-constrained-generation/scaffold_constrained_model.py:97: UserWarning: Implicit dimension choice for softmax has been deprecated. Change the call to include dim=X as an argument.\n",
      "  prob = F.softmax(logits)\n"
     ]
    },
    {
     "name": "stdout",
     "output_type": "stream",
     "text": [
      "\n",
      "       Step 6   Fraction valid SMILES: 94.9  Time elapsed: 0.34h Time left: 0.19h\n",
      "  Agent    Prior   Target   Score             SMILES\n",
      "   0.96     C(CCC(=O)O)(NS(=O)(=O)c1ccc(-c2ccc(CCCOC)cc2)cc1)C(=O)O\n",
      "   0.96     C(CCC(=O)OCC)(NS(=O)(=O)c1ccc(-c2ccc(OC(C(=O)O)(C)C)cc2)cc1)C(=O)O\n",
      "   0.96     C(CCC(OC)=O)(NS(=O)(=O)c1ccc(-c2ccc(OC(C(=O)O)(C)C)cc2)cc1)C(=O)O\n",
      "   0.96     C(CCC(=O)O)(NS(=O)(=O)c1ccc(-c2ccc(-c3ccc(CCCN(C)C)cc3)cc2)cc1)C(=O)O\n",
      "   0.00     C(CCC(=O)OCC)(NS(=O)(=O)c1ccc(-c2ccc(SC)cc2)cc1)C(=O)O\n",
      "   0.96     C(CC(C)C)(NS(=O)(=O)c1ccc(-c2ccc(-c3ccc(CCCCNCC)cc3)cc2)cc1)C(=O)O\n",
      "   0.97     C(CCC(O)=O)(NS(=O)(=O)c1ccc(-c2ccc(CCC)cc2)cc1)C(=O)O\n",
      "   0.95     C(CCC(O)=O)(NS(=O)(=O)c1ccc(-c2ccc(OC(C(=O)O)(C)C)cc2)cc1)C(=O)O\n",
      "   0.97     C(CCC(=O)OCC)(NS(=O)(=O)c1ccc(-c2ccc(CCCN(C)C)cc2)cc1)C(=O)O\n",
      "   0.95     C(CCC(=O)O)(NS(=O)(=O)c1ccc(-c2ccc(OC(C(=O)O)(C)C)cc2)cc1)C(=O)O\n"
     ]
    },
    {
     "name": "stderr",
     "output_type": "stream",
     "text": [
      "/site/rp/work/projects/DD/Jupyter/notebooks/Maxime/scaffold-constrained-generation/scaffold_constrained_model.py:466: UserWarning: Implicit dimension choice for softmax has been deprecated. Change the call to include dim=X as an argument.\n",
      "  prob = F.softmax(logits)\n",
      "/site/rp/work/projects/DD/Jupyter/notebooks/Maxime/scaffold-constrained-generation/scaffold_constrained_model.py:467: UserWarning: Implicit dimension choice for log_softmax has been deprecated. Change the call to include dim=X as an argument.\n",
      "  log_prob = F.log_softmax(logits)\n"
     ]
    },
    {
     "name": "stdout",
     "output_type": "stream",
     "text": [
      "Found original molecule: C(CCC(=O)OCC)(NS(=O)(=O)c1ccc(-c2ccc(CCC)cc2)cc1)C(=O)O\n",
      "\n",
      "Best score in memory: 1.00\n"
     ]
    },
    {
     "name": "stderr",
     "output_type": "stream",
     "text": [
      "/site/rp/work/projects/DD/Jupyter/notebooks/Maxime/scaffold-constrained-generation/scaffold_constrained_model.py:96: UserWarning: Implicit dimension choice for log_softmax has been deprecated. Change the call to include dim=X as an argument.\n",
      "  log_prob = F.log_softmax(logits)\n",
      "/site/rp/work/projects/DD/Jupyter/notebooks/Maxime/scaffold-constrained-generation/scaffold_constrained_model.py:97: UserWarning: Implicit dimension choice for softmax has been deprecated. Change the call to include dim=X as an argument.\n",
      "  prob = F.softmax(logits)\n"
     ]
    },
    {
     "name": "stdout",
     "output_type": "stream",
     "text": [
      "\n",
      "       Step 7   Fraction valid SMILES: 91.7  Time elapsed: 0.38h Time left: 0.14h\n",
      "  Agent    Prior   Target   Score             SMILES\n",
      "   0.91     C(CCNCCCNC(C)(C)C)(NS(=O)(=O)c1ccc(-c2ccc(CCCOC)cc2)cc1)C(=O)O\n",
      "   0.98     C(CCC(=O)OCc1ccc(F)cc1)(NS(=O)(=O)c1ccc(-c2ccc(SC)cc2)cc1)C(=O)O\n",
      "   0.97     C(CC(CC(C)C)C)(NS(=O)(=O)c1ccc(-c2ccc(CCC)cc2)cc1)C(=O)O\n",
      "   0.97     C(CCC(=O)OCC)(NS(=O)(=O)c1ccc(-c2ccc(CCC)cc2)cc1)C(=O)O\n",
      "   0.99     C(CC(C)CC(C)C)(NS(=O)(=O)c1ccc(-c2ccc(SC)cc2)cc1)C(=O)O\n",
      "   0.96     C(CCNCCCNCCC)(NS(=O)(=O)c1ccc(-c2ccc(CCCN(C)C)cc2)cc1)C(=O)O\n",
      "   0.97     C(CCC(=O)O)(NS(=O)(=O)c1ccc(-c2ccc(SC)cc2)cc1)C(=O)O\n",
      "   0.97     C(CCC(OC)=O)(NS(=O)(=O)c1ccc(-c2ccc(-c3ccc(CCCNCC)cc3)cc2)cc1)C(=O)O\n",
      "   0.97     C(CCC(=O)O)(NS(=O)(=O)c1ccc(-c2ccc(CCC)cc2)cc1)C(=O)O\n",
      "   0.97     C(CCN(C)C)(NS(=O)(=O)c1ccc(-c2ccc(CCC)cc2)cc1)C(=O)O\n"
     ]
    },
    {
     "name": "stderr",
     "output_type": "stream",
     "text": [
      "/site/rp/work/projects/DD/Jupyter/notebooks/Maxime/scaffold-constrained-generation/scaffold_constrained_model.py:466: UserWarning: Implicit dimension choice for softmax has been deprecated. Change the call to include dim=X as an argument.\n",
      "  prob = F.softmax(logits)\n",
      "/site/rp/work/projects/DD/Jupyter/notebooks/Maxime/scaffold-constrained-generation/scaffold_constrained_model.py:467: UserWarning: Implicit dimension choice for log_softmax has been deprecated. Change the call to include dim=X as an argument.\n",
      "  log_prob = F.log_softmax(logits)\n"
     ]
    },
    {
     "name": "stdout",
     "output_type": "stream",
     "text": [
      "Found original molecule: C(CCC(=O)OCC)(NS(=O)(=O)c1ccc(-c2ccc(CCC)cc2)cc1)C(=O)O\n",
      "\n",
      "Best score in memory: 1.00\n"
     ]
    },
    {
     "name": "stderr",
     "output_type": "stream",
     "text": [
      "/site/rp/work/projects/DD/Jupyter/notebooks/Maxime/scaffold-constrained-generation/scaffold_constrained_model.py:96: UserWarning: Implicit dimension choice for log_softmax has been deprecated. Change the call to include dim=X as an argument.\n",
      "  log_prob = F.log_softmax(logits)\n",
      "/site/rp/work/projects/DD/Jupyter/notebooks/Maxime/scaffold-constrained-generation/scaffold_constrained_model.py:97: UserWarning: Implicit dimension choice for softmax has been deprecated. Change the call to include dim=X as an argument.\n",
      "  prob = F.softmax(logits)\n"
     ]
    },
    {
     "name": "stdout",
     "output_type": "stream",
     "text": [
      "\n",
      "       Step 8   Fraction valid SMILES: 95.9  Time elapsed: 0.43h Time left: 0.10h\n",
      "  Agent    Prior   Target   Score             SMILES\n",
      "   0.97     C(CCC(=O)OCC)(NS(=O)(=O)c1ccc(-c2ccc(CCC)cc2)cc1)C(=O)O\n",
      "   0.98     C(CCNCCC)(NS(=O)(=O)c1ccc(-c2ccc(OC(C(=O)O)(C)C)cc2)cc1)C(=O)O\n",
      "   0.97     C(CCC(O)=O)(NS(=O)(=O)c1ccc(-c2ccc(-c3ccc(CCCNCC)cc3)cc2)cc1)C(=O)O\n",
      "   0.97     C(CC(C)CC(C)C)(NS(=O)(=O)c1ccc(-c2ccc(OC(C(=O)O)(C)C)cc2)cc1)C(=O)O\n",
      "   0.90     C(CCC(=O)OCc1ccc(-c2ccc(CCCCNCC)cc2)cc1)(NS(=O)(=O)c1ccc(-c2ccccc2)cc1)C(=O)O\n",
      "   0.96     C(CCCNC(CCC(=O)O)=O)(NS(=O)(=O)c1ccc(-c2ccc(SC)cc2)cc1)C(=O)O\n",
      "   0.97     C(CCCNC(=O)CCC(O)=O)(NS(=O)(=O)c1ccc(-c2ccc(CCCNCC)cc2)cc1)C(=O)O\n",
      "   0.99     C(CCCNC)(NS(=O)(=O)c1ccc(-c2ccc(CCC)cc2)cc1)C(=O)O\n",
      "   0.97     C(CC(CC(C)C)C)(NS(=O)(=O)c1ccc(-c2ccc(OC(C(=O)O)(C)C)cc2)cc1)C(=O)O\n",
      "   0.97     C(CCC(C)=O)(NS(=O)(=O)c1ccc(-c2ccc(SC)cc2)cc1)C(=O)O\n"
     ]
    },
    {
     "name": "stderr",
     "output_type": "stream",
     "text": [
      "/site/rp/work/projects/DD/Jupyter/notebooks/Maxime/scaffold-constrained-generation/scaffold_constrained_model.py:466: UserWarning: Implicit dimension choice for softmax has been deprecated. Change the call to include dim=X as an argument.\n",
      "  prob = F.softmax(logits)\n",
      "/site/rp/work/projects/DD/Jupyter/notebooks/Maxime/scaffold-constrained-generation/scaffold_constrained_model.py:467: UserWarning: Implicit dimension choice for log_softmax has been deprecated. Change the call to include dim=X as an argument.\n",
      "  log_prob = F.log_softmax(logits)\n"
     ]
    },
    {
     "name": "stdout",
     "output_type": "stream",
     "text": [
      "\n",
      "Best score in memory: 1.00\n"
     ]
    },
    {
     "name": "stderr",
     "output_type": "stream",
     "text": [
      "/site/rp/work/projects/DD/Jupyter/notebooks/Maxime/scaffold-constrained-generation/scaffold_constrained_model.py:96: UserWarning: Implicit dimension choice for log_softmax has been deprecated. Change the call to include dim=X as an argument.\n",
      "  log_prob = F.log_softmax(logits)\n",
      "/site/rp/work/projects/DD/Jupyter/notebooks/Maxime/scaffold-constrained-generation/scaffold_constrained_model.py:97: UserWarning: Implicit dimension choice for softmax has been deprecated. Change the call to include dim=X as an argument.\n",
      "  prob = F.softmax(logits)\n"
     ]
    },
    {
     "name": "stdout",
     "output_type": "stream",
     "text": [
      "\n",
      "       Step 9   Fraction valid SMILES: 94.8  Time elapsed: 0.48h Time left: 0.05h\n",
      "  Agent    Prior   Target   Score             SMILES\n",
      "   0.98     C(CCC(=O)OCc1ccc(OC)cc1)(NS(=O)(=O)c1ccc(-c2ccc(SC)cc2)cc1)C(=O)O\n",
      "   0.98     C(CCC(=O)OCc1ccc(O)cc1)(NS(=O)(=O)c1ccc(-c2ccc(CC)cc2)cc1)C(=O)O\n",
      "   0.97     C(CCCC(=S)OC)(NS(=O)(=O)c1ccc(-c2ccc(CC)cc2)cc1)C(=O)O\n",
      "   0.97     C(CCNCCC)(NS(=O)(=O)c1ccc(-c2ccc(CCC)cc2)cc1)C(=O)O\n",
      "   0.99     C(CCCNC(C(C(C)C)C)=O)(NS(=O)(=O)c1ccc(-c2ccc(CCC)cc2)cc1)C(=O)O\n",
      "   1.00     C(CCC(=O)OCc1ccc(-c2ccc(SC)cc2)cc1)(NS(=O)(=O)c1ccc(-c2ccc(CCC)cc2)cc1)C(=O)O\n",
      "   0.97     C(CCC(=O)OCc1ccc(OC)cc1)(NS(=O)(=O)c1ccc(-c2ccc(CCC)cc2)cc1)C(=O)O\n",
      "   0.00     C(CCC(=O)OCc1ccc(-c2ccc(SC)cc2)cc1)(NS(=O)(=O)c1ccc(-c2ccc(SSC(C(=O)O\n",
      "   0.98     C(CCC(=O)OCc1ccc(OC)cc1)(NS(=O)(=O)c1ccc(-c2ccc(CC)cc2)cc1)C(=O)O\n",
      "   1.00     C(CCC(=O)OCc1ccc(SC)cc1)(NS(=O)(=O)c1ccc(-c2ccc(CCC)cc2)cc1)C(=O)O\n",
      "\n",
      "********************************************************************************\n",
      "\n",
      "         Best recorded SMILES: \n",
      "\n",
      "Score     Prior log P     SMILES\n",
      "\n",
      "1.00    -8.45        C(CCC(=O)OCc1ccc(-c2ccc(SC)cc2)cc1)(NS(=O)(=O)c1ccc(-c2ccc(CCC)cc2)cc1)C(=O)O\n",
      "1.00    -7.38        C(CCCC(=O)OCc1ccc(SC)cc1)(NS(=O)(=O)c1ccc(-c2ccc(CCC)cc2)cc1)C(=O)O\n",
      "1.00    -7.82        C(CCCC(=O)OCc1ccc(-c2ccc(SC)cc2)cc1)(NS(=O)(=O)c1ccc(-c2ccc(CCC)cc2)cc1)C(=O)O\n",
      "1.00    -6.70        C(CCCc1ccc(-c2ccc(SC)cc2)cc1)(NS(=O)(=O)c1ccc(-c2ccc(CCC)cc2)cc1)C(=O)O\n",
      "1.00    -6.92        C(CCCC(=O)OCc2ccc(SC)cc2)(NS(=O)(=O)c1ccc(-c2ccc(CCC)cc2)cc1)C(=O)O\n",
      "1.00    -5.58        C(CCC(=O)OCc1ccc(SC)cc1)(NS(=O)(=O)c1ccc(-c2ccc(CCC)cc2)cc1)C(=O)O\n",
      "1.00    -6.78        C(CCC(=O)OCc2ccc(SC)cc2)(NS(=O)(=O)c1ccc(-c2ccc(CCC)cc2)cc1)C(=O)O\n",
      "0.99    -6.03        C(CCC(=O)OCc1ccc(SC)cc1)(NS(=O)(=O)c1ccc(-c2ccc(CCCCNCC)cc2)cc1)C(=O)O\n",
      "0.99    -7.62        C(CCCNC(CCC(O)=O)=O)(NS(=O)(=O)c1ccc(-c2ccc(CCC)cc2)cc1)C(=O)O\n",
      "0.99   -12.08        C(CCCNC(C(C(C)C)C)=O)(NS(=O)(=O)c1ccc(-c2ccc(CCC)cc2)cc1)C(=O)O\n",
      "0.99    -9.98        C(CCCNC(=O)O)(NS(=O)(=O)c1ccc(-c2ccc(CCC)cc2)cc1)C(=O)O\n",
      "0.99    -8.97        C(CCCNC(=O)C(C)C)(NS(=O)(=O)c1ccc(-c2ccc(CCC)cc2)cc1)C(=O)O\n",
      "0.99    -7.15        C(CCC(=O)OCc1ccc(SC)cc1)(NS(=O)(=O)c1ccc(-c2ccc(CCCN(C)C)cc2)cc1)C(=O)O\n",
      "0.99    -5.32        C(CC(C)CC(C)C)(NS(=O)(=O)c1ccc(-c2ccc(SC)cc2)cc1)C(=O)O\n",
      "0.99   -11.11        C(CCCNC(C(CC(C)C)C)=O)(NS(=O)(=O)c1ccc(-c2ccc(CCC)cc2)cc1)C(=O)O\n",
      "0.99    -6.17        C(CC(CC(C)C)C)(NS(=O)(=O)c1ccc(-c2ccc(SC)cc2)cc1)C(=O)O\n",
      "0.99    -8.65        C(CCC(=O)OCc1ccc(SC)cc1)(NS(=O)(=O)c1ccc(-c2ccc(CCCC)cc2)cc1)C(=O)O\n",
      "0.99    -6.27        C(CC(C)CCC(C)C)(NS(=O)(=O)c1ccc(-c2ccc(SC)cc2)cc1)C(=O)O\n",
      "0.99    -7.15        C(Cc1ccc(-c2ccc(SC)cc2)cc1)(NS(=O)(=O)c1ccc(-c2ccc(CCC)cc2)cc1)C(=O)O\n",
      "0.99    -7.33        C(CCCC(=O)OCc1ccc(Cl)cc1)(NS(=O)(=O)c1ccc(-c2ccc(CCC)cc2)cc1)C(=O)O\n",
      "0.99    -5.83        C(CCCC(=O)OCc1ccc(O)cc1)(NS(=O)(=O)c1ccc(-c2ccc(CCC)cc2)cc1)C(=O)O\n",
      "0.99   -13.49        C(CCCNC(=O)CC(C(=O)O)(S)C)(NS(=O)(=O)c1ccc(-c2ccc(CCC)cc2)cc1)C(=O)O\n",
      "0.99   -10.12        C(CCCC(=CSC)C)(NS(=O)(=O)c1ccc(-c2ccc(CCC)cc2)cc1)C(=O)O\n",
      "0.99    -6.67        C(CCCC(=O)O)(NS(=O)(=O)c1ccc(-c2ccc(CCC)cc2)cc1)C(=O)O\n",
      "0.99    -6.01        C(CCCNC)(NS(=O)(=O)c1ccc(-c2ccc(CCC)cc2)cc1)C(=O)O\n",
      "0.99    -5.92        C(CCCNC(=O)CC(C)C)(NS(=O)(=O)c1ccc(-c2ccc(CCC)cc2)cc1)C(=O)O\n",
      "0.99    -5.84        C(CCCNC(CCC(=O)O)(S)C)(NS(=O)(=O)c1ccc(-c2ccc(CCC)cc2)cc1)C(=O)O\n",
      "0.99    -6.88        C(CCCC(O)=O)(NS(=O)(=O)c1ccc(-c2ccc(CCC)cc2)cc1)C(=O)O\n",
      "0.99    -5.17        C(CCCNCCC)(NS(=O)(=O)c1ccc(-c2ccc(OC(C(=O)O)(C)C)cc2)cc1)C(=O)O\n",
      "0.99    -4.96        C(CCCC(=O)OCc1ccc(OC)cc1)(NS(=O)(=O)c1ccc(-c2ccc(CCC)cc2)cc1)C(=O)O\n",
      "0.99    -8.91        C(CCCC(=NSC)C)(NS(=O)(=O)c1ccc(-c2ccc(CCC)cc2)cc1)C(=O)O\n",
      "0.99   -15.04        C(CCNC(C(C(CC(C)C)C)C)=O)(NS(=O)(=O)c1ccc(-c2ccc(SC)cc2)cc1)C(=O)O\n",
      "0.99    -7.81        C(CCCNC(CCC(=O)O)C)(NS(=O)(=O)c1ccc(-c2ccc(CCC)cc2)cc1)C(=O)O\n",
      "0.99    -8.48        C(CCCNCCC)(NS(=O)(=O)c1ccc(-c2ccc(CCC)cc2)cc1)C(=O)O\n",
      "0.99    -7.51        C(CCc1ccc(-c2ccc(SC)cc2)cc1)(NS(=O)(=O)c1ccc(-c2ccc(CCC)cc2)cc1)C(=O)O\n",
      "0.99    -8.27        C(CCCC(=O)OC(C)(C)C)(NS(=O)(=O)c1ccc(-c2ccc(CCC)cc2)cc1)C(=O)O\n",
      "0.99    -8.87        C(CCCNC(C(C(C)C)C)(S)C)(NS(=O)(=O)c1ccc(-c2ccc(CCC)cc2)cc1)C(=O)O\n",
      "0.99    -8.85        C(CCCCNC(CCC(=O)O)(S)C)(NS(=O)(=O)c1ccc(-c2ccc(CCC)cc2)cc1)C(=O)O\n",
      "0.99    -8.86        C(CCCC(=O)OCc1ccccc1)(NS(=O)(=O)c1ccc(-c2ccc(CCC)cc2)cc1)C(=O)O\n",
      "0.98   -13.92        C(CCCC(=S)OC)(NS(=O)(=O)c1ccc(-c2ccc(CCC)cc2)cc1)C(=O)O\n",
      "0.98    -7.42        C(CCCC(CC(C)C)C)(NS(=O)(=O)c1ccc(-c2ccc(CCC)cc2)cc1)C(=O)O\n",
      "0.98    -8.09        C(CCCNC(C)C)(NS(=O)(=O)c1ccc(-c2ccc(CCC)cc2)cc1)C(=O)O\n",
      "0.98    -7.82        C(CCCC(OC)=O)(NS(=O)(=O)c1ccc(-c2ccc(CCC)cc2)cc1)C(=O)O\n",
      "0.98    -9.23        C(CCCC(=S)OCC)(NS(=O)(=O)c1ccc(-c2ccc(CCC)cc2)cc1)C(=O)O\n",
      "0.98    -7.83        C(CCCC(=O)OCc1ccc(OC)c(OC)c1)(NS(=O)(=O)c1ccc(-c2ccc(CCC)cc2)cc1)C(=O)O\n",
      "0.98    -5.41        C(CCCNC(C(C)C)C)(NS(=O)(=O)c1ccc(-c2ccc(CCC)cc2)cc1)C(=O)O\n",
      "0.98    -6.88        C(CCCCC(CC(C)C)C)(NS(=O)(=O)c1ccc(-c2ccc(CCC)cc2)cc1)C(=O)O\n",
      "0.98    -7.42        C(CCCNC(C(=C)C)C)(NS(=O)(=O)c1ccc(-c2ccc(CCC)cc2)cc1)C(=O)O\n",
      "0.98    -9.29        C(CCCNC(C(=C(C)C)C)C)(NS(=O)(=O)c1ccc(-c2ccc(CCC)cc2)cc1)C(=O)O\n",
      "0.98    -7.85        C(CCCC(CC(CC(C)C)C)C)(NS(=O)(=O)c1ccc(-c2ccc(CCC)cc2)cc1)C(=O)O\n",
      "\n",
      "********************************************************************************\n",
      "\n",
      "Model initialized, starting training...\n"
     ]
    },
    {
     "name": "stderr",
     "output_type": "stream",
     "text": [
      "/site/rp/work/projects/DD/Jupyter/notebooks/Maxime/scaffold-constrained-generation/scaffold_constrained_model.py:466: UserWarning: Implicit dimension choice for softmax has been deprecated. Change the call to include dim=X as an argument.\n",
      "  prob = F.softmax(logits)\n",
      "/site/rp/work/projects/DD/Jupyter/notebooks/Maxime/scaffold-constrained-generation/scaffold_constrained_model.py:467: UserWarning: Implicit dimension choice for log_softmax has been deprecated. Change the call to include dim=X as an argument.\n",
      "  log_prob = F.log_softmax(logits)\n"
     ]
    },
    {
     "name": "stdout",
     "output_type": "stream",
     "text": [
      "\n",
      "Best score in memory: 0.93\n"
     ]
    },
    {
     "name": "stderr",
     "output_type": "stream",
     "text": [
      "/site/rp/work/projects/DD/Jupyter/notebooks/Maxime/scaffold-constrained-generation/scaffold_constrained_model.py:96: UserWarning: Implicit dimension choice for log_softmax has been deprecated. Change the call to include dim=X as an argument.\n",
      "  log_prob = F.log_softmax(logits)\n",
      "/site/rp/work/projects/DD/Jupyter/notebooks/Maxime/scaffold-constrained-generation/scaffold_constrained_model.py:97: UserWarning: Implicit dimension choice for softmax has been deprecated. Change the call to include dim=X as an argument.\n",
      "  prob = F.softmax(logits)\n"
     ]
    },
    {
     "name": "stdout",
     "output_type": "stream",
     "text": [
      "\n",
      "       Step 0   Fraction valid SMILES: 85.4  Time elapsed: 0.05h Time left: 0.50h\n",
      "  Agent    Prior   Target   Score             SMILES\n",
      "   0.57     C(NC(COC(CCC1CCC1=O)=O)=O)(NS(=O)(=O)c1ccc(C)cc1)C(=O)O\n",
      "   0.62     C(C(Nc1nc2c(c(=O)[nH]1)cccc2)=O)(NS(=O)(=O)c1ccc(Cl)cc1)C(=O)O\n",
      "   0.55     C(NO)(NS(=O)(=O)c1ccc(Cl)cc1)C(=O)O\n",
      "   0.61     C(CCOc1ccc(CC)cc1)(NS(=O)(=O)c1ccc(OC)cc1)C(=O)O\n",
      "   0.54     C(CCS(=O)(=O)c1ccc(Cl)nc1)(NS(=O)(=O)c1ccc(C(C)(C)C)cc1)C(=O)O\n",
      "   0.58     C(NC(=O)CNc1ccc(OCC)cc1)(NS(=O)(=O)c1ccc(F)cc1)C(=O)O\n",
      "   0.62     C(NC(=O)C(CC(c1scc(-c2cccs2)n1)=O)C(=O)NCCO)(NS(=O)(=O)c1ccc(C(C)C)cc1)C(=O)O\n",
      "   0.93     C(C(O)=O)(NS(=O)(=O)c1ccc(-c2ccc(SC)cc2)cc1)C(=O)O\n",
      "   0.67     C(=C)(NS(=O)(=O)c1ccc(Oc2ccc(Cl)c(F)c2)cc1)C(=O)O\n",
      "   0.00     C(C(=O)Cc1ccc(Nc2c3cc(OC)c(OCCOC)cc3ncn2)cc1)(NS(=O)(=O)c1ccc(C(F)(F)\n"
     ]
    },
    {
     "name": "stderr",
     "output_type": "stream",
     "text": [
      "/site/rp/work/projects/DD/Jupyter/notebooks/Maxime/scaffold-constrained-generation/scaffold_constrained_model.py:466: UserWarning: Implicit dimension choice for softmax has been deprecated. Change the call to include dim=X as an argument.\n",
      "  prob = F.softmax(logits)\n",
      "/site/rp/work/projects/DD/Jupyter/notebooks/Maxime/scaffold-constrained-generation/scaffold_constrained_model.py:467: UserWarning: Implicit dimension choice for log_softmax has been deprecated. Change the call to include dim=X as an argument.\n",
      "  log_prob = F.log_softmax(logits)\n"
     ]
    },
    {
     "name": "stdout",
     "output_type": "stream",
     "text": [
      "\n",
      "Best score in memory: 0.93\n"
     ]
    },
    {
     "name": "stderr",
     "output_type": "stream",
     "text": [
      "/site/rp/work/projects/DD/Jupyter/notebooks/Maxime/scaffold-constrained-generation/scaffold_constrained_model.py:96: UserWarning: Implicit dimension choice for log_softmax has been deprecated. Change the call to include dim=X as an argument.\n",
      "  log_prob = F.log_softmax(logits)\n",
      "/site/rp/work/projects/DD/Jupyter/notebooks/Maxime/scaffold-constrained-generation/scaffold_constrained_model.py:97: UserWarning: Implicit dimension choice for softmax has been deprecated. Change the call to include dim=X as an argument.\n",
      "  prob = F.softmax(logits)\n"
     ]
    },
    {
     "name": "stdout",
     "output_type": "stream",
     "text": [
      "\n",
      "       Step 1   Fraction valid SMILES: 74.0  Time elapsed: 0.10h Time left: 0.45h\n",
      "  Agent    Prior   Target   Score             SMILES\n",
      "   0.64     C(Sc1n(-c2ccccc2)c(=O)c2c(n1)cccc2)(NS(=O)(=O)c1ccc(Cl)cc1)C(=O)O\n",
      "   0.72     C(C(=C(c1ccc(OC)cc1)c1ccc(F)cc1)C(=O)C)(NS(=O)(=O)c1ccc(NC)cc1)C(=O)O\n",
      "   0.75     C(=O)(NS(=O)(=O)c1ccc(-c2ccc(C(NS(=O)(=O)c3ccc(F)cc3)C(=O)O)cc2)cc1)C(=O)O\n",
      "   0.76     C(=N)(NS(=O)(=O)c1ccc(-c2ccc(C(Nc3ccc(C(N)=N)cc3)C(=O)N)cc2)cc1)C(=O)O\n",
      "   0.00     C(CNC(=O)c1c(-c2c(NS(=O)(=O)c3ccc(Br)cc3)ccc2Br)cccc1)(NS(=O)(=O)c1ccc(\n",
      "   0.62     C(O)(NS(=O)(=O)c1ccc(N(S(=O)(=O)c2ccc(OC)cc2)C(=O)O)cc1)C(=O)O\n",
      "   0.54     C(CSc1nnc2c(n1)C(C)(C)CN2)(NS(=O)(=O)c1ccc(Cl)cc1)C(=O)O\n",
      "   0.75     C(C(NS(=O)(=O)c1ccc(F)cc1)C(=O)O)(NS(=O)(=O)c1ccc(-c2ccccc2)cc1)C(=O)O\n",
      "   0.55     C(C(=O)Nc1ccc(-c2oc3ccccc3c2)cc1)(NS(=O)(=O)c1ccc(C)cc1)C(=O)O\n",
      "   0.00     C(CC(C(=O)O)(NS(=O)(=O)c1ccc(N2CCN(c3ccccc3)CC2)cc1)\n"
     ]
    },
    {
     "name": "stderr",
     "output_type": "stream",
     "text": [
      "/site/rp/work/projects/DD/Jupyter/notebooks/Maxime/scaffold-constrained-generation/scaffold_constrained_model.py:466: UserWarning: Implicit dimension choice for softmax has been deprecated. Change the call to include dim=X as an argument.\n",
      "  prob = F.softmax(logits)\n",
      "/site/rp/work/projects/DD/Jupyter/notebooks/Maxime/scaffold-constrained-generation/scaffold_constrained_model.py:467: UserWarning: Implicit dimension choice for log_softmax has been deprecated. Change the call to include dim=X as an argument.\n",
      "  log_prob = F.log_softmax(logits)\n"
     ]
    },
    {
     "name": "stdout",
     "output_type": "stream",
     "text": [
      "Found original molecule: C(c1ccc(F)cc1)(NS(=O)(=O)c1ccc(-c2ccccc2)cc1)C(=O)O\n",
      "\n",
      "Best score in memory: 0.96\n"
     ]
    },
    {
     "name": "stderr",
     "output_type": "stream",
     "text": [
      "/site/rp/work/projects/DD/Jupyter/notebooks/Maxime/scaffold-constrained-generation/scaffold_constrained_model.py:96: UserWarning: Implicit dimension choice for log_softmax has been deprecated. Change the call to include dim=X as an argument.\n",
      "  log_prob = F.log_softmax(logits)\n",
      "/site/rp/work/projects/DD/Jupyter/notebooks/Maxime/scaffold-constrained-generation/scaffold_constrained_model.py:97: UserWarning: Implicit dimension choice for softmax has been deprecated. Change the call to include dim=X as an argument.\n",
      "  prob = F.softmax(logits)\n"
     ]
    },
    {
     "name": "stdout",
     "output_type": "stream",
     "text": [
      "\n",
      "       Step 2   Fraction valid SMILES: 88.7  Time elapsed: 0.15h Time left: 0.40h\n",
      "  Agent    Prior   Target   Score             SMILES\n",
      "   0.96     C(Cc1ccc(OC)cc1)(NS(=O)(=O)c1ccc(-c2ccc(SC)cc2)cc1)C(=O)O\n",
      "   0.87     C(NC)(NS(=O)(=O)c1ccc(-c2ccc(-c3n(C)cnc3)cc2)cc1)C(=O)O\n",
      "   0.86     C(C)(NS(=O)(=O)c1ccc(-c2ccc(C(=O)O)cc2)cc1)C(=O)O\n",
      "   0.89     C(c1c(Cl)c(F)ccc1)(NS(=O)(=O)c1ccc(-c2ccc(F)cc2)cc1)C(=O)O\n",
      "   0.83     C(C)(NS(=O)(=O)c1ccc(-c2ccc(S(=O)(C)=O)cc2)cc1)C(=O)O\n",
      "   0.93     C(NS(=O)(=O)c1ccc(-c2ccc(SC)cc2)cc1)(NS(=O)(=O)c1ccc(F)cc1)C(=O)O\n",
      "   0.59     C(C(=O)c1ccc(-c2ccc(S(=O)(=O)C)cc2)cc1)(NS(=O)(=O)c1ccc(C)cc1)C(=O)O\n",
      "   0.73     C(=O)(NS(=O)(=O)c1ccc(-c2ccc(OC(NS(=O)(=O)c3ccc(F)cc3)CCc3ccccc3)cc2)cc1)C(=O)O\n",
      "   0.83     C(C(=O)O)(NS(=O)(=O)c1ccc(-c2ccc(OCc3ccc(OC)cc3)cc2)cc1)C(=O)O\n",
      "   0.56     C(c1cc(Oc2ccc(Cl)cc2)cc(OC)c1F)(NS(=O)(=O)c1ccc(F)cc1)C(=O)O\n"
     ]
    },
    {
     "name": "stderr",
     "output_type": "stream",
     "text": [
      "/site/rp/work/projects/DD/Jupyter/notebooks/Maxime/scaffold-constrained-generation/scaffold_constrained_model.py:466: UserWarning: Implicit dimension choice for softmax has been deprecated. Change the call to include dim=X as an argument.\n",
      "  prob = F.softmax(logits)\n",
      "/site/rp/work/projects/DD/Jupyter/notebooks/Maxime/scaffold-constrained-generation/scaffold_constrained_model.py:467: UserWarning: Implicit dimension choice for log_softmax has been deprecated. Change the call to include dim=X as an argument.\n",
      "  log_prob = F.log_softmax(logits)\n"
     ]
    },
    {
     "name": "stdout",
     "output_type": "stream",
     "text": [
      "Found original molecule: C(CC(C)C)(NS(=O)(=O)c1ccc(-c2ccc(C)cc2)cc1)C(=O)O\n",
      "Found original molecule: C(Cc1ccc(O)cc1)(NS(=O)(=O)c1ccc(-c2ccc(CC)cc2)cc1)C(=O)O\n",
      "\n",
      "Best score in memory: 0.97\n"
     ]
    },
    {
     "name": "stderr",
     "output_type": "stream",
     "text": [
      "/site/rp/work/projects/DD/Jupyter/notebooks/Maxime/scaffold-constrained-generation/scaffold_constrained_model.py:96: UserWarning: Implicit dimension choice for log_softmax has been deprecated. Change the call to include dim=X as an argument.\n",
      "  log_prob = F.log_softmax(logits)\n",
      "/site/rp/work/projects/DD/Jupyter/notebooks/Maxime/scaffold-constrained-generation/scaffold_constrained_model.py:97: UserWarning: Implicit dimension choice for softmax has been deprecated. Change the call to include dim=X as an argument.\n",
      "  prob = F.softmax(logits)\n"
     ]
    },
    {
     "name": "stdout",
     "output_type": "stream",
     "text": [
      "\n",
      "       Step 3   Fraction valid SMILES: 89.7  Time elapsed: 0.20h Time left: 0.35h\n",
      "  Agent    Prior   Target   Score             SMILES\n",
      "   0.83     C(N(C)C)(NS(=O)(=O)c1ccc(-c2ccc(-c3nnc(NCC)[nH]3)cc2)cc1)C(=O)O\n",
      "   0.00     C(CC(NS(=O)(=O)c1ccc(-c2ccc(OCC)cc2)cc1)C(=O)O)(NS(=O)(=O)c1ccc(-c2cc\n",
      "   0.88     C(Cc1ccc(OC)cc1)(NS(=O)(=O)c1ccc(-c2ccc(OC)cc2)cc1)C(=O)O\n",
      "   0.97     C(CCC(=O)O)(NS(=O)(=O)c1ccc(-c2ccc(SC)cc2)cc1)C(=O)O\n",
      "   0.93     C(N(C)c1ccc(Cl)cc1)(NS(=O)(=O)c1ccc(-c2ccc(SC)cc2)cc1)C(=O)O\n",
      "   0.91     C(Cc1ccc(OC)c(OC)c1)(NS(=O)(=O)c1ccc(-c2ccc(O)cc2)cc1)C(=O)O\n",
      "   0.87     C(C(=O)Cl)(NS(=O)(=O)c1ccc(-c2ccc(OC)cc2)cc1)C(=O)O\n",
      "   0.78     C(C(=O)C)(NS(=O)(=O)c1ccc(-c2ccc(OC)cc2)cc1)C(=O)O\n",
      "   0.93     C(C)(NS(=O)(=O)c1ccc(-c2ccc(SC)cc2)cc1)C(=O)O\n",
      "   0.90     C(Cc1c2ccccc2[nH]c1)(NS(=O)(=O)c1ccc(-c2ccc(O)cc2)cc1)C(=O)O\n"
     ]
    },
    {
     "name": "stderr",
     "output_type": "stream",
     "text": [
      "/site/rp/work/projects/DD/Jupyter/notebooks/Maxime/scaffold-constrained-generation/scaffold_constrained_model.py:466: UserWarning: Implicit dimension choice for softmax has been deprecated. Change the call to include dim=X as an argument.\n",
      "  prob = F.softmax(logits)\n",
      "/site/rp/work/projects/DD/Jupyter/notebooks/Maxime/scaffold-constrained-generation/scaffold_constrained_model.py:467: UserWarning: Implicit dimension choice for log_softmax has been deprecated. Change the call to include dim=X as an argument.\n",
      "  log_prob = F.log_softmax(logits)\n"
     ]
    },
    {
     "name": "stdout",
     "output_type": "stream",
     "text": [
      "Found original molecule: C(CC(C)C)(NS(=O)(=O)c1ccc(-c2ccc(CC)cc2)cc1)C(=O)O\n",
      "Found original molecule: C(CC(C)C)(NS(=O)(=O)c1ccc(-c2ccc(CCC)cc2)cc1)C(=O)O\n",
      "\n",
      "Best score in memory: 0.98\n"
     ]
    },
    {
     "name": "stderr",
     "output_type": "stream",
     "text": [
      "/site/rp/work/projects/DD/Jupyter/notebooks/Maxime/scaffold-constrained-generation/scaffold_constrained_model.py:96: UserWarning: Implicit dimension choice for log_softmax has been deprecated. Change the call to include dim=X as an argument.\n",
      "  log_prob = F.log_softmax(logits)\n",
      "/site/rp/work/projects/DD/Jupyter/notebooks/Maxime/scaffold-constrained-generation/scaffold_constrained_model.py:97: UserWarning: Implicit dimension choice for softmax has been deprecated. Change the call to include dim=X as an argument.\n",
      "  prob = F.softmax(logits)\n"
     ]
    },
    {
     "name": "stdout",
     "output_type": "stream",
     "text": [
      "\n",
      "       Step 4   Fraction valid SMILES: 92.2  Time elapsed: 0.26h Time left: 0.31h\n",
      "  Agent    Prior   Target   Score             SMILES\n",
      "   0.93     C(CCC(=O)C)(NS(=O)(=O)c1ccc(-c2ccc(C)cc2)cc1)C(=O)O\n",
      "   0.95     C(CC(C)C)(NS(=O)(=O)c1ccc(-c2ccc(O)cc2)cc1)C(=O)O\n",
      "   0.86     C(CSC)(NS(=O)(=O)c1ccc(-c2ccc(N(C)C)cc2)cc1)C(=O)O\n",
      "   0.00     C(CC(C)C)(NS(=O)(=O)c1ccc(-c2ccc(OC(F)(F)F)cc2)cc1)C(=O)O\n",
      "   0.91     C(Cc1ccc(OC)c(OC)c1)(NS(=O)(=O)c1ccc(-c2ccc(O)cc2)cc1)C(=O)O\n",
      "   0.94     C(Cc1nc(C)c[nH]c1=O)(NS(=O)(=O)c1ccc(-c2ccc(SC)cc2)cc1)C(=O)O\n",
      "   0.95     C(CCCc1c[nH]c2ccc(F)cc2c1=O)(NS(=O)(=O)c1ccc(-c2ccc(SC)cc2)cc1)C(=O)O\n",
      "   0.97     C(CCC(=O)C)(NS(=O)(=O)c1ccc(-c2ccc(CC)cc2)cc1)C(=O)O\n",
      "   0.95     C(CCC)(NS(=O)(=O)c1ccc(-c2ccc(SC)cc2)cc1)C(=O)O\n",
      "   0.91     C(CCCc1ccc(O)cc1)(NS(=O)(=O)c1ccc(-c2ccc(OC)cc2)cc1)C(=O)O\n"
     ]
    },
    {
     "name": "stderr",
     "output_type": "stream",
     "text": [
      "/site/rp/work/projects/DD/Jupyter/notebooks/Maxime/scaffold-constrained-generation/scaffold_constrained_model.py:466: UserWarning: Implicit dimension choice for softmax has been deprecated. Change the call to include dim=X as an argument.\n",
      "  prob = F.softmax(logits)\n",
      "/site/rp/work/projects/DD/Jupyter/notebooks/Maxime/scaffold-constrained-generation/scaffold_constrained_model.py:467: UserWarning: Implicit dimension choice for log_softmax has been deprecated. Change the call to include dim=X as an argument.\n",
      "  log_prob = F.log_softmax(logits)\n"
     ]
    },
    {
     "name": "stdout",
     "output_type": "stream",
     "text": [
      "Found original molecule: C(CC(C)C)(NS(=O)(=O)c1ccc(-c2ccc(CC)cc2)cc1)C(=O)O\n",
      "\n",
      "Best score in memory: 1.00\n"
     ]
    },
    {
     "name": "stderr",
     "output_type": "stream",
     "text": [
      "/site/rp/work/projects/DD/Jupyter/notebooks/Maxime/scaffold-constrained-generation/scaffold_constrained_model.py:96: UserWarning: Implicit dimension choice for log_softmax has been deprecated. Change the call to include dim=X as an argument.\n",
      "  log_prob = F.log_softmax(logits)\n",
      "/site/rp/work/projects/DD/Jupyter/notebooks/Maxime/scaffold-constrained-generation/scaffold_constrained_model.py:97: UserWarning: Implicit dimension choice for softmax has been deprecated. Change the call to include dim=X as an argument.\n",
      "  prob = F.softmax(logits)\n"
     ]
    },
    {
     "name": "stdout",
     "output_type": "stream",
     "text": [
      "\n",
      "       Step 5   Fraction valid SMILES: 92.9  Time elapsed: 0.33h Time left: 0.27h\n",
      "  Agent    Prior   Target   Score             SMILES\n",
      "   0.97     C(CCC(=O)O)(NS(=O)(=O)c1ccc(-c2ccc(SC)cc2)cc1)C(=O)O\n",
      "   0.97     C(CCC(OC)=O)(NS(=O)(=O)c1ccc(-c2ccc(SC)cc2)cc1)C(=O)O\n",
      "   0.00     C(CCC(CCC(C)C)(CCC(O)=O)(F)F)(NS(=O)(=O)c1ccc(-c2ccc(OC(F)(F)F)cc2)cc1)C(=O)O\n",
      "   0.96     C(CCCO)(NS(=O)(=O)c1ccc(-c2ccc(OC(F)(F)F)cc2)cc1)C(=O)O\n",
      "   0.97     C(CCC(O)=O)(NS(=O)(=O)c1ccc(-c2ccc(SC)cc2)cc1)C(=O)O\n",
      "   0.80     C(CCc1ccc(OC)cc1)(NS(=O)(=O)c1ccc(-c2ccccc2)cc1)C(=O)O\n",
      "   0.97     C(CCCc1ccc(OC)cc1)(NS(=O)(=O)c1ccc(-c2ccc(CC)cc2)cc1)C(=O)O\n",
      "   0.93     C(NS(=O)(=O)c1ccc(-c2ccc(SC)cc2)cc1)(NS(=O)(=O)c1ccc(-c2ccc(SC)cc2)cc1)C(=O)O\n",
      "   0.97     C(CCC(=O)c1ccc(Br)cc1)(NS(=O)(=O)c1ccc(-c2ccc(SC)cc2)cc1)C(=O)O\n",
      "   0.95     C(CCC(O)=O)(NS(=O)(=O)c1ccc(-c2ccc(OC(F)(F)F)cc2)cc1)C(=O)O\n"
     ]
    },
    {
     "name": "stderr",
     "output_type": "stream",
     "text": [
      "/site/rp/work/projects/DD/Jupyter/notebooks/Maxime/scaffold-constrained-generation/scaffold_constrained_model.py:466: UserWarning: Implicit dimension choice for softmax has been deprecated. Change the call to include dim=X as an argument.\n",
      "  prob = F.softmax(logits)\n",
      "/site/rp/work/projects/DD/Jupyter/notebooks/Maxime/scaffold-constrained-generation/scaffold_constrained_model.py:467: UserWarning: Implicit dimension choice for log_softmax has been deprecated. Change the call to include dim=X as an argument.\n",
      "  log_prob = F.log_softmax(logits)\n"
     ]
    },
    {
     "name": "stdout",
     "output_type": "stream",
     "text": [
      "\n",
      "Best score in memory: 1.00\n"
     ]
    },
    {
     "name": "stderr",
     "output_type": "stream",
     "text": [
      "/site/rp/work/projects/DD/Jupyter/notebooks/Maxime/scaffold-constrained-generation/scaffold_constrained_model.py:96: UserWarning: Implicit dimension choice for log_softmax has been deprecated. Change the call to include dim=X as an argument.\n",
      "  log_prob = F.log_softmax(logits)\n",
      "/site/rp/work/projects/DD/Jupyter/notebooks/Maxime/scaffold-constrained-generation/scaffold_constrained_model.py:97: UserWarning: Implicit dimension choice for softmax has been deprecated. Change the call to include dim=X as an argument.\n",
      "  prob = F.softmax(logits)\n"
     ]
    },
    {
     "name": "stdout",
     "output_type": "stream",
     "text": [
      "\n",
      "       Step 6   Fraction valid SMILES: 94.7  Time elapsed: 0.39h Time left: 0.22h\n",
      "  Agent    Prior   Target   Score             SMILES\n",
      "   0.96     C(CCOCCOC(CC)C)(NS(=O)(=O)c1ccc(-c2ccc(OC(F)(F)F)cc2)cc1)C(=O)O\n",
      "   0.99     C(CCC)(NS(=O)(=O)c1ccc(-c2ccc(OC(F)(F)F)cc2)cc1)C(=O)O\n",
      "   0.93     C(CCOS(=O)(=O)c1ccc(OC)cc1)(NS(=O)(=O)c1ccc(-c2ccc(OC(F)(F)F)cc2)cc1)C(=O)O\n",
      "   0.95     C(CCS(=O)(=O)c1ccc(C)cc1)(NS(=O)(=O)c1ccc(-c2ccc(SC)cc2)cc1)C(=O)O\n",
      "   0.97     C(CCC)(NS(=O)(=O)c1ccc(-c2ccc(CC)cc2)cc1)C(=O)O\n",
      "   0.97     C(CCC(=O)c1ccc(Cl)cc1)(NS(=O)(=O)c1ccc(-c2ccc(SC)cc2)cc1)C(=O)O\n",
      "   0.95     C(CCSC)(NS(=O)(=O)c1ccc(-c2ccc(OC(F)(F)F)cc2)cc1)C(=O)O\n",
      "   0.97     C(CCCc1ccc(F)cc1)(NS(=O)(=O)c1ccc(-c2ccc(OC(F)(F)F)cc2)cc1)C(=O)O\n",
      "   0.95     C(CCC(Cl)=C)(NS(=O)(=O)c1ccc(-c2ccc(OC(F)(F)F)cc2)cc1)C(=O)O\n",
      "   0.97     C(CCC(=O)c1ccc(Cl)cc1)(NS(=O)(=O)c1ccc(-c2ccc(CC)cc2)cc1)C(=O)O\n"
     ]
    },
    {
     "name": "stderr",
     "output_type": "stream",
     "text": [
      "/site/rp/work/projects/DD/Jupyter/notebooks/Maxime/scaffold-constrained-generation/scaffold_constrained_model.py:466: UserWarning: Implicit dimension choice for softmax has been deprecated. Change the call to include dim=X as an argument.\n",
      "  prob = F.softmax(logits)\n",
      "/site/rp/work/projects/DD/Jupyter/notebooks/Maxime/scaffold-constrained-generation/scaffold_constrained_model.py:467: UserWarning: Implicit dimension choice for log_softmax has been deprecated. Change the call to include dim=X as an argument.\n",
      "  log_prob = F.log_softmax(logits)\n"
     ]
    },
    {
     "name": "stdout",
     "output_type": "stream",
     "text": [
      "Found original molecule: C(CC(C)C)(NS(=O)(=O)c1ccc(-c2ccc(CCC)cc2)cc1)C(=O)O\n",
      "Found original molecule: C(CCCC)(NS(=O)(=O)c1ccc(-c2ccc(CC)cc2)cc1)C(=O)O\n",
      "\n",
      "Best score in memory: 1.00\n"
     ]
    },
    {
     "name": "stderr",
     "output_type": "stream",
     "text": [
      "/site/rp/work/projects/DD/Jupyter/notebooks/Maxime/scaffold-constrained-generation/scaffold_constrained_model.py:96: UserWarning: Implicit dimension choice for log_softmax has been deprecated. Change the call to include dim=X as an argument.\n",
      "  log_prob = F.log_softmax(logits)\n",
      "/site/rp/work/projects/DD/Jupyter/notebooks/Maxime/scaffold-constrained-generation/scaffold_constrained_model.py:97: UserWarning: Implicit dimension choice for softmax has been deprecated. Change the call to include dim=X as an argument.\n",
      "  prob = F.softmax(logits)\n"
     ]
    },
    {
     "name": "stdout",
     "output_type": "stream",
     "text": [
      "\n",
      "       Step 7   Fraction valid SMILES: 94.8  Time elapsed: 0.45h Time left: 0.17h\n",
      "  Agent    Prior   Target   Score             SMILES\n",
      "   0.98     C(CCCc1ccc(F)cc1)(NS(=O)(=O)c1ccc(-c2ccc(CC)cc2)cc1)C(=O)O\n",
      "   0.97     C(CCC(=O)c1ccc(O)cc1)(NS(=O)(=O)c1ccc(-c2ccc(SC)cc2)cc1)C(=O)O\n",
      "   0.99     C(CCS(=O)(=O)c1ccc(F)cc1)(NS(=O)(=O)c1ccc(-c2ccc(OC(F)(F)F)cc2)cc1)C(=O)O\n",
      "   0.97     C(CCC(Cl)=C)(NS(=O)(=O)c1ccc(-c2ccc(CCC)cc2)cc1)C(=O)O\n",
      "   0.96     C(CCS(=O)(=O)c1ccc(Cl)cc1)(NS(=O)(=O)c1ccc(-c2ccc(CC)cc2)cc1)C(=O)O\n",
      "   0.97     C(CCC(OC)=O)(NS(=O)(=O)c1ccc(-c2ccc(CC)cc2)cc1)C(=O)O\n",
      "   0.97     C(CCC(OC)=O)(NS(=O)(=O)c1ccc(-c2ccc(SC)cc2)cc1)C(=O)O\n",
      "   0.95     C(CCC1CC2CCC(C2CCC(O)=O)C1)(NS(=O)(=O)c1ccc(-c2ccc(SC)cc2)cc1)C(=O)O\n",
      "   0.97     C(CCC(=O)c1ccc(Cl)cc1)(NS(=O)(=O)c1ccc(-c2ccc(SC)cc2)cc1)C(=O)O\n",
      "   0.97     C(CCC(=O)c1ccc(Br)cc1)(NS(=O)(=O)c1ccc(-c2ccc(SC)cc2)cc1)C(=O)O\n"
     ]
    },
    {
     "name": "stderr",
     "output_type": "stream",
     "text": [
      "/site/rp/work/projects/DD/Jupyter/notebooks/Maxime/scaffold-constrained-generation/scaffold_constrained_model.py:466: UserWarning: Implicit dimension choice for softmax has been deprecated. Change the call to include dim=X as an argument.\n",
      "  prob = F.softmax(logits)\n",
      "/site/rp/work/projects/DD/Jupyter/notebooks/Maxime/scaffold-constrained-generation/scaffold_constrained_model.py:467: UserWarning: Implicit dimension choice for log_softmax has been deprecated. Change the call to include dim=X as an argument.\n",
      "  log_prob = F.log_softmax(logits)\n"
     ]
    },
    {
     "name": "stdout",
     "output_type": "stream",
     "text": [
      "Found original molecule: C(CCC(OCC)=O)(NS(=O)(=O)c1ccc(-c2ccc(OC(F)(F)F)cc2)cc1)C(=O)O\n",
      "\n",
      "Best score in memory: 1.00\n"
     ]
    },
    {
     "name": "stderr",
     "output_type": "stream",
     "text": [
      "/site/rp/work/projects/DD/Jupyter/notebooks/Maxime/scaffold-constrained-generation/scaffold_constrained_model.py:96: UserWarning: Implicit dimension choice for log_softmax has been deprecated. Change the call to include dim=X as an argument.\n",
      "  log_prob = F.log_softmax(logits)\n",
      "/site/rp/work/projects/DD/Jupyter/notebooks/Maxime/scaffold-constrained-generation/scaffold_constrained_model.py:97: UserWarning: Implicit dimension choice for softmax has been deprecated. Change the call to include dim=X as an argument.\n",
      "  prob = F.softmax(logits)\n"
     ]
    },
    {
     "name": "stdout",
     "output_type": "stream",
     "text": [
      "\n",
      "       Step 8   Fraction valid SMILES: 97.9  Time elapsed: 0.50h Time left: 0.11h\n",
      "  Agent    Prior   Target   Score             SMILES\n",
      "   0.98     C(CCS(=O)(=O)c1ccc(OC)cc1)(NS(=O)(=O)c1ccc(-c2ccc(OC(F)(F)F)cc2)cc1)C(=O)O\n",
      "   0.97     C(CCC(=O)c1ccc(OC)cc1)(NS(=O)(=O)c1ccc(-c2ccc(CC)cc2)cc1)C(=O)O\n",
      "   0.98     C(CCSCCCC(=O)[O-])(NS(=O)(=O)c1ccc(-c2ccc(SC)cc2)cc1)C(=O)O\n",
      "   0.99     C(CCCCCCCCC)(NS(=O)(=O)c1ccc(-c2ccc(CCC)cc2)cc1)C(=O)O\n",
      "   0.97     C(CCSCC=CCl)(NS(=O)(=O)c1ccc(-c2ccc(SC)cc2)cc1)C(=O)O\n",
      "   0.99     C(CCS(=O)(=O)c1ccc(F)cc1)(NS(=O)(=O)c1ccc(-c2ccc(OC(F)(F)F)cc2)cc1)C(=O)O\n",
      "   0.97     C(CCSCC=C)(NS(=O)(=O)c1ccc(-c2ccc(SC)cc2)cc1)C(=O)O\n",
      "   0.97     C(CCCc1ccc(Cl)cc1)(NS(=O)(=O)c1ccc(-c2ccc(OC(F)(F)F)cc2)cc1)C(=O)O\n",
      "   0.97     C(CCC(=O)c1ccc(Cl)cc1)(NS(=O)(=O)c1ccc(-c2ccc(CC)cc2)cc1)C(=O)O\n",
      "   0.99     C(CCCc1ccc(O)cc1)(NS(=O)(=O)c1ccc(-c2ccc(CCC)cc2)cc1)C(=O)O\n"
     ]
    },
    {
     "name": "stderr",
     "output_type": "stream",
     "text": [
      "/site/rp/work/projects/DD/Jupyter/notebooks/Maxime/scaffold-constrained-generation/scaffold_constrained_model.py:466: UserWarning: Implicit dimension choice for softmax has been deprecated. Change the call to include dim=X as an argument.\n",
      "  prob = F.softmax(logits)\n",
      "/site/rp/work/projects/DD/Jupyter/notebooks/Maxime/scaffold-constrained-generation/scaffold_constrained_model.py:467: UserWarning: Implicit dimension choice for log_softmax has been deprecated. Change the call to include dim=X as an argument.\n",
      "  log_prob = F.log_softmax(logits)\n"
     ]
    },
    {
     "name": "stdout",
     "output_type": "stream",
     "text": [
      "Found original molecule: C(CCCC)(NS(=O)(=O)c1ccc(-c2ccc(CC)cc2)cc1)C(=O)O\n",
      "\n",
      "Best score in memory: 1.00\n"
     ]
    },
    {
     "name": "stderr",
     "output_type": "stream",
     "text": [
      "/site/rp/work/projects/DD/Jupyter/notebooks/Maxime/scaffold-constrained-generation/scaffold_constrained_model.py:96: UserWarning: Implicit dimension choice for log_softmax has been deprecated. Change the call to include dim=X as an argument.\n",
      "  log_prob = F.log_softmax(logits)\n",
      "/site/rp/work/projects/DD/Jupyter/notebooks/Maxime/scaffold-constrained-generation/scaffold_constrained_model.py:97: UserWarning: Implicit dimension choice for softmax has been deprecated. Change the call to include dim=X as an argument.\n",
      "  prob = F.softmax(logits)\n"
     ]
    },
    {
     "name": "stdout",
     "output_type": "stream",
     "text": [
      "\n",
      "       Step 9   Fraction valid SMILES: 97.1  Time elapsed: 0.54h Time left: 0.05h\n",
      "  Agent    Prior   Target   Score             SMILES\n",
      "   0.98     C(CCSCCO)(NS(=O)(=O)c1ccc(-c2ccc(SC)cc2)cc1)C(=O)O\n",
      "   0.98     C(CCSCCC(O)=O)(NS(=O)(=O)c1ccc(-c2ccc(SC)cc2)cc1)C(=O)O\n",
      "   0.98     C(CCS(CCC)(=O)=O)(NS(=O)(=O)c1ccc(-c2ccc(OC(F)(F)F)cc2)cc1)C(=O)O\n",
      "   0.98     C(CCS(=O)(=O)c1ccc(Cl)cc1)(NS(=O)(=O)c1ccc(-c2ccc(OC(F)(F)F)cc2)cc1)C(=O)O\n",
      "   0.98     C(CCSCCCOCCCC(=O)O)(NS(=O)(=O)c1ccc(-c2ccc(SC)cc2)cc1)C(=O)O\n",
      "   0.98     C(CCSCCCC(=O)O)(NS(=O)(=O)c1ccc(-c2ccc(SC)cc2)cc1)C(=O)O\n",
      "   0.97     C(CCC)(NS(=O)(=O)c1ccc(-c2ccc(CCC)cc2)cc1)C(=O)O\n",
      "   0.98     C(CCSCCCC(O)=O)(NS(=O)(=O)c1ccc(-c2ccc(SC)cc2)cc1)C(=O)O\n",
      "   0.97     C(CCCc1ccc(NCCC)cc1)(NS(=O)(=O)c1ccc(-c2ccc(CC)cc2)cc1)C(=O)O\n",
      "   0.98     C(CCSCCC(=O)[O-])(NS(=O)(=O)c1ccc(-c2ccc(SC)cc2)cc1)C(=O)O\n",
      "\n",
      "********************************************************************************\n",
      "\n",
      "         Best recorded SMILES: \n",
      "\n",
      "Score     Prior log P     SMILES\n",
      "\n",
      "1.00    -8.71        C(CCS(=O)(=O)c1ccc(-c2ccc(CCC)cc2)cc1)(NS(=O)(=O)c1ccc(-c2ccc(SC)cc2)cc1)C(=O)O\n",
      "1.00    -7.26        C(CCC(=O)c1ccc(-c2ccc(CCC)cc2)cc1)(NS(=O)(=O)c1ccc(-c2ccc(SC)cc2)cc1)C(=O)O\n",
      "1.00    -7.74        C(CCCc1ccc(-c2ccc(CCC)cc2)cc1)(NS(=O)(=O)c1ccc(-c2ccc(SC)cc2)cc1)C(=O)O\n",
      "0.99    -7.19        C(CCC)(NS(=O)(=O)c1ccc(-c2ccc(OC(F)(F)F)cc2)cc1)C(=O)O\n",
      "0.99    -9.24        C(CCCCCCCC)(NS(=O)(=O)c1ccc(-c2ccc(OC(F)(F)F)cc2)cc1)C(=O)O\n",
      "0.99    -5.00        C(CCCCCC)(NS(=O)(=O)c1ccc(-c2ccc(OC(F)(F)F)cc2)cc1)C(=O)O\n",
      "0.99    -5.95        C(CCCCCCC)(NS(=O)(=O)c1ccc(-c2ccc(OC(F)(F)F)cc2)cc1)C(=O)O\n",
      "0.99    -4.86        C(CCCCC)(NS(=O)(=O)c1ccc(-c2ccc(OC(F)(F)F)cc2)cc1)C(=O)O\n",
      "0.99    -8.27        C(CCS(=O)(=O)c1ccc(F)cc1)(NS(=O)(=O)c1ccc(-c2ccc(OC(F)(F)F)cc2)cc1)C(=O)O\n",
      "0.99    -8.31        C(NC(=O)c1ccc(-c2ccc(CCC)cc2)cc1)(NS(=O)(=O)c1ccc(-c2ccc(SC)cc2)cc1)C(=O)O\n",
      "0.99   -10.99        C(CCSCCC=CCC)(NS(=O)(=O)c1ccc(-c2ccc(SC)cc2)cc1)C(=O)O\n",
      "0.99    -7.17        C(CCCc1ccc(O)cc1)(NS(=O)(=O)c1ccc(-c2ccc(CCC)cc2)cc1)C(=O)O\n",
      "0.99    -5.44        C(CCCc1ccc(Cl)cc1)(NS(=O)(=O)c1ccc(-c2ccc(CCC)cc2)cc1)C(=O)O\n",
      "0.99    -7.00        C(CCCCCCC)(NS(=O)(=O)c1ccc(-c2ccc(CCC)cc2)cc1)C(=O)O\n",
      "0.99    -7.26        C(CCCCCC)(NS(=O)(=O)c1ccc(-c2ccc(CCC)cc2)cc1)C(=O)O\n",
      "0.99   -10.43        C(CCS(=O)(=O)c1ccc(CC)cc1)(NS(=O)(=O)c1ccc(-c2ccc(OC(F)(F)F)cc2)cc1)C(=O)O\n",
      "0.99    -9.30        C(CCCCl)(NS(=O)(=O)c1ccc(-c2ccc(CCC)cc2)cc1)C(=O)O\n",
      "0.99    -7.38        C(CCCCCCCCC)(NS(=O)(=O)c1ccc(-c2ccc(CCC)cc2)cc1)C(=O)O\n",
      "0.99    -6.07        C(CCCCCCCC)(NS(=O)(=O)c1ccc(-c2ccc(CCC)cc2)cc1)C(=O)O\n",
      "0.99    -6.00        C(CCCCC)(NS(=O)(=O)c1ccc(-c2ccc(CCC)cc2)cc1)C(=O)O\n",
      "0.99    -5.30        C(CCCc1ccc(Br)cc1)(NS(=O)(=O)c1ccc(-c2ccc(CCC)cc2)cc1)C(=O)O\n",
      "0.99    -5.56        C(CCCc2ccc(Cl)cc2)(NS(=O)(=O)c1ccc(-c2ccc(CCC)cc2)cc1)C(=O)O\n",
      "0.99    -7.52        C(CCCCCCCCl)(NS(=O)(=O)c1ccc(-c2ccc(CCC)cc2)cc1)C(=O)O\n",
      "0.99   -11.47        C(CCS(=O)(=O)OC)(NS(=O)(=O)c1ccc(-c2ccc(OC(F)(F)F)cc2)cc1)C(=O)O\n",
      "0.99    -7.54        C(CCCCCCCl)(NS(=O)(=O)c1ccc(-c2ccc(CCC)cc2)cc1)C(=O)O\n",
      "0.98    -7.32        C(CCS(=O)(=O)c1ccc(Cl)cc1)(NS(=O)(=O)c1ccc(-c2ccc(OC(F)(F)F)cc2)cc1)C(=O)O\n",
      "0.98    -7.49        C(CCS(=O)(=O)c1ccc(OC)cc1)(NS(=O)(=O)c1ccc(-c2ccc(OC(F)(F)F)cc2)cc1)C(=O)O\n",
      "0.98    -9.66        C(CCOC(CCC)C)(NS(=O)(=O)c1ccc(-c2ccc(OC(F)(F)F)cc2)cc1)C(=O)O\n",
      "0.98   -22.25        C(CCCOCCCc2ccc(Cl)cc2)(NS(=O)(=O)c1ccc(-c2ccc(CCC)cc2)cc1)C(=O)O\n",
      "0.98   -14.55        C(CCCc1ccc(NCCC)cc1)(NS(=O)(=O)c1ccc(-c2ccc(CCC)cc2)cc1)C(=O)O\n",
      "0.98   -16.04        C(CCS(=O)(=O)c1ccc(Br)s1)(NS(=O)(=O)c1ccc(-c2ccc(OC(F)(F)F)cc2)cc1)C(=O)O\n",
      "0.98    -7.12        C(CCS(=O)(=O)c1ccc(C)cc1)(NS(=O)(=O)c1ccc(-c2ccc(OC(F)(F)F)cc2)cc1)C(=O)O\n",
      "0.98    -9.28        C(CCS(CCC)(=O)=O)(NS(=O)(=O)c1ccc(-c2ccc(OC(F)(F)F)cc2)cc1)C(=O)O\n",
      "0.98    -5.17        C(CCS(=O)(=O)c1ccc(Cl)s1)(NS(=O)(=O)c1ccc(-c2ccc(OC(F)(F)F)cc2)cc1)C(=O)O\n",
      "0.98    -5.97        C(CCS(=O)(=O)c1ccc(Br)cc1)(NS(=O)(=O)c1ccc(-c2ccc(OC(F)(F)F)cc2)cc1)C(=O)O\n",
      "0.98   -13.05        C(CCS(=O)(O)=O)(NS(=O)(=O)c1ccc(-c2ccc(OC(F)(F)F)cc2)cc1)C(=O)O\n",
      "0.98    -5.34        C(CCS(=O)(=O)O)(NS(=O)(=O)c1ccc(-c2ccc(OC(F)(F)F)cc2)cc1)C(=O)O\n",
      "0.98    -4.93        C(CCCc1ccc(O)cc1)(NS(=O)(=O)c1ccc(-c2ccc(CC)cc2)cc1)C(=O)O\n",
      "0.98   -17.30        C(CC1CC2CCC(C2CC=C)C1)(NS(=O)(=O)c1ccc(-c2ccc(SC)cc2)cc1)C(=O)O\n",
      "0.98   -13.57        C(CCCOC(C)CC)(NS(=O)(=O)c1ccc(-c2ccc(CCC)cc2)cc1)C(=O)O\n",
      "0.98    -5.25        C(CCCc1ccc(F)cc1)(NS(=O)(=O)c1ccc(-c2ccc(CCC)cc2)cc1)C(=O)O\n",
      "0.98   -11.42        C(CCCOC)(NS(=O)(=O)c1ccc(-c2ccc(CCC)cc2)cc1)C(=O)O\n",
      "0.98    -7.49        C(CCCOCCCCCC)(NS(=O)(=O)c1ccc(-c2ccc(CCC)cc2)cc1)C(=O)O\n",
      "0.98    -9.09        C(CCCOCCCCCCCC)(NS(=O)(=O)c1ccc(-c2ccc(CCC)cc2)cc1)C(=O)O\n",
      "0.98    -6.23        C(CCCc1ccc(C)cc1)(NS(=O)(=O)c1ccc(-c2ccc(CCC)cc2)cc1)C(=O)O\n",
      "0.98   -15.37        C(CCCCCCCCC)(NS(=O)(=O)c1ccc(-c2ccc(CCC(=O)O)cc2)cc1)C(=O)O\n",
      "0.98    -9.89        C(CCSCCCCOCCCC(=O)Cl)(NS(=O)(=O)c1ccc(-c2ccc(SC)cc2)cc1)C(=O)O\n",
      "0.98   -11.25        C(CCSCCCCOCCCCO)(NS(=O)(=O)c1ccc(-c2ccc(SC)cc2)cc1)C(=O)O\n",
      "0.98   -12.63        C(CCSCCCC(O)=O)(NS(=O)(=O)c1ccc(-c2ccc(SC)cc2)cc1)C(=O)O\n",
      "0.98    -8.63        C(CCSCCC(=O)O)(NS(=O)(=O)c1ccc(-c2ccc(SC)cc2)cc1)C(=O)O\n",
      "\n",
      "********************************************************************************\n",
      "\n",
      "Model initialized, starting training...\n"
     ]
    },
    {
     "name": "stderr",
     "output_type": "stream",
     "text": [
      "/site/rp/work/projects/DD/Jupyter/notebooks/Maxime/scaffold-constrained-generation/scaffold_constrained_model.py:466: UserWarning: Implicit dimension choice for softmax has been deprecated. Change the call to include dim=X as an argument.\n",
      "  prob = F.softmax(logits)\n",
      "/site/rp/work/projects/DD/Jupyter/notebooks/Maxime/scaffold-constrained-generation/scaffold_constrained_model.py:467: UserWarning: Implicit dimension choice for log_softmax has been deprecated. Change the call to include dim=X as an argument.\n",
      "  log_prob = F.log_softmax(logits)\n"
     ]
    },
    {
     "name": "stdout",
     "output_type": "stream",
     "text": [
      "\n",
      "Best score in memory: 0.88\n"
     ]
    },
    {
     "name": "stderr",
     "output_type": "stream",
     "text": [
      "/site/rp/work/projects/DD/Jupyter/notebooks/Maxime/scaffold-constrained-generation/scaffold_constrained_model.py:96: UserWarning: Implicit dimension choice for log_softmax has been deprecated. Change the call to include dim=X as an argument.\n",
      "  log_prob = F.log_softmax(logits)\n",
      "/site/rp/work/projects/DD/Jupyter/notebooks/Maxime/scaffold-constrained-generation/scaffold_constrained_model.py:97: UserWarning: Implicit dimension choice for softmax has been deprecated. Change the call to include dim=X as an argument.\n",
      "  prob = F.softmax(logits)\n"
     ]
    },
    {
     "name": "stdout",
     "output_type": "stream",
     "text": [
      "\n",
      "       Step 0   Fraction valid SMILES: 87.4  Time elapsed: 0.05h Time left: 0.51h\n",
      "  Agent    Prior   Target   Score             SMILES\n",
      "   0.57     C(=O)(NS(=O)(=O)c1ccc(CNc2cccc(C)c2)cc1)C(=O)O\n",
      "   0.57     C(=O)(NS(=O)(=O)c1ccc(OCCC)cc1)C(=O)O\n",
      "   0.59     C(F)(NS(=O)(=O)c1ccc(F)cc1)C(=O)O\n",
      "   0.00     C(OC(=O)C1=CSC2C([N+]([O-])=O)=C(SC3CN(C)C=N3)NC(=O)C21O)(NS(=O)(=O)c1ccc(C\n",
      "   0.59     C(c1ccccc1)(NS(=O)(=O)c1ccc(CCNCc2cc(OC)c(OC)cc2)cc1)C(=O)O\n",
      "   0.00     C(#N)(NS(=O)(=O)c1ccc(C#N)cc1)C(=O)O\n",
      "   0.56     C(C1CC2(COCc3cnccc3)C(C1)CNC2)(NS(=O)(=O)c1ccc(C)cc1)C(=O)O\n",
      "   0.56     C(C(CSCC)(O)c1ccccc1)(NS(=O)(=O)c1ccc(C)cc1)C(=O)O\n",
      "   0.57     C(=O)(NS(=O)(=O)c1ccc(Br)cc1)C(=O)O\n",
      "   0.56     C(COS(=O)(=O)O)(NS(=O)(=O)c1ccc(F)cc1)C(=O)O\n"
     ]
    },
    {
     "name": "stderr",
     "output_type": "stream",
     "text": [
      "/site/rp/work/projects/DD/Jupyter/notebooks/Maxime/scaffold-constrained-generation/scaffold_constrained_model.py:466: UserWarning: Implicit dimension choice for softmax has been deprecated. Change the call to include dim=X as an argument.\n",
      "  prob = F.softmax(logits)\n",
      "/site/rp/work/projects/DD/Jupyter/notebooks/Maxime/scaffold-constrained-generation/scaffold_constrained_model.py:467: UserWarning: Implicit dimension choice for log_softmax has been deprecated. Change the call to include dim=X as an argument.\n",
      "  log_prob = F.log_softmax(logits)\n"
     ]
    },
    {
     "name": "stdout",
     "output_type": "stream",
     "text": [
      "Found original molecule: C(Cc1c2ccccc2[nH]c1)(NS(=O)(=O)c1ccc(-c2ccccc2)cc1)C(=O)O\n",
      "\n",
      "Best score in memory: 0.93\n"
     ]
    },
    {
     "name": "stderr",
     "output_type": "stream",
     "text": [
      "/site/rp/work/projects/DD/Jupyter/notebooks/Maxime/scaffold-constrained-generation/scaffold_constrained_model.py:96: UserWarning: Implicit dimension choice for log_softmax has been deprecated. Change the call to include dim=X as an argument.\n",
      "  log_prob = F.log_softmax(logits)\n",
      "/site/rp/work/projects/DD/Jupyter/notebooks/Maxime/scaffold-constrained-generation/scaffold_constrained_model.py:97: UserWarning: Implicit dimension choice for softmax has been deprecated. Change the call to include dim=X as an argument.\n",
      "  prob = F.softmax(logits)\n"
     ]
    },
    {
     "name": "stdout",
     "output_type": "stream",
     "text": [
      "\n",
      "       Step 1   Fraction valid SMILES: 76.8  Time elapsed: 0.10h Time left: 0.47h\n",
      "  Agent    Prior   Target   Score             SMILES\n",
      "   0.60     C(Cc1ccc(OCC)cc1)(NS(=O)(=O)c1ccc(Br)cc1)C(=O)O\n",
      "   0.62     C(N1CCC(NC(=O)Cc2ccc(F)c(F)c2)C1)(NS(=O)(=O)c1ccc(OCC)cc1)C(=O)O\n",
      "   0.00     C(CC(NS(=O)(=O)c1ccc(OCc2c3c(ccc2)cccc3)cc1)C(=O)O)(NS(=O)(=O)c1ccc(C\n",
      "   0.00     C(CNC(=O)C(NS(=O)(=O)c1ccc(-c2ccc(CC)cc2)cc1)C(=O)O)(NS(=O)(=O)c1ccc(\n",
      "   0.56     C(C(=NNS(=O)(=O)c1ccc(C)cc1)C(=O)O)(NS(=O)(=O)c1ccc(Br)cc1)C(=O)O\n",
      "   0.62     C(c1c2c(c(=O)c3ccccc3[nH]2)cc([N+](=O)[O-])c1)(NS(=O)(=O)c1ccc(C)cc1)C(=O)O\n",
      "   0.57     C(NS(=O)(=O)c1ccc(CCCc2ccccc2)cc1)(NS(=O)(=O)c1ccc(OC(F)F)cc1)C(=O)O\n",
      "   0.60     C(NS(=O)(=O)c1cncc(C(=O)OC)c1)(NS(=O)(=O)c1ccc(OC)cc1)C(=O)O\n",
      "   0.61     C(Cc1c2c(n(C)c1N)nccc2)(NS(=O)(=O)c1ccc(NC(=O)C)cc1)C(=O)O\n",
      "   0.59     C(CC1(CO2)CC2[N+](=O)N(CCc2ccc(OC)cc2)C1)(NS(=O)(=O)c1ccc(Br)cc1)C(=O)O\n"
     ]
    },
    {
     "name": "stderr",
     "output_type": "stream",
     "text": [
      "/site/rp/work/projects/DD/Jupyter/notebooks/Maxime/scaffold-constrained-generation/scaffold_constrained_model.py:466: UserWarning: Implicit dimension choice for softmax has been deprecated. Change the call to include dim=X as an argument.\n",
      "  prob = F.softmax(logits)\n",
      "/site/rp/work/projects/DD/Jupyter/notebooks/Maxime/scaffold-constrained-generation/scaffold_constrained_model.py:467: UserWarning: Implicit dimension choice for log_softmax has been deprecated. Change the call to include dim=X as an argument.\n",
      "  log_prob = F.log_softmax(logits)\n"
     ]
    },
    {
     "name": "stdout",
     "output_type": "stream",
     "text": [
      "Found original molecule: C(CC(=O)OC(C)(C)C)(NS(=O)(=O)c1ccc(-c2ccc(SC)cc2)cc1)C(=O)O\n",
      "Found original molecule: C(Cc1c2ccccc2[nH]c1)(NS(=O)(=O)c1ccc(-c2ccccc2)cc1)C(=O)O\n",
      "\n",
      "Best score in memory: 0.93\n"
     ]
    },
    {
     "name": "stderr",
     "output_type": "stream",
     "text": [
      "/site/rp/work/projects/DD/Jupyter/notebooks/Maxime/scaffold-constrained-generation/scaffold_constrained_model.py:96: UserWarning: Implicit dimension choice for log_softmax has been deprecated. Change the call to include dim=X as an argument.\n",
      "  log_prob = F.log_softmax(logits)\n",
      "/site/rp/work/projects/DD/Jupyter/notebooks/Maxime/scaffold-constrained-generation/scaffold_constrained_model.py:97: UserWarning: Implicit dimension choice for softmax has been deprecated. Change the call to include dim=X as an argument.\n",
      "  prob = F.softmax(logits)\n"
     ]
    },
    {
     "name": "stdout",
     "output_type": "stream",
     "text": [
      "\n",
      "       Step 2   Fraction valid SMILES: 75.9  Time elapsed: 0.16h Time left: 0.42h\n",
      "  Agent    Prior   Target   Score             SMILES\n",
      "   0.00     C(Cc1cccc2[nH]cc(-c3nnc(C)n3Cc3ccc(C(O)=O)cc3)c21)(NS(=O)(=O)c1ccc(-c2cc\n",
      "   0.00     C(CC(NS(=O)(=O)c1ccc(-c2ccc(C(N3CCNCC3)C(=O)O)cc2)cc\n",
      "   0.86     C(C(NS(=O)(=O)c1ccc(-c2ccc(F)cc2)cc1)C(=O)O)(NS(=O)(=O)c1ccc(Cl)cc1)C(=O)O\n",
      "   0.00     C(CC(NS(=O)(=O)c1ccc(-c2ccccc2)cc1)C(=O)O\n",
      "   0.84     C(CC(NS(=O)(=O)c1ccc(-c2ccc(OCC)cc2)cc1)C(=O)O)(NS(=O)(=O)c1ccc(OC)cc1)C(=O)O\n",
      "   0.80     C(NCC(=O)O)(NS(=O)(=O)c1ccc(-c2ccc(OC)cc2)cc1)C(=O)O\n",
      "   0.85     C(C(O)=O)(NS(=O)(=O)c1ccc(-c2ccc(OC(F)F)cc2)cc1)C(=O)O\n",
      "   0.64     C(N1CCC(C)(N2C(Cc3c[nH]c4ccccc43)CC2)C1)(NS(=O)(=O)c1ccc(Cl)cc1)C(=O)O\n",
      "   0.00     C(NS(=O)(=O)c1ccc(-c2ccc(C(=O)O)c2)cc1)(NS(=O)(=O)c1ccc(OC)cc1)C(=O)O\n",
      "   0.86     C(CO)(NS(=O)(=O)c1ccc(-c2ccc(C(=O)O)cc2)cc1)C(=O)O\n"
     ]
    },
    {
     "name": "stderr",
     "output_type": "stream",
     "text": [
      "/site/rp/work/projects/DD/Jupyter/notebooks/Maxime/scaffold-constrained-generation/scaffold_constrained_model.py:466: UserWarning: Implicit dimension choice for softmax has been deprecated. Change the call to include dim=X as an argument.\n",
      "  prob = F.softmax(logits)\n",
      "/site/rp/work/projects/DD/Jupyter/notebooks/Maxime/scaffold-constrained-generation/scaffold_constrained_model.py:467: UserWarning: Implicit dimension choice for log_softmax has been deprecated. Change the call to include dim=X as an argument.\n",
      "  log_prob = F.log_softmax(logits)\n"
     ]
    },
    {
     "name": "stdout",
     "output_type": "stream",
     "text": [
      "Found original molecule: C(Cc1c2ccccc2[nH]c1)(NS(=O)(=O)c1ccc(-c2ccc(Br)cc2)cc1)C(=O)O\n",
      "\n",
      "Best score in memory: 0.97\n"
     ]
    },
    {
     "name": "stderr",
     "output_type": "stream",
     "text": [
      "/site/rp/work/projects/DD/Jupyter/notebooks/Maxime/scaffold-constrained-generation/scaffold_constrained_model.py:96: UserWarning: Implicit dimension choice for log_softmax has been deprecated. Change the call to include dim=X as an argument.\n",
      "  log_prob = F.log_softmax(logits)\n",
      "/site/rp/work/projects/DD/Jupyter/notebooks/Maxime/scaffold-constrained-generation/scaffold_constrained_model.py:97: UserWarning: Implicit dimension choice for softmax has been deprecated. Change the call to include dim=X as an argument.\n",
      "  prob = F.softmax(logits)\n"
     ]
    },
    {
     "name": "stdout",
     "output_type": "stream",
     "text": [
      "\n",
      "       Step 3   Fraction valid SMILES: 84.6  Time elapsed: 0.21h Time left: 0.37h\n",
      "  Agent    Prior   Target   Score             SMILES\n",
      "   0.93     C(C(NS(=O)(=O)c1ccc(-c2ccc(SC)cc2)cc1)C(=O)O)(NS(=O)(=O)c1ccc(C)cc1)C(=O)O\n",
      "   0.85     C(C)(NS(=O)(=O)c1ccc(-c2ccc(OCCC(=O)O)cc2)cc1)C(=O)O\n",
      "   0.71     C(CC(NC(C)(C)C)=NS(=O)(=O)c1ccc(-c2ccc(F)cc2)cc1)(NS(=O)(=O)c1ccc(Br)cc1)C(=O)O\n",
      "   0.87     C(C)(NS(=O)(=O)c1ccc(-c2ccc(Br)cc2)cc1)C(=O)O\n",
      "   0.87     C(Cc1ccc(C(=O)O)cc1F)(NS(=O)(=O)c1ccc(-c2ccc(OC)cc2)cc1)C(=O)O\n",
      "   0.00     C(NS(=O)(=O)c1ccc(-c2ccc(C(=O)c3c(C)c(C(=O)O)ccc3O)c\n",
      "   0.00     C(C(C)(NS(=O)(=O)c1ccc(-c2ccc(OCCC)cc2)cc1)C(=O)O)(NS(=O)(=O)c1ccc(OC\n",
      "   0.88     C(CO)(NS(=O)(=O)c1ccc(-c2ccc(OCCNS(=O)(=O)N3CC(C)CC(C)C3)cc2)cc1)C(=O)O\n",
      "   0.82     C(C)(NS(=O)(=O)c1ccc(-c2ccc(-c3ccc(CO)cc3)cc2)cc1)C(=O)O\n",
      "   0.85     C(C)(NS(=O)(=O)c1ccc(-c2ccc(N3CCCS3(=O)=O)cc2)cc1)C(=O)O\n"
     ]
    },
    {
     "name": "stderr",
     "output_type": "stream",
     "text": [
      "/site/rp/work/projects/DD/Jupyter/notebooks/Maxime/scaffold-constrained-generation/scaffold_constrained_model.py:466: UserWarning: Implicit dimension choice for softmax has been deprecated. Change the call to include dim=X as an argument.\n",
      "  prob = F.softmax(logits)\n",
      "/site/rp/work/projects/DD/Jupyter/notebooks/Maxime/scaffold-constrained-generation/scaffold_constrained_model.py:467: UserWarning: Implicit dimension choice for log_softmax has been deprecated. Change the call to include dim=X as an argument.\n",
      "  log_prob = F.log_softmax(logits)\n"
     ]
    },
    {
     "name": "stdout",
     "output_type": "stream",
     "text": [
      "Found original molecule: C(Cc1c2ccccc2[nH]c1)(NS(=O)(=O)c1ccc(-c2ccc(Br)cc2)cc1)C(=O)O\n",
      "\n",
      "Best score in memory: 0.99\n"
     ]
    },
    {
     "name": "stderr",
     "output_type": "stream",
     "text": [
      "/site/rp/work/projects/DD/Jupyter/notebooks/Maxime/scaffold-constrained-generation/scaffold_constrained_model.py:96: UserWarning: Implicit dimension choice for log_softmax has been deprecated. Change the call to include dim=X as an argument.\n",
      "  log_prob = F.log_softmax(logits)\n",
      "/site/rp/work/projects/DD/Jupyter/notebooks/Maxime/scaffold-constrained-generation/scaffold_constrained_model.py:97: UserWarning: Implicit dimension choice for softmax has been deprecated. Change the call to include dim=X as an argument.\n",
      "  prob = F.softmax(logits)\n"
     ]
    },
    {
     "name": "stdout",
     "output_type": "stream",
     "text": [
      "\n",
      "       Step 4   Fraction valid SMILES: 88.4  Time elapsed: 0.27h Time left: 0.32h\n",
      "  Agent    Prior   Target   Score             SMILES\n",
      "   0.84     C(CC(NS(=O)(=O)c1ccc(-c2ccc(OCC)cc2)cc1)C(=O)O)(NS(=O)(=O)c1ccc(OC)cc1)C(=O)O\n",
      "   0.92     C(CCOc1ccc(C)cc1)(NS(=O)(=O)c1ccc(-c2ccc(OCCN3CCN(C)CC3)cc2)cc1)C(=O)O\n",
      "   0.92     C(CN[N+](=O)[O-])(NS(=O)(=O)c1ccc(-c2ccc(SC)cc2)cc1)C(=O)O\n",
      "   0.93     C(CCOc1ccccc1)(NS(=O)(=O)c1ccc(-c2ccc(SC)cc2)cc1)C(=O)O\n",
      "   0.93     C(C(NS(=O)(=O)c1ccc(-c2ccc(SC)cc2)cc1)C(=O)O)(NS(=O)(=O)c1ccc(C)cc1)C(=O)O\n",
      "   0.90     C(Cn1c2ccccc2nc1C)(NS(=O)(=O)c1ccc(-c2ccc(SC)cc2)cc1)C(=O)O\n",
      "   0.93     C(CCc1ccc(OCC)cc1)(NS(=O)(=O)c1ccc(-c2ccc(SC)cc2)cc1)C(=O)O\n",
      "   0.92     C(CC(NS(=O)(=O)c1ccc(-c2ccc(Br)cc2)cc1)C(=O)OC)(NS(=O)(=O)c1ccc(C)cc1)C(=O)O\n",
      "   0.93     C(C(=O)OCC)(NS(=O)(=O)c1ccc(-c2ccc(SC)cc2)cc1)C(=O)O\n",
      "   0.89     C(CCOc1ccc(OCC(=O)OCC)cc1)(NS(=O)(=O)c1ccc(-c2ccc(OC(F)F)cc2)cc1)C(=O)O\n"
     ]
    },
    {
     "name": "stderr",
     "output_type": "stream",
     "text": [
      "/site/rp/work/projects/DD/Jupyter/notebooks/Maxime/scaffold-constrained-generation/scaffold_constrained_model.py:466: UserWarning: Implicit dimension choice for softmax has been deprecated. Change the call to include dim=X as an argument.\n",
      "  prob = F.softmax(logits)\n",
      "/site/rp/work/projects/DD/Jupyter/notebooks/Maxime/scaffold-constrained-generation/scaffold_constrained_model.py:467: UserWarning: Implicit dimension choice for log_softmax has been deprecated. Change the call to include dim=X as an argument.\n",
      "  log_prob = F.log_softmax(logits)\n"
     ]
    },
    {
     "name": "stdout",
     "output_type": "stream",
     "text": [
      "Found original molecule: C(CCC(=O)OCC)(NS(=O)(=O)c1ccc(-c2ccc(Br)cc2)cc1)C(=O)O\n",
      "\n",
      "Best score in memory: 0.99\n"
     ]
    },
    {
     "name": "stderr",
     "output_type": "stream",
     "text": [
      "/site/rp/work/projects/DD/Jupyter/notebooks/Maxime/scaffold-constrained-generation/scaffold_constrained_model.py:96: UserWarning: Implicit dimension choice for log_softmax has been deprecated. Change the call to include dim=X as an argument.\n",
      "  log_prob = F.log_softmax(logits)\n",
      "/site/rp/work/projects/DD/Jupyter/notebooks/Maxime/scaffold-constrained-generation/scaffold_constrained_model.py:97: UserWarning: Implicit dimension choice for softmax has been deprecated. Change the call to include dim=X as an argument.\n",
      "  prob = F.softmax(logits)\n"
     ]
    },
    {
     "name": "stdout",
     "output_type": "stream",
     "text": [
      "\n",
      "       Step 5   Fraction valid SMILES: 89.4  Time elapsed: 0.33h Time left: 0.27h\n",
      "  Agent    Prior   Target   Score             SMILES\n",
      "   0.95     C(CCOc1ccc(C(C)(C)CC(=O)OCC)cc1)(NS(=O)(=O)c1ccc(-c2ccc(CCO)cc2)cc1)C(=O)O\n",
      "   0.95     C(CCN=[N+]=[N-])(NS(=O)(=O)c1ccc(-c2ccc(SC)cc2)cc1)C(=O)O\n",
      "   0.94     C(C[N+](C)(CC[N+](C)(C)CC)C)(NS(=O)(=O)c1ccc(-c2ccc(SC)cc2)cc1)C(=O)O\n",
      "   0.00     C(CC[N+](CC[N+](CC)(CC)CC)(NS(=O)(=O)c1ccc(-c2ccc(SC)cc2)c\n",
      "   0.95     C(CCOc1ccccc1F)(NS(=O)(=O)c1ccc(-c2ccc(SC)cc2)cc1)C(=O)O\n",
      "   0.97     C(CC(NS(=O)(=O)c1ccc(-c2ccc(SC)cc2)cc1)C(=O)O)(NS(=O)(=O)c1ccc(C)cc1)C(=O)O\n",
      "   0.94     C(CCc1ccc(NC(=O)C)cc1)(NS(=O)(=O)c1ccc(-c2ccc(SC)cc2)cc1)C(=O)O\n",
      "   0.92     C(Cc1ccc(-c2ccccc2)cc1)(NS(=O)(=O)c1ccc(-c2ccc(SC)cc2)cc1)C(=O)O\n",
      "   0.94     C(C[N+](C)(C)CCC)(NS(=O)(=O)c1ccc(-c2ccc(Br)cc2)cc1)C(=O)O\n",
      "   0.91     C(CCn1c(=O)cc(C)cc1C)(NS(=O)(=O)c1ccc(-c2ccc(Br)cc2)cc1)C(=O)O\n"
     ]
    },
    {
     "name": "stderr",
     "output_type": "stream",
     "text": [
      "/site/rp/work/projects/DD/Jupyter/notebooks/Maxime/scaffold-constrained-generation/scaffold_constrained_model.py:466: UserWarning: Implicit dimension choice for softmax has been deprecated. Change the call to include dim=X as an argument.\n",
      "  prob = F.softmax(logits)\n",
      "/site/rp/work/projects/DD/Jupyter/notebooks/Maxime/scaffold-constrained-generation/scaffold_constrained_model.py:467: UserWarning: Implicit dimension choice for log_softmax has been deprecated. Change the call to include dim=X as an argument.\n",
      "  log_prob = F.log_softmax(logits)\n"
     ]
    },
    {
     "name": "stdout",
     "output_type": "stream",
     "text": [
      "Found original molecule: C(CCC(=O)OCC)(NS(=O)(=O)c1ccc(-c2ccc(Br)cc2)cc1)C(=O)O\n",
      "Found original molecule: C(CSc1ccccc1)(NS(=O)(=O)c1ccc(-c2ccc(SC)cc2)cc1)C(=O)O\n",
      "\n",
      "Best score in memory: 0.99\n"
     ]
    },
    {
     "name": "stderr",
     "output_type": "stream",
     "text": [
      "/site/rp/work/projects/DD/Jupyter/notebooks/Maxime/scaffold-constrained-generation/scaffold_constrained_model.py:96: UserWarning: Implicit dimension choice for log_softmax has been deprecated. Change the call to include dim=X as an argument.\n",
      "  log_prob = F.log_softmax(logits)\n",
      "/site/rp/work/projects/DD/Jupyter/notebooks/Maxime/scaffold-constrained-generation/scaffold_constrained_model.py:97: UserWarning: Implicit dimension choice for softmax has been deprecated. Change the call to include dim=X as an argument.\n",
      "  prob = F.softmax(logits)\n"
     ]
    },
    {
     "name": "stdout",
     "output_type": "stream",
     "text": [
      "\n",
      "       Step 6   Fraction valid SMILES: 92.2  Time elapsed: 0.39h Time left: 0.22h\n",
      "  Agent    Prior   Target   Score             SMILES\n",
      "   0.94     C(C[N+](C)(C)C)(NS(=O)(=O)c1ccc(-c2ccc(Br)cc2)cc1)C(=O)O\n",
      "   0.95     C(CC(OCC)OCC)(NS(=O)(=O)c1ccc(-c2ccc(SC)cc2)cc1)C(=O)O\n",
      "   0.94     C(CCOCC)(NS(=O)(=O)c1ccc(-c2ccc(SC)cc2)cc1)C(=O)O\n",
      "   0.95     C(CC[N+](C)(C)CCC)(NS(=O)(=O)c1ccc(-c2ccc(SC)cc2)cc1)C(=O)O\n",
      "   0.88     C(COC)(NS(=O)(=O)c1ccc(-c2ccc(SC(C)CC(=O)O)cc2)cc1)C(=O)O\n",
      "   0.00     C(C1OC(C2OC2O)C(=O)CCC(=O)OCC)(NS(=O)(=O)c1ccc(-c2ccc(SC)cc2)cc1)C(=O)O\n",
      "   0.95     C(CCC(=O)OCC)(NS(=O)(=O)c1ccc(-c2ccc(OC(F)F)cc2)cc1)C(=O)O\n",
      "   0.95     C(CC[N+](C)(CC[N+](C)(C)C)C)(NS(=O)(=O)c1ccc(-c2ccc(CCO)cc2)cc1)C(=O)O\n",
      "   0.94     C(CCNCCC)(NS(=O)(=O)c1ccc(-c2ccc(CCON=C3CSC3=O)cc2)cc1)C(=O)O\n",
      "   0.95     C(CC[N+](C)(CC)C)(NS(=O)(=O)c1ccc(-c2ccc(SC)cc2)cc1)C(=O)O\n"
     ]
    },
    {
     "name": "stderr",
     "output_type": "stream",
     "text": [
      "/site/rp/work/projects/DD/Jupyter/notebooks/Maxime/scaffold-constrained-generation/scaffold_constrained_model.py:466: UserWarning: Implicit dimension choice for softmax has been deprecated. Change the call to include dim=X as an argument.\n",
      "  prob = F.softmax(logits)\n",
      "/site/rp/work/projects/DD/Jupyter/notebooks/Maxime/scaffold-constrained-generation/scaffold_constrained_model.py:467: UserWarning: Implicit dimension choice for log_softmax has been deprecated. Change the call to include dim=X as an argument.\n",
      "  log_prob = F.log_softmax(logits)\n"
     ]
    },
    {
     "name": "stdout",
     "output_type": "stream",
     "text": [
      "Found original molecule: C(CCC(=O)OCC)(NS(=O)(=O)c1ccc(-c2ccc(Br)cc2)cc1)C(=O)O\n",
      "\n",
      "Best score in memory: 0.99\n"
     ]
    },
    {
     "name": "stderr",
     "output_type": "stream",
     "text": [
      "/site/rp/work/projects/DD/Jupyter/notebooks/Maxime/scaffold-constrained-generation/scaffold_constrained_model.py:96: UserWarning: Implicit dimension choice for log_softmax has been deprecated. Change the call to include dim=X as an argument.\n",
      "  log_prob = F.log_softmax(logits)\n",
      "/site/rp/work/projects/DD/Jupyter/notebooks/Maxime/scaffold-constrained-generation/scaffold_constrained_model.py:97: UserWarning: Implicit dimension choice for softmax has been deprecated. Change the call to include dim=X as an argument.\n",
      "  prob = F.softmax(logits)\n"
     ]
    },
    {
     "name": "stdout",
     "output_type": "stream",
     "text": [
      "\n",
      "       Step 7   Fraction valid SMILES: 90.5  Time elapsed: 0.44h Time left: 0.17h\n",
      "  Agent    Prior   Target   Score             SMILES\n",
      "   0.96     C(CCC(=O)OCC)(NS(=O)(=O)c1ccc(-c2ccc(CCO)cc2)cc1)C(=O)O\n",
      "   0.00     C(CCOc1ccc(OC(F)(F)F)cc1)(NS(=O)(=O)c1ccc(-c2ccc(CCOCCCN3CCN(C)CC3F)c\n",
      "   0.96     C(CCC(=O)O)(NS(=O)(=O)c1ccc(-c2ccc(CCO)cc2)cc1)C(=O)O\n",
      "   0.96     C(CCOc1ccc(CCC(O)=O)cc1)(NS(=O)(=O)c1ccc(-c2ccc(CCO)cc2)cc1)C(=O)O\n",
      "   0.97     C(CCOc1ccc(OC(F)(F)F)cc1)(NS(=O)(=O)c1ccc(-c2ccc(CCO)cc2)cc1)C(=O)O\n",
      "   0.95     C(CC(NS(=O)(=O)c1ccc(-c2ccc(SC)cc2)cc1)C(=O)OC)(NS(=O)(=O)c1ccc(Cl)cc1)C(=O)O\n",
      "   0.97     C(CCCc1ccc(NC(=O)CCC(=O)O)cc1)(NS(=O)(=O)c1ccc(-c2ccc(SC)cc2)cc1)C(=O)O\n",
      "   0.98     C(CCc1ccc(-c2ccc(SC)cc2)cc1)(NS(=O)(=O)c1ccc(-c2ccc(SC)cc2)cc1)C(=O)O\n",
      "   0.97     C(CC(NS(=O)(=O)c1ccc(-c2ccc(SC)cc2)cc1)C(=O)O)(NS(=O)(=O)c1ccc(Cl)cc1)C(=O)O\n",
      "   0.95     C(CCc1ccc(-c2ccccc2)cc1)(NS(=O)(=O)c1ccc(-c2ccc(CCO)cc2)cc1)C(=O)O\n"
     ]
    },
    {
     "name": "stderr",
     "output_type": "stream",
     "text": [
      "/site/rp/work/projects/DD/Jupyter/notebooks/Maxime/scaffold-constrained-generation/scaffold_constrained_model.py:466: UserWarning: Implicit dimension choice for softmax has been deprecated. Change the call to include dim=X as an argument.\n",
      "  prob = F.softmax(logits)\n",
      "/site/rp/work/projects/DD/Jupyter/notebooks/Maxime/scaffold-constrained-generation/scaffold_constrained_model.py:467: UserWarning: Implicit dimension choice for log_softmax has been deprecated. Change the call to include dim=X as an argument.\n",
      "  log_prob = F.log_softmax(logits)\n"
     ]
    },
    {
     "name": "stdout",
     "output_type": "stream",
     "text": [
      "\n",
      "Best score in memory: 1.00\n"
     ]
    },
    {
     "name": "stderr",
     "output_type": "stream",
     "text": [
      "/site/rp/work/projects/DD/Jupyter/notebooks/Maxime/scaffold-constrained-generation/scaffold_constrained_model.py:96: UserWarning: Implicit dimension choice for log_softmax has been deprecated. Change the call to include dim=X as an argument.\n",
      "  log_prob = F.log_softmax(logits)\n",
      "/site/rp/work/projects/DD/Jupyter/notebooks/Maxime/scaffold-constrained-generation/scaffold_constrained_model.py:97: UserWarning: Implicit dimension choice for softmax has been deprecated. Change the call to include dim=X as an argument.\n",
      "  prob = F.softmax(logits)\n"
     ]
    },
    {
     "name": "stdout",
     "output_type": "stream",
     "text": [
      "\n",
      "       Step 8   Fraction valid SMILES: 92.6  Time elapsed: 0.51h Time left: 0.11h\n",
      "  Agent    Prior   Target   Score             SMILES\n",
      "   0.97     C(CCCc1ccc(NC(=O)CCC(O)=O)cc1)(NS(=O)(=O)c1ccc(-c2ccc(SC)cc2)cc1)C(=O)O\n",
      "   0.99     C(NS(=O)(=O)c1ccc(-c2ccc(SC)cc2)cc1)(NS(=O)(=O)c1ccc(-c2ccc(CCO)cc2)cc1)C(=O)O\n",
      "   0.96     C(CCOc1ccc(OC(F)(F)F)cc1)(NS(=O)(=O)c1ccc(-c2ccc(CCCO)cc2)cc1)C(=O)O\n",
      "   1.00     C(CCCc1ccc(-c2ccc(CCCO)cc2)cc1)(NS(=O)(=O)c1ccc(-c2ccc(SC)cc2)cc1)C(=O)O\n",
      "   0.91     C(CCc1ccc(-c2cccnc2)cc1)(NS(=O)(=O)c1ccc(-c2ccc(SC)cc2)cc1)C(=O)O\n",
      "   0.96     C(CCC(OC)=O)(NS(=O)(=O)c1ccc(-c2ccc(CCCO)cc2)cc1)C(=O)O\n",
      "   0.96     C(CCC(=O)O)(NS(=O)(=O)c1ccc(-c2ccc(CCCO)cc2)cc1)C(=O)O\n",
      "   0.97     C(CCCC(=O)OCC)(NS(=O)(=O)c1ccc(-c2ccc(CCOCCCO)cc2)cc1)C(=O)O\n",
      "   0.93     C(CC(C)OCC)(NS(=O)(=O)c1ccc(-c2ccc(CCOCCCO)cc2)cc1)C(=O)O\n",
      "   0.97     C(CCCC(=O)OCC(O)=O)(NS(=O)(=O)c1ccc(-c2ccc(CCCO)cc2)cc1)C(=O)O\n"
     ]
    },
    {
     "name": "stderr",
     "output_type": "stream",
     "text": [
      "/site/rp/work/projects/DD/Jupyter/notebooks/Maxime/scaffold-constrained-generation/scaffold_constrained_model.py:466: UserWarning: Implicit dimension choice for softmax has been deprecated. Change the call to include dim=X as an argument.\n",
      "  prob = F.softmax(logits)\n",
      "/site/rp/work/projects/DD/Jupyter/notebooks/Maxime/scaffold-constrained-generation/scaffold_constrained_model.py:467: UserWarning: Implicit dimension choice for log_softmax has been deprecated. Change the call to include dim=X as an argument.\n",
      "  log_prob = F.log_softmax(logits)\n"
     ]
    },
    {
     "name": "stdout",
     "output_type": "stream",
     "text": [
      "\n",
      "Best score in memory: 1.00\n"
     ]
    },
    {
     "name": "stderr",
     "output_type": "stream",
     "text": [
      "/site/rp/work/projects/DD/Jupyter/notebooks/Maxime/scaffold-constrained-generation/scaffold_constrained_model.py:96: UserWarning: Implicit dimension choice for log_softmax has been deprecated. Change the call to include dim=X as an argument.\n",
      "  log_prob = F.log_softmax(logits)\n",
      "/site/rp/work/projects/DD/Jupyter/notebooks/Maxime/scaffold-constrained-generation/scaffold_constrained_model.py:97: UserWarning: Implicit dimension choice for softmax has been deprecated. Change the call to include dim=X as an argument.\n",
      "  prob = F.softmax(logits)\n"
     ]
    },
    {
     "name": "stdout",
     "output_type": "stream",
     "text": [
      "\n",
      "       Step 9   Fraction valid SMILES: 92.6  Time elapsed: 0.56h Time left: 0.06h\n",
      "  Agent    Prior   Target   Score             SMILES\n",
      "   0.98     C(CC(C)OCC(O)=O)(NS(=O)(=O)c1ccc(-c2ccc(SC)cc2)cc1)C(=O)O\n",
      "   1.00     C(CCCc1ccc(-c2ccc(SC(=O)CCC)cc2)cc1)(NS(=O)(=O)c1ccc(-c2ccc(SC)cc2)cc1)C(=O)O\n",
      "   0.95     C(CCc1ccccc1)(NS(=O)(=O)c1ccc(-c2ccc(CCO)cc2)cc1)C(=O)O\n",
      "   0.94     C(CC(C)OCC(=O)OCC)(NS(=O)(=O)c1ccc(-c2ccc(CCO)cc2)cc1)C(=O)O\n",
      "   0.98     C(CC(C)OCC[N+](C)(C)C)(NS(=O)(=O)c1ccc(-c2ccc(SC)cc2)cc1)C(=O)O\n",
      "   0.97     C(CCOc1ccc(SC)cc1)(NS(=O)(=O)c1ccc(-c2ccc(CCO)cc2)cc1)C(=O)O\n",
      "   0.99     C(CCc1ccc(-c2ccc(SC)cc2)cc1)(NS(=O)(=O)c1ccc(-c2ccc(CCO)cc2)cc1)C(=O)O\n",
      "   0.96     C(CC(C)OCCO[N+](=O)[O-])(NS(=O)(=O)c1ccc(-c2ccc(CCO)cc2)cc1)C(=O)O\n",
      "   0.98     C(CCCC(=O)OCC)(NS(=O)(=O)c1ccc(-c2ccc(CCO)cc2)cc1)C(=O)O\n",
      "   0.96     C(CC(C)OCc1ccccc1)(NS(=O)(=O)c1ccc(-c2ccc(CCO)cc2)cc1)C(=O)O\n",
      "\n",
      "********************************************************************************\n",
      "\n",
      "         Best recorded SMILES: \n",
      "\n",
      "Score     Prior log P     SMILES\n",
      "\n",
      "1.00    -7.59        C(CCCc1ccc(-c2ccc(CCCO)cc2)cc1)(NS(=O)(=O)c1ccc(-c2ccc(SC)cc2)cc1)C(=O)O\n",
      "1.00   -12.18        C(CC(C)OCCCc1ccc(-c2ccccc2)cc1)(NS(=O)(=O)c1ccc(-c2ccc(SC)cc2)cc1)C(=O)O\n",
      "1.00    -5.14        C(CCCc1ccc(-c2ccc(SC)cc2)cc1)(NS(=O)(=O)c1ccc(-c2ccc(SC)cc2)cc1)C(=O)O\n",
      "1.00    -5.15        C(CCCc1ccc(-c2ccc(SC)cc2)cc1)(NS(=O)(=O)c1ccc(-c2ccc(CCO)cc2)cc1)C(=O)O\n",
      "1.00    -7.07        C(CCC[N+](C)(CC)CC)(NS(=O)(=O)c1ccc(-c2ccc(SC)cc2)cc1)C(=O)O\n",
      "1.00    -8.25        C(CCCc1ccc(-c2ccc(CCOCCCO)cc2)cc1)(NS(=O)(=O)c1ccc(-c2ccc(SC)cc2)cc1)C(=O)O\n",
      "1.00    -5.61        C(CCCc1ccc(-c2ccccc2)cc1)(NS(=O)(=O)c1ccc(-c2ccc(SC)cc2)cc1)C(=O)O\n",
      "1.00    -7.80        C(CCCc1ccc(-c2ccc(SC)cc2)cc1)(NS(=O)(=O)c1ccc(-c2ccc(CCCO)cc2)cc1)C(=O)O\n",
      "1.00    -6.38        C(CCCc1ccc(-c2ccc(SC(=O)CCC)cc2)cc1)(NS(=O)(=O)c1ccc(-c2ccc(SC)cc2)cc1)C(=O)O\n",
      "1.00    -6.61        C(CCC[N+](CC)(CC)C)(NS(=O)(=O)c1ccc(-c2ccc(SC)cc2)cc1)C(=O)O\n",
      "1.00    -5.79        C(CCCc1ccc(-c2ccc(CCO)cc2)cc1)(NS(=O)(=O)c1ccc(-c2ccc(SC)cc2)cc1)C(=O)O\n",
      "1.00    -9.10        C(CCCCc1ccc(-c2ccc(CCCO)cc2)cc1)(NS(=O)(=O)c1ccc(-c2ccc(SC)cc2)cc1)C(=O)O\n",
      "1.00    -9.59        C(CCCc1ccc(-c2ccc(SC(=O)CCO)cc2)cc1)(NS(=O)(=O)c1ccc(-c2ccc(SC)cc2)cc1)C(=O)O\n",
      "0.99    -8.54        C(CCc1ccc(-c3ccc(SC(=O)CCCO)cc3)cc1)(NS(=O)(=O)c1ccc(-c2ccc(SC)cc2)cc1)C(=O)O\n",
      "0.99    -6.06        C(CCc1ccc(-c2ccc(SC(=O)CCC)cc2)cc1)(NS(=O)(=O)c1ccc(-c2ccc(SC)cc2)cc1)C(=O)O\n",
      "0.99    -7.67        C(NS(=O)(=O)c1ccc(-c2ccc(SC)cc2)cc1)(NS(=O)(=O)c1ccc(-c2ccc(CCO)cc2)cc1)C(=O)O\n",
      "0.99    -5.85        C(CC[N+](C)(CC)CC)(NS(=O)(=O)c1ccc(-c2ccc(SC)cc2)cc1)C(=O)O\n",
      "0.99    -6.86        C(CC[N+](CC)(CC)C)(NS(=O)(=O)c1ccc(-c2ccc(SC)cc2)cc1)C(=O)O\n",
      "0.99    -7.49        C(CC[N+](CC)(CC)C)(NS(=O)(=O)c1ccc(-c2ccc(SC(=O)N3CCOCC3)cc2)cc1)C(=O)O\n",
      "0.99    -7.71        C(CC[N+](C)(CC)CC)(NS(=O)(=O)c1ccc(-c2ccc(SC(=O)N3CCOCC3)cc2)cc1)C(=O)O\n",
      "0.99   -11.36        C(CC(C)OCc1ccc(-c2ccc(CCOCCCO)cc2)cc1)(NS(=O)(=O)c1ccc(-c2ccc(SC)cc2)cc1)C(=O)O\n",
      "0.99    -6.11        C(CC(C)OCc1ccc(-c2ccc(SC)cc2)cc1)(NS(=O)(=O)c1ccc(-c2ccc(CCO)cc2)cc1)C(=O)O\n",
      "0.99    -7.09        C(NS(=O)(=O)c1ccc(-c2ccc(SC)cc2)cc1)(NS(=O)(=O)c1ccc(-c2ccc(CCCO)cc2)cc1)C(=O)O\n",
      "0.99    -5.60        C(CC(C)OCc1ccc(-c2ccc(CCCO)cc2)cc1)(NS(=O)(=O)c1ccc(-c2ccc(SC)cc2)cc1)C(=O)O\n",
      "0.99   -13.05        C(CC(C)OCOCC[N+](CC)(CC[N+](C)(C)C)C)(NS(=O)(=O)c1ccc(-c2ccc(SC)cc2)cc1)C(=O)O\n",
      "0.99    -4.52        C(CCc1ccc(-c2ccc(SC)cc2)cc1)(NS(=O)(=O)c1ccc(-c2ccc(CCO)cc2)cc1)C(=O)O\n",
      "0.99   -12.59        C(CCc1ccc(-c3ccc(CCO)cc3)cc1)(NS(=O)(=O)c1ccc(-c2ccc(SC)cc2)cc1)C(=O)O\n",
      "0.99    -9.85        C(Cc1ccc(-c2ccc(CCOCCCO)cc2)cc1)(NS(=O)(=O)c1ccc(-c2ccc(SC)cc2)cc1)C(=O)O\n",
      "0.99    -5.81        C(CCc1ccc(-c2ccc(CCO)cc2)cc1)(NS(=O)(=O)c1ccc(-c2ccc(SC)cc2)cc1)C(=O)O\n",
      "0.99    -6.39        C(CCc1ccc(-c2ccc(CCOCCCO)cc2)cc1)(NS(=O)(=O)c1ccc(-c2ccc(SC)cc2)cc1)C(=O)O\n",
      "0.99   -10.83        C(CCc1ccc(-c2ccc(SC(=O)NCC)cc2)cc1)(NS(=O)(=O)c1ccc(-c2ccc(CCO)cc2)cc1)C(=O)O\n",
      "0.98    -6.68        C(CCc1ccc(-c2ccc(CCCO)cc2)cc1)(NS(=O)(=O)c1ccc(-c2ccc(SC)cc2)cc1)C(=O)O\n",
      "0.98    -6.35        C(CCc1ccc(-c2ccc(SC)cc2)cc1)(NS(=O)(=O)c1ccc(-c2ccc(CCCO)cc2)cc1)C(=O)O\n",
      "0.98   -12.26        C(CCOc1ccc(SC(=O)NCCCC(=O)O)cc1)(NS(=O)(=O)c1ccc(-c2ccc(CCO)cc2)cc1)C(=O)O\n",
      "0.98   -12.69        C(CCOc1ccc(SC(C)CCCC(O)=O)cc1)(NS(=O)(=O)c1ccc(-c2ccc(CCO)cc2)cc1)C(=O)O\n",
      "0.98    -5.44        C(CCc1ccc(-c3ccc(CCCO)cc3)cc1)(NS(=O)(=O)c1ccc(-c2ccc(SC)cc2)cc1)C(=O)O\n",
      "0.98   -10.62        C(CCc1ccc(-c2ccccc2)cc1)(NS(=O)(=O)c1ccc(-c2ccc(SC)cc2)cc1)C(=O)O\n",
      "0.98    -5.67        C(CCc1ccc(-c2ccc(SC)cc2)cc1)(NS(=O)(=O)c1ccc(-c2ccc(SC)cc2)cc1)C(=O)O\n",
      "0.98   -10.63        C(CCc1ccc(-c2ccc(SC)cc2)cc1)(NS(=O)(=O)c1ccc(-c2ccc(SC(=O)O)cc2)cc1)C(=O)O\n",
      "0.98    -5.67        C(CCc1ccc(-c3ccccc3)cc1)(NS(=O)(=O)c1ccc(-c2ccc(SC)cc2)cc1)C(=O)O\n",
      "0.98    -7.89        C(CC(C)OCC[N+](CC)(CCC)CCC)(NS(=O)(=O)c1ccc(-c2ccc(SC)cc2)cc1)C(=O)O\n",
      "0.98    -7.61        C(CC(C)OCC[N+](CC)(CCC)C)(NS(=O)(=O)c1ccc(-c2ccc(SC)cc2)cc1)C(=O)O\n",
      "0.98   -10.22        C(CCC(O)=O)(NS(=O)(=O)c1ccc(-c2ccc(CCN3CCc4cnc(C)cc4C3C)cc2)cc1)C(=O)O\n",
      "0.98    -6.62        C(CCCc1ccc(-c2ccc(SC(=O)CCC)cc2)cc1)(NS(=O)(=O)c1ccc(-c2ccc(CCO)cc2)cc1)C(=O)O\n",
      "0.98   -15.78        C(CC(C)OCC[N+](C)(CC[N+](C)(C)C)C)(NS(=O)(=O)c1ccc(-c2ccc(SC)cc2)cc1)C(=O)O\n",
      "0.98    -9.91        C(CC(C)OCC(O)=O)(NS(=O)(=O)c1ccc(-c2ccc(SC)cc2)cc1)C(=O)O\n",
      "0.98    -8.99        C(CC(C)OCC[N+](C)(C)C)(NS(=O)(=O)c1ccc(-c2ccc(SC)cc2)cc1)C(=O)O\n",
      "0.98    -9.03        C(CC(C)OC(C)C)(NS(=O)(=O)c1ccc(-c2ccc(SC)cc2)cc1)C(=O)O\n",
      "0.98    -6.49        C(CC(C)OCCCO)(NS(=O)(=O)c1ccc(-c2ccc(SC)cc2)cc1)C(=O)O\n",
      "0.98    -6.75        C(CC(C)OCC(=O)O)(NS(=O)(=O)c1ccc(-c2ccc(SC)cc2)cc1)C(=O)O\n",
      "\n",
      "********************************************************************************\n",
      "\n"
     ]
    }
   ],
   "source": [
    "for run in range(10):\n",
    "    hill_climbing(pattern='C(*)(NS(=O)(=O)c1ccc(*)cc1)C(=O)O', restore_agent_from='data/DistributionLearningBenchmark/Prior_sureChEMBL_randomized.ckpt', scoring_function='mmp12', scoring_function_kwargs=dict(), batch_size=500, use_custom_voc=\"data/DistributionLearningBenchmark/Voc\", save_dir=\"data/results/Scaffold_constrained_RNN_\"+str(run))"
   ]
  },
  {
   "cell_type": "code",
   "execution_count": 15,
   "metadata": {},
   "outputs": [
    {
     "data": {
      "image/png": "[encoded data removed]",
      "text/plain": [
       "<rdkit.Chem.rdchem.Mol at 0x7f54f10045d0>"
      ]
     },
     "execution_count": 15,
     "metadata": {},
     "output_type": "execute_result"
    }
   ],
   "source": [
    "from rdkit.Chem.Draw import IPythonConsole\n",
    "Chem.MolFromSmiles(\"C(CCC(=O)OCC)(NS(=O)(=O)c1ccc(-c2ccc(CCC)cc2)cc1)C(=O)O\")"
   ]
  },
  {
   "cell_type": "code",
   "execution_count": 2,
   "metadata": {
    "scrolled": true
   },
   "outputs": [],
   "source": [
    "import joblib \n",
    "\n",
    "def return_results(paths):\n",
    "    # open file and get access to data\n",
    "    total = 0\n",
    "    good = 0\n",
    "    actives = 0\n",
    "    substructs = 0\n",
    "    failures = 0 \n",
    "    scores = []\n",
    "    smarts = Chem.MolToSmarts(Chem.MolFromSmiles('C(NS(=O)(=O)c1ccccc1)C(=O)O'))\n",
    "    clf = joblib.load(\"data/MMP12/final_activity_model.pkl\")\n",
    "   \n",
    "    for path in paths:\n",
    "        with open(path) as f:\n",
    "            content = f.readlines()\n",
    "        smiles_1 = [x.strip().split()[0] for x in content[1:]] \n",
    "        scores_1 = [x.strip().split()[1] for x in content[1:]] \n",
    "        scores.extend(scores_1)\n",
    "        mols = [Chem.MolFromSmiles(s) for s in smiles_1]\n",
    "        \n",
    "        has_substruct = [Chem.AddHs(mol).HasSubstructMatch(Chem.MolFromSmarts(smarts)) if mol is not None else 0 for mol in mols]\n",
    "        activities = [clf.predict(np.array(AllChem.GetMorganFingerprintAsBitVect(mol, 4)).reshape(1, -1))[0] if mol is not None else 0 for mol in mols]\n",
    "        # Get activity and substruct match\n",
    "        for i in range(len(mols)):\n",
    "            total += 1\n",
    "            if float(scores_1[i])>0.999:\n",
    "                good += 1\n",
    "            elif has_substruct[i]>0.999:\n",
    "                substructs += 1\n",
    "            elif activities[i]>0.999:\n",
    "                actives += 1\n",
    "            else:\n",
    "                failures += 1\n",
    "\n",
    "    return good/total, substructs/total, actives/total, failures/total\n"
   ]
  },
  {
   "cell_type": "code",
   "execution_count": 3,
   "metadata": {},
   "outputs": [],
   "source": [
    "good_custom, substructs_custom, actives_custom, failures_custom = return_results([\"data/results/Scaffold_constrained_RNN_\" + str(i) + \"/memory\" for i in range(9)]) "
   ]
  },
  {
   "cell_type": "code",
   "execution_count": 4,
   "metadata": {},
   "outputs": [],
   "source": [
    "good_bench, substructs_bench, actives_bench, failures_bench = return_results([\"data/results/RNN_\" + str(i) + \"/memory\" for i in range(9)]) "
   ]
  },
  {
   "cell_type": "code",
   "execution_count": 6,
   "metadata": {},
   "outputs": [
    {
     "data": {
      "image/png": "[encoded data removed]",
      "text/plain": [
       "<Figure size 1800x360 with 1 Axes>"
      ]
     },
     "metadata": {
      "needs_background": "light"
     },
     "output_type": "display_data"
    }
   ],
   "source": [
    "import matplotlib.pyplot as plt\n",
    "labels = ['Not active, no substructure', 'Active, no substructure', 'Not active, substructure', 'Active and substructure']\n",
    "labels.reverse()\n",
    "\n",
    "x = np.arange(len(labels))  # the label locations\n",
    "width = 0.35 \n",
    "fig, ax = plt.subplots(figsize=(25,5))\n",
    "rects1 = ax.bar(x - width/2, [good_custom, substructs_custom, actives_custom, failures_custom], width, label='Scaffold-constrained generator')\n",
    "rects2 = ax.bar(x + width/2, [good_bench, substructs_bench, actives_bench, failures_bench], width, label='SMILES based RNN')\n",
    "ax.set_xlabel('Criterions met by generated molecules')\n",
    "ax.set_ylabel('Percentage of molecules')\n",
    "\n",
    "ax.set_title('Performance of our method and the SOA benchmark on a goal-oriented generation task')\n",
    "ax.set_xticks(x)\n",
    "ax.set_xticklabels(labels)\n",
    "ax.legend()\n",
    "plt.show()"
   ]
  }
 ],
 "metadata": {
  "kernelspec": {
   "display_name": "torch_env",
   "language": "python",
   "name": "torch_env"
  },
  "language_info": {
   "codemirror_mode": {
    "name": "ipython",
    "version": 3
   },
   "file_extension": ".py",
   "mimetype": "text/x-python",
   "name": "python",
   "nbconvert_exporter": "python",
   "pygments_lexer": "ipython3",
   "version": "3.6.10"
  },
  "varInspector": {
   "cols": {
    "lenName": 16,
    "lenType": 16,
    "lenVar": 40
   },
   "kernels_config": {
    "python": {
     "delete_cmd_postfix": "",
     "delete_cmd_prefix": "del ",
     "library": "var_list.py",
     "varRefreshCmd": "print(var_dic_list())"
    },
    "r": {
     "delete_cmd_postfix": ") ",
     "delete_cmd_prefix": "rm(",
     "library": "var_list.r",
     "varRefreshCmd": "cat(var_dic_list()) "
    }
   },
   "types_to_exclude": [
    "module",
    "function",
    "builtin_function_or_method",
    "instance",
    "_Feature"
   ],
   "window_display": false
  }
 },
 "nbformat": 4,
 "nbformat_minor": 2
}
