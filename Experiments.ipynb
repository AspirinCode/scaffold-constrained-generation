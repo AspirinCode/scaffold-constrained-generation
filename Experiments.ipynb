{
 "cells": [
  {
   "cell_type": "code",
   "execution_count": 13,
   "metadata": {},
   "outputs": [],
   "source": [
    "from rdkit import Chem\n",
    "import torch\n",
    "import sys\n",
    "sys.path.append(os.getcwd())\n",
    "from scaffold_constrained_model import scaffold_constrained_RNN \n",
    "from data_structs import Vocabulary, Experience\n",
    "from scoring_functions import get_scoring_function\n",
    "from utils import Variable, seq_to_smiles, fraction_valid_smiles, unique\n",
    "from rdkit.Chem.Draw import IPythonConsole\n",
    "\n",
    "voc = Vocabulary(init_from_file=\"data/DistributionLearningBenchmark/Voc\")\n",
    "    \n",
    "Agent = scaffold_constrained_RNN(voc)\n",
    "if torch.cuda.is_available():\n",
    "    Agent.rnn.load_state_dict(torch.load('data/DistributionLearningBenchmark/Prior_sureChEMBL_randomized.ckpt'))\n",
    "else:\n",
    "    Agent.rnn.load_state_dict(torch.load('data/DistributionLearningBenchmark/Prior_sureChEMBL_randomized.ckpt', map_location=lambda storage, loc: storage))"
   ]
  },
  {
   "cell_type": "markdown",
   "metadata": {},
   "source": [
    "# Sample multiple times"
   ]
  },
  {
   "cell_type": "code",
   "execution_count": 15,
   "metadata": {},
   "outputs": [],
   "source": [
    "import matplotlib.pyplot as plt\n",
    "from rdkit.Chem import Descriptors, Lipinski\n",
    "from rdkit.Chem import QED\n",
    "from rdkit.Chem import AllChem\n",
    "from rdkit import DataStructs\n",
    "from random import sample\n",
    "import pandas as pd\n",
    "\n",
    "def int_diversity(smiles):\n",
    "    if len(smiles)==0:\n",
    "        return 0.5\n",
    "    diversity = 0\n",
    "    for s in smiles:\n",
    "        fp = AllChem.GetMorganFingerprintAsBitVect(Chem.MolFromSmiles(s), 4)\n",
    "        for m in smiles:\n",
    "            query_fp = AllChem.GetMorganFingerprintAsBitVect(Chem.MolFromSmiles(m), 4)\n",
    "            diversity += DataStructs.TanimotoSimilarity(query_fp, fp) \n",
    "    diversity /= len(smiles)**2\n",
    "    return 1 - diversity\n",
    "\n",
    "def validity_and_uniqueness_assessement(pattern= \"c1c(*)cc2c(c1)c(*)ccn2\", refs = None, n_tryouts=5000, save_path=None):\n",
    "    n_valid = 0\n",
    "    n_unique = 0\n",
    "    logP = []\n",
    "    MW = []\n",
    "    qed_list = []\n",
    "    SAS = []\n",
    "    HD_list = []\n",
    "    HA_list = []\n",
    "    smiles = []\n",
    "    for i in range(n_tryouts):\n",
    "        if i%1000 == 0:\n",
    "            print(\"1000 more...\")\n",
    "        seqs, agent_likelihood, entropy, _ = Agent.sample(pattern)\n",
    "        #seqs, agent_likelihood, entropy = Agent.sample(1)\n",
    "        mol = Chem.MolFromSmiles(seq_to_smiles(seqs, voc)[0])\n",
    "        if mol:\n",
    "            n_valid += 1\n",
    "            \n",
    "            if Chem.MolToSmiles(mol) not in smiles:\n",
    "                smiles.append(Chem.MolToSmiles(mol))\n",
    "                n_unique += 1\n",
    "            try:\n",
    "                MW.append(Descriptors.ExactMolWt(mol))\n",
    "                logP.append(Descriptors.MolLogP(mol))\n",
    "                qed_list.append(QED.qed(mol))\n",
    "                SAS.append(calculateSAS(mol))\n",
    "                HA_list.append(Lipinski.NumHAcceptors(mol))\n",
    "                HD_list.append(Lipinski.NumHDonors(mol))\n",
    "            except:\n",
    "                pass\n",
    "    \n",
    "    if save_path:\n",
    "        \n",
    "        df_summary = pd.DataFrame(columns = [\"Scaffold\", \"Percentage valid molecules\", \"Percentage unique molecules\"])\n",
    "        df_summary[\"Scaffold\"] = [pattern]\n",
    "        df_summary[\"Percentage valid molecules\"] = [n_valid/n_tryouts]\n",
    "        df_summary[\"Percentage unique molecules\"] = [n_unique/n_valid]\n",
    "\n",
    "        df_details = pd.DataFrame(columns = [\"Molecular weight\",\n",
    "                                    \"Calculated log P\", \"Synthetizability Accessibility Score (SAS)\", \"Quantitative Estimate of Drug-likeness (QED)\",\n",
    "                                    \"Number of H bonds acceptors\", \"Number of H bonds donors\"])\n",
    "        df_details[\"Molecular weight\"] = MW\n",
    "        df_details[\"Calculated log P\"] = logP\n",
    "        df_details[\"Synthetizability Accessibility Score (SAS)\"] = SAS\n",
    "        df_details[\"Quantitative Estimate of Drug-likeness (QED)\"] = qed_list\n",
    "        df_details[\"Number of H bonds acceptors\"] = HA_list\n",
    "        df_details[\"Number of H bonds donors\"] = HD_list\n",
    "        \n",
    "        df_details.to_csv(save_path + \"_details.csv\")\n",
    "        df_summary.to_csv(save_path + \"_summary.csv\")\n",
    "    return n_valid/n_tryouts, n_unique/n_valid, MW, logP, SAS, qed_list, HA_list, HD_list"
   ]
  },
  {
   "cell_type": "code",
   "execution_count": 16,
   "metadata": {},
   "outputs": [],
   "source": [
    "patterns = [\"N(*)2C(=C)N(c3ccc(C#N)c(C(F)(F)F)c3)C(=O)C23CCC3\",\n",
    "            'C(*)N2CCN(C(=O)Oc3cncc(*)c3)C(C)C2',\n",
    "            'c(*)1ccc(Nc2cnc(N)c(NCc3ccc4ncccc4c3)n2)nc1',\n",
    "            'N(*)C(=O)C(=O)N2CCC(c3ccnc4ccc(*)cc34)CC2',\n",
    "            'C(*)c1nc(=O)c(S(=O)(=O)c2ccc(*)c(*)c2)c(O)n1(*)',\n",
    "            'C(*)c1cnn(CC2C(NC(=O)C(=NOC3(C(*)O)CC3)c3csc(*)n3)C(=O)N2(*))n1',\n",
    "            'C(*)Oc1cc(*)c(*)c(c2ccc3nc(N(*))ncc3c2)c1(*)', \n",
    "            'c(*)1cnc2cc(*)c(*)cc2c1N1CCN(*)C(*)C1',\n",
    "            'c1(*)cnc2cc(*)c(*)cc2c1N1CCNCC1',\n",
    "            'C(*)NC2=NN=C(c3ccc4[nH]c(=O)[nH]c4c3)CS2', #\n",
    "            'C(*)#Cc1ccc(OCc2nnc(S(*))n2-c2cccnc2)cc1(*)',\n",
    "            'C(*)C1=C(*)C(*)N=C(c2nccs2)N1',\n",
    "            'S(*)(C)(=O)CC(c1ccc(OC)cc1)n1c(=O)n(*)c2cc(-c3ccccc3(*))ccc21',\n",
    "            'c(*)1ccc2[nH]c3c(c2c1)CN(c1ccc2oc(N4CCOCC4)nc2c1)CC3',\n",
    "            'c(*)1cc(Nc2ncc(*)c(Nc3ccccc3(*))n2)c(O(*))cc1C(*)',\n",
    "            'C=C(*)C(=O)CC(=O)C=C(*)',\n",
    "            'C(*)N(CC2=C(C(=O)OCC)C(c3ccc(F)cc3(*))N=C(c3nccs3)N2)']"
   ]
  },
  {
   "cell_type": "code",
   "execution_count": 17,
   "metadata": {},
   "outputs": [
    {
     "name": "stdout",
     "output_type": "stream",
     "text": [
      "1000 more...\n"
     ]
    },
    {
     "name": "stderr",
     "output_type": "stream",
     "text": [
      "/site/rp/work/projects/DD/Jupyter/notebooks/Maxime/scaffold-constrained-generation/scaffold_constrained_model.py:167: UserWarning: Implicit dimension choice for softmax has been deprecated. Change the call to include dim=X as an argument.\n",
      "  prob = F.softmax(logits)\n",
      "/site/rp/work/projects/DD/Jupyter/notebooks/Maxime/scaffold-constrained-generation/scaffold_constrained_model.py:168: UserWarning: Implicit dimension choice for log_softmax has been deprecated. Change the call to include dim=X as an argument.\n",
      "  log_prob = F.log_softmax(logits)\n",
      "/site/rp/work/projects/DD/Jupyter/notebooks/Maxime/scaffold-constrained-generation/scaffold_constrained_model.py:379: UserWarning: Implicit dimension choice for softmax has been deprecated. Change the call to include dim=X as an argument.\n",
      "  prob = F.softmax(logits)\n",
      "/site/rp/work/projects/DD/Jupyter/notebooks/Maxime/scaffold-constrained-generation/scaffold_constrained_model.py:380: UserWarning: Implicit dimension choice for log_softmax has been deprecated. Change the call to include dim=X as an argument.\n",
      "  log_prob = F.log_softmax(logits)\n"
     ]
    },
    {
     "name": "stdout",
     "output_type": "stream",
     "text": [
      "0.94\n",
      "0.9361702127659575\n",
      "1000 more...\n",
      "0.88\n",
      "0.9090909090909091\n",
      "1000 more...\n",
      "0.78\n",
      "0.6666666666666666\n",
      "1000 more...\n",
      "0.89\n",
      "0.9550561797752809\n",
      "1000 more...\n",
      "0.93\n",
      "0.956989247311828\n",
      "1000 more...\n",
      "0.94\n",
      "0.9787234042553191\n",
      "1000 more...\n",
      "0.89\n",
      "1.0\n",
      "1000 more...\n",
      "0.74\n",
      "1.0\n",
      "1000 more...\n",
      "0.8\n",
      "0.9625\n",
      "1000 more...\n",
      "0.93\n",
      "0.7634408602150538\n",
      "1000 more...\n",
      "0.76\n",
      "0.9868421052631579\n",
      "1000 more...\n",
      "0.92\n",
      "0.9565217391304348\n",
      "1000 more...\n",
      "0.93\n",
      "1.0\n",
      "1000 more...\n",
      "0.73\n",
      "0.6301369863013698\n",
      "1000 more...\n",
      "0.76\n",
      "0.9868421052631579\n",
      "1000 more...\n",
      "0.91\n",
      "0.8681318681318682\n",
      "1000 more...\n",
      "0.92\n",
      "0.9239130434782609\n"
     ]
    }
   ],
   "source": [
    "for i, pattern in enumerate(patterns):\n",
    "    val, uniques, mw, logp, synthetic_as, qeds, _, _ = validity_and_uniqueness_assessement(pattern, n_tryouts=100)\n",
    "    print(val)\n",
    "    print(uniques)"
   ]
  },
  {
   "cell_type": "code",
   "execution_count": null,
   "metadata": {},
   "outputs": [],
   "source": []
  }
 ],
 "metadata": {
  "kernelspec": {
   "display_name": "torch_env",
   "language": "python",
   "name": "torch_env"
  },
  "language_info": {
   "codemirror_mode": {
    "name": "ipython",
    "version": 3
   },
   "file_extension": ".py",
   "mimetype": "text/x-python",
   "name": "python",
   "nbconvert_exporter": "python",
   "pygments_lexer": "ipython3",
   "version": "3.6.7"
  },
  "varInspector": {
   "cols": {
    "lenName": 16,
    "lenType": 16,
    "lenVar": 40
   },
   "kernels_config": {
    "python": {
     "delete_cmd_postfix": "",
     "delete_cmd_prefix": "del ",
     "library": "var_list.py",
     "varRefreshCmd": "print(var_dic_list())"
    },
    "r": {
     "delete_cmd_postfix": ") ",
     "delete_cmd_prefix": "rm(",
     "library": "var_list.r",
     "varRefreshCmd": "cat(var_dic_list()) "
    }
   },
   "types_to_exclude": [
    "module",
    "function",
    "builtin_function_or_method",
    "instance",
    "_Feature"
   ],
   "window_display": false
  }
 },
 "nbformat": 4,
 "nbformat_minor": 2
}
